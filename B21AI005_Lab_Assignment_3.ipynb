{
  "nbformat": 4,
  "nbformat_minor": 0,
  "metadata": {
    "colab": {
      "provenance": []
    },
    "kernelspec": {
      "name": "python3",
      "display_name": "Python 3"
    },
    "language_info": {
      "name": "python"
    }
  },
  "cells": [
    {
      "cell_type": "markdown",
      "source": [
        "# **Importing the Libraries**"
      ],
      "metadata": {
        "id": "s5GpiWbc9Ug-"
      }
    },
    {
      "cell_type": "code",
      "execution_count": 284,
      "metadata": {
        "id": "bOeB8Q2p9Cut"
      },
      "outputs": [],
      "source": [
        "import numpy as np\n",
        "import pandas as pd\n",
        "from sklearn.model_selection import train_test_split\n",
        "from collections import Counter\n",
        "import math"
      ]
    },
    {
      "cell_type": "markdown",
      "source": [
        "# **Question 1(In Lab Submission)**"
      ],
      "metadata": {
        "id": "UJMP6G5R9ga4"
      }
    },
    {
      "cell_type": "code",
      "source": [
        "df=pd.read_csv('titanic.csv')\n",
        "df"
      ],
      "metadata": {
        "colab": {
          "base_uri": "https://localhost:8080/",
          "height": 554
        },
        "id": "G8QOwn3b9J_4",
        "outputId": "cbfe92a6-85ce-439b-d0e0-f2b7ecdbe18f"
      },
      "execution_count": 285,
      "outputs": [
        {
          "output_type": "execute_result",
          "data": {
            "text/plain": [
              "     PassengerId                                               Name  Pclass  \\\n",
              "0              1                            Braund, Mr. Owen Harris       3   \n",
              "1              2  Cumings, Mrs. John Bradley (Florence Briggs Th...       1   \n",
              "2              3                             Heikkinen, Miss. Laina       3   \n",
              "3              4       Futrelle, Mrs. Jacques Heath (Lily May Peel)       1   \n",
              "4              5                           Allen, Mr. William Henry       3   \n",
              "..           ...                                                ...     ...   \n",
              "886          887                              Montvila, Rev. Juozas       2   \n",
              "887          888                       Graham, Miss. Margaret Edith       1   \n",
              "888          889           Johnston, Miss. Catherine Helen \"Carrie\"       3   \n",
              "889          890                              Behr, Mr. Karl Howell       1   \n",
              "890          891                                Dooley, Mr. Patrick       3   \n",
              "\n",
              "        Sex   Age            Ticket     Fare Cabin Embarked  Survived  \n",
              "0      male  22.0         A/5 21171   7.2500   NaN        S         0  \n",
              "1    female  38.0          PC 17599  71.2833   C85        C         1  \n",
              "2    female  26.0  STON/O2. 3101282   7.9250   NaN        S         1  \n",
              "3    female  35.0            113803  53.1000  C123        S         1  \n",
              "4      male  35.0            373450   8.0500   NaN        S         0  \n",
              "..      ...   ...               ...      ...   ...      ...       ...  \n",
              "886    male  27.0            211536  13.0000   NaN        S         0  \n",
              "887  female  19.0            112053  30.0000   B42        S         1  \n",
              "888  female   NaN        W./C. 6607  23.4500   NaN        S         0  \n",
              "889    male  26.0            111369  30.0000  C148        C         1  \n",
              "890    male  32.0            370376   7.7500   NaN        Q         0  \n",
              "\n",
              "[891 rows x 10 columns]"
            ],
            "text/html": [
              "\n",
              "  <div id=\"df-483e41b3-7f14-442d-980c-221ac59647e7\">\n",
              "    <div class=\"colab-df-container\">\n",
              "      <div>\n",
              "<style scoped>\n",
              "    .dataframe tbody tr th:only-of-type {\n",
              "        vertical-align: middle;\n",
              "    }\n",
              "\n",
              "    .dataframe tbody tr th {\n",
              "        vertical-align: top;\n",
              "    }\n",
              "\n",
              "    .dataframe thead th {\n",
              "        text-align: right;\n",
              "    }\n",
              "</style>\n",
              "<table border=\"1\" class=\"dataframe\">\n",
              "  <thead>\n",
              "    <tr style=\"text-align: right;\">\n",
              "      <th></th>\n",
              "      <th>PassengerId</th>\n",
              "      <th>Name</th>\n",
              "      <th>Pclass</th>\n",
              "      <th>Sex</th>\n",
              "      <th>Age</th>\n",
              "      <th>Ticket</th>\n",
              "      <th>Fare</th>\n",
              "      <th>Cabin</th>\n",
              "      <th>Embarked</th>\n",
              "      <th>Survived</th>\n",
              "    </tr>\n",
              "  </thead>\n",
              "  <tbody>\n",
              "    <tr>\n",
              "      <th>0</th>\n",
              "      <td>1</td>\n",
              "      <td>Braund, Mr. Owen Harris</td>\n",
              "      <td>3</td>\n",
              "      <td>male</td>\n",
              "      <td>22.0</td>\n",
              "      <td>A/5 21171</td>\n",
              "      <td>7.2500</td>\n",
              "      <td>NaN</td>\n",
              "      <td>S</td>\n",
              "      <td>0</td>\n",
              "    </tr>\n",
              "    <tr>\n",
              "      <th>1</th>\n",
              "      <td>2</td>\n",
              "      <td>Cumings, Mrs. John Bradley (Florence Briggs Th...</td>\n",
              "      <td>1</td>\n",
              "      <td>female</td>\n",
              "      <td>38.0</td>\n",
              "      <td>PC 17599</td>\n",
              "      <td>71.2833</td>\n",
              "      <td>C85</td>\n",
              "      <td>C</td>\n",
              "      <td>1</td>\n",
              "    </tr>\n",
              "    <tr>\n",
              "      <th>2</th>\n",
              "      <td>3</td>\n",
              "      <td>Heikkinen, Miss. Laina</td>\n",
              "      <td>3</td>\n",
              "      <td>female</td>\n",
              "      <td>26.0</td>\n",
              "      <td>STON/O2. 3101282</td>\n",
              "      <td>7.9250</td>\n",
              "      <td>NaN</td>\n",
              "      <td>S</td>\n",
              "      <td>1</td>\n",
              "    </tr>\n",
              "    <tr>\n",
              "      <th>3</th>\n",
              "      <td>4</td>\n",
              "      <td>Futrelle, Mrs. Jacques Heath (Lily May Peel)</td>\n",
              "      <td>1</td>\n",
              "      <td>female</td>\n",
              "      <td>35.0</td>\n",
              "      <td>113803</td>\n",
              "      <td>53.1000</td>\n",
              "      <td>C123</td>\n",
              "      <td>S</td>\n",
              "      <td>1</td>\n",
              "    </tr>\n",
              "    <tr>\n",
              "      <th>4</th>\n",
              "      <td>5</td>\n",
              "      <td>Allen, Mr. William Henry</td>\n",
              "      <td>3</td>\n",
              "      <td>male</td>\n",
              "      <td>35.0</td>\n",
              "      <td>373450</td>\n",
              "      <td>8.0500</td>\n",
              "      <td>NaN</td>\n",
              "      <td>S</td>\n",
              "      <td>0</td>\n",
              "    </tr>\n",
              "    <tr>\n",
              "      <th>...</th>\n",
              "      <td>...</td>\n",
              "      <td>...</td>\n",
              "      <td>...</td>\n",
              "      <td>...</td>\n",
              "      <td>...</td>\n",
              "      <td>...</td>\n",
              "      <td>...</td>\n",
              "      <td>...</td>\n",
              "      <td>...</td>\n",
              "      <td>...</td>\n",
              "    </tr>\n",
              "    <tr>\n",
              "      <th>886</th>\n",
              "      <td>887</td>\n",
              "      <td>Montvila, Rev. Juozas</td>\n",
              "      <td>2</td>\n",
              "      <td>male</td>\n",
              "      <td>27.0</td>\n",
              "      <td>211536</td>\n",
              "      <td>13.0000</td>\n",
              "      <td>NaN</td>\n",
              "      <td>S</td>\n",
              "      <td>0</td>\n",
              "    </tr>\n",
              "    <tr>\n",
              "      <th>887</th>\n",
              "      <td>888</td>\n",
              "      <td>Graham, Miss. Margaret Edith</td>\n",
              "      <td>1</td>\n",
              "      <td>female</td>\n",
              "      <td>19.0</td>\n",
              "      <td>112053</td>\n",
              "      <td>30.0000</td>\n",
              "      <td>B42</td>\n",
              "      <td>S</td>\n",
              "      <td>1</td>\n",
              "    </tr>\n",
              "    <tr>\n",
              "      <th>888</th>\n",
              "      <td>889</td>\n",
              "      <td>Johnston, Miss. Catherine Helen \"Carrie\"</td>\n",
              "      <td>3</td>\n",
              "      <td>female</td>\n",
              "      <td>NaN</td>\n",
              "      <td>W./C. 6607</td>\n",
              "      <td>23.4500</td>\n",
              "      <td>NaN</td>\n",
              "      <td>S</td>\n",
              "      <td>0</td>\n",
              "    </tr>\n",
              "    <tr>\n",
              "      <th>889</th>\n",
              "      <td>890</td>\n",
              "      <td>Behr, Mr. Karl Howell</td>\n",
              "      <td>1</td>\n",
              "      <td>male</td>\n",
              "      <td>26.0</td>\n",
              "      <td>111369</td>\n",
              "      <td>30.0000</td>\n",
              "      <td>C148</td>\n",
              "      <td>C</td>\n",
              "      <td>1</td>\n",
              "    </tr>\n",
              "    <tr>\n",
              "      <th>890</th>\n",
              "      <td>891</td>\n",
              "      <td>Dooley, Mr. Patrick</td>\n",
              "      <td>3</td>\n",
              "      <td>male</td>\n",
              "      <td>32.0</td>\n",
              "      <td>370376</td>\n",
              "      <td>7.7500</td>\n",
              "      <td>NaN</td>\n",
              "      <td>Q</td>\n",
              "      <td>0</td>\n",
              "    </tr>\n",
              "  </tbody>\n",
              "</table>\n",
              "<p>891 rows × 10 columns</p>\n",
              "</div>\n",
              "      <button class=\"colab-df-convert\" onclick=\"convertToInteractive('df-483e41b3-7f14-442d-980c-221ac59647e7')\"\n",
              "              title=\"Convert this dataframe to an interactive table.\"\n",
              "              style=\"display:none;\">\n",
              "        \n",
              "  <svg xmlns=\"http://www.w3.org/2000/svg\" height=\"24px\"viewBox=\"0 0 24 24\"\n",
              "       width=\"24px\">\n",
              "    <path d=\"M0 0h24v24H0V0z\" fill=\"none\"/>\n",
              "    <path d=\"M18.56 5.44l.94 2.06.94-2.06 2.06-.94-2.06-.94-.94-2.06-.94 2.06-2.06.94zm-11 1L8.5 8.5l.94-2.06 2.06-.94-2.06-.94L8.5 2.5l-.94 2.06-2.06.94zm10 10l.94 2.06.94-2.06 2.06-.94-2.06-.94-.94-2.06-.94 2.06-2.06.94z\"/><path d=\"M17.41 7.96l-1.37-1.37c-.4-.4-.92-.59-1.43-.59-.52 0-1.04.2-1.43.59L10.3 9.45l-7.72 7.72c-.78.78-.78 2.05 0 2.83L4 21.41c.39.39.9.59 1.41.59.51 0 1.02-.2 1.41-.59l7.78-7.78 2.81-2.81c.8-.78.8-2.07 0-2.86zM5.41 20L4 18.59l7.72-7.72 1.47 1.35L5.41 20z\"/>\n",
              "  </svg>\n",
              "      </button>\n",
              "      \n",
              "  <style>\n",
              "    .colab-df-container {\n",
              "      display:flex;\n",
              "      flex-wrap:wrap;\n",
              "      gap: 12px;\n",
              "    }\n",
              "\n",
              "    .colab-df-convert {\n",
              "      background-color: #E8F0FE;\n",
              "      border: none;\n",
              "      border-radius: 50%;\n",
              "      cursor: pointer;\n",
              "      display: none;\n",
              "      fill: #1967D2;\n",
              "      height: 32px;\n",
              "      padding: 0 0 0 0;\n",
              "      width: 32px;\n",
              "    }\n",
              "\n",
              "    .colab-df-convert:hover {\n",
              "      background-color: #E2EBFA;\n",
              "      box-shadow: 0px 1px 2px rgba(60, 64, 67, 0.3), 0px 1px 3px 1px rgba(60, 64, 67, 0.15);\n",
              "      fill: #174EA6;\n",
              "    }\n",
              "\n",
              "    [theme=dark] .colab-df-convert {\n",
              "      background-color: #3B4455;\n",
              "      fill: #D2E3FC;\n",
              "    }\n",
              "\n",
              "    [theme=dark] .colab-df-convert:hover {\n",
              "      background-color: #434B5C;\n",
              "      box-shadow: 0px 1px 3px 1px rgba(0, 0, 0, 0.15);\n",
              "      filter: drop-shadow(0px 1px 2px rgba(0, 0, 0, 0.3));\n",
              "      fill: #FFFFFF;\n",
              "    }\n",
              "  </style>\n",
              "\n",
              "      <script>\n",
              "        const buttonEl =\n",
              "          document.querySelector('#df-483e41b3-7f14-442d-980c-221ac59647e7 button.colab-df-convert');\n",
              "        buttonEl.style.display =\n",
              "          google.colab.kernel.accessAllowed ? 'block' : 'none';\n",
              "\n",
              "        async function convertToInteractive(key) {\n",
              "          const element = document.querySelector('#df-483e41b3-7f14-442d-980c-221ac59647e7');\n",
              "          const dataTable =\n",
              "            await google.colab.kernel.invokeFunction('convertToInteractive',\n",
              "                                                     [key], {});\n",
              "          if (!dataTable) return;\n",
              "\n",
              "          const docLinkHtml = 'Like what you see? Visit the ' +\n",
              "            '<a target=\"_blank\" href=https://colab.research.google.com/notebooks/data_table.ipynb>data table notebook</a>'\n",
              "            + ' to learn more about interactive tables.';\n",
              "          element.innerHTML = '';\n",
              "          dataTable['output_type'] = 'display_data';\n",
              "          await google.colab.output.renderOutput(dataTable, element);\n",
              "          const docLink = document.createElement('div');\n",
              "          docLink.innerHTML = docLinkHtml;\n",
              "          element.appendChild(docLink);\n",
              "        }\n",
              "      </script>\n",
              "    </div>\n",
              "  </div>\n",
              "  "
            ]
          },
          "metadata": {},
          "execution_count": 285
        }
      ]
    },
    {
      "cell_type": "markdown",
      "source": [
        "# df is our dataframe object now the output of titanic dataset is Survived, which is clearly independent of what the passenger id,name,ticket of the passenger is. So, we drop all these irrelevant features."
      ],
      "metadata": {
        "id": "n89Ua4_t9lMW"
      }
    },
    {
      "cell_type": "code",
      "source": [
        "df.drop(['PassengerId','Name','Ticket'],axis=1,inplace=True)\n",
        "df"
      ],
      "metadata": {
        "colab": {
          "base_uri": "https://localhost:8080/",
          "height": 423
        },
        "id": "FRXjVE1k9pUs",
        "outputId": "5b9d1013-5fe8-4e07-9be3-a64d5f040ffb"
      },
      "execution_count": 286,
      "outputs": [
        {
          "output_type": "execute_result",
          "data": {
            "text/plain": [
              "     Pclass     Sex   Age     Fare Cabin Embarked  Survived\n",
              "0         3    male  22.0   7.2500   NaN        S         0\n",
              "1         1  female  38.0  71.2833   C85        C         1\n",
              "2         3  female  26.0   7.9250   NaN        S         1\n",
              "3         1  female  35.0  53.1000  C123        S         1\n",
              "4         3    male  35.0   8.0500   NaN        S         0\n",
              "..      ...     ...   ...      ...   ...      ...       ...\n",
              "886       2    male  27.0  13.0000   NaN        S         0\n",
              "887       1  female  19.0  30.0000   B42        S         1\n",
              "888       3  female   NaN  23.4500   NaN        S         0\n",
              "889       1    male  26.0  30.0000  C148        C         1\n",
              "890       3    male  32.0   7.7500   NaN        Q         0\n",
              "\n",
              "[891 rows x 7 columns]"
            ],
            "text/html": [
              "\n",
              "  <div id=\"df-6d98d3f5-ce55-4ed7-8ac3-c0c66402308e\">\n",
              "    <div class=\"colab-df-container\">\n",
              "      <div>\n",
              "<style scoped>\n",
              "    .dataframe tbody tr th:only-of-type {\n",
              "        vertical-align: middle;\n",
              "    }\n",
              "\n",
              "    .dataframe tbody tr th {\n",
              "        vertical-align: top;\n",
              "    }\n",
              "\n",
              "    .dataframe thead th {\n",
              "        text-align: right;\n",
              "    }\n",
              "</style>\n",
              "<table border=\"1\" class=\"dataframe\">\n",
              "  <thead>\n",
              "    <tr style=\"text-align: right;\">\n",
              "      <th></th>\n",
              "      <th>Pclass</th>\n",
              "      <th>Sex</th>\n",
              "      <th>Age</th>\n",
              "      <th>Fare</th>\n",
              "      <th>Cabin</th>\n",
              "      <th>Embarked</th>\n",
              "      <th>Survived</th>\n",
              "    </tr>\n",
              "  </thead>\n",
              "  <tbody>\n",
              "    <tr>\n",
              "      <th>0</th>\n",
              "      <td>3</td>\n",
              "      <td>male</td>\n",
              "      <td>22.0</td>\n",
              "      <td>7.2500</td>\n",
              "      <td>NaN</td>\n",
              "      <td>S</td>\n",
              "      <td>0</td>\n",
              "    </tr>\n",
              "    <tr>\n",
              "      <th>1</th>\n",
              "      <td>1</td>\n",
              "      <td>female</td>\n",
              "      <td>38.0</td>\n",
              "      <td>71.2833</td>\n",
              "      <td>C85</td>\n",
              "      <td>C</td>\n",
              "      <td>1</td>\n",
              "    </tr>\n",
              "    <tr>\n",
              "      <th>2</th>\n",
              "      <td>3</td>\n",
              "      <td>female</td>\n",
              "      <td>26.0</td>\n",
              "      <td>7.9250</td>\n",
              "      <td>NaN</td>\n",
              "      <td>S</td>\n",
              "      <td>1</td>\n",
              "    </tr>\n",
              "    <tr>\n",
              "      <th>3</th>\n",
              "      <td>1</td>\n",
              "      <td>female</td>\n",
              "      <td>35.0</td>\n",
              "      <td>53.1000</td>\n",
              "      <td>C123</td>\n",
              "      <td>S</td>\n",
              "      <td>1</td>\n",
              "    </tr>\n",
              "    <tr>\n",
              "      <th>4</th>\n",
              "      <td>3</td>\n",
              "      <td>male</td>\n",
              "      <td>35.0</td>\n",
              "      <td>8.0500</td>\n",
              "      <td>NaN</td>\n",
              "      <td>S</td>\n",
              "      <td>0</td>\n",
              "    </tr>\n",
              "    <tr>\n",
              "      <th>...</th>\n",
              "      <td>...</td>\n",
              "      <td>...</td>\n",
              "      <td>...</td>\n",
              "      <td>...</td>\n",
              "      <td>...</td>\n",
              "      <td>...</td>\n",
              "      <td>...</td>\n",
              "    </tr>\n",
              "    <tr>\n",
              "      <th>886</th>\n",
              "      <td>2</td>\n",
              "      <td>male</td>\n",
              "      <td>27.0</td>\n",
              "      <td>13.0000</td>\n",
              "      <td>NaN</td>\n",
              "      <td>S</td>\n",
              "      <td>0</td>\n",
              "    </tr>\n",
              "    <tr>\n",
              "      <th>887</th>\n",
              "      <td>1</td>\n",
              "      <td>female</td>\n",
              "      <td>19.0</td>\n",
              "      <td>30.0000</td>\n",
              "      <td>B42</td>\n",
              "      <td>S</td>\n",
              "      <td>1</td>\n",
              "    </tr>\n",
              "    <tr>\n",
              "      <th>888</th>\n",
              "      <td>3</td>\n",
              "      <td>female</td>\n",
              "      <td>NaN</td>\n",
              "      <td>23.4500</td>\n",
              "      <td>NaN</td>\n",
              "      <td>S</td>\n",
              "      <td>0</td>\n",
              "    </tr>\n",
              "    <tr>\n",
              "      <th>889</th>\n",
              "      <td>1</td>\n",
              "      <td>male</td>\n",
              "      <td>26.0</td>\n",
              "      <td>30.0000</td>\n",
              "      <td>C148</td>\n",
              "      <td>C</td>\n",
              "      <td>1</td>\n",
              "    </tr>\n",
              "    <tr>\n",
              "      <th>890</th>\n",
              "      <td>3</td>\n",
              "      <td>male</td>\n",
              "      <td>32.0</td>\n",
              "      <td>7.7500</td>\n",
              "      <td>NaN</td>\n",
              "      <td>Q</td>\n",
              "      <td>0</td>\n",
              "    </tr>\n",
              "  </tbody>\n",
              "</table>\n",
              "<p>891 rows × 7 columns</p>\n",
              "</div>\n",
              "      <button class=\"colab-df-convert\" onclick=\"convertToInteractive('df-6d98d3f5-ce55-4ed7-8ac3-c0c66402308e')\"\n",
              "              title=\"Convert this dataframe to an interactive table.\"\n",
              "              style=\"display:none;\">\n",
              "        \n",
              "  <svg xmlns=\"http://www.w3.org/2000/svg\" height=\"24px\"viewBox=\"0 0 24 24\"\n",
              "       width=\"24px\">\n",
              "    <path d=\"M0 0h24v24H0V0z\" fill=\"none\"/>\n",
              "    <path d=\"M18.56 5.44l.94 2.06.94-2.06 2.06-.94-2.06-.94-.94-2.06-.94 2.06-2.06.94zm-11 1L8.5 8.5l.94-2.06 2.06-.94-2.06-.94L8.5 2.5l-.94 2.06-2.06.94zm10 10l.94 2.06.94-2.06 2.06-.94-2.06-.94-.94-2.06-.94 2.06-2.06.94z\"/><path d=\"M17.41 7.96l-1.37-1.37c-.4-.4-.92-.59-1.43-.59-.52 0-1.04.2-1.43.59L10.3 9.45l-7.72 7.72c-.78.78-.78 2.05 0 2.83L4 21.41c.39.39.9.59 1.41.59.51 0 1.02-.2 1.41-.59l7.78-7.78 2.81-2.81c.8-.78.8-2.07 0-2.86zM5.41 20L4 18.59l7.72-7.72 1.47 1.35L5.41 20z\"/>\n",
              "  </svg>\n",
              "      </button>\n",
              "      \n",
              "  <style>\n",
              "    .colab-df-container {\n",
              "      display:flex;\n",
              "      flex-wrap:wrap;\n",
              "      gap: 12px;\n",
              "    }\n",
              "\n",
              "    .colab-df-convert {\n",
              "      background-color: #E8F0FE;\n",
              "      border: none;\n",
              "      border-radius: 50%;\n",
              "      cursor: pointer;\n",
              "      display: none;\n",
              "      fill: #1967D2;\n",
              "      height: 32px;\n",
              "      padding: 0 0 0 0;\n",
              "      width: 32px;\n",
              "    }\n",
              "\n",
              "    .colab-df-convert:hover {\n",
              "      background-color: #E2EBFA;\n",
              "      box-shadow: 0px 1px 2px rgba(60, 64, 67, 0.3), 0px 1px 3px 1px rgba(60, 64, 67, 0.15);\n",
              "      fill: #174EA6;\n",
              "    }\n",
              "\n",
              "    [theme=dark] .colab-df-convert {\n",
              "      background-color: #3B4455;\n",
              "      fill: #D2E3FC;\n",
              "    }\n",
              "\n",
              "    [theme=dark] .colab-df-convert:hover {\n",
              "      background-color: #434B5C;\n",
              "      box-shadow: 0px 1px 3px 1px rgba(0, 0, 0, 0.15);\n",
              "      filter: drop-shadow(0px 1px 2px rgba(0, 0, 0, 0.3));\n",
              "      fill: #FFFFFF;\n",
              "    }\n",
              "  </style>\n",
              "\n",
              "      <script>\n",
              "        const buttonEl =\n",
              "          document.querySelector('#df-6d98d3f5-ce55-4ed7-8ac3-c0c66402308e button.colab-df-convert');\n",
              "        buttonEl.style.display =\n",
              "          google.colab.kernel.accessAllowed ? 'block' : 'none';\n",
              "\n",
              "        async function convertToInteractive(key) {\n",
              "          const element = document.querySelector('#df-6d98d3f5-ce55-4ed7-8ac3-c0c66402308e');\n",
              "          const dataTable =\n",
              "            await google.colab.kernel.invokeFunction('convertToInteractive',\n",
              "                                                     [key], {});\n",
              "          if (!dataTable) return;\n",
              "\n",
              "          const docLinkHtml = 'Like what you see? Visit the ' +\n",
              "            '<a target=\"_blank\" href=https://colab.research.google.com/notebooks/data_table.ipynb>data table notebook</a>'\n",
              "            + ' to learn more about interactive tables.';\n",
              "          element.innerHTML = '';\n",
              "          dataTable['output_type'] = 'display_data';\n",
              "          await google.colab.output.renderOutput(dataTable, element);\n",
              "          const docLink = document.createElement('div');\n",
              "          docLink.innerHTML = docLinkHtml;\n",
              "          element.appendChild(docLink);\n",
              "        }\n",
              "      </script>\n",
              "    </div>\n",
              "  </div>\n",
              "  "
            ]
          },
          "metadata": {},
          "execution_count": 286
        }
      ]
    },
    {
      "cell_type": "markdown",
      "source": [
        "# Now, we analyse our data for NaN values, and deal with the NaN values via some appropriate techniques."
      ],
      "metadata": {
        "id": "clNqdpQW-GUi"
      }
    },
    {
      "cell_type": "code",
      "source": [
        "print(df.isna().sum())"
      ],
      "metadata": {
        "colab": {
          "base_uri": "https://localhost:8080/"
        },
        "id": "fHhQavEJ9r-g",
        "outputId": "f1d99823-460a-47af-b76e-28ddfc3b478d"
      },
      "execution_count": 287,
      "outputs": [
        {
          "output_type": "stream",
          "name": "stdout",
          "text": [
            "Pclass        0\n",
            "Sex           0\n",
            "Age         177\n",
            "Fare          0\n",
            "Cabin       687\n",
            "Embarked      2\n",
            "Survived      0\n",
            "dtype: int64\n"
          ]
        }
      ]
    },
    {
      "cell_type": "markdown",
      "source": [
        "# We observe that Cabin feature has about 75% of the data as NaN values.So, there is clearly very less data avaialable to us for Cabin column.Considering the factor of insufficient data we drop the column Cabin as well"
      ],
      "metadata": {
        "id": "e1qnKVwj-Q4C"
      }
    },
    {
      "cell_type": "code",
      "source": [
        "df.drop('Cabin',axis=1,inplace=True)\n",
        "print(df.isna().sum())"
      ],
      "metadata": {
        "colab": {
          "base_uri": "https://localhost:8080/"
        },
        "id": "HdeCCFru-MUn",
        "outputId": "c4bae646-1f8c-4d63-d6a4-8fbceb1e3018"
      },
      "execution_count": 288,
      "outputs": [
        {
          "output_type": "stream",
          "name": "stdout",
          "text": [
            "Pclass        0\n",
            "Sex           0\n",
            "Age         177\n",
            "Fare          0\n",
            "Embarked      2\n",
            "Survived      0\n",
            "dtype: int64\n"
          ]
        }
      ]
    },
    {
      "cell_type": "markdown",
      "source": [
        "# For age column we replace the nan values by the mean of age of the other passengers."
      ],
      "metadata": {
        "id": "EMhkf4OS-X8C"
      }
    },
    {
      "cell_type": "code",
      "source": [
        "df.Age.fillna(df.Age.mean(),inplace=True)\n",
        "print(df.isna().sum())"
      ],
      "metadata": {
        "colab": {
          "base_uri": "https://localhost:8080/"
        },
        "id": "J4gtdbNQ-VoS",
        "outputId": "986b2c09-6b22-42e6-a4c6-a23f588507be"
      },
      "execution_count": 289,
      "outputs": [
        {
          "output_type": "stream",
          "name": "stdout",
          "text": [
            "Pclass      0\n",
            "Sex         0\n",
            "Age         0\n",
            "Fare        0\n",
            "Embarked    2\n",
            "Survived    0\n",
            "dtype: int64\n"
          ]
        }
      ]
    },
    {
      "cell_type": "markdown",
      "source": [
        "# Now, out of the 891 columns only 2 of columns have embarked=NaN which is significantly less, so we can safely drop the NaN datapoints remaining."
      ],
      "metadata": {
        "id": "qItD2BlE-fzf"
      }
    },
    {
      "cell_type": "code",
      "source": [
        "df.dropna(inplace=True)\n",
        "print(df.isna().sum())"
      ],
      "metadata": {
        "colab": {
          "base_uri": "https://localhost:8080/"
        },
        "id": "sGPU8IA--hUQ",
        "outputId": "f0a1d332-0e10-491e-baa3-ecad6877dbb2"
      },
      "execution_count": 290,
      "outputs": [
        {
          "output_type": "stream",
          "name": "stdout",
          "text": [
            "Pclass      0\n",
            "Sex         0\n",
            "Age         0\n",
            "Fare        0\n",
            "Embarked    0\n",
            "Survived    0\n",
            "dtype: int64\n"
          ]
        }
      ]
    },
    {
      "cell_type": "markdown",
      "source": [
        "# Encoding Sex attribute to integer values"
      ],
      "metadata": {
        "id": "Tu05nLeL-lSu"
      }
    },
    {
      "cell_type": "code",
      "source": [
        "def gender(sex):\n",
        "  if(sex=='male'):\n",
        "    return 1\n",
        "  else:\n",
        "    return 2\n",
        "df['sex']=df.Sex.apply(gender)\n",
        "del df['Sex']\n",
        "df"
      ],
      "metadata": {
        "colab": {
          "base_uri": "https://localhost:8080/",
          "height": 423
        },
        "id": "so38qsO5-ojt",
        "outputId": "b15acb95-0b9a-4786-d8ab-d800667fba37"
      },
      "execution_count": 291,
      "outputs": [
        {
          "output_type": "execute_result",
          "data": {
            "text/plain": [
              "     Pclass        Age     Fare Embarked  Survived  sex\n",
              "0         3  22.000000   7.2500        S         0    1\n",
              "1         1  38.000000  71.2833        C         1    2\n",
              "2         3  26.000000   7.9250        S         1    2\n",
              "3         1  35.000000  53.1000        S         1    2\n",
              "4         3  35.000000   8.0500        S         0    1\n",
              "..      ...        ...      ...      ...       ...  ...\n",
              "886       2  27.000000  13.0000        S         0    1\n",
              "887       1  19.000000  30.0000        S         1    2\n",
              "888       3  29.699118  23.4500        S         0    2\n",
              "889       1  26.000000  30.0000        C         1    1\n",
              "890       3  32.000000   7.7500        Q         0    1\n",
              "\n",
              "[889 rows x 6 columns]"
            ],
            "text/html": [
              "\n",
              "  <div id=\"df-1a392661-0509-4e58-ba73-3746b45378ea\">\n",
              "    <div class=\"colab-df-container\">\n",
              "      <div>\n",
              "<style scoped>\n",
              "    .dataframe tbody tr th:only-of-type {\n",
              "        vertical-align: middle;\n",
              "    }\n",
              "\n",
              "    .dataframe tbody tr th {\n",
              "        vertical-align: top;\n",
              "    }\n",
              "\n",
              "    .dataframe thead th {\n",
              "        text-align: right;\n",
              "    }\n",
              "</style>\n",
              "<table border=\"1\" class=\"dataframe\">\n",
              "  <thead>\n",
              "    <tr style=\"text-align: right;\">\n",
              "      <th></th>\n",
              "      <th>Pclass</th>\n",
              "      <th>Age</th>\n",
              "      <th>Fare</th>\n",
              "      <th>Embarked</th>\n",
              "      <th>Survived</th>\n",
              "      <th>sex</th>\n",
              "    </tr>\n",
              "  </thead>\n",
              "  <tbody>\n",
              "    <tr>\n",
              "      <th>0</th>\n",
              "      <td>3</td>\n",
              "      <td>22.000000</td>\n",
              "      <td>7.2500</td>\n",
              "      <td>S</td>\n",
              "      <td>0</td>\n",
              "      <td>1</td>\n",
              "    </tr>\n",
              "    <tr>\n",
              "      <th>1</th>\n",
              "      <td>1</td>\n",
              "      <td>38.000000</td>\n",
              "      <td>71.2833</td>\n",
              "      <td>C</td>\n",
              "      <td>1</td>\n",
              "      <td>2</td>\n",
              "    </tr>\n",
              "    <tr>\n",
              "      <th>2</th>\n",
              "      <td>3</td>\n",
              "      <td>26.000000</td>\n",
              "      <td>7.9250</td>\n",
              "      <td>S</td>\n",
              "      <td>1</td>\n",
              "      <td>2</td>\n",
              "    </tr>\n",
              "    <tr>\n",
              "      <th>3</th>\n",
              "      <td>1</td>\n",
              "      <td>35.000000</td>\n",
              "      <td>53.1000</td>\n",
              "      <td>S</td>\n",
              "      <td>1</td>\n",
              "      <td>2</td>\n",
              "    </tr>\n",
              "    <tr>\n",
              "      <th>4</th>\n",
              "      <td>3</td>\n",
              "      <td>35.000000</td>\n",
              "      <td>8.0500</td>\n",
              "      <td>S</td>\n",
              "      <td>0</td>\n",
              "      <td>1</td>\n",
              "    </tr>\n",
              "    <tr>\n",
              "      <th>...</th>\n",
              "      <td>...</td>\n",
              "      <td>...</td>\n",
              "      <td>...</td>\n",
              "      <td>...</td>\n",
              "      <td>...</td>\n",
              "      <td>...</td>\n",
              "    </tr>\n",
              "    <tr>\n",
              "      <th>886</th>\n",
              "      <td>2</td>\n",
              "      <td>27.000000</td>\n",
              "      <td>13.0000</td>\n",
              "      <td>S</td>\n",
              "      <td>0</td>\n",
              "      <td>1</td>\n",
              "    </tr>\n",
              "    <tr>\n",
              "      <th>887</th>\n",
              "      <td>1</td>\n",
              "      <td>19.000000</td>\n",
              "      <td>30.0000</td>\n",
              "      <td>S</td>\n",
              "      <td>1</td>\n",
              "      <td>2</td>\n",
              "    </tr>\n",
              "    <tr>\n",
              "      <th>888</th>\n",
              "      <td>3</td>\n",
              "      <td>29.699118</td>\n",
              "      <td>23.4500</td>\n",
              "      <td>S</td>\n",
              "      <td>0</td>\n",
              "      <td>2</td>\n",
              "    </tr>\n",
              "    <tr>\n",
              "      <th>889</th>\n",
              "      <td>1</td>\n",
              "      <td>26.000000</td>\n",
              "      <td>30.0000</td>\n",
              "      <td>C</td>\n",
              "      <td>1</td>\n",
              "      <td>1</td>\n",
              "    </tr>\n",
              "    <tr>\n",
              "      <th>890</th>\n",
              "      <td>3</td>\n",
              "      <td>32.000000</td>\n",
              "      <td>7.7500</td>\n",
              "      <td>Q</td>\n",
              "      <td>0</td>\n",
              "      <td>1</td>\n",
              "    </tr>\n",
              "  </tbody>\n",
              "</table>\n",
              "<p>889 rows × 6 columns</p>\n",
              "</div>\n",
              "      <button class=\"colab-df-convert\" onclick=\"convertToInteractive('df-1a392661-0509-4e58-ba73-3746b45378ea')\"\n",
              "              title=\"Convert this dataframe to an interactive table.\"\n",
              "              style=\"display:none;\">\n",
              "        \n",
              "  <svg xmlns=\"http://www.w3.org/2000/svg\" height=\"24px\"viewBox=\"0 0 24 24\"\n",
              "       width=\"24px\">\n",
              "    <path d=\"M0 0h24v24H0V0z\" fill=\"none\"/>\n",
              "    <path d=\"M18.56 5.44l.94 2.06.94-2.06 2.06-.94-2.06-.94-.94-2.06-.94 2.06-2.06.94zm-11 1L8.5 8.5l.94-2.06 2.06-.94-2.06-.94L8.5 2.5l-.94 2.06-2.06.94zm10 10l.94 2.06.94-2.06 2.06-.94-2.06-.94-.94-2.06-.94 2.06-2.06.94z\"/><path d=\"M17.41 7.96l-1.37-1.37c-.4-.4-.92-.59-1.43-.59-.52 0-1.04.2-1.43.59L10.3 9.45l-7.72 7.72c-.78.78-.78 2.05 0 2.83L4 21.41c.39.39.9.59 1.41.59.51 0 1.02-.2 1.41-.59l7.78-7.78 2.81-2.81c.8-.78.8-2.07 0-2.86zM5.41 20L4 18.59l7.72-7.72 1.47 1.35L5.41 20z\"/>\n",
              "  </svg>\n",
              "      </button>\n",
              "      \n",
              "  <style>\n",
              "    .colab-df-container {\n",
              "      display:flex;\n",
              "      flex-wrap:wrap;\n",
              "      gap: 12px;\n",
              "    }\n",
              "\n",
              "    .colab-df-convert {\n",
              "      background-color: #E8F0FE;\n",
              "      border: none;\n",
              "      border-radius: 50%;\n",
              "      cursor: pointer;\n",
              "      display: none;\n",
              "      fill: #1967D2;\n",
              "      height: 32px;\n",
              "      padding: 0 0 0 0;\n",
              "      width: 32px;\n",
              "    }\n",
              "\n",
              "    .colab-df-convert:hover {\n",
              "      background-color: #E2EBFA;\n",
              "      box-shadow: 0px 1px 2px rgba(60, 64, 67, 0.3), 0px 1px 3px 1px rgba(60, 64, 67, 0.15);\n",
              "      fill: #174EA6;\n",
              "    }\n",
              "\n",
              "    [theme=dark] .colab-df-convert {\n",
              "      background-color: #3B4455;\n",
              "      fill: #D2E3FC;\n",
              "    }\n",
              "\n",
              "    [theme=dark] .colab-df-convert:hover {\n",
              "      background-color: #434B5C;\n",
              "      box-shadow: 0px 1px 3px 1px rgba(0, 0, 0, 0.15);\n",
              "      filter: drop-shadow(0px 1px 2px rgba(0, 0, 0, 0.3));\n",
              "      fill: #FFFFFF;\n",
              "    }\n",
              "  </style>\n",
              "\n",
              "      <script>\n",
              "        const buttonEl =\n",
              "          document.querySelector('#df-1a392661-0509-4e58-ba73-3746b45378ea button.colab-df-convert');\n",
              "        buttonEl.style.display =\n",
              "          google.colab.kernel.accessAllowed ? 'block' : 'none';\n",
              "\n",
              "        async function convertToInteractive(key) {\n",
              "          const element = document.querySelector('#df-1a392661-0509-4e58-ba73-3746b45378ea');\n",
              "          const dataTable =\n",
              "            await google.colab.kernel.invokeFunction('convertToInteractive',\n",
              "                                                     [key], {});\n",
              "          if (!dataTable) return;\n",
              "\n",
              "          const docLinkHtml = 'Like what you see? Visit the ' +\n",
              "            '<a target=\"_blank\" href=https://colab.research.google.com/notebooks/data_table.ipynb>data table notebook</a>'\n",
              "            + ' to learn more about interactive tables.';\n",
              "          element.innerHTML = '';\n",
              "          dataTable['output_type'] = 'display_data';\n",
              "          await google.colab.output.renderOutput(dataTable, element);\n",
              "          const docLink = document.createElement('div');\n",
              "          docLink.innerHTML = docLinkHtml;\n",
              "          element.appendChild(docLink);\n",
              "        }\n",
              "      </script>\n",
              "    </div>\n",
              "  </div>\n",
              "  "
            ]
          },
          "metadata": {},
          "execution_count": 291
        }
      ]
    },
    {
      "cell_type": "markdown",
      "source": [
        "# Encoding embarked column"
      ],
      "metadata": {
        "id": "8Anhovm0-tf0"
      }
    },
    {
      "cell_type": "code",
      "source": [
        "def embark(embarked):\n",
        "  if(embarked=='S'):\n",
        "    return 1\n",
        "  elif(embarked=='C'):\n",
        "    return 2\n",
        "  else:\n",
        "    return 3\n",
        "df['embarked']=df.Embarked.apply(embark)\n",
        "del df['Embarked']\n",
        "df"
      ],
      "metadata": {
        "colab": {
          "base_uri": "https://localhost:8080/",
          "height": 423
        },
        "id": "YzmfjLiM-u0E",
        "outputId": "1ac95f6b-5a9a-4605-a1ae-b18f884f3ea4"
      },
      "execution_count": 292,
      "outputs": [
        {
          "output_type": "execute_result",
          "data": {
            "text/plain": [
              "     Pclass        Age     Fare  Survived  sex  embarked\n",
              "0         3  22.000000   7.2500         0    1         1\n",
              "1         1  38.000000  71.2833         1    2         2\n",
              "2         3  26.000000   7.9250         1    2         1\n",
              "3         1  35.000000  53.1000         1    2         1\n",
              "4         3  35.000000   8.0500         0    1         1\n",
              "..      ...        ...      ...       ...  ...       ...\n",
              "886       2  27.000000  13.0000         0    1         1\n",
              "887       1  19.000000  30.0000         1    2         1\n",
              "888       3  29.699118  23.4500         0    2         1\n",
              "889       1  26.000000  30.0000         1    1         2\n",
              "890       3  32.000000   7.7500         0    1         3\n",
              "\n",
              "[889 rows x 6 columns]"
            ],
            "text/html": [
              "\n",
              "  <div id=\"df-0b597048-de4c-44db-808c-16fbf938536d\">\n",
              "    <div class=\"colab-df-container\">\n",
              "      <div>\n",
              "<style scoped>\n",
              "    .dataframe tbody tr th:only-of-type {\n",
              "        vertical-align: middle;\n",
              "    }\n",
              "\n",
              "    .dataframe tbody tr th {\n",
              "        vertical-align: top;\n",
              "    }\n",
              "\n",
              "    .dataframe thead th {\n",
              "        text-align: right;\n",
              "    }\n",
              "</style>\n",
              "<table border=\"1\" class=\"dataframe\">\n",
              "  <thead>\n",
              "    <tr style=\"text-align: right;\">\n",
              "      <th></th>\n",
              "      <th>Pclass</th>\n",
              "      <th>Age</th>\n",
              "      <th>Fare</th>\n",
              "      <th>Survived</th>\n",
              "      <th>sex</th>\n",
              "      <th>embarked</th>\n",
              "    </tr>\n",
              "  </thead>\n",
              "  <tbody>\n",
              "    <tr>\n",
              "      <th>0</th>\n",
              "      <td>3</td>\n",
              "      <td>22.000000</td>\n",
              "      <td>7.2500</td>\n",
              "      <td>0</td>\n",
              "      <td>1</td>\n",
              "      <td>1</td>\n",
              "    </tr>\n",
              "    <tr>\n",
              "      <th>1</th>\n",
              "      <td>1</td>\n",
              "      <td>38.000000</td>\n",
              "      <td>71.2833</td>\n",
              "      <td>1</td>\n",
              "      <td>2</td>\n",
              "      <td>2</td>\n",
              "    </tr>\n",
              "    <tr>\n",
              "      <th>2</th>\n",
              "      <td>3</td>\n",
              "      <td>26.000000</td>\n",
              "      <td>7.9250</td>\n",
              "      <td>1</td>\n",
              "      <td>2</td>\n",
              "      <td>1</td>\n",
              "    </tr>\n",
              "    <tr>\n",
              "      <th>3</th>\n",
              "      <td>1</td>\n",
              "      <td>35.000000</td>\n",
              "      <td>53.1000</td>\n",
              "      <td>1</td>\n",
              "      <td>2</td>\n",
              "      <td>1</td>\n",
              "    </tr>\n",
              "    <tr>\n",
              "      <th>4</th>\n",
              "      <td>3</td>\n",
              "      <td>35.000000</td>\n",
              "      <td>8.0500</td>\n",
              "      <td>0</td>\n",
              "      <td>1</td>\n",
              "      <td>1</td>\n",
              "    </tr>\n",
              "    <tr>\n",
              "      <th>...</th>\n",
              "      <td>...</td>\n",
              "      <td>...</td>\n",
              "      <td>...</td>\n",
              "      <td>...</td>\n",
              "      <td>...</td>\n",
              "      <td>...</td>\n",
              "    </tr>\n",
              "    <tr>\n",
              "      <th>886</th>\n",
              "      <td>2</td>\n",
              "      <td>27.000000</td>\n",
              "      <td>13.0000</td>\n",
              "      <td>0</td>\n",
              "      <td>1</td>\n",
              "      <td>1</td>\n",
              "    </tr>\n",
              "    <tr>\n",
              "      <th>887</th>\n",
              "      <td>1</td>\n",
              "      <td>19.000000</td>\n",
              "      <td>30.0000</td>\n",
              "      <td>1</td>\n",
              "      <td>2</td>\n",
              "      <td>1</td>\n",
              "    </tr>\n",
              "    <tr>\n",
              "      <th>888</th>\n",
              "      <td>3</td>\n",
              "      <td>29.699118</td>\n",
              "      <td>23.4500</td>\n",
              "      <td>0</td>\n",
              "      <td>2</td>\n",
              "      <td>1</td>\n",
              "    </tr>\n",
              "    <tr>\n",
              "      <th>889</th>\n",
              "      <td>1</td>\n",
              "      <td>26.000000</td>\n",
              "      <td>30.0000</td>\n",
              "      <td>1</td>\n",
              "      <td>1</td>\n",
              "      <td>2</td>\n",
              "    </tr>\n",
              "    <tr>\n",
              "      <th>890</th>\n",
              "      <td>3</td>\n",
              "      <td>32.000000</td>\n",
              "      <td>7.7500</td>\n",
              "      <td>0</td>\n",
              "      <td>1</td>\n",
              "      <td>3</td>\n",
              "    </tr>\n",
              "  </tbody>\n",
              "</table>\n",
              "<p>889 rows × 6 columns</p>\n",
              "</div>\n",
              "      <button class=\"colab-df-convert\" onclick=\"convertToInteractive('df-0b597048-de4c-44db-808c-16fbf938536d')\"\n",
              "              title=\"Convert this dataframe to an interactive table.\"\n",
              "              style=\"display:none;\">\n",
              "        \n",
              "  <svg xmlns=\"http://www.w3.org/2000/svg\" height=\"24px\"viewBox=\"0 0 24 24\"\n",
              "       width=\"24px\">\n",
              "    <path d=\"M0 0h24v24H0V0z\" fill=\"none\"/>\n",
              "    <path d=\"M18.56 5.44l.94 2.06.94-2.06 2.06-.94-2.06-.94-.94-2.06-.94 2.06-2.06.94zm-11 1L8.5 8.5l.94-2.06 2.06-.94-2.06-.94L8.5 2.5l-.94 2.06-2.06.94zm10 10l.94 2.06.94-2.06 2.06-.94-2.06-.94-.94-2.06-.94 2.06-2.06.94z\"/><path d=\"M17.41 7.96l-1.37-1.37c-.4-.4-.92-.59-1.43-.59-.52 0-1.04.2-1.43.59L10.3 9.45l-7.72 7.72c-.78.78-.78 2.05 0 2.83L4 21.41c.39.39.9.59 1.41.59.51 0 1.02-.2 1.41-.59l7.78-7.78 2.81-2.81c.8-.78.8-2.07 0-2.86zM5.41 20L4 18.59l7.72-7.72 1.47 1.35L5.41 20z\"/>\n",
              "  </svg>\n",
              "      </button>\n",
              "      \n",
              "  <style>\n",
              "    .colab-df-container {\n",
              "      display:flex;\n",
              "      flex-wrap:wrap;\n",
              "      gap: 12px;\n",
              "    }\n",
              "\n",
              "    .colab-df-convert {\n",
              "      background-color: #E8F0FE;\n",
              "      border: none;\n",
              "      border-radius: 50%;\n",
              "      cursor: pointer;\n",
              "      display: none;\n",
              "      fill: #1967D2;\n",
              "      height: 32px;\n",
              "      padding: 0 0 0 0;\n",
              "      width: 32px;\n",
              "    }\n",
              "\n",
              "    .colab-df-convert:hover {\n",
              "      background-color: #E2EBFA;\n",
              "      box-shadow: 0px 1px 2px rgba(60, 64, 67, 0.3), 0px 1px 3px 1px rgba(60, 64, 67, 0.15);\n",
              "      fill: #174EA6;\n",
              "    }\n",
              "\n",
              "    [theme=dark] .colab-df-convert {\n",
              "      background-color: #3B4455;\n",
              "      fill: #D2E3FC;\n",
              "    }\n",
              "\n",
              "    [theme=dark] .colab-df-convert:hover {\n",
              "      background-color: #434B5C;\n",
              "      box-shadow: 0px 1px 3px 1px rgba(0, 0, 0, 0.15);\n",
              "      filter: drop-shadow(0px 1px 2px rgba(0, 0, 0, 0.3));\n",
              "      fill: #FFFFFF;\n",
              "    }\n",
              "  </style>\n",
              "\n",
              "      <script>\n",
              "        const buttonEl =\n",
              "          document.querySelector('#df-0b597048-de4c-44db-808c-16fbf938536d button.colab-df-convert');\n",
              "        buttonEl.style.display =\n",
              "          google.colab.kernel.accessAllowed ? 'block' : 'none';\n",
              "\n",
              "        async function convertToInteractive(key) {\n",
              "          const element = document.querySelector('#df-0b597048-de4c-44db-808c-16fbf938536d');\n",
              "          const dataTable =\n",
              "            await google.colab.kernel.invokeFunction('convertToInteractive',\n",
              "                                                     [key], {});\n",
              "          if (!dataTable) return;\n",
              "\n",
              "          const docLinkHtml = 'Like what you see? Visit the ' +\n",
              "            '<a target=\"_blank\" href=https://colab.research.google.com/notebooks/data_table.ipynb>data table notebook</a>'\n",
              "            + ' to learn more about interactive tables.';\n",
              "          element.innerHTML = '';\n",
              "          dataTable['output_type'] = 'display_data';\n",
              "          await google.colab.output.renderOutput(dataTable, element);\n",
              "          const docLink = document.createElement('div');\n",
              "          docLink.innerHTML = docLinkHtml;\n",
              "          element.appendChild(docLink);\n",
              "        }\n",
              "      </script>\n",
              "    </div>\n",
              "  </div>\n",
              "  "
            ]
          },
          "metadata": {},
          "execution_count": 292
        }
      ]
    },
    {
      "cell_type": "markdown",
      "source": [
        "# Normalising the age,Fare column"
      ],
      "metadata": {
        "id": "LhtOysW5-zxS"
      }
    },
    {
      "cell_type": "code",
      "source": [
        "from sklearn.preprocessing import MinMaxScaler\n",
        "age=np.array(df['Age']).reshape(-1,1)\n",
        "scaler=MinMaxScaler()\n",
        "scaler.fit(age)\n",
        "df['age']=scaler.transform(age)\n",
        "del df['Age']\n",
        "fare=np.array(df['Fare']).reshape(-1,1)\n",
        "scaler=MinMaxScaler()\n",
        "scaler.fit(fare)\n",
        "df['fare']=scaler.transform(age)\n",
        "del df['Fare']\n",
        "df"
      ],
      "metadata": {
        "colab": {
          "base_uri": "https://localhost:8080/",
          "height": 423
        },
        "id": "tdUeig0c-1OE",
        "outputId": "775fce3f-7d38-45db-9d74-b39803d484ce"
      },
      "execution_count": 293,
      "outputs": [
        {
          "output_type": "execute_result",
          "data": {
            "text/plain": [
              "     Pclass  Survived  sex  embarked       age      fare\n",
              "0         3         0    1         1  0.271174  0.042941\n",
              "1         1         1    2         2  0.472229  0.074171\n",
              "2         3         1    2         1  0.321438  0.050749\n",
              "3         1         1    2         1  0.434531  0.068315\n",
              "4         3         0    1         1  0.434531  0.068315\n",
              "..      ...       ...  ...       ...       ...       ...\n",
              "886       2         0    1         1  0.334004  0.052700\n",
              "887       1         1    2         1  0.233476  0.037086\n",
              "888       3         0    2         1  0.367921  0.057969\n",
              "889       1         1    1         2  0.321438  0.050749\n",
              "890       3         0    1         3  0.396833  0.062460\n",
              "\n",
              "[889 rows x 6 columns]"
            ],
            "text/html": [
              "\n",
              "  <div id=\"df-3c9aaf5e-00fc-40b9-9147-91907a26c498\">\n",
              "    <div class=\"colab-df-container\">\n",
              "      <div>\n",
              "<style scoped>\n",
              "    .dataframe tbody tr th:only-of-type {\n",
              "        vertical-align: middle;\n",
              "    }\n",
              "\n",
              "    .dataframe tbody tr th {\n",
              "        vertical-align: top;\n",
              "    }\n",
              "\n",
              "    .dataframe thead th {\n",
              "        text-align: right;\n",
              "    }\n",
              "</style>\n",
              "<table border=\"1\" class=\"dataframe\">\n",
              "  <thead>\n",
              "    <tr style=\"text-align: right;\">\n",
              "      <th></th>\n",
              "      <th>Pclass</th>\n",
              "      <th>Survived</th>\n",
              "      <th>sex</th>\n",
              "      <th>embarked</th>\n",
              "      <th>age</th>\n",
              "      <th>fare</th>\n",
              "    </tr>\n",
              "  </thead>\n",
              "  <tbody>\n",
              "    <tr>\n",
              "      <th>0</th>\n",
              "      <td>3</td>\n",
              "      <td>0</td>\n",
              "      <td>1</td>\n",
              "      <td>1</td>\n",
              "      <td>0.271174</td>\n",
              "      <td>0.042941</td>\n",
              "    </tr>\n",
              "    <tr>\n",
              "      <th>1</th>\n",
              "      <td>1</td>\n",
              "      <td>1</td>\n",
              "      <td>2</td>\n",
              "      <td>2</td>\n",
              "      <td>0.472229</td>\n",
              "      <td>0.074171</td>\n",
              "    </tr>\n",
              "    <tr>\n",
              "      <th>2</th>\n",
              "      <td>3</td>\n",
              "      <td>1</td>\n",
              "      <td>2</td>\n",
              "      <td>1</td>\n",
              "      <td>0.321438</td>\n",
              "      <td>0.050749</td>\n",
              "    </tr>\n",
              "    <tr>\n",
              "      <th>3</th>\n",
              "      <td>1</td>\n",
              "      <td>1</td>\n",
              "      <td>2</td>\n",
              "      <td>1</td>\n",
              "      <td>0.434531</td>\n",
              "      <td>0.068315</td>\n",
              "    </tr>\n",
              "    <tr>\n",
              "      <th>4</th>\n",
              "      <td>3</td>\n",
              "      <td>0</td>\n",
              "      <td>1</td>\n",
              "      <td>1</td>\n",
              "      <td>0.434531</td>\n",
              "      <td>0.068315</td>\n",
              "    </tr>\n",
              "    <tr>\n",
              "      <th>...</th>\n",
              "      <td>...</td>\n",
              "      <td>...</td>\n",
              "      <td>...</td>\n",
              "      <td>...</td>\n",
              "      <td>...</td>\n",
              "      <td>...</td>\n",
              "    </tr>\n",
              "    <tr>\n",
              "      <th>886</th>\n",
              "      <td>2</td>\n",
              "      <td>0</td>\n",
              "      <td>1</td>\n",
              "      <td>1</td>\n",
              "      <td>0.334004</td>\n",
              "      <td>0.052700</td>\n",
              "    </tr>\n",
              "    <tr>\n",
              "      <th>887</th>\n",
              "      <td>1</td>\n",
              "      <td>1</td>\n",
              "      <td>2</td>\n",
              "      <td>1</td>\n",
              "      <td>0.233476</td>\n",
              "      <td>0.037086</td>\n",
              "    </tr>\n",
              "    <tr>\n",
              "      <th>888</th>\n",
              "      <td>3</td>\n",
              "      <td>0</td>\n",
              "      <td>2</td>\n",
              "      <td>1</td>\n",
              "      <td>0.367921</td>\n",
              "      <td>0.057969</td>\n",
              "    </tr>\n",
              "    <tr>\n",
              "      <th>889</th>\n",
              "      <td>1</td>\n",
              "      <td>1</td>\n",
              "      <td>1</td>\n",
              "      <td>2</td>\n",
              "      <td>0.321438</td>\n",
              "      <td>0.050749</td>\n",
              "    </tr>\n",
              "    <tr>\n",
              "      <th>890</th>\n",
              "      <td>3</td>\n",
              "      <td>0</td>\n",
              "      <td>1</td>\n",
              "      <td>3</td>\n",
              "      <td>0.396833</td>\n",
              "      <td>0.062460</td>\n",
              "    </tr>\n",
              "  </tbody>\n",
              "</table>\n",
              "<p>889 rows × 6 columns</p>\n",
              "</div>\n",
              "      <button class=\"colab-df-convert\" onclick=\"convertToInteractive('df-3c9aaf5e-00fc-40b9-9147-91907a26c498')\"\n",
              "              title=\"Convert this dataframe to an interactive table.\"\n",
              "              style=\"display:none;\">\n",
              "        \n",
              "  <svg xmlns=\"http://www.w3.org/2000/svg\" height=\"24px\"viewBox=\"0 0 24 24\"\n",
              "       width=\"24px\">\n",
              "    <path d=\"M0 0h24v24H0V0z\" fill=\"none\"/>\n",
              "    <path d=\"M18.56 5.44l.94 2.06.94-2.06 2.06-.94-2.06-.94-.94-2.06-.94 2.06-2.06.94zm-11 1L8.5 8.5l.94-2.06 2.06-.94-2.06-.94L8.5 2.5l-.94 2.06-2.06.94zm10 10l.94 2.06.94-2.06 2.06-.94-2.06-.94-.94-2.06-.94 2.06-2.06.94z\"/><path d=\"M17.41 7.96l-1.37-1.37c-.4-.4-.92-.59-1.43-.59-.52 0-1.04.2-1.43.59L10.3 9.45l-7.72 7.72c-.78.78-.78 2.05 0 2.83L4 21.41c.39.39.9.59 1.41.59.51 0 1.02-.2 1.41-.59l7.78-7.78 2.81-2.81c.8-.78.8-2.07 0-2.86zM5.41 20L4 18.59l7.72-7.72 1.47 1.35L5.41 20z\"/>\n",
              "  </svg>\n",
              "      </button>\n",
              "      \n",
              "  <style>\n",
              "    .colab-df-container {\n",
              "      display:flex;\n",
              "      flex-wrap:wrap;\n",
              "      gap: 12px;\n",
              "    }\n",
              "\n",
              "    .colab-df-convert {\n",
              "      background-color: #E8F0FE;\n",
              "      border: none;\n",
              "      border-radius: 50%;\n",
              "      cursor: pointer;\n",
              "      display: none;\n",
              "      fill: #1967D2;\n",
              "      height: 32px;\n",
              "      padding: 0 0 0 0;\n",
              "      width: 32px;\n",
              "    }\n",
              "\n",
              "    .colab-df-convert:hover {\n",
              "      background-color: #E2EBFA;\n",
              "      box-shadow: 0px 1px 2px rgba(60, 64, 67, 0.3), 0px 1px 3px 1px rgba(60, 64, 67, 0.15);\n",
              "      fill: #174EA6;\n",
              "    }\n",
              "\n",
              "    [theme=dark] .colab-df-convert {\n",
              "      background-color: #3B4455;\n",
              "      fill: #D2E3FC;\n",
              "    }\n",
              "\n",
              "    [theme=dark] .colab-df-convert:hover {\n",
              "      background-color: #434B5C;\n",
              "      box-shadow: 0px 1px 3px 1px rgba(0, 0, 0, 0.15);\n",
              "      filter: drop-shadow(0px 1px 2px rgba(0, 0, 0, 0.3));\n",
              "      fill: #FFFFFF;\n",
              "    }\n",
              "  </style>\n",
              "\n",
              "      <script>\n",
              "        const buttonEl =\n",
              "          document.querySelector('#df-3c9aaf5e-00fc-40b9-9147-91907a26c498 button.colab-df-convert');\n",
              "        buttonEl.style.display =\n",
              "          google.colab.kernel.accessAllowed ? 'block' : 'none';\n",
              "\n",
              "        async function convertToInteractive(key) {\n",
              "          const element = document.querySelector('#df-3c9aaf5e-00fc-40b9-9147-91907a26c498');\n",
              "          const dataTable =\n",
              "            await google.colab.kernel.invokeFunction('convertToInteractive',\n",
              "                                                     [key], {});\n",
              "          if (!dataTable) return;\n",
              "\n",
              "          const docLinkHtml = 'Like what you see? Visit the ' +\n",
              "            '<a target=\"_blank\" href=https://colab.research.google.com/notebooks/data_table.ipynb>data table notebook</a>'\n",
              "            + ' to learn more about interactive tables.';\n",
              "          element.innerHTML = '';\n",
              "          dataTable['output_type'] = 'display_data';\n",
              "          await google.colab.output.renderOutput(dataTable, element);\n",
              "          const docLink = document.createElement('div');\n",
              "          docLink.innerHTML = docLinkHtml;\n",
              "          element.appendChild(docLink);\n",
              "        }\n",
              "      </script>\n",
              "    </div>\n",
              "  </div>\n",
              "  "
            ]
          },
          "metadata": {},
          "execution_count": 293
        }
      ]
    },
    {
      "cell_type": "markdown",
      "source": [
        "# **Visualising the data**"
      ],
      "metadata": {
        "id": "lQ4exjSD-4d1"
      }
    },
    {
      "cell_type": "markdown",
      "source": [
        "# Using Pie Chart"
      ],
      "metadata": {
        "id": "w5ZFw828--3S"
      }
    },
    {
      "cell_type": "code",
      "source": [
        "import matplotlib.pyplot as plt\n",
        "'''\n",
        "we define a function which takes the respective % values(of survival rate) \n",
        "along with the label in a list and plot a pie plot\n",
        "'''\n",
        "def plot_pie(labels,values):\n",
        "  plt.pie(values,labels=labels)\n",
        "  plt.show()\n",
        "  for i in range(len(labels)):\n",
        "    print(labels[i],\":\",values[i]*100,\"%\")"
      ],
      "metadata": {
        "id": "tvbUFLFC-8zq"
      },
      "execution_count": 294,
      "outputs": []
    },
    {
      "cell_type": "code",
      "source": [
        "survived_df=df[df['Survived']==1]\n",
        "not_survived_df=df[df['Survived']==0]"
      ],
      "metadata": {
        "id": "FEXO62XZ_FTb"
      },
      "execution_count": 295,
      "outputs": []
    },
    {
      "cell_type": "markdown",
      "source": [
        "# For PClass"
      ],
      "metadata": {
        "id": "KPan12Yl_IVh"
      }
    },
    {
      "cell_type": "code",
      "source": [
        "Survived_PClass_values=[]\n",
        "for i in range(1,4):\n",
        "  Survived_PClass_values.append(len(survived_df[survived_df['Pclass']==i])/len(survived_df))\n",
        "labels=['Pclass=1','Pclass=2','Pclass=3']\n",
        "print('For passengers who survived Pclass :')\n",
        "plot_pie(labels,Survived_PClass_values)"
      ],
      "metadata": {
        "colab": {
          "base_uri": "https://localhost:8080/",
          "height": 317
        },
        "id": "hlB-PgpC_KRU",
        "outputId": "54894cfc-dc37-4566-b08a-5b0032fc6608"
      },
      "execution_count": 296,
      "outputs": [
        {
          "output_type": "stream",
          "name": "stdout",
          "text": [
            "For passengers who survived Pclass :\n"
          ]
        },
        {
          "output_type": "display_data",
          "data": {
            "text/plain": [
              "<Figure size 432x288 with 1 Axes>"
            ],
            "image/png": "[encoded data removed]"
          },
          "metadata": {}
        },
        {
          "output_type": "stream",
          "name": "stdout",
          "text": [
            "Pclass=1 : 39.411764705882355 %\n",
            "Pclass=2 : 25.588235294117645 %\n",
            "Pclass=3 : 35.0 %\n"
          ]
        }
      ]
    },
    {
      "cell_type": "code",
      "source": [
        "Not_survived_PClass_values=[]\n",
        "for i in range(1,4):\n",
        "  Not_survived_PClass_values.append(len(not_survived_df[not_survived_df['Pclass']==i])/len(not_survived_df))\n",
        "labels=['Pclass=1','Pclass=2','Pclass=3']\n",
        "print('For passengers who didnot survived Pclass :')\n",
        "plot_pie(labels,Not_survived_PClass_values)"
      ],
      "metadata": {
        "colab": {
          "base_uri": "https://localhost:8080/",
          "height": 317
        },
        "id": "MVmEHlQN_P1O",
        "outputId": "f1d36238-105f-4fa9-8e46-59112495af08"
      },
      "execution_count": 297,
      "outputs": [
        {
          "output_type": "stream",
          "name": "stdout",
          "text": [
            "For passengers who didnot survived Pclass :\n"
          ]
        },
        {
          "output_type": "display_data",
          "data": {
            "text/plain": [
              "<Figure size 432x288 with 1 Axes>"
            ],
            "image/png": "[encoded data removed]"
          },
          "metadata": {}
        },
        {
          "output_type": "stream",
          "name": "stdout",
          "text": [
            "Pclass=1 : 14.571948998178508 %\n",
            "Pclass=2 : 17.66848816029144 %\n",
            "Pclass=3 : 67.75956284153006 %\n"
          ]
        }
      ]
    },
    {
      "cell_type": "markdown",
      "source": [
        "# So, via data visualisation and the rate of different passenger class people who survived and didnt survived we can clearly see that if we change the Pclass that greatly affects if the passengers survived or not(like Pclass=3 passengers have a greater death rate than others). So we have to take Pclass feature into consideration."
      ],
      "metadata": {
        "id": "xaZlbVR-_RoV"
      }
    },
    {
      "cell_type": "markdown",
      "source": [
        "# For Sex"
      ],
      "metadata": {
        "id": "9u6wz2KA_XkE"
      }
    },
    {
      "cell_type": "code",
      "source": [
        "Survived_gender_values=[]\n",
        "for i in range(1,3):\n",
        "  Survived_gender_values.append(len(survived_df[survived_df['sex']==i])/len(survived_df))\n",
        "labels=['Gender=male','Gender=female']\n",
        "print('For passengers who survived gender :')\n",
        "plot_pie(labels,Survived_gender_values)"
      ],
      "metadata": {
        "colab": {
          "base_uri": "https://localhost:8080/",
          "height": 300
        },
        "id": "atQ3ziEw_WAu",
        "outputId": "1e23d62a-07d3-4ac5-bfb7-6539fbe503b7"
      },
      "execution_count": 298,
      "outputs": [
        {
          "output_type": "stream",
          "name": "stdout",
          "text": [
            "For passengers who survived gender :\n"
          ]
        },
        {
          "output_type": "display_data",
          "data": {
            "text/plain": [
              "<Figure size 432x288 with 1 Axes>"
            ],
            "image/png": "[encoded data removed]"
          },
          "metadata": {}
        },
        {
          "output_type": "stream",
          "name": "stdout",
          "text": [
            "Gender=male : 32.05882352941177 %\n",
            "Gender=female : 67.94117647058823 %\n"
          ]
        }
      ]
    },
    {
      "cell_type": "code",
      "source": [
        "Not_Survived_gender_values=[]\n",
        "for i in range(1,3):\n",
        "  Not_Survived_gender_values.append(len(not_survived_df[not_survived_df['sex']==i])/len(not_survived_df))\n",
        "labels=['Gender=male','Gender=female']\n",
        "print('For passengers who didnt survived gender :')\n",
        "plot_pie(labels,Not_Survived_gender_values)"
      ],
      "metadata": {
        "colab": {
          "base_uri": "https://localhost:8080/",
          "height": 300
        },
        "id": "-E7GTbKG_eIj",
        "outputId": "b95651cc-66a3-44b9-fbda-5c10d16d4529"
      },
      "execution_count": 299,
      "outputs": [
        {
          "output_type": "stream",
          "name": "stdout",
          "text": [
            "For passengers who didnt survived gender :\n"
          ]
        },
        {
          "output_type": "display_data",
          "data": {
            "text/plain": [
              "<Figure size 432x288 with 1 Axes>"
            ],
            "image/png": "[encoded data removed]"
          },
          "metadata": {}
        },
        {
          "output_type": "stream",
          "name": "stdout",
          "text": [
            "Gender=male : 85.24590163934425 %\n",
            "Gender=female : 14.754098360655737 %\n"
          ]
        }
      ]
    },
    {
      "cell_type": "markdown",
      "source": [
        "# Again we can see that the females have much higher survival rate so is important feature to classify as survived and not survived.So, we can't drop the sex column as it is relevant for predicting output."
      ],
      "metadata": {
        "id": "C2EV4o5__ieK"
      }
    },
    {
      "cell_type": "markdown",
      "source": [
        "# For Embarked"
      ],
      "metadata": {
        "id": "OA6Lifq-_mx-"
      }
    },
    {
      "cell_type": "code",
      "source": [
        "Survived_embarked_values=[]\n",
        "for i in range(1,4):\n",
        "  Survived_embarked_values.append(len(survived_df[survived_df['embarked']==i])/len(survived_df))\n",
        "labels=['Embarked=S','Embarked=C','Embarked=Q']\n",
        "print('For passengers who survived embarked :')\n",
        "plot_pie(labels,Survived_embarked_values)"
      ],
      "metadata": {
        "colab": {
          "base_uri": "https://localhost:8080/",
          "height": 317
        },
        "id": "EeSE0psJ_gV_",
        "outputId": "49f03a64-28b4-4a1c-8bea-e70c85c18e7d"
      },
      "execution_count": 300,
      "outputs": [
        {
          "output_type": "stream",
          "name": "stdout",
          "text": [
            "For passengers who survived embarked :\n"
          ]
        },
        {
          "output_type": "display_data",
          "data": {
            "text/plain": [
              "<Figure size 432x288 with 1 Axes>"
            ],
            "image/png": "[encoded data removed]"
          },
          "metadata": {}
        },
        {
          "output_type": "stream",
          "name": "stdout",
          "text": [
            "Embarked=S : 63.8235294117647 %\n",
            "Embarked=C : 27.35294117647059 %\n",
            "Embarked=Q : 8.823529411764707 %\n"
          ]
        }
      ]
    },
    {
      "cell_type": "code",
      "source": [
        "Not_Survived_embarked_values=[]\n",
        "\n",
        "for i in range(1,4):\n",
        "  Not_Survived_embarked_values.append(len(not_survived_df[not_survived_df['embarked']==i])/len(not_survived_df))\n",
        "labels=['Embarked=S','Embarked=C','Embarked=Q']\n",
        "print('For passengers who didnot survived embarked :')\n",
        "plot_pie(labels,Not_Survived_embarked_values)"
      ],
      "metadata": {
        "colab": {
          "base_uri": "https://localhost:8080/",
          "height": 317
        },
        "id": "SUoWxGWp_uLW",
        "outputId": "32a8c9a6-a439-4a0e-d708-0a20aeb6a4ef"
      },
      "execution_count": 301,
      "outputs": [
        {
          "output_type": "stream",
          "name": "stdout",
          "text": [
            "For passengers who didnot survived embarked :\n"
          ]
        },
        {
          "output_type": "display_data",
          "data": {
            "text/plain": [
              "<Figure size 432x288 with 1 Axes>"
            ],
            "image/png": "[encoded data removed]"
          },
          "metadata": {}
        },
        {
          "output_type": "stream",
          "name": "stdout",
          "text": [
            "Embarked=S : 77.77777777777779 %\n",
            "Embarked=C : 13.661202185792352 %\n",
            "Embarked=Q : 8.561020036429873 %\n"
          ]
        }
      ]
    },
    {
      "cell_type": "markdown",
      "source": [
        "# Again clearly we can see the survival rate is affected by embarked values.So, we can't drop embarked column as well."
      ],
      "metadata": {
        "id": "XR8lic1V_yWx"
      }
    },
    {
      "cell_type": "code",
      "source": [
        "def plot_continuous(feature_name):\n",
        "  plt.hist([list(survived_df[feature_name]),list(not_survived_df[feature_name])])\n",
        "  plt.show()"
      ],
      "metadata": {
        "id": "xrnLyiWyBRAj"
      },
      "execution_count": 302,
      "outputs": []
    },
    {
      "cell_type": "markdown",
      "source": [
        "# For Age"
      ],
      "metadata": {
        "id": "ItsfYBOI_7tU"
      }
    },
    {
      "cell_type": "code",
      "source": [
        "plot_continuous('age')"
      ],
      "metadata": {
        "colab": {
          "base_uri": "https://localhost:8080/",
          "height": 354
        },
        "id": "aU4IpeWs_-nu",
        "outputId": "8aed5418-d2d8-4029-dcfd-2a4e84d64c02"
      },
      "execution_count": 303,
      "outputs": [
        {
          "output_type": "stream",
          "name": "stderr",
          "text": [
            "/usr/local/lib/python3.8/dist-packages/numpy/core/fromnumeric.py:3208: VisibleDeprecationWarning: Creating an ndarray from ragged nested sequences (which is a list-or-tuple of lists-or-tuples-or ndarrays with different lengths or shapes) is deprecated. If you meant to do this, you must specify 'dtype=object' when creating the ndarray.\n",
            "  return asarray(a).size\n",
            "/usr/local/lib/python3.8/dist-packages/matplotlib/cbook/__init__.py:1376: VisibleDeprecationWarning: Creating an ndarray from ragged nested sequences (which is a list-or-tuple of lists-or-tuples-or ndarrays with different lengths or shapes) is deprecated. If you meant to do this, you must specify 'dtype=object' when creating the ndarray.\n",
            "  X = np.atleast_1d(X.T if isinstance(X, np.ndarray) else np.asarray(X))\n"
          ]
        },
        {
          "output_type": "display_data",
          "data": {
            "text/plain": [
              "<Figure size 432x288 with 1 Axes>"
            ],
            "image/png": "[encoded data removed]"
          },
          "metadata": {
            "needs_background": "light"
          }
        }
      ]
    },
    {
      "cell_type": "markdown",
      "source": [
        "# For Fare"
      ],
      "metadata": {
        "id": "qS53ZwTCBd5u"
      }
    },
    {
      "cell_type": "code",
      "source": [
        "plot_continuous('fare')"
      ],
      "metadata": {
        "colab": {
          "base_uri": "https://localhost:8080/",
          "height": 265
        },
        "id": "Huag68OZBaFR",
        "outputId": "be20a176-5dc6-409b-8845-5fc6dcda8cdb"
      },
      "execution_count": 304,
      "outputs": [
        {
          "output_type": "display_data",
          "data": {
            "text/plain": [
              "<Figure size 432x288 with 1 Axes>"
            ],
            "image/png": "[encoded data removed]"
          },
          "metadata": {
            "needs_background": "light"
          }
        }
      ]
    },
    {
      "cell_type": "markdown",
      "source": [
        "# Splitting the data into train test and split"
      ],
      "metadata": {
        "id": "OdsDZAzO_11X"
      }
    },
    {
      "cell_type": "code",
      "source": [
        "data=df.copy()\n",
        "output_data=data['Survived']\n",
        "del data['Survived']\n",
        "input_data=data\n",
        "x_train,x_test,y_train,y_test=train_test_split(input_data,output_data,train_size=0.7,random_state=1)"
      ],
      "metadata": {
        "id": "GyZ1yn5W_0Aq"
      },
      "execution_count": 305,
      "outputs": []
    },
    {
      "cell_type": "code",
      "source": [
        "print(x_train)\n",
        "print(x_test)\n",
        "print(y_train)\n",
        "print(y_test)"
      ],
      "metadata": {
        "colab": {
          "base_uri": "https://localhost:8080/"
        },
        "id": "5YEzNz-7Bpfr",
        "outputId": "add86680-61e2-46b1-80d7-cccbb0b48b37"
      },
      "execution_count": 306,
      "outputs": [
        {
          "output_type": "stream",
          "name": "stdout",
          "text": [
            "     Pclass  sex  embarked       age      fare\n",
            "115       3    1         1  0.258608  0.040989\n",
            "874       2    2         2  0.346569  0.054652\n",
            "77        3    1         1  0.367921  0.057969\n",
            "876       3    1         1  0.246042  0.039037\n",
            "682       3    1         1  0.246042  0.039037\n",
            "..      ...  ...       ...       ...       ...\n",
            "716       1    2         2  0.472229  0.074171\n",
            "768       3    1         3  0.367921  0.057969\n",
            "73        3    1         2  0.321438  0.050749\n",
            "236       2    1         1  0.547625  0.085882\n",
            "37        3    1         1  0.258608  0.040989\n",
            "\n",
            "[622 rows x 5 columns]\n",
            "     Pclass  sex  embarked       age      fare\n",
            "387       2    2         1  0.447097  0.070267\n",
            "259       2    2         1  0.623021  0.097594\n",
            "771       3    1         1  0.597889  0.093690\n",
            "208       3    2         3  0.195778  0.031230\n",
            "683       3    1         1  0.170646  0.027326\n",
            "..      ...  ...       ...       ...       ...\n",
            "248       1    1         1  0.459663  0.072219\n",
            "601       3    1         1  0.367921  0.057969\n",
            "240       3    2         2  0.367921  0.057969\n",
            "468       3    1         3  0.367921  0.057969\n",
            "93        3    1         1  0.321438  0.050749\n",
            "\n",
            "[267 rows x 5 columns]\n",
            "115    0\n",
            "874    1\n",
            "77     0\n",
            "876    0\n",
            "682    0\n",
            "      ..\n",
            "716    1\n",
            "768    0\n",
            "73     0\n",
            "236    0\n",
            "37     0\n",
            "Name: Survived, Length: 622, dtype: int64\n",
            "387    1\n",
            "259    1\n",
            "771    0\n",
            "208    1\n",
            "683    0\n",
            "      ..\n",
            "248    1\n",
            "601    0\n",
            "240    0\n",
            "468    0\n",
            "93     0\n",
            "Name: Survived, Length: 267, dtype: int64\n"
          ]
        }
      ]
    },
    {
      "cell_type": "markdown",
      "source": [
        "# 2)Identify the best possible variant of naive bayes classifier for the given dataset. Justify your reason for the same"
      ],
      "metadata": {
        "id": "bZYDt_6MmZ90"
      }
    },
    {
      "cell_type": "markdown",
      "source": [
        "# The possible variants of Naive Bayes are \n",
        "\n",
        "# i)Gaussian \n",
        "\n",
        "# ii)Multinomial \n",
        "\n",
        "# iii)Bernoulli\n",
        "# We Train model for each of the variant and then check the score first"
      ],
      "metadata": {
        "id": "sdcfdtyvnF7s"
      }
    },
    {
      "cell_type": "code",
      "source": [
        "from sklearn import naive_bayes\n",
        "gaussian_model=naive_bayes.GaussianNB()\n",
        "gaussian_model.fit(x_train,y_train)\n",
        "print('Training Score for gaussian model :',gaussian_model.score(x_train,y_train),'%')\n",
        "print('Testing Score for gaussian model :',gaussian_model.score(x_test,y_test),'%')"
      ],
      "metadata": {
        "colab": {
          "base_uri": "https://localhost:8080/"
        },
        "id": "EA5DSnl9m27Z",
        "outputId": "9e5724ee-15a3-4441-d069-80fac93fff3f"
      },
      "execution_count": 307,
      "outputs": [
        {
          "output_type": "stream",
          "name": "stdout",
          "text": [
            "Training Score for gaussian model : 0.7765273311897106 %\n",
            "Testing Score for gaussian model : 0.8089887640449438 %\n"
          ]
        }
      ]
    },
    {
      "cell_type": "code",
      "source": [
        "multinomial_model=naive_bayes.MultinomialNB()\n",
        "multinomial_model.fit(x_train,y_train)\n",
        "print('Training Score for multinomial model :',multinomial_model.score(x_train,y_train),'%')\n",
        "print('Testing Score for multinomial model :',multinomial_model.score(x_test,y_test),'%')"
      ],
      "metadata": {
        "colab": {
          "base_uri": "https://localhost:8080/"
        },
        "id": "6fnopMpDofQN",
        "outputId": "0f666f2e-ca96-4221-9686-565e65f4ae35"
      },
      "execution_count": 308,
      "outputs": [
        {
          "output_type": "stream",
          "name": "stdout",
          "text": [
            "Training Score for multinomial model : 0.6977491961414791 %\n",
            "Testing Score for multinomial model : 0.7116104868913857 %\n"
          ]
        }
      ]
    },
    {
      "cell_type": "code",
      "source": [
        "bernoulli_model=naive_bayes.MultinomialNB()\n",
        "bernoulli_model.fit(x_train,y_train)\n",
        "print('Training Score for bernoulli model :',bernoulli_model.score(x_train,y_train),'%')\n",
        "print('Testing Score for bernoulli model :',bernoulli_model.score(x_test,y_test),'%')"
      ],
      "metadata": {
        "colab": {
          "base_uri": "https://localhost:8080/"
        },
        "id": "yPNOO0bAo00t",
        "outputId": "312d815b-3fc8-4d0f-9bed-3938e202e87d"
      },
      "execution_count": 309,
      "outputs": [
        {
          "output_type": "stream",
          "name": "stdout",
          "text": [
            "Training Score for bernoulli model : 0.6977491961414791 %\n",
            "Testing Score for bernoulli model : 0.7116104868913857 %\n"
          ]
        }
      ]
    },
    {
      "cell_type": "markdown",
      "source": [
        "# So, gaussian model has the best performance score wise\n",
        "# Now, we check if the continuous features(Age and Fare follow normal distribution or not)"
      ],
      "metadata": {
        "id": "HUuPau2_o_Pr"
      }
    },
    {
      "cell_type": "code",
      "source": [
        "import seaborn as sns\n",
        "def plot_density_distribution(feature_name):\n",
        "  '''\n",
        "  Function to plot density function corresponding to a particular feature\n",
        "  '''\n",
        "  sns.distplot(df[feature_name], hist=True, kde=True)"
      ],
      "metadata": {
        "id": "1OldSg0jpRnV"
      },
      "execution_count": 310,
      "outputs": []
    },
    {
      "cell_type": "code",
      "source": [
        "print('For age :')\n",
        "plot_density_distribution('age')"
      ],
      "metadata": {
        "colab": {
          "base_uri": "https://localhost:8080/",
          "height": 351
        },
        "id": "H9h4gqQXqJ8C",
        "outputId": "405bf165-5605-408b-ad3a-ba0e98130def"
      },
      "execution_count": 311,
      "outputs": [
        {
          "output_type": "stream",
          "name": "stdout",
          "text": [
            "For age :\n"
          ]
        },
        {
          "output_type": "stream",
          "name": "stderr",
          "text": [
            "/usr/local/lib/python3.8/dist-packages/seaborn/distributions.py:2619: FutureWarning: `distplot` is a deprecated function and will be removed in a future version. Please adapt your code to use either `displot` (a figure-level function with similar flexibility) or `histplot` (an axes-level function for histograms).\n",
            "  warnings.warn(msg, FutureWarning)\n"
          ]
        },
        {
          "output_type": "display_data",
          "data": {
            "text/plain": [
              "<Figure size 432x288 with 1 Axes>"
            ],
            "image/png": "[encoded data removed]"
          },
          "metadata": {
            "needs_background": "light"
          }
        }
      ]
    },
    {
      "cell_type": "code",
      "source": [
        "print('For Fare : ')\n",
        "plot_density_distribution('fare')"
      ],
      "metadata": {
        "colab": {
          "base_uri": "https://localhost:8080/",
          "height": 351
        },
        "id": "DhpsqJ0LqZBj",
        "outputId": "924211e1-814f-4c24-8763-00df26fa69c0"
      },
      "execution_count": 312,
      "outputs": [
        {
          "output_type": "stream",
          "name": "stdout",
          "text": [
            "For Fare : \n"
          ]
        },
        {
          "output_type": "stream",
          "name": "stderr",
          "text": [
            "/usr/local/lib/python3.8/dist-packages/seaborn/distributions.py:2619: FutureWarning: `distplot` is a deprecated function and will be removed in a future version. Please adapt your code to use either `displot` (a figure-level function with similar flexibility) or `histplot` (an axes-level function for histograms).\n",
            "  warnings.warn(msg, FutureWarning)\n"
          ]
        },
        {
          "output_type": "display_data",
          "data": {
            "text/plain": [
              "<Figure size 432x288 with 1 Axes>"
            ],
            "image/png": "[encoded data removed]"
          },
          "metadata": {
            "needs_background": "light"
          }
        }
      ]
    },
    {
      "cell_type": "markdown",
      "source": [
        "# Observing each of the continuous curve we can very cleary say that both the continuous features approximately follows normal distribution and thus gaussian naive bayes would be a good model to fit.\n",
        "# We also know that gaussian naive bayes works well for continuous valued feature, multinomial works well for categorical/discrete valued feature and bernoulli naive bayes works well for features having binary value, so Gaussian Model would be the best variant in our case."
      ],
      "metadata": {
        "id": "x0bo0r8gqmIy"
      }
    },
    {
      "cell_type": "code",
      "source": [
        "#confirming the result via f1 score and confusion matrix\n",
        "from sklearn.metrics import confusion_matrix,f1_score\n",
        "def get_predicted(x_test,model):\n",
        "  return model.predict(x_test)\n",
        "gaussian_predicted=get_predicted(x_test,gaussian_model)\n",
        "multinomial_predicted=get_predicted(x_test,multinomial_model)\n",
        "bernoulli_predicted=get_predicted(x_test,bernoulli_model)"
      ],
      "metadata": {
        "id": "2RGJqpBLrXZG"
      },
      "execution_count": 313,
      "outputs": []
    },
    {
      "cell_type": "code",
      "source": [
        "print('Confusion matrix for Gaussian : ')\n",
        "print(confusion_matrix(y_test,gaussian_predicted))\n",
        "print('Confusion matrix for Multinomial : ')\n",
        "print(confusion_matrix(y_test,multinomial_predicted))\n",
        "print('Confusion matrix for Bernoulli : ')\n",
        "print(confusion_matrix(y_test,bernoulli_predicted))"
      ],
      "metadata": {
        "colab": {
          "base_uri": "https://localhost:8080/"
        },
        "id": "1mSmKln1sJG2",
        "outputId": "12e901cb-d3c2-48d7-de09-238f0cb46931"
      },
      "execution_count": 314,
      "outputs": [
        {
          "output_type": "stream",
          "name": "stdout",
          "text": [
            "Confusion matrix for Gaussian : \n",
            "[[139  27]\n",
            " [ 24  77]]\n",
            "Confusion matrix for Multinomial : \n",
            "[[166   0]\n",
            " [ 77  24]]\n",
            "Confusion matrix for Bernoulli : \n",
            "[[166   0]\n",
            " [ 77  24]]\n"
          ]
        }
      ]
    },
    {
      "cell_type": "code",
      "source": [
        "print('F1 score for Gaussian : ')\n",
        "print(f1_score(y_test,gaussian_predicted)*100,'%')\n",
        "print('F1 score for Multinomial : ')\n",
        "print(f1_score(y_test,multinomial_predicted)*100,'%')\n",
        "print('F1 score for Bernoulli : ')\n",
        "print(f1_score(y_test,bernoulli_predicted)*100,'%')"
      ],
      "metadata": {
        "colab": {
          "base_uri": "https://localhost:8080/"
        },
        "id": "xQDWRaEZsfpK",
        "outputId": "ffbcef38-c389-4402-c37a-21a84b48228f"
      },
      "execution_count": 315,
      "outputs": [
        {
          "output_type": "stream",
          "name": "stdout",
          "text": [
            "F1 score for Gaussian : \n",
            "75.1219512195122 %\n",
            "F1 score for Multinomial : \n",
            "38.4 %\n",
            "F1 score for Bernoulli : \n",
            "38.4 %\n"
          ]
        }
      ]
    },
    {
      "cell_type": "markdown",
      "source": [
        "# From the f1 score also it is quite clear that gaussian is the best variant of naive bayes in this case."
      ],
      "metadata": {
        "id": "IqqVFYcJs2m6"
      }
    },
    {
      "cell_type": "markdown",
      "source": [
        "# 3)Implement the identified variant of Naive Bayes Classifier using scikit learn,report its performance based on appropriate metrics.(ROC AUC etc)"
      ],
      "metadata": {
        "id": "M0_suaFctD0o"
      }
    },
    {
      "cell_type": "markdown",
      "source": [
        "![600.png](data:image/png;base64,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)\n",
        "# From the above formula we finally need to implement the gaussian naive bayes model so first we find the prior probability and then the likelihood where we assume each feature as independent and thus univariate normal distribution can be used. Finally, we calculate posterior probability for both classes and compare for whom it is more and get to our answer."
      ],
      "metadata": {
        "id": "c2-bZlrQtRsm"
      }
    },
    {
      "cell_type": "code",
      "source": [
        "#For prior probabilities\n",
        "#class ω1(not survived)\n",
        "not_survived_df=df[df['Survived']==0]\n",
        "#class ω2(survived)\n",
        "survived_df=df[df['Survived']==1]\n",
        "print(not_survived_df)\n",
        "print(survived_df)"
      ],
      "metadata": {
        "colab": {
          "base_uri": "https://localhost:8080/"
        },
        "id": "hdXHEZ-ptJru",
        "outputId": "617c0049-4fa0-4f49-c5ff-f2fdc062c487"
      },
      "execution_count": 316,
      "outputs": [
        {
          "output_type": "stream",
          "name": "stdout",
          "text": [
            "     Pclass  Survived  sex  embarked       age      fare\n",
            "0         3         0    1         1  0.271174  0.042941\n",
            "4         3         0    1         1  0.434531  0.068315\n",
            "5         3         0    1         3  0.367921  0.057969\n",
            "6         1         0    1         1  0.673285  0.105401\n",
            "7         3         0    1         1  0.019854  0.003904\n",
            "..      ...       ...  ...       ...       ...       ...\n",
            "884       3         0    1         1  0.308872  0.048797\n",
            "885       3         0    2         3  0.484795  0.076123\n",
            "886       2         0    1         1  0.334004  0.052700\n",
            "888       3         0    2         1  0.367921  0.057969\n",
            "890       3         0    1         3  0.396833  0.062460\n",
            "\n",
            "[549 rows x 6 columns]\n",
            "     Pclass  Survived  sex  embarked       age      fare\n",
            "1         1         1    2         2  0.472229  0.074171\n",
            "2         3         1    2         1  0.321438  0.050749\n",
            "3         1         1    2         1  0.434531  0.068315\n",
            "8         3         1    2         1  0.334004  0.052700\n",
            "9         2         1    2         2  0.170646  0.027326\n",
            "..      ...       ...  ...       ...       ...       ...\n",
            "875       3         1    2         2  0.183212  0.029278\n",
            "879       1         1    2         2  0.698417  0.109305\n",
            "880       2         1    2         1  0.308872  0.048797\n",
            "887       1         1    2         1  0.233476  0.037086\n",
            "889       1         1    1         2  0.321438  0.050749\n",
            "\n",
            "[340 rows x 6 columns]\n"
          ]
        }
      ]
    },
    {
      "cell_type": "code",
      "source": [
        "train=x_train\n",
        "train['Survived']=y_train\n",
        "test=x_test\n",
        "test['Survived']=y_test"
      ],
      "metadata": {
        "id": "YC3csqgZBA7e"
      },
      "execution_count": 317,
      "outputs": []
    },
    {
      "cell_type": "code",
      "source": [
        "from sklearn.metrics import roc_curve,roc_auc_score\n",
        "#now we obtain the prior_probability(ωi)=(count of number of datapoints with class ωi)/(total datapoints)\n",
        "class GaussianNaiveBayes(object):\n",
        "  def __init__(self,df=df):\n",
        "      self.df=df\n",
        "      self.dataframe=self.df\n",
        "      self.survived_dataframe=self.df[self.df['Survived']==1]\n",
        "      self.not_survived_dataframe=self.df[self.df['Survived']==0]\n",
        "      self.feature_names=self.df.columns[:-1]\n",
        "      self.categorical_features=['Pclass','embarked','sex']\n",
        "      self.continuous_features=['age','fare']\n",
        "      self.total_datapoints=len(self.df)\n",
        "  def get_prior_probability(self,class_label):\n",
        "      '''\n",
        "      Returns the prior probability of the given class label(0=>not survived and 1=>survived)\n",
        "      '''\n",
        "      if(class_label==0):\n",
        "        return len(self.not_survived_dataframe)/self.total_datapoints\n",
        "      else:\n",
        "        return len(self.survived_dataframe)/self.total_datapoints\n",
        "  def categorical_likelihood(self,feature_name,test_point_feature_value,class_label):\n",
        "      '''\n",
        "      We want P(f1=x1|y=ωi) ie. (count of datapoints with f1=x1 and y=ωi)/(count of number of ωi)\n",
        "      '''\n",
        "      #for y=ω1 we have dataframe as not_survived_dataframe among which we find corresponding values\n",
        "      if(class_label==0):\n",
        "        not_survived=self.not_survived_dataframe[feature_name]\n",
        "        count_of_feature_labels=dict(Counter(not_survived))\n",
        "        return (1+(count_of_feature_labels.get(test_point_feature_value,0)))/(len(set(df[feature_name]))+len(self.not_survived_dataframe))\n",
        "      else:\n",
        "        survived=self.survived_dataframe[feature_name]\n",
        "        count_of_feature_labels=dict(Counter(survived))\n",
        "        return (1+(count_of_feature_labels.get(test_point_feature_value,0)))/(len(set(df[feature_name]))+len(self.survived_dataframe))\n",
        "  def gaussian_likelihood(self,feature_name,test_point_feature_value,class_label):\n",
        "      # p(x)=(e^(−(x − μ)2/2σ2))/√2πσ so applying the same\n",
        "      standard_deviation=0\n",
        "      mean=0\n",
        "      if(class_label==0):\n",
        "        standard_deviation=(self.not_survived_dataframe[feature_name]).std()\n",
        "        mean=(self.not_survived_dataframe[feature_name]).mean()\n",
        "      else:\n",
        "        standard_deviation=(self.survived_dataframe[feature_name]).std()\n",
        "        mean=(self.survived_dataframe[feature_name]).mean()\n",
        "      power=(-0.5)*(((test_point_feature_value-mean)/standard_deviation)**2)\n",
        "      return ((math.exp(power))/(math.sqrt(2*math.pi)*standard_deviation))\n",
        "  def get_posterior_probability_point(self,feature_vector,class_label):\n",
        "      '''\n",
        "      We want P(y=ωi|X=x)=(P(f1=x1|y=ωi)*P(f2=x2|y=ωi)*P(f3=x3|y=ωi)*P(f4=x4|y=ωi)*P(f5=x5|y=ωi))*P(ωi)\n",
        "      For a single datapoint\n",
        "      '''\n",
        "      #for probability 1 we have feature f1 as Pclass which is categorical\n",
        "      prob_1=self.categorical_likelihood('Pclass',feature_vector[0],class_label)\n",
        "      #for probability 2 we have feature f2 as sex which is categorical\n",
        "      prob_2=self.categorical_likelihood('sex',feature_vector[1],class_label)\n",
        "      #for probability 3 we have feature f3 as embarked which is categorical\n",
        "      prob_3=self.categorical_likelihood('embarked',feature_vector[2],class_label)\n",
        "      #for probability 4 we have feature f4 as age which is continuous\n",
        "      prob_4=self.gaussian_likelihood('age',feature_vector[3],class_label)\n",
        "      #for probability 5 we have feature f5 as fare which is continuous\n",
        "      prob_5=self.gaussian_likelihood('fare',feature_vector[4],class_label)\n",
        "      return (prob_1*prob_2*prob_3*prob_4*prob_5)*(self.get_prior_probability(class_label))\n",
        "  def predict_point(self,feature_vector):\n",
        "      '''\n",
        "      Function to predict the class of a point whose feature_vector we pass\n",
        "      '''\n",
        "      posterior_class_0=self.get_posterior_probability_point(feature_vector,0)\n",
        "      posterior_class_1=self.get_posterior_probability_point(feature_vector,1)\n",
        "      if(posterior_class_0>posterior_class_1):\n",
        "        return 0\n",
        "      else:\n",
        "        return 1\n",
        "  def get_probability(self,feature_vector):\n",
        "      '''\n",
        "      Function to calculate probability of prediction for each class\n",
        "      '''\n",
        "      posterior_class_0=self.get_posterior_probability_point(feature_vector,0)\n",
        "      posterior_class_1=self.get_posterior_probability_point(feature_vector,1)\n",
        "      evidence_probability=posterior_class_0+posterior_class_1\n",
        "      return [posterior_class_0/evidence_probability,posterior_class_1/evidence_probability]\n",
        "  def predict(self,x_test):\n",
        "      '''\n",
        "      Function which returns y_predicted for testing points given to us\n",
        "      '''\n",
        "      y_predicted=[]\n",
        "      for i in range(len(x_test)):\n",
        "        feature_vector=list(x_test.iloc[i,:])\n",
        "        y_predicted.append(self.predict_point(feature_vector))\n",
        "      return y_predicted\n",
        "  def predict_proba(self,x_test):\n",
        "      '''\n",
        "      Function which returns probabilities for each class for testing points given to us\n",
        "      '''\n",
        "      proba_predicted=[]\n",
        "      for i in range(len(x_test)):\n",
        "        feature_vector=list(x_test.iloc[i,:])\n",
        "        proba_predicted.append(self.get_probability(feature_vector))\n",
        "      return proba_predicted\n",
        "  def get_positive_rate(self,x_test,y_test):\n",
        "      proba_predicted=self.predict_proba(x_test)\n",
        "      prob_estimate_of_positive_class=[]\n",
        "      for i in proba_predicted:\n",
        "        prob_estimate_of_positive_class.append(i[1])\n",
        "      false_positive_rate,true_positive_rate,thresholds=roc_curve(y_test,prob_estimate_of_positive_class)\n",
        "      return false_positive_rate,true_positive_rate\n",
        "  def plot_roc(self,x_test,y_test):\n",
        "      '''\n",
        "      Function plots roc curve \n",
        "      '''\n",
        "      false_positive_rate,true_positive_rate=self.get_positive_rate(x_test,y_test)\n",
        "      plt.plot(false_positive_rate,true_positive_rate)\n",
        "      plt.xlabel('False Positive Rate')\n",
        "      plt.ylabel('True Positive Rate')\n",
        "      plt.title('ROC Curve')\n",
        "      plt.show()\n",
        "  def get_auc_score(self,x_test,y_test):\n",
        "      '''\n",
        "      return Area Under the curve\n",
        "      '''\n",
        "      proba_predicted=self.predict_proba(x_test)\n",
        "      prob_estimate_of_positive_class=[]\n",
        "      for i in proba_predicted:\n",
        "        prob_estimate_of_positive_class.append(i[1])\n",
        "      return roc_auc_score(y_test,prob_estimate_of_positive_class)\n",
        "  def get_metrics(self,x_test,y_test):\n",
        "      '''\n",
        "      Returns confusion_matrix,precision,recall and f1_score\n",
        "      '''\n",
        "      x_test=np.array(x_test)\n",
        "      y_test=np.array(y_test)\n",
        "      true_positive=0\n",
        "      true_negative=0\n",
        "      false_positive=0\n",
        "      false_negative=0\n",
        "      for i in range(len(y_predict)):\n",
        "        if(y_predict[i]==y_test[i]):\n",
        "          if(y_predict[i]==1):\n",
        "            true_positive+=1\n",
        "          else:\n",
        "            true_negative+=1\n",
        "        else:\n",
        "          if(y_predict[i]==1):\n",
        "            false_positive+=1\n",
        "          else:\n",
        "            false_negative+=1\n",
        "      precision=true_positive/(true_positive+false_positive)\n",
        "      recall=true_positive/(true_positive+false_negative)\n",
        "      return [[true_negative,false_positive],[false_negative,true_positive]],precision*100,recall*100,((2*precision*recall)/(precision+recall))*100\n",
        "  def score(self,y_pred,y_actual):\n",
        "    '''\n",
        "    Returns the accuracy score of our algorithm\n",
        "    '''\n",
        "    numerator=0\n",
        "    for i in range(len(y_pred)):\n",
        "      if(y_pred[i]==y_actual[i]):\n",
        "        numerator+=1\n",
        "    return numerator/len(y_pred)"
      ],
      "metadata": {
        "id": "uzt6OPguvnbL"
      },
      "execution_count": 318,
      "outputs": []
    },
    {
      "cell_type": "code",
      "source": [
        "model=GaussianNaiveBayes()\n",
        "y_predict=np.array(model.predict(x_test))\n",
        "probability=model.predict_proba(x_test)"
      ],
      "metadata": {
        "id": "9gcN-CwK3ANN"
      },
      "execution_count": 319,
      "outputs": []
    },
    {
      "cell_type": "code",
      "source": [
        "print('y predicted array : ')\n",
        "print(y_predict)"
      ],
      "metadata": {
        "colab": {
          "base_uri": "https://localhost:8080/"
        },
        "id": "U6pBQOR5zLwM",
        "outputId": "31145f2c-cc54-4f6d-8498-de1480c7ad37"
      },
      "execution_count": 320,
      "outputs": [
        {
          "output_type": "stream",
          "name": "stdout",
          "text": [
            "y predicted array : \n",
            "[1 1 0 1 0 1 1 1 0 1 0 1 0 1 0 1 0 1 1 1 0 0 0 0 0 0 1 0 0 1 0 0 1 0 0 1 0\n",
            " 0 1 1 1 0 1 0 0 1 1 0 1 0 0 1 0 1 0 1 0 0 0 0 0 0 0 0 1 1 0 0 0 1 0 1 0 0\n",
            " 1 1 0 0 0 0 0 0 1 1 0 0 1 0 0 1 0 1 0 0 1 0 1 1 1 1 0 1 0 0 0 0 1 0 0 0 0\n",
            " 0 0 1 1 1 0 1 1 0 0 1 1 0 1 0 0 0 0 0 0 0 0 0 1 1 0 0 0 0 0 1 0 1 0 0 1 1\n",
            " 1 0 0 0 1 0 0 1 0 1 0 0 0 0 0 0 0 0 1 1 0 1 0 0 0 0 0 1 0 0 0 0 0 0 1 0 1\n",
            " 0 1 0 1 0 0 0 0 0 0 0 0 1 0 1 0 1 0 0 1 0 0 1 0 1 0 0 0 0 1 1 0 1 0 0 0 1\n",
            " 0 1 1 0 1 0 0 0 1 1 0 0 0 0 0 0 1 0 1 0 0 0 0 1 1 0 0 0 1 1 1 0 1 1 0 0 1\n",
            " 0 1 0 0 0 1 0 0]\n"
          ]
        }
      ]
    },
    {
      "cell_type": "code",
      "source": [
        "print('probability array : ')\n",
        "print(np.array(probability))"
      ],
      "metadata": {
        "colab": {
          "base_uri": "https://localhost:8080/"
        },
        "id": "hN0XyvcozSbJ",
        "outputId": "2f7aa012-531b-4f59-ec9f-b7e085c640a4"
      },
      "execution_count": 321,
      "outputs": [
        {
          "output_type": "stream",
          "name": "stdout",
          "text": [
            "probability array : \n",
            "[[0.28620359 0.71379641]\n",
            " [0.26804185 0.73195815]\n",
            " [0.92766976 0.07233024]\n",
            " [0.32189843 0.67810157]\n",
            " [0.8666848  0.1333152 ]\n",
            " [0.17618493 0.82381507]\n",
            " [0.39988778 0.60011222]\n",
            " [0.30991382 0.69008618]\n",
            " [0.75901079 0.24098921]\n",
            " [0.4781929  0.5218071 ]\n",
            " [0.68174602 0.31825398]\n",
            " [0.2153248  0.7846752 ]\n",
            " [0.81397138 0.18602862]\n",
            " [0.08869926 0.91130074]\n",
            " [0.90561001 0.09438999]\n",
            " [0.44300706 0.55699294]\n",
            " [0.84567983 0.15432017]\n",
            " [0.28993472 0.71006528]\n",
            " [0.16767082 0.83232918]\n",
            " [0.482099   0.517901  ]\n",
            " [0.92752151 0.07247849]\n",
            " [0.68736999 0.31263001]\n",
            " [0.83065901 0.16934099]\n",
            " [0.84417395 0.15582605]\n",
            " [0.51247945 0.48752055]\n",
            " [0.5300681  0.4699319 ]\n",
            " [0.06381548 0.93618452]\n",
            " [0.90886894 0.09113106]\n",
            " [0.92431554 0.07568446]\n",
            " [0.44396781 0.55603219]\n",
            " [0.50308501 0.49691499]\n",
            " [0.51513014 0.48486986]\n",
            " [0.20023288 0.79976712]\n",
            " [0.51117464 0.48882536]\n",
            " [0.70215238 0.29784762]\n",
            " [0.21477884 0.78522116]\n",
            " [0.72537791 0.27462209]\n",
            " [0.92431554 0.07568446]\n",
            " [0.24717434 0.75282566]\n",
            " [0.48922618 0.51077382]\n",
            " [0.48565995 0.51434005]\n",
            " [0.79903335 0.20096665]\n",
            " [0.45123642 0.54876358]\n",
            " [0.92431554 0.07568446]\n",
            " [0.60953688 0.39046312]\n",
            " [0.27540494 0.72459506]\n",
            " [0.17028351 0.82971649]\n",
            " [0.83106568 0.16893432]\n",
            " [0.11885732 0.88114268]\n",
            " [0.93189752 0.06810248]\n",
            " [0.92431554 0.07568446]\n",
            " [0.49259525 0.50740475]\n",
            " [0.77730272 0.22269728]\n",
            " [0.16440711 0.83559289]\n",
            " [0.81145752 0.18854248]\n",
            " [0.13309351 0.86690649]\n",
            " [0.8233843  0.1766157 ]\n",
            " [0.93211587 0.06788413]\n",
            " [0.78133211 0.21866789]\n",
            " [0.92431554 0.07568446]\n",
            " [0.57207324 0.42792676]\n",
            " [0.9020524  0.0979476 ]\n",
            " [0.70215238 0.29784762]\n",
            " [0.92431554 0.07568446]\n",
            " [0.49259525 0.50740475]\n",
            " [0.2412474  0.7587526 ]\n",
            " [0.92431554 0.07568446]\n",
            " [0.92958778 0.07041222]\n",
            " [0.82867222 0.17132778]\n",
            " [0.09914832 0.90085168]\n",
            " [0.58521131 0.41478869]\n",
            " [0.10409234 0.89590766]\n",
            " [0.51893153 0.48106847]\n",
            " [0.9020524  0.0979476 ]\n",
            " [0.2890843  0.7109157 ]\n",
            " [0.17618493 0.82381507]\n",
            " [0.90594223 0.09405777]\n",
            " [0.92752151 0.07247849]\n",
            " [0.8341447  0.1658553 ]\n",
            " [0.83065901 0.16934099]\n",
            " [0.90594223 0.09405777]\n",
            " [0.90561001 0.09438999]\n",
            " [0.06381548 0.93618452]\n",
            " [0.05721606 0.94278394]\n",
            " [0.81815366 0.18184634]\n",
            " [0.72631045 0.27368955]\n",
            " [0.44396781 0.55603219]\n",
            " [0.51764275 0.48235725]\n",
            " [0.92431554 0.07568446]\n",
            " [0.44300706 0.55699294]\n",
            " [0.92478823 0.07521177]\n",
            " [0.44396781 0.55603219]\n",
            " [0.93103528 0.06896472]\n",
            " [0.8341447  0.1658553 ]\n",
            " [0.29424625 0.70575375]\n",
            " [0.82978471 0.17021529]\n",
            " [0.22710273 0.77289727]\n",
            " [0.23502146 0.76497854]\n",
            " [0.29424625 0.70575375]\n",
            " [0.26296163 0.73703837]\n",
            " [0.8939517  0.1060483 ]\n",
            " [0.39988778 0.60011222]\n",
            " [0.64309782 0.35690218]\n",
            " [0.89817425 0.10182575]\n",
            " [0.89817425 0.10182575]\n",
            " [0.80465159 0.19534841]\n",
            " [0.05974295 0.94025705]\n",
            " [0.8939517  0.1060483 ]\n",
            " [0.79802308 0.20197692]\n",
            " [0.83106568 0.16893432]\n",
            " [0.72267908 0.27732092]\n",
            " [0.81397138 0.18602862]\n",
            " [0.8341447  0.1658553 ]\n",
            " [0.19015536 0.80984464]\n",
            " [0.28993472 0.71006528]\n",
            " [0.08177758 0.91822242]\n",
            " [0.82592703 0.17407297]\n",
            " [0.4781929  0.5218071 ]\n",
            " [0.07448437 0.92551563]\n",
            " [0.82723906 0.17276094]\n",
            " [0.91456899 0.08543101]\n",
            " [0.10794237 0.89205763]\n",
            " [0.44396781 0.55603219]\n",
            " [0.69329196 0.30670804]\n",
            " [0.17261329 0.82738671]\n",
            " [0.92226246 0.07773754]\n",
            " [0.6399916  0.3600084 ]\n",
            " [0.71879234 0.28120766]\n",
            " [0.91704489 0.08295511]\n",
            " [0.50308501 0.49691499]\n",
            " [0.50308501 0.49691499]\n",
            " [0.64309782 0.35690218]\n",
            " [0.87894675 0.12105325]\n",
            " [0.70215238 0.29784762]\n",
            " [0.44300706 0.55699294]\n",
            " [0.10903857 0.89096143]\n",
            " [0.9020524  0.0979476 ]\n",
            " [0.93211587 0.06788413]\n",
            " [0.92431554 0.07568446]\n",
            " [0.92132354 0.07867646]\n",
            " [0.82366501 0.17633499]\n",
            " [0.28620359 0.71379641]\n",
            " [0.93189752 0.06810248]\n",
            " [0.39988778 0.60011222]\n",
            " [0.70215238 0.29784762]\n",
            " [0.65570103 0.34429897]\n",
            " [0.07867736 0.92132264]\n",
            " [0.07514439 0.92485561]\n",
            " [0.15030689 0.84969311]\n",
            " [0.91555895 0.08444105]\n",
            " [0.68699373 0.31300627]\n",
            " [0.93159078 0.06840922]\n",
            " [0.12227921 0.87772079]\n",
            " [0.8939517  0.1060483 ]\n",
            " [0.50428095 0.49571905]\n",
            " [0.44300706 0.55699294]\n",
            " [0.62072797 0.37927203]\n",
            " [0.18745625 0.81254375]\n",
            " [0.92132354 0.07867646]\n",
            " [0.92431554 0.07568446]\n",
            " [0.69329196 0.30670804]\n",
            " [0.82094603 0.17905397]\n",
            " [0.50308501 0.49691499]\n",
            " [0.90594223 0.09405777]\n",
            " [0.81541096 0.18458904]\n",
            " [0.87894675 0.12105325]\n",
            " [0.07185992 0.92814008]\n",
            " [0.08094311 0.91905689]\n",
            " [0.76741714 0.23258286]\n",
            " [0.23502146 0.76497854]\n",
            " [0.8939517  0.1060483 ]\n",
            " [0.76619964 0.23380036]\n",
            " [0.90594223 0.09405777]\n",
            " [0.91184919 0.08815081]\n",
            " [0.69049377 0.30950623]\n",
            " [0.43267924 0.56732076]\n",
            " [0.90561001 0.09438999]\n",
            " [0.78750806 0.21249194]\n",
            " [0.92431554 0.07568446]\n",
            " [0.8939517  0.1060483 ]\n",
            " [0.90594223 0.09405777]\n",
            " [0.92431554 0.07568446]\n",
            " [0.43389881 0.56610119]\n",
            " [0.87894675 0.12105325]\n",
            " [0.44396781 0.55603219]\n",
            " [0.50308501 0.49691499]\n",
            " [0.44396781 0.55603219]\n",
            " [0.72267908 0.27732092]\n",
            " [0.16164312 0.83835688]\n",
            " [0.92752151 0.07247849]\n",
            " [0.70414274 0.29585726]\n",
            " [0.7209358  0.2790642 ]\n",
            " [0.90561001 0.09438999]\n",
            " [0.79319417 0.20680583]\n",
            " [0.93103528 0.06896472]\n",
            " [0.67479877 0.32520123]\n",
            " [0.83540485 0.16459515]\n",
            " [0.15463497 0.84536503]\n",
            " [0.70215238 0.29784762]\n",
            " [0.11885732 0.88114268]\n",
            " [0.67293267 0.32706733]\n",
            " [0.23502146 0.76497854]\n",
            " [0.79275513 0.20724487]\n",
            " [0.59538124 0.40461876]\n",
            " [0.06166791 0.93833209]\n",
            " [0.92132354 0.07867646]\n",
            " [0.91324058 0.08675942]\n",
            " [0.10965665 0.89034335]\n",
            " [0.83009519 0.16990481]\n",
            " [0.16123223 0.83876777]\n",
            " [0.90594223 0.09405777]\n",
            " [0.80752554 0.19247446]\n",
            " [0.8341447  0.1658553 ]\n",
            " [0.79802308 0.20197692]\n",
            " [0.38986159 0.61013841]\n",
            " [0.17638526 0.82361474]\n",
            " [0.81499528 0.18500472]\n",
            " [0.13939809 0.86060191]\n",
            " [0.93038646 0.06961354]\n",
            " [0.72548783 0.27451217]\n",
            " [0.90594223 0.09405777]\n",
            " [0.43293151 0.56706849]\n",
            " [0.66575703 0.33424297]\n",
            " [0.26750083 0.73249917]\n",
            " [0.25278154 0.74721846]\n",
            " [0.90561001 0.09438999]\n",
            " [0.49926507 0.50073493]\n",
            " [0.90594223 0.09405777]\n",
            " [0.81510882 0.18489118]\n",
            " [0.80752554 0.19247446]\n",
            " [0.44396781 0.55603219]\n",
            " [0.29424625 0.70575375]\n",
            " [0.50308501 0.49691499]\n",
            " [0.90594223 0.09405777]\n",
            " [0.92478823 0.07521177]\n",
            " [0.90561001 0.09438999]\n",
            " [0.92431554 0.07568446]\n",
            " [0.78133211 0.21866789]\n",
            " [0.27385191 0.72614809]\n",
            " [0.91456899 0.08543101]\n",
            " [0.28993472 0.71006528]\n",
            " [0.90594223 0.09405777]\n",
            " [0.8939517  0.1060483 ]\n",
            " [0.64465163 0.35534837]\n",
            " [0.50477898 0.49522102]\n",
            " [0.14105388 0.85894612]\n",
            " [0.10061997 0.89938003]\n",
            " [0.70414274 0.29585726]\n",
            " [0.71228777 0.28771223]\n",
            " [0.88935876 0.11064124]\n",
            " [0.13366761 0.86633239]\n",
            " [0.44396781 0.55603219]\n",
            " [0.47018622 0.52981378]\n",
            " [0.93110612 0.06889388]\n",
            " [0.17618493 0.82381507]\n",
            " [0.19015536 0.80984464]\n",
            " [0.91704489 0.08295511]\n",
            " [0.92752151 0.07247849]\n",
            " [0.05946457 0.94053543]\n",
            " [0.8341447  0.1658553 ]\n",
            " [0.25278154 0.74721846]\n",
            " [0.9082898  0.0917102 ]\n",
            " [0.72425079 0.27574921]\n",
            " [0.92431554 0.07568446]\n",
            " [0.29424625 0.70575375]\n",
            " [0.90594223 0.09405777]\n",
            " [0.91704489 0.08295511]]\n"
          ]
        }
      ]
    },
    {
      "cell_type": "code",
      "source": [
        "print('ROC curve : ')\n",
        "model.plot_roc(x_test,y_test)"
      ],
      "metadata": {
        "colab": {
          "base_uri": "https://localhost:8080/",
          "height": 312
        },
        "id": "0NfbXCdNzhAY",
        "outputId": "809ba2a5-f8b4-417c-97d9-34dea4616c91"
      },
      "execution_count": 322,
      "outputs": [
        {
          "output_type": "stream",
          "name": "stdout",
          "text": [
            "ROC curve : \n"
          ]
        },
        {
          "output_type": "display_data",
          "data": {
            "text/plain": [
              "<Figure size 432x288 with 1 Axes>"
            ],
            "image/png": "[encoded data removed]"
          },
          "metadata": {
            "needs_background": "light"
          }
        }
      ]
    },
    {
      "cell_type": "code",
      "source": [
        "print('Area Under the Curve of ROC curve :',model.get_auc_score(x_test,y_test))"
      ],
      "metadata": {
        "colab": {
          "base_uri": "https://localhost:8080/"
        },
        "id": "TmhV6V_C2cw2",
        "outputId": "8833c580-186e-41e6-e37e-b3328c47238b"
      },
      "execution_count": 323,
      "outputs": [
        {
          "output_type": "stream",
          "name": "stdout",
          "text": [
            "Area Under the Curve of ROC curve : 0.8833949660026243\n"
          ]
        }
      ]
    },
    {
      "cell_type": "code",
      "source": [
        "confusion_matrix,precision,recall,f1_score=model.get_metrics(x_test,y_test)"
      ],
      "metadata": {
        "id": "D2DS-ACf4i5J"
      },
      "execution_count": 324,
      "outputs": []
    },
    {
      "cell_type": "code",
      "source": [
        "print('Confusion Matrix : ')\n",
        "print(np.array(confusion_matrix))"
      ],
      "metadata": {
        "colab": {
          "base_uri": "https://localhost:8080/"
        },
        "id": "eMakxTqu-k8c",
        "outputId": "4df517dd-4f44-469c-de32-8a587606aec4"
      },
      "execution_count": 325,
      "outputs": [
        {
          "output_type": "stream",
          "name": "stdout",
          "text": [
            "Confusion Matrix : \n",
            "[[143  23]\n",
            " [ 26  75]]\n"
          ]
        }
      ]
    },
    {
      "cell_type": "code",
      "source": [
        "print('Precision : ')\n",
        "print(precision)"
      ],
      "metadata": {
        "colab": {
          "base_uri": "https://localhost:8080/"
        },
        "id": "Eo9lcV5K-3_k",
        "outputId": "80e5a1df-2fe7-413a-e698-fbebe9e098b1"
      },
      "execution_count": 326,
      "outputs": [
        {
          "output_type": "stream",
          "name": "stdout",
          "text": [
            "Precision : \n",
            "76.53061224489795\n"
          ]
        }
      ]
    },
    {
      "cell_type": "code",
      "source": [
        "print('Recall : ')\n",
        "print(recall)"
      ],
      "metadata": {
        "colab": {
          "base_uri": "https://localhost:8080/"
        },
        "id": "5A_z-zC2-4x0",
        "outputId": "dfba9771-65ab-47bf-b05b-97b32059b3ab"
      },
      "execution_count": 327,
      "outputs": [
        {
          "output_type": "stream",
          "name": "stdout",
          "text": [
            "Recall : \n",
            "74.25742574257426\n"
          ]
        }
      ]
    },
    {
      "cell_type": "code",
      "source": [
        "print('F1 Score : ')\n",
        "print(f1_score)"
      ],
      "metadata": {
        "colab": {
          "base_uri": "https://localhost:8080/"
        },
        "id": "SFM4r3pT-6JT",
        "outputId": "869cada8-d365-4e1e-b847-6539d7665739"
      },
      "execution_count": 328,
      "outputs": [
        {
          "output_type": "stream",
          "name": "stdout",
          "text": [
            "F1 Score : \n",
            "75.37688442211056\n"
          ]
        }
      ]
    },
    {
      "cell_type": "markdown",
      "source": [
        "# 4)Perform 5 fold cross validation and summarize the results across the cross-validation sets. Compute the probability of the top class for each row in the testing dataset."
      ],
      "metadata": {
        "id": "7c5liy9B_Ixu"
      }
    },
    {
      "cell_type": "code",
      "source": [
        "#K-Fold from scratch\n",
        "def kfold(data,k=5):\n",
        "  cross_validation_array=[]\n",
        "  n=len(data)\n",
        "  interval=n//k\n",
        "  splits=[]\n",
        "  start=0\n",
        "  for i in range(k):\n",
        "    splits.append(data.iloc[start:start+interval,:])\n",
        "    start=start+interval\n",
        "  for i in range(k):\n",
        "    train=[]\n",
        "    testing_data=[]\n",
        "    for j in range(k):\n",
        "      if(j==i):\n",
        "        testing_data=splits[j]\n",
        "      else:\n",
        "        train.append(splits[j])\n",
        "    training_data=pd.concat(train)\n",
        "    testing_data=pd.DataFrame(testing_data,columns=training_data.columns)\n",
        "    model=GaussianNaiveBayes(training_data)\n",
        "    x_test=testing_data.iloc[:,:-1]\n",
        "    y_test=np.array(testing_data.iloc[:,-1])\n",
        "    y_pred=np.array(model.predict(x_test))\n",
        "    cross_validation_array.append(model.score(y_pred,y_test))\n",
        "  return cross_validation_array\n",
        "cv_array=np.array(kfold(train,5))\n",
        "print(cv_array)"
      ],
      "metadata": {
        "colab": {
          "base_uri": "https://localhost:8080/"
        },
        "id": "UN9e84S__W3B",
        "outputId": "aadf62c7-e3c8-494e-8979-477ec0e4971d"
      },
      "execution_count": 329,
      "outputs": [
        {
          "output_type": "stream",
          "name": "stdout",
          "text": [
            "[0.7983871  0.7983871  0.7983871  0.75806452 0.79032258]\n"
          ]
        }
      ]
    },
    {
      "cell_type": "code",
      "source": [
        "print('Cross validation Score is :',cv_array.mean()*100,'%')"
      ],
      "metadata": {
        "colab": {
          "base_uri": "https://localhost:8080/"
        },
        "id": "1hgxSZL2NYBa",
        "outputId": "66b98096-d710-4657-eb83-ef6fc065f654"
      },
      "execution_count": 330,
      "outputs": [
        {
          "output_type": "stream",
          "name": "stdout",
          "text": [
            "Cross validation Score is : 78.87096774193549 %\n"
          ]
        }
      ]
    },
    {
      "cell_type": "code",
      "source": [
        "#computing probability of top class :\n",
        "model=GaussianNaiveBayes(train)\n",
        "probability_array=model.predict_proba(x_test)\n",
        "top_class_probability=[]\n",
        "for i in range(len(probability_array)):\n",
        "  if(probability_array[i][0]>probability_array[i][1]):\n",
        "    top_class_probability.append(probability_array[i][0])\n",
        "  else:\n",
        "    top_class_probability.append(probability_array[i][1])\n",
        "print(np.array(top_class_probability))"
      ],
      "metadata": {
        "colab": {
          "base_uri": "https://localhost:8080/"
        },
        "id": "BZZovBb1NvpJ",
        "outputId": "0345a490-d24e-4811-d202-6e53375498d8"
      },
      "execution_count": 331,
      "outputs": [
        {
          "output_type": "stream",
          "name": "stdout",
          "text": [
            "[0.68286584 0.6677155  0.93290857 0.714439   0.83672284 0.79012549\n",
            " 0.60857212 0.70721576 0.68254373 0.51497133 0.73594641 0.81646641\n",
            " 0.8000596  0.918555   0.88900158 0.55831506 0.83029476 0.66963278\n",
            " 0.77348331 0.56474349 0.92096882 0.68012698 0.83567558 0.80736984\n",
            " 0.51205228 0.56263234 0.93897396 0.89352287 0.91585585 0.57140959\n",
            " 0.51809657 0.51550659 0.80014086 0.52651484 0.70018077 0.78307575\n",
            " 0.73956772 0.91585585 0.74279828 0.50423201 0.50534618 0.82685691\n",
            " 0.60314279 0.91585585 0.69429183 0.70265784 0.77238499 0.83150422\n",
            " 0.87277083 0.92975237 0.91585585 0.55060492 0.70132931 0.81110599\n",
            " 0.79637549 0.85489181 0.81475818 0.93066737 0.75520741 0.91585585\n",
            " 0.67037922 0.88410477 0.70018077 0.91585585 0.55060492 0.7504693\n",
            " 0.91585585 0.92457258 0.82461544 0.8963298  0.67890036 0.89053214\n",
            " 0.54164833 0.88410477 0.66563578 0.79012549 0.88363426 0.92096882\n",
            " 0.79184021 0.83567558 0.88363426 0.88900158 0.93897396 0.94651893\n",
            " 0.80636815 0.7445735  0.57140959 0.51045995 0.91585585 0.55831506\n",
            " 0.91658798 0.57140959 0.92747919 0.79184021 0.72688116 0.8272271\n",
            " 0.79231226 0.75835923 0.72688116 0.72133966 0.87307169 0.60857212\n",
            " 0.583071   0.87880474 0.87880474 0.75703109 0.91888314 0.87307169\n",
            " 0.73678193 0.83150422 0.7329082  0.8000596  0.79184021 0.84146899\n",
            " 0.66963278 0.90622777 0.78394584 0.51497133 0.9253958  0.82167479\n",
            " 0.90153995 0.91607647 0.57140959 0.6880112  0.77164175 0.91273408\n",
            " 0.62074706 0.65262654 0.9050815  0.51809657 0.51809657 0.583071\n",
            " 0.85294522 0.70018077 0.55831506 0.88465988 0.88410477 0.93066737\n",
            " 0.91585585 0.91133187 0.83696441 0.68286584 0.92975237 0.60857212\n",
            " 0.70018077 0.60277872 0.94037741 0.90784926 0.83188863 0.90456624\n",
            " 0.58903591 0.93295619 0.88828286 0.87307169 0.53366373 0.55831506\n",
            " 0.70119143 0.8313052  0.91133187 0.91585585 0.6880112  0.81075495\n",
            " 0.51809657 0.88363426 0.83438636 0.85294522 0.90973019 0.91505311\n",
            " 0.73715398 0.75835923 0.87307169 0.70944629 0.88363426 0.8976944\n",
            " 0.5942917  0.62477357 0.88900158 0.76336269 0.91585585 0.87307169\n",
            " 0.88363426 0.91585585 0.52806012 0.85294522 0.57140959 0.51809657\n",
            " 0.57140959 0.7329082  0.77672935 0.92096882 0.74621587 0.75019351\n",
            " 0.88900158 0.77096936 0.92747919 0.73234162 0.79607286 0.78133619\n",
            " 0.70018077 0.87277083 0.67650127 0.75835923 0.74216427 0.51881791\n",
            " 0.94148143 0.91133187 0.8996565  0.82191849 0.78519655 0.81602192\n",
            " 0.88363426 0.79073242 0.79184021 0.73678193 0.67191236 0.7712292\n",
            " 0.80158099 0.8886844  0.92610869 0.74798414 0.88363426 0.57028661\n",
            " 0.62167462 0.71477808 0.73537097 0.88900158 0.56970725 0.88363426\n",
            " 0.76190997 0.79073242 0.57140959 0.72688116 0.51809657 0.88363426\n",
            " 0.91658798 0.88900158 0.91585585 0.75520741 0.80554683 0.90153995\n",
            " 0.66963278 0.88363426 0.87307169 0.58538785 0.52047755 0.84969501\n",
            " 0.92226215 0.74621587 0.74896167 0.86687376 0.79834688 0.57140959\n",
            " 0.52509295 0.93320086 0.79012549 0.84146899 0.9050815  0.92096882\n",
            " 0.94399972 0.79184021 0.73537097 0.88767606 0.73644901 0.91585585\n",
            " 0.72688116 0.88363426 0.9050815 ]\n"
          ]
        }
      ]
    },
    {
      "cell_type": "markdown",
      "source": [
        "# 5)Make contour plots with the data points to visualize the class-conditional densities. What can you say about the assumption Naive Bayes model is based on from these plots? Explain in your report."
      ],
      "metadata": {
        "id": "2FESrGc4PJxS"
      }
    },
    {
      "cell_type": "code",
      "source": [
        "import seaborn as sns\n",
        "sns.kdeplot(x=df.age, y=df.Survived,cmap=\"Blues\",shade=True)"
      ],
      "metadata": {
        "colab": {
          "base_uri": "https://localhost:8080/",
          "height": 296
        },
        "id": "_16oT0cbPGeS",
        "outputId": "af1bd6fc-5533-4130-eb5a-16a59a1db95b"
      },
      "execution_count": 332,
      "outputs": [
        {
          "output_type": "execute_result",
          "data": {
            "text/plain": [
              "<matplotlib.axes._subplots.AxesSubplot at 0x7f07b5c5efd0>"
            ]
          },
          "metadata": {},
          "execution_count": 332
        },
        {
          "output_type": "display_data",
          "data": {
            "text/plain": [
              "<Figure size 432x288 with 1 Axes>"
            ],
            "image/png": "[encoded data removed]"
          },
          "metadata": {
            "needs_background": "light"
          }
        }
      ]
    },
    {
      "cell_type": "code",
      "source": [
        "sns.kdeplot(x=df.fare, y=df.Survived,cmap=\"Reds\",shade=True)"
      ],
      "metadata": {
        "colab": {
          "base_uri": "https://localhost:8080/",
          "height": 296
        },
        "id": "PgOcnbZHP9uL",
        "outputId": "8d9f785d-e586-4de5-817c-2c3d039d2838"
      },
      "execution_count": 333,
      "outputs": [
        {
          "output_type": "execute_result",
          "data": {
            "text/plain": [
              "<matplotlib.axes._subplots.AxesSubplot at 0x7f07b5a2d700>"
            ]
          },
          "metadata": {},
          "execution_count": 333
        },
        {
          "output_type": "display_data",
          "data": {
            "text/plain": [
              "<Figure size 432x288 with 1 Axes>"
            ],
            "image/png": "[encoded data removed]"
          },
          "metadata": {
            "needs_background": "light"
          }
        }
      ]
    },
    {
      "cell_type": "code",
      "source": [
        "#As the contour plots comes out to be separated and the difference between the 2 clusters can be seen \n",
        "#so we can conclude that the features are independent"
      ],
      "metadata": {
        "id": "LiXbVti2RsGI"
      },
      "execution_count": 334,
      "outputs": []
    },
    {
      "cell_type": "markdown",
      "source": [
        "# 6)Compare your model with the Decision Tree classifier on the same dataset by performing 5-fold cross-validation and summarizing the results. Justify why one of them works better on this numeric dataset."
      ],
      "metadata": {
        "id": "C-7YdPpYSDmz"
      }
    },
    {
      "cell_type": "code",
      "source": [
        "#training a model of DecisionTreeClassifier\n",
        "from sklearn.tree import DecisionTreeClassifier\n",
        "\n",
        "def kfold(data,k=5):\n",
        "  cross_validation_array=[]\n",
        "  n=len(data)\n",
        "  interval=n//k\n",
        "  splits=[]\n",
        "  start=0\n",
        "  for i in range(k):\n",
        "    splits.append(data.iloc[start:start+interval,:])\n",
        "    start=start+interval\n",
        "  for i in range(k):\n",
        "    train=[]\n",
        "    testing_data=[]\n",
        "    for j in range(k):\n",
        "      if(j==i):\n",
        "        testing_data=splits[j]\n",
        "      else:\n",
        "        train.append(splits[j])\n",
        "    training_data=pd.concat(train)\n",
        "    testing_data=pd.DataFrame(testing_data,columns=training_data.columns)\n",
        "    model=DecisionTreeClassifier()\n",
        "    model.fit(training_data.iloc[:,:-1],training_data.iloc[:,-1])\n",
        "    x_test=testing_data.iloc[:,:-1]\n",
        "    y_test=testing_data.iloc[:,-1]\n",
        "    cross_validation_array.append(model.score(x_test,y_test))\n",
        "  return cross_validation_array\n",
        "cv_array=np.array(kfold(train,5))\n",
        "print(cv_array)"
      ],
      "metadata": {
        "colab": {
          "base_uri": "https://localhost:8080/"
        },
        "id": "1_gso0TiSHMv",
        "outputId": "f25600d8-0951-4d52-9405-92ab95cfd482"
      },
      "execution_count": 335,
      "outputs": [
        {
          "output_type": "stream",
          "name": "stdout",
          "text": [
            "[0.7983871  0.78225806 0.76612903 0.79032258 0.75806452]\n"
          ]
        }
      ]
    },
    {
      "cell_type": "code",
      "source": [
        "print('Cross Validation Score for Decision Tree Classifier : ',cv_array.mean()*100,'%')"
      ],
      "metadata": {
        "colab": {
          "base_uri": "https://localhost:8080/"
        },
        "id": "sqKhA63CTOhS",
        "outputId": "752785af-8957-4f9f-8543-d376447f7549"
      },
      "execution_count": 336,
      "outputs": [
        {
          "output_type": "stream",
          "name": "stdout",
          "text": [
            "Cross Validation Score for Decision Tree Classifier :  77.9032258064516 %\n"
          ]
        }
      ]
    },
    {
      "cell_type": "code",
      "source": [
        "#so we can clearly see cross validation score for Gaussian Naive Bayes is better in this case"
      ],
      "metadata": {
        "id": "QO1IoUkITgWz"
      },
      "execution_count": 337,
      "outputs": []
    },
    {
      "cell_type": "markdown",
      "source": [
        "# **Question 2**"
      ],
      "metadata": {
        "id": "vpnLTIHzTtAp"
      }
    },
    {
      "cell_type": "code",
      "source": [
        "df=pd.read_csv('/content/data.csv')\n",
        "df"
      ],
      "metadata": {
        "colab": {
          "base_uri": "https://localhost:8080/",
          "height": 423
        },
        "id": "THRut0ojT3uJ",
        "outputId": "f5973ef5-8b3e-48c8-eb0a-7aa0359e7fc6"
      },
      "execution_count": 338,
      "outputs": [
        {
          "output_type": "execute_result",
          "data": {
            "text/plain": [
              "        X0     X1      X2     X3     X4     X5     X6  Y\n",
              "0    15.26  14.84  0.8710  5.763  3.312  2.221  5.220  1\n",
              "1    14.88  14.57  0.8811  5.554  3.333  1.018  4.956  1\n",
              "2    14.29  14.09  0.9050  5.291  3.337  2.699  4.825  1\n",
              "3    13.84  13.94  0.8955  5.324  3.379  2.259  4.805  1\n",
              "4    16.14  14.99  0.9034  5.658  3.562  1.355  5.175  1\n",
              "..     ...    ...     ...    ...    ...    ...    ... ..\n",
              "205  12.19  13.20  0.8783  5.137  2.981  3.631  4.870  3\n",
              "206  11.23  12.88  0.8511  5.140  2.795  4.325  5.003  3\n",
              "207  13.20  13.66  0.8883  5.236  3.232  8.315  5.056  3\n",
              "208  11.84  13.21  0.8521  5.175  2.836  3.598  5.044  3\n",
              "209  12.30  13.34  0.8684  5.243  2.974  5.637  5.063  3\n",
              "\n",
              "[210 rows x 8 columns]"
            ],
            "text/html": [
              "\n",
              "  <div id=\"df-69c1eee0-7756-491b-a20b-0c370b97c0a4\">\n",
              "    <div class=\"colab-df-container\">\n",
              "      <div>\n",
              "<style scoped>\n",
              "    .dataframe tbody tr th:only-of-type {\n",
              "        vertical-align: middle;\n",
              "    }\n",
              "\n",
              "    .dataframe tbody tr th {\n",
              "        vertical-align: top;\n",
              "    }\n",
              "\n",
              "    .dataframe thead th {\n",
              "        text-align: right;\n",
              "    }\n",
              "</style>\n",
              "<table border=\"1\" class=\"dataframe\">\n",
              "  <thead>\n",
              "    <tr style=\"text-align: right;\">\n",
              "      <th></th>\n",
              "      <th>X0</th>\n",
              "      <th>X1</th>\n",
              "      <th>X2</th>\n",
              "      <th>X3</th>\n",
              "      <th>X4</th>\n",
              "      <th>X5</th>\n",
              "      <th>X6</th>\n",
              "      <th>Y</th>\n",
              "    </tr>\n",
              "  </thead>\n",
              "  <tbody>\n",
              "    <tr>\n",
              "      <th>0</th>\n",
              "      <td>15.26</td>\n",
              "      <td>14.84</td>\n",
              "      <td>0.8710</td>\n",
              "      <td>5.763</td>\n",
              "      <td>3.312</td>\n",
              "      <td>2.221</td>\n",
              "      <td>5.220</td>\n",
              "      <td>1</td>\n",
              "    </tr>\n",
              "    <tr>\n",
              "      <th>1</th>\n",
              "      <td>14.88</td>\n",
              "      <td>14.57</td>\n",
              "      <td>0.8811</td>\n",
              "      <td>5.554</td>\n",
              "      <td>3.333</td>\n",
              "      <td>1.018</td>\n",
              "      <td>4.956</td>\n",
              "      <td>1</td>\n",
              "    </tr>\n",
              "    <tr>\n",
              "      <th>2</th>\n",
              "      <td>14.29</td>\n",
              "      <td>14.09</td>\n",
              "      <td>0.9050</td>\n",
              "      <td>5.291</td>\n",
              "      <td>3.337</td>\n",
              "      <td>2.699</td>\n",
              "      <td>4.825</td>\n",
              "      <td>1</td>\n",
              "    </tr>\n",
              "    <tr>\n",
              "      <th>3</th>\n",
              "      <td>13.84</td>\n",
              "      <td>13.94</td>\n",
              "      <td>0.8955</td>\n",
              "      <td>5.324</td>\n",
              "      <td>3.379</td>\n",
              "      <td>2.259</td>\n",
              "      <td>4.805</td>\n",
              "      <td>1</td>\n",
              "    </tr>\n",
              "    <tr>\n",
              "      <th>4</th>\n",
              "      <td>16.14</td>\n",
              "      <td>14.99</td>\n",
              "      <td>0.9034</td>\n",
              "      <td>5.658</td>\n",
              "      <td>3.562</td>\n",
              "      <td>1.355</td>\n",
              "      <td>5.175</td>\n",
              "      <td>1</td>\n",
              "    </tr>\n",
              "    <tr>\n",
              "      <th>...</th>\n",
              "      <td>...</td>\n",
              "      <td>...</td>\n",
              "      <td>...</td>\n",
              "      <td>...</td>\n",
              "      <td>...</td>\n",
              "      <td>...</td>\n",
              "      <td>...</td>\n",
              "      <td>...</td>\n",
              "    </tr>\n",
              "    <tr>\n",
              "      <th>205</th>\n",
              "      <td>12.19</td>\n",
              "      <td>13.20</td>\n",
              "      <td>0.8783</td>\n",
              "      <td>5.137</td>\n",
              "      <td>2.981</td>\n",
              "      <td>3.631</td>\n",
              "      <td>4.870</td>\n",
              "      <td>3</td>\n",
              "    </tr>\n",
              "    <tr>\n",
              "      <th>206</th>\n",
              "      <td>11.23</td>\n",
              "      <td>12.88</td>\n",
              "      <td>0.8511</td>\n",
              "      <td>5.140</td>\n",
              "      <td>2.795</td>\n",
              "      <td>4.325</td>\n",
              "      <td>5.003</td>\n",
              "      <td>3</td>\n",
              "    </tr>\n",
              "    <tr>\n",
              "      <th>207</th>\n",
              "      <td>13.20</td>\n",
              "      <td>13.66</td>\n",
              "      <td>0.8883</td>\n",
              "      <td>5.236</td>\n",
              "      <td>3.232</td>\n",
              "      <td>8.315</td>\n",
              "      <td>5.056</td>\n",
              "      <td>3</td>\n",
              "    </tr>\n",
              "    <tr>\n",
              "      <th>208</th>\n",
              "      <td>11.84</td>\n",
              "      <td>13.21</td>\n",
              "      <td>0.8521</td>\n",
              "      <td>5.175</td>\n",
              "      <td>2.836</td>\n",
              "      <td>3.598</td>\n",
              "      <td>5.044</td>\n",
              "      <td>3</td>\n",
              "    </tr>\n",
              "    <tr>\n",
              "      <th>209</th>\n",
              "      <td>12.30</td>\n",
              "      <td>13.34</td>\n",
              "      <td>0.8684</td>\n",
              "      <td>5.243</td>\n",
              "      <td>2.974</td>\n",
              "      <td>5.637</td>\n",
              "      <td>5.063</td>\n",
              "      <td>3</td>\n",
              "    </tr>\n",
              "  </tbody>\n",
              "</table>\n",
              "<p>210 rows × 8 columns</p>\n",
              "</div>\n",
              "      <button class=\"colab-df-convert\" onclick=\"convertToInteractive('df-69c1eee0-7756-491b-a20b-0c370b97c0a4')\"\n",
              "              title=\"Convert this dataframe to an interactive table.\"\n",
              "              style=\"display:none;\">\n",
              "        \n",
              "  <svg xmlns=\"http://www.w3.org/2000/svg\" height=\"24px\"viewBox=\"0 0 24 24\"\n",
              "       width=\"24px\">\n",
              "    <path d=\"M0 0h24v24H0V0z\" fill=\"none\"/>\n",
              "    <path d=\"M18.56 5.44l.94 2.06.94-2.06 2.06-.94-2.06-.94-.94-2.06-.94 2.06-2.06.94zm-11 1L8.5 8.5l.94-2.06 2.06-.94-2.06-.94L8.5 2.5l-.94 2.06-2.06.94zm10 10l.94 2.06.94-2.06 2.06-.94-2.06-.94-.94-2.06-.94 2.06-2.06.94z\"/><path d=\"M17.41 7.96l-1.37-1.37c-.4-.4-.92-.59-1.43-.59-.52 0-1.04.2-1.43.59L10.3 9.45l-7.72 7.72c-.78.78-.78 2.05 0 2.83L4 21.41c.39.39.9.59 1.41.59.51 0 1.02-.2 1.41-.59l7.78-7.78 2.81-2.81c.8-.78.8-2.07 0-2.86zM5.41 20L4 18.59l7.72-7.72 1.47 1.35L5.41 20z\"/>\n",
              "  </svg>\n",
              "      </button>\n",
              "      \n",
              "  <style>\n",
              "    .colab-df-container {\n",
              "      display:flex;\n",
              "      flex-wrap:wrap;\n",
              "      gap: 12px;\n",
              "    }\n",
              "\n",
              "    .colab-df-convert {\n",
              "      background-color: #E8F0FE;\n",
              "      border: none;\n",
              "      border-radius: 50%;\n",
              "      cursor: pointer;\n",
              "      display: none;\n",
              "      fill: #1967D2;\n",
              "      height: 32px;\n",
              "      padding: 0 0 0 0;\n",
              "      width: 32px;\n",
              "    }\n",
              "\n",
              "    .colab-df-convert:hover {\n",
              "      background-color: #E2EBFA;\n",
              "      box-shadow: 0px 1px 2px rgba(60, 64, 67, 0.3), 0px 1px 3px 1px rgba(60, 64, 67, 0.15);\n",
              "      fill: #174EA6;\n",
              "    }\n",
              "\n",
              "    [theme=dark] .colab-df-convert {\n",
              "      background-color: #3B4455;\n",
              "      fill: #D2E3FC;\n",
              "    }\n",
              "\n",
              "    [theme=dark] .colab-df-convert:hover {\n",
              "      background-color: #434B5C;\n",
              "      box-shadow: 0px 1px 3px 1px rgba(0, 0, 0, 0.15);\n",
              "      filter: drop-shadow(0px 1px 2px rgba(0, 0, 0, 0.3));\n",
              "      fill: #FFFFFF;\n",
              "    }\n",
              "  </style>\n",
              "\n",
              "      <script>\n",
              "        const buttonEl =\n",
              "          document.querySelector('#df-69c1eee0-7756-491b-a20b-0c370b97c0a4 button.colab-df-convert');\n",
              "        buttonEl.style.display =\n",
              "          google.colab.kernel.accessAllowed ? 'block' : 'none';\n",
              "\n",
              "        async function convertToInteractive(key) {\n",
              "          const element = document.querySelector('#df-69c1eee0-7756-491b-a20b-0c370b97c0a4');\n",
              "          const dataTable =\n",
              "            await google.colab.kernel.invokeFunction('convertToInteractive',\n",
              "                                                     [key], {});\n",
              "          if (!dataTable) return;\n",
              "\n",
              "          const docLinkHtml = 'Like what you see? Visit the ' +\n",
              "            '<a target=\"_blank\" href=https://colab.research.google.com/notebooks/data_table.ipynb>data table notebook</a>'\n",
              "            + ' to learn more about interactive tables.';\n",
              "          element.innerHTML = '';\n",
              "          dataTable['output_type'] = 'display_data';\n",
              "          await google.colab.output.renderOutput(dataTable, element);\n",
              "          const docLink = document.createElement('div');\n",
              "          docLink.innerHTML = docLinkHtml;\n",
              "          element.appendChild(docLink);\n",
              "        }\n",
              "      </script>\n",
              "    </div>\n",
              "  </div>\n",
              "  "
            ]
          },
          "metadata": {},
          "execution_count": 338
        }
      ]
    },
    {
      "cell_type": "markdown",
      "source": [
        "# 1)Use histogram to plot the distribution of samples."
      ],
      "metadata": {
        "id": "EadZtpc4Twkr"
      }
    },
    {
      "cell_type": "code",
      "source": [
        "class_1_df=df[df.Y==1]\n",
        "class_2_df=df[df.Y==2]\n",
        "class_3_df=df[df.Y==3]"
      ],
      "metadata": {
        "id": "LoZTFoXhUxvR"
      },
      "execution_count": 339,
      "outputs": []
    },
    {
      "cell_type": "code",
      "source": [
        "def plot_histogram(feature_name):\n",
        "  plt.hist([list(class_1_df[feature_name]),list(class_2_df[feature_name]),list(class_3_df[feature_name])],color=['red','blue','green'],label=['class 1','class 2','class 3'])\n",
        "  plt.legend()\n",
        "  plt.show()"
      ],
      "metadata": {
        "id": "dEWAX9s8TwCm"
      },
      "execution_count": 340,
      "outputs": []
    },
    {
      "cell_type": "code",
      "source": [
        "print('For X0')\n",
        "plot_histogram('X0')"
      ],
      "metadata": {
        "colab": {
          "base_uri": "https://localhost:8080/",
          "height": 282
        },
        "id": "nE7JUIaoU743",
        "outputId": "65957802-2128-4021-a507-c35e1e8d40fe"
      },
      "execution_count": 341,
      "outputs": [
        {
          "output_type": "stream",
          "name": "stdout",
          "text": [
            "For X0\n"
          ]
        },
        {
          "output_type": "display_data",
          "data": {
            "text/plain": [
              "<Figure size 432x288 with 1 Axes>"
            ],
            "image/png": "[encoded data removed]"
          },
          "metadata": {
            "needs_background": "light"
          }
        }
      ]
    },
    {
      "cell_type": "code",
      "source": [
        "print('For X1')\n",
        "plot_histogram('X1')"
      ],
      "metadata": {
        "colab": {
          "base_uri": "https://localhost:8080/",
          "height": 282
        },
        "id": "Iajiw8PaVsxH",
        "outputId": "8640f6db-f918-41be-ff65-182a89cd77cc"
      },
      "execution_count": 342,
      "outputs": [
        {
          "output_type": "stream",
          "name": "stdout",
          "text": [
            "For X1\n"
          ]
        },
        {
          "output_type": "display_data",
          "data": {
            "text/plain": [
              "<Figure size 432x288 with 1 Axes>"
            ],
            "image/png": "[encoded data removed]"
          },
          "metadata": {
            "needs_background": "light"
          }
        }
      ]
    },
    {
      "cell_type": "code",
      "source": [
        "print('For X2')\n",
        "plot_histogram('X2')"
      ],
      "metadata": {
        "colab": {
          "base_uri": "https://localhost:8080/",
          "height": 282
        },
        "id": "Vpxb3-ODVtP_",
        "outputId": "3b325415-d845-4fcf-ae7b-7941fee32010"
      },
      "execution_count": 343,
      "outputs": [
        {
          "output_type": "stream",
          "name": "stdout",
          "text": [
            "For X2\n"
          ]
        },
        {
          "output_type": "display_data",
          "data": {
            "text/plain": [
              "<Figure size 432x288 with 1 Axes>"
            ],
            "image/png": "[encoded data removed]"
          },
          "metadata": {
            "needs_background": "light"
          }
        }
      ]
    },
    {
      "cell_type": "code",
      "source": [
        "print('For X3')\n",
        "plot_histogram('X3')"
      ],
      "metadata": {
        "colab": {
          "base_uri": "https://localhost:8080/",
          "height": 282
        },
        "id": "XMycP8jMVtpg",
        "outputId": "17eb255b-5fdc-40dd-b3f8-78b3ef14b0f4"
      },
      "execution_count": 344,
      "outputs": [
        {
          "output_type": "stream",
          "name": "stdout",
          "text": [
            "For X3\n"
          ]
        },
        {
          "output_type": "display_data",
          "data": {
            "text/plain": [
              "<Figure size 432x288 with 1 Axes>"
            ],
            "image/png": "[encoded data removed]"
          },
          "metadata": {
            "needs_background": "light"
          }
        }
      ]
    },
    {
      "cell_type": "code",
      "source": [
        "print('For X4')\n",
        "plot_histogram('X4')"
      ],
      "metadata": {
        "colab": {
          "base_uri": "https://localhost:8080/",
          "height": 282
        },
        "id": "BoJz4zw5VuFX",
        "outputId": "9e0f0749-1e69-41ac-df8a-be1841d3b3e7"
      },
      "execution_count": 345,
      "outputs": [
        {
          "output_type": "stream",
          "name": "stdout",
          "text": [
            "For X4\n"
          ]
        },
        {
          "output_type": "display_data",
          "data": {
            "text/plain": [
              "<Figure size 432x288 with 1 Axes>"
            ],
            "image/png": "[encoded data removed]"
          },
          "metadata": {
            "needs_background": "light"
          }
        }
      ]
    },
    {
      "cell_type": "code",
      "source": [
        "print('For X5')\n",
        "plot_histogram('X5')"
      ],
      "metadata": {
        "colab": {
          "base_uri": "https://localhost:8080/",
          "height": 282
        },
        "id": "bqbJXgk0Vu3_",
        "outputId": "67d64fa5-9ce1-497c-9992-9083c7d5658c"
      },
      "execution_count": 346,
      "outputs": [
        {
          "output_type": "stream",
          "name": "stdout",
          "text": [
            "For X5\n"
          ]
        },
        {
          "output_type": "display_data",
          "data": {
            "text/plain": [
              "<Figure size 432x288 with 1 Axes>"
            ],
            "image/png": "[encoded data removed]"
          },
          "metadata": {
            "needs_background": "light"
          }
        }
      ]
    },
    {
      "cell_type": "code",
      "source": [
        "print('For X6')\n",
        "plot_histogram('X6')"
      ],
      "metadata": {
        "colab": {
          "base_uri": "https://localhost:8080/",
          "height": 283
        },
        "id": "nZNYPPLuVvUO",
        "outputId": "466c92f8-949a-4e60-e664-e2bc3a1431c8"
      },
      "execution_count": 347,
      "outputs": [
        {
          "output_type": "stream",
          "name": "stdout",
          "text": [
            "For X6\n"
          ]
        },
        {
          "output_type": "display_data",
          "data": {
            "text/plain": [
              "<Figure size 432x288 with 1 Axes>"
            ],
            "image/png": "[encoded data removed]"
          },
          "metadata": {
            "needs_background": "light"
          }
        }
      ]
    },
    {
      "cell_type": "markdown",
      "source": [
        "# 2)Determine the prior probability for all the classes."
      ],
      "metadata": {
        "id": "CaqSQs_IV8rd"
      }
    },
    {
      "cell_type": "code",
      "source": [
        "def get_prior_probability(class_label,df=df):\n",
        "  if(class_label==1):\n",
        "    return len(class_1_df)/len(df)\n",
        "  elif(class_label==2):\n",
        "    return len(class_2_df)/len(df)\n",
        "  else:\n",
        "    return len(class_3_df)/len(df)"
      ],
      "metadata": {
        "id": "VKWL0sVaWAbP"
      },
      "execution_count": 348,
      "outputs": []
    },
    {
      "cell_type": "code",
      "source": [
        "prior_class_1=get_prior_probability(1)\n",
        "prior_class_2=get_prior_probability(2)\n",
        "prior_class_3=get_prior_probability(3)"
      ],
      "metadata": {
        "id": "JA3DCYjeW5iG"
      },
      "execution_count": 349,
      "outputs": []
    },
    {
      "cell_type": "code",
      "source": [
        "print('Prior Probability of class 1 =',get_prior_probability(1))\n",
        "print('Prior Probability of class 2 =',get_prior_probability(2))\n",
        "print('Prior Probability of class 3 =',get_prior_probability(3))"
      ],
      "metadata": {
        "colab": {
          "base_uri": "https://localhost:8080/"
        },
        "id": "O4PA1jiVWpYf",
        "outputId": "daaddf24-3838-44d3-81bc-7aa793ef408c"
      },
      "execution_count": 350,
      "outputs": [
        {
          "output_type": "stream",
          "name": "stdout",
          "text": [
            "Prior Probability of class 1 = 0.3333333333333333\n",
            "Prior Probability of class 2 = 0.3333333333333333\n",
            "Prior Probability of class 3 = 0.3333333333333333\n"
          ]
        }
      ]
    },
    {
      "cell_type": "markdown",
      "source": [
        "# 3)Discretize the features into bins from scratch. Use of pandas, scikit learn and scipy is not allowed for this subpart."
      ],
      "metadata": {
        "id": "upSDjDPkXPS4"
      }
    },
    {
      "cell_type": "code",
      "source": [
        "def discretize(feature_name,data,n):\n",
        "  min=np.array(data[feature_name]).min()\n",
        "  max=np.array(data[feature_name]).max()\n",
        "  interval=(max-min)/n\n",
        "  old_column=data[feature_name]\n",
        "  new_column=[]\n",
        "  for i in range(len(old_column)):\n",
        "    if(old_column[i]>=min and old_column[i]<=min+interval):\n",
        "      new_column.append(0)\n",
        "    elif(old_column[i]>min+interval and old_column[i]<=min+2*interval):\n",
        "      new_column.append(1)\n",
        "    elif(old_column[i]>min+2*interval and old_column[i]<=min+3*interval):\n",
        "      new_column.append(2)\n",
        "    elif(old_column[i]>min+3*interval and old_column[i]<=min+4*interval):\n",
        "      new_column.append(3)\n",
        "    else:\n",
        "      new_column.append(4)\n",
        "  return new_column"
      ],
      "metadata": {
        "id": "SXfcW-CiXO8F"
      },
      "execution_count": 351,
      "outputs": []
    },
    {
      "cell_type": "code",
      "source": [
        "df['x0']=discretize('X0',df,5)\n",
        "del df['X0']"
      ],
      "metadata": {
        "id": "irFndKI6fwzS"
      },
      "execution_count": 352,
      "outputs": []
    },
    {
      "cell_type": "code",
      "source": [
        "df['x1']=discretize('X1',df,5)\n",
        "del df['X1']"
      ],
      "metadata": {
        "id": "cU0udtJif0er"
      },
      "execution_count": 353,
      "outputs": []
    },
    {
      "cell_type": "code",
      "source": [
        "df['x2']=discretize('X2',df,5)\n",
        "del df['X2']"
      ],
      "metadata": {
        "id": "Z5E3xPIjf30M"
      },
      "execution_count": 354,
      "outputs": []
    },
    {
      "cell_type": "code",
      "source": [
        "df['x3']=discretize('X3',df,5)\n",
        "del df['X3']"
      ],
      "metadata": {
        "id": "S3lUoAJUf4oc"
      },
      "execution_count": 355,
      "outputs": []
    },
    {
      "cell_type": "code",
      "source": [
        "df['x4']=discretize('X4',df,5)\n",
        "del df['X4']"
      ],
      "metadata": {
        "id": "u35twlivf5GD"
      },
      "execution_count": 356,
      "outputs": []
    },
    {
      "cell_type": "code",
      "source": [
        "df['x5']=discretize('X5',df,5)\n",
        "del df['X5']"
      ],
      "metadata": {
        "id": "NfUTHi7Zf5fH"
      },
      "execution_count": 357,
      "outputs": []
    },
    {
      "cell_type": "code",
      "source": [
        "df['x6']=discretize('X6',df,5)\n",
        "del df['X6']"
      ],
      "metadata": {
        "id": "_dNwWDZtf57U"
      },
      "execution_count": 358,
      "outputs": []
    },
    {
      "cell_type": "code",
      "source": [
        "df['y']=df['Y']\n",
        "del df['Y']"
      ],
      "metadata": {
        "id": "pu4cxvPSgQ0j"
      },
      "execution_count": 359,
      "outputs": []
    },
    {
      "cell_type": "code",
      "source": [
        "print('New Discretized dataframe :')\n",
        "print(df)"
      ],
      "metadata": {
        "colab": {
          "base_uri": "https://localhost:8080/"
        },
        "id": "7T_axNmXgUmG",
        "outputId": "6dd27f68-34c3-49f5-e523-a5b834bca605"
      },
      "execution_count": 360,
      "outputs": [
        {
          "output_type": "stream",
          "name": "stdout",
          "text": [
            "New Discretized dataframe :\n",
            "     x0  x1  x2  x3  x4  x5  x6  y\n",
            "0     2   2   2   2   2   0   1  1\n",
            "1     2   2   3   1   2   0   1  1\n",
            "2     1   1   4   1   2   1   0  1\n",
            "3     1   1   3   1   2   0   0  1\n",
            "4     2   2   4   2   3   0   1  1\n",
            "..   ..  ..  ..  ..  ..  ..  .. ..\n",
            "205   0   0   3   0   1   1   0  3\n",
            "206   0   0   1   0   0   2   1  3\n",
            "207   1   1   3   0   2   4   1  3\n",
            "208   0   0   1   0   0   1   1  3\n",
            "209   0   0   2   0   1   3   1  3\n",
            "\n",
            "[210 rows x 8 columns]\n"
          ]
        }
      ]
    },
    {
      "cell_type": "code",
      "source": [
        "print(Counter(df['x0']))\n",
        "print(Counter(df['x1']))\n",
        "print(Counter(df['x2']))\n",
        "print(Counter(df['x3']))\n",
        "print(Counter(df['x4']))\n",
        "print(Counter(df['x5']))\n",
        "print(Counter(df['x6']))"
      ],
      "metadata": {
        "colab": {
          "base_uri": "https://localhost:8080/"
        },
        "id": "HrkRJSxGg8yh",
        "outputId": "9bf479f0-00b5-4eff-b336-77cd94efc11f"
      },
      "execution_count": 361,
      "outputs": [
        {
          "output_type": "stream",
          "name": "stdout",
          "text": [
            "Counter({0: 66, 1: 50, 2: 38, 3: 36, 4: 20})\n",
            "Counter({1: 59, 0: 46, 2: 41, 3: 34, 4: 30})\n",
            "Counter({3: 70, 2: 64, 4: 34, 1: 27, 0: 15})\n",
            "Counter({1: 65, 0: 52, 3: 39, 2: 37, 4: 17})\n",
            "Counter({0: 49, 2: 48, 1: 48, 3: 33, 4: 32})\n",
            "Counter({1: 69, 2: 66, 0: 47, 3: 23, 4: 5})\n",
            "Counter({1: 99, 3: 42, 0: 25, 4: 24, 2: 20})\n"
          ]
        }
      ]
    },
    {
      "cell_type": "markdown",
      "source": [
        "# 4)Determine the likelihood/class conditional probabilities for all the classes."
      ],
      "metadata": {
        "id": "CJ2TGQJQLkfT"
      }
    },
    {
      "cell_type": "code",
      "source": [
        "class NaiveBayes(object):\n",
        "  def __init__(self,df=df):\n",
        "    self.df=df\n",
        "    self.prior1=get_prior_probability(1,self.df)\n",
        "    self.prior2=get_prior_probability(2,self.df)\n",
        "    self.prior3=get_prior_probability(3,self.df)\n",
        "    self.class_1_data=self.df[self.df['y']==1]\n",
        "    self.class_2_data=self.df[self.df['y']==2]\n",
        "    self.class_3_data=self.df[self.df['y']==3]\n",
        "  def categorical_likelihood(self,feature_name,test_point_feature_value,class_label):\n",
        "      '''\n",
        "      We want P(f1=x1|y=ωi) ie. (count of datapoints with f1=x1 and y=ωi)/(count of number of ωi)\n",
        "      '''\n",
        "      if(class_label==1):\n",
        "        class_1=self.class_1_data[feature_name]\n",
        "        count_of_feature_labels=dict(Counter(class_1))\n",
        "        return (1+(count_of_feature_labels.get(test_point_feature_value,0)))/(5+len(class_1))\n",
        "      elif(class_label==2):\n",
        "        class_2=self.class_2_data[feature_name]\n",
        "        count_of_feature_labels=dict(Counter(class_2))\n",
        "        return (1+(count_of_feature_labels.get(test_point_feature_value,0)))/(5+len(class_2))\n",
        "      elif(class_label==3):\n",
        "        class_3=self.class_3_data[feature_name]\n",
        "        count_of_feature_labels=dict(Counter(class_3))\n",
        "        return (1+(count_of_feature_labels.get(test_point_feature_value,0)))/(5+len(class_3))\n",
        "  def get_likelihood(self,feature_vector,class_label):\n",
        "      '''\n",
        "      We want P(y=ωi|X=x)=(P(f1=x1|y=ωi)*P(f2=x2|y=ωi)*P(f3=x3|y=ωi)*P(f4=x4|y=ωi)*P(f5=x5|y=ωi))*P(ωi)\n",
        "      For a single datapoint\n",
        "      '''\n",
        "      #for probability 0 we have feature x0 \n",
        "      prob_0=self.categorical_likelihood('x0',feature_vector[0],class_label)\n",
        "      #for probability 1 we have feature x1\n",
        "      prob_1=self.categorical_likelihood('x1',feature_vector[1],class_label)\n",
        "      #for probability 2 we have feature x2\n",
        "      prob_2=self.categorical_likelihood('x2',feature_vector[2],class_label)\n",
        "      #for probability 3 we have feature x3 \n",
        "      prob_3=self.categorical_likelihood('x3',feature_vector[3],class_label)\n",
        "      #for probability 4 we have feature x4\n",
        "      prob_4=self.categorical_likelihood('x4',feature_vector[4],class_label)\n",
        "      #for probability 5 we have feature x5\n",
        "      prob_5=self.categorical_likelihood('x5',feature_vector[5],class_label)\n",
        "      #for probability 6 we have feature x6 \n",
        "      prob_6=self.categorical_likelihood('x6',feature_vector[6],class_label)\n",
        "      return (prob_0*prob_1*prob_2*prob_3*prob_4*prob_5*prob_6) \n",
        "  def posterior_of_point(self,feature_vector):\n",
        "    posterior_class_1=self.get_likelihood(feature_vector,1)*self.prior1\n",
        "    posterior_class_2=self.get_likelihood(feature_vector,2)*self.prior2\n",
        "    posterior_class_3=self.get_likelihood(feature_vector,3)*self.prior3\n",
        "    evidence=posterior_class_1+posterior_class_2+posterior_class_3\n",
        "    posterior_1=posterior_class_1/evidence\n",
        "    posterior_2=posterior_class_2/evidence\n",
        "    posterior_3=posterior_class_3/evidence\n",
        "    return np.array([posterior_1,posterior_2,posterior_3])\n",
        "  def predict_datapoint(self,feature_vector):\n",
        "    posterior_1,posterior_2,posterior_3=self.posterior_of_point(feature_vector)\n",
        "    if(posterior_1>posterior_2):\n",
        "      if(posterior_1>posterior_3):\n",
        "        return 1\n",
        "      else:\n",
        "        return 3\n",
        "    else:\n",
        "      if(posterior_3>posterior_2):\n",
        "        return 3\n",
        "      else:\n",
        "        return 2\n",
        "  def predict(self,x_test):\n",
        "    y_pred=[]\n",
        "    for i in range(len(x_test)):\n",
        "      y_pred.append(self.predict_datapoint(list(x_test.iloc[i,:])))\n",
        "    return np.array(y_pred)\n",
        "  def predict_proba(self,x_test):\n",
        "    prob_array=[]\n",
        "    for i in range(len(x_test)):\n",
        "      feature_vector=list(x_test.iloc[i,:])\n",
        "      prob_array.append(list(self.posterior_of_point(feature_vector)))\n",
        "    return np.array(prob_array)\n",
        "  def score(self,y_pred,y_actual):\n",
        "    '''\n",
        "    Returns the accuracy score of our algorithm\n",
        "    '''\n",
        "    y_pred=np.array(y_pred)\n",
        "    y_actual=np.array(y_actual)\n",
        "    numerator=0\n",
        "    for i in range(len(y_pred)):\n",
        "      if(y_pred[i]==y_actual[i]):\n",
        "        numerator+=1\n",
        "    return numerator/len(y_pred)"
      ],
      "metadata": {
        "id": "UgBa17aehOsX"
      },
      "execution_count": 362,
      "outputs": []
    },
    {
      "cell_type": "code",
      "source": [
        "x_train,x_test,y_train,y_test=train_test_split(df.iloc[:,:-1],df.iloc[:,-1],train_size=0.8)"
      ],
      "metadata": {
        "id": "SQs5XWbXobGO"
      },
      "execution_count": 363,
      "outputs": []
    },
    {
      "cell_type": "code",
      "source": [
        "train=x_train.copy()\n",
        "train['y']=y_train\n",
        "model=NaiveBayes(train)"
      ],
      "metadata": {
        "id": "XmgWBKmApRLV"
      },
      "execution_count": 364,
      "outputs": []
    },
    {
      "cell_type": "code",
      "source": [
        "y_predict=model.predict(x_test)\n",
        "print(y_predict)"
      ],
      "metadata": {
        "colab": {
          "base_uri": "https://localhost:8080/"
        },
        "id": "3f7PNLdYLbdG",
        "outputId": "313cc67e-9a91-43b6-ae58-996fd76bc81b"
      },
      "execution_count": 365,
      "outputs": [
        {
          "output_type": "stream",
          "name": "stdout",
          "text": [
            "[2 2 1 2 2 1 2 1 3 3 1 2 3 2 2 2 2 1 3 2 1 3 2 3 2 1 1 3 3 2 2 1 1 3 1 1 2\n",
            " 1 2 3 2 1]\n"
          ]
        }
      ]
    },
    {
      "cell_type": "code",
      "source": [
        "#for likelihood probability for each class we use method get_likelihood\n",
        "for i in range(len(x_test)):\n",
        "  print('For feature vector [x0, x1, x2, x3, x4, x5, x6]='+str(list(x_test.iloc[i,:])))\n",
        "  print('For class 1 likelihood probability : ',model.get_likelihood(x_test.iloc[i,:],1))\n",
        "  print('For class 2 likelihood probability : ',model.get_likelihood(x_test.iloc[i,:],2))\n",
        "  print('For class 3 likelihood probability : ',model.get_likelihood(x_test.iloc[i,:],3))"
      ],
      "metadata": {
        "colab": {
          "base_uri": "https://localhost:8080/"
        },
        "id": "Q54zftQSLpbV",
        "outputId": "7a8806e4-c810-48f9-ce9e-b7a2fff8e993"
      },
      "execution_count": 366,
      "outputs": [
        {
          "output_type": "stream",
          "name": "stdout",
          "text": [
            "For feature vector [x0, x1, x2, x3, x4, x5, x6]=[3, 4, 2, 4, 3, 1, 4]\n",
            "For class 1 likelihood probability :  1.2294992627816084e-09\n",
            "For class 2 likelihood probability :  0.0005003644372177981\n",
            "For class 3 likelihood probability :  5.1405198946773526e-11\n",
            "For feature vector [x0, x1, x2, x3, x4, x5, x6]=[4, 4, 3, 3, 4, 2, 4]\n",
            "For class 1 likelihood probability :  8.909414947692816e-11\n",
            "For class 2 likelihood probability :  0.0008217296250025964\n",
            "For class 3 likelihood probability :  5.140519894677354e-11\n",
            "For feature vector [x0, x1, x2, x3, x4, x5, x6]=[1, 1, 2, 1, 1, 0, 1]\n",
            "For class 1 likelihood probability :  0.003068243849124016\n",
            "For class 2 likelihood probability :  1.0639944075035186e-10\n",
            "For class 3 likelihood probability :  0.00011527615863813966\n",
            "For feature vector [x0, x1, x2, x3, x4, x5, x6]=[3, 4, 3, 4, 3, 0, 4]\n",
            "For class 1 likelihood probability :  1.7106076699570208e-09\n",
            "For class 2 likelihood probability :  0.00028423068623022847\n",
            "For class 3 likelihood probability :  7.343599849539077e-12\n",
            "For feature vector [x0, x1, x2, x3, x4, x5, x6]=[2, 2, 2, 2, 2, 2, 3]\n",
            "For class 1 likelihood probability :  1.864295077804721e-05\n",
            "For class 2 likelihood probability :  2.578611726472927e-05\n",
            "For class 3 likelihood probability :  2.3989092841827644e-10\n",
            "For feature vector [x0, x1, x2, x3, x4, x5, x6]=[2, 2, 4, 1, 3, 0, 1]\n",
            "For class 1 likelihood probability :  0.0001052390275809987\n",
            "For class 2 likelihood probability :  2.203941646558057e-07\n",
            "For class 3 likelihood probability :  3.059833270641282e-09\n",
            "For feature vector [x0, x1, x2, x3, x4, x5, x6]=[4, 4, 2, 4, 3, 1, 4]\n",
            "For class 1 likelihood probability :  6.147496313908042e-10\n",
            "For class 2 likelihood probability :  0.0002415552455534198\n",
            "For class 3 likelihood probability :  5.1405198946773526e-11\n",
            "For feature vector [x0, x1, x2, x3, x4, x5, x6]=[1, 1, 4, 0, 2, 0, 0]\n",
            "For class 1 likelihood probability :  0.00030650668230289887\n",
            "For class 2 likelihood probability :  6.261197859539934e-10\n",
            "For class 3 likelihood probability :  3.3909806665231636e-07\n",
            "For feature vector [x0, x1, x2, x3, x4, x5, x6]=[0, 1, 0, 1, 0, 2, 2]\n",
            "For class 1 likelihood probability :  5.580857523234777e-07\n",
            "For class 2 likelihood probability :  8.69610813824991e-11\n",
            "For class 3 likelihood probability :  0.0005234020239872763\n",
            "For feature vector [x0, x1, x2, x3, x4, x5, x6]=[0, 0, 1, 1, 0, 2, 1]\n",
            "For class 1 likelihood probability :  1.0962398706354028e-06\n",
            "For class 2 likelihood probability :  3.478443255299964e-11\n",
            "For class 3 likelihood probability :  0.00931770636109217\n",
            "For feature vector [x0, x1, x2, x3, x4, x5, x6]=[1, 1, 3, 1, 1, 1, 0]\n",
            "For class 1 likelihood probability :  0.0020196689309890403\n",
            "For class 2 likelihood probability :  6.38396644502111e-10\n",
            "For class 3 likelihood probability :  2.3713952634131584e-05\n",
            "For feature vector [x0, x1, x2, x3, x4, x5, x6]=[2, 3, 3, 3, 2, 0, 3]\n",
            "For class 1 likelihood probability :  2.3862976995900437e-07\n",
            "For class 2 likelihood probability :  0.0002946257479000905\n",
            "For class 3 likelihood probability :  1.4687199699078155e-11\n",
            "For feature vector [x0, x1, x2, x3, x4, x5, x6]=[0, 0, 0, 0, 0, 2, 1]\n",
            "For class 1 likelihood probability :  1.2600458283165548e-07\n",
            "For class 2 likelihood probability :  8.69610813824991e-12\n",
            "For class 3 likelihood probability :  0.010725715322323873\n",
            "For feature vector [x0, x1, x2, x3, x4, x5, x6]=[3, 4, 2, 3, 3, 2, 3]\n",
            "For class 1 likelihood probability :  5.345648968615688e-10\n",
            "For class 2 likelihood probability :  0.0015025188513605678\n",
            "For class 3 likelihood probability :  1.1994546420913822e-10\n",
            "For feature vector [x0, x1, x2, x3, x4, x5, x6]=[4, 4, 2, 3, 4, 1, 3]\n",
            "For class 1 likelihood probability :  1.5368740784770105e-10\n",
            "For class 2 likelihood probability :  0.0012102161797423862\n",
            "For class 3 likelihood probability :  5.1405198946773526e-11\n",
            "For feature vector [x0, x1, x2, x3, x4, x5, x6]=[3, 3, 4, 3, 4, 2, 3]\n",
            "For class 1 likelihood probability :  1.0182188511648934e-10\n",
            "For class 2 likelihood probability :  0.0028579379550354852\n",
            "For class 3 likelihood probability :  1.713506631559118e-11\n",
            "For feature vector [x0, x1, x2, x3, x4, x5, x6]=[3, 3, 3, 3, 4, 0, 3]\n",
            "For class 1 likelihood probability :  8.553038349785104e-10\n",
            "For class 2 likelihood probability :  0.0018986992642450286\n",
            "For class 3 likelihood probability :  7.343599849539077e-12\n",
            "For feature vector [x0, x1, x2, x3, x4, x5, x6]=[1, 1, 2, 1, 1, 2, 1]\n",
            "For class 1 likelihood probability :  0.0012784349371350065\n",
            "For class 2 likelihood probability :  2.260988115944977e-10\n",
            "For class 3 likelihood probability :  0.0008069331104669777\n",
            "For feature vector [x0, x1, x2, x3, x4, x5, x6]=[0, 0, 1, 0, 0, 3, 1]\n",
            "For class 1 likelihood probability :  1.1340412454848994e-07\n",
            "For class 2 likelihood probability :  5.1153577283823e-12\n",
            "For class 3 likelihood probability :  0.00788011737966652\n",
            "For feature vector [x0, x1, x2, x3, x4, x5, x6]=[4, 4, 4, 3, 4, 2, 3]\n",
            "For class 1 likelihood probability :  2.5455471279122334e-11\n",
            "For class 2 likelihood probability :  0.0010347706388921585\n",
            "For class 3 likelihood probability :  1.713506631559118e-11\n",
            "For feature vector [x0, x1, x2, x3, x4, x5, x6]=[1, 2, 2, 1, 1, 0, 1]\n",
            "For class 1 likelihood probability :  0.0027395034367178714\n",
            "For class 2 likelihood probability :  6.38396644502111e-10\n",
            "For class 3 likelihood probability :  4.4336984091592185e-06\n",
            "For feature vector [x0, x1, x2, x3, x4, x5, x6]=[0, 0, 2, 0, 0, 4, 1]\n",
            "For class 1 likelihood probability :  2.6460962394647657e-07\n",
            "For class 2 likelihood probability :  6.649965046896991e-12\n",
            "For class 3 likelihood probability :  0.0028729594613367522\n",
            "For feature vector [x0, x1, x2, x3, x4, x5, x6]=[4, 4, 3, 4, 4, 0, 4]\n",
            "For class 1 likelihood probability :  2.138259587446276e-10\n",
            "For class 2 likelihood probability :  0.00014968888804601377\n",
            "For class 3 likelihood probability :  7.343599849539077e-12\n",
            "For feature vector [x0, x1, x2, x3, x4, x5, x6]=[0, 0, 1, 0, 0, 2, 1]\n",
            "For class 1 likelihood probability :  3.7801374849496643e-07\n",
            "For class 2 likelihood probability :  1.739221627649982e-11\n",
            "For class 3 likelihood probability :  0.01379020541441641\n",
            "For feature vector [x0, x1, x2, x3, x4, x5, x6]=[2, 3, 3, 2, 2, 3, 3]\n",
            "For class 1 likelihood probability :  5.965744248975109e-07\n",
            "For class 2 likelihood probability :  6.534038763913299e-05\n",
            "For class 3 likelihood probability :  5.874879879631262e-11\n",
            "For feature vector [x0, x1, x2, x3, x4, x5, x6]=[1, 2, 2, 2, 1, 0, 2]\n",
            "For class 1 likelihood probability :  0.000515267104084866\n",
            "For class 2 likelihood probability :  1.755590772380805e-08\n",
            "For class 3 likelihood probability :  1.773479363663687e-08\n",
            "For feature vector [x0, x1, x2, x3, x4, x5, x6]=[1, 2, 3, 1, 2, 1, 1]\n",
            "For class 1 likelihood probability :  0.005167370239100112\n",
            "For class 2 likelihood probability :  3.447341880311399e-08\n",
            "For class 3 likelihood probability :  4.956929898438877e-07\n",
            "For feature vector [x0, x1, x2, x3, x4, x5, x6]=[0, 0, 1, 0, 0, 0, 1]\n",
            "For class 1 likelihood probability :  9.072329963879195e-07\n",
            "For class 2 likelihood probability :  8.18457236541168e-12\n",
            "For class 3 likelihood probability :  0.00197002934491663\n",
            "For feature vector [x0, x1, x2, x3, x4, x5, x6]=[0, 0, 1, 0, 0, 2, 1]\n",
            "For class 1 likelihood probability :  3.7801374849496643e-07\n",
            "For class 2 likelihood probability :  1.739221627649982e-11\n",
            "For class 3 likelihood probability :  0.01379020541441641\n",
            "For feature vector [x0, x1, x2, x3, x4, x5, x6]=[2, 2, 3, 2, 2, 2, 3]\n",
            "For class 1 likelihood probability :  2.4857267704062947e-05\n",
            "For class 2 likelihood probability :  4.760513956565403e-05\n",
            "For class 3 likelihood probability :  1.0281039789354708e-10\n",
            "For feature vector [x0, x1, x2, x3, x4, x5, x6]=[3, 3, 3, 3, 3, 0, 3]\n",
            "For class 1 likelihood probability :  3.4212153399140417e-09\n",
            "For class 2 likelihood probability :  0.0017404743255579427\n",
            "For class 3 likelihood probability :  7.343599849539077e-12\n",
            "For feature vector [x0, x1, x2, x3, x4, x5, x6]=[2, 2, 2, 2, 2, 1, 1]\n",
            "For class 1 likelihood probability :  0.0014149999640537833\n",
            "For class 2 likelihood probability :  1.2324247222113253e-06\n",
            "For class 3 likelihood probability :  5.140519894677353e-09\n",
            "For feature vector [x0, x1, x2, x3, x4, x5, x6]=[2, 2, 4, 1, 3, 1, 1]\n",
            "For class 1 likelihood probability :  0.00010085406809845708\n",
            "For class 2 likelihood probability :  7.162810351313685e-07\n",
            "For class 3 likelihood probability :  9.179499811923846e-09\n",
            "For feature vector [x0, x1, x2, x3, x4, x5, x6]=[0, 1, 1, 1, 0, 2, 1]\n",
            "For class 1 likelihood probability :  6.138943275558255e-06\n",
            "For class 2 likelihood probability :  3.478443255299964e-11\n",
            "For class 3 likelihood probability :  0.006729454594122123\n",
            "For feature vector [x0, x1, x2, x3, x4, x5, x6]=[2, 2, 4, 2, 3, 0, 2]\n",
            "For class 1 likelihood probability :  1.979417446664552e-05\n",
            "For class 2 likelihood probability :  6.060839528034656e-06\n",
            "For class 3 likelihood probability :  1.2239333082565129e-11\n",
            "For feature vector [x0, x1, x2, x3, x4, x5, x6]=[2, 2, 4, 2, 3, 0, 1]\n",
            "For class 1 likelihood probability :  7.257863971103358e-05\n",
            "For class 2 likelihood probability :  1.2121679056069312e-06\n",
            "For class 3 likelihood probability :  1.2239333082565128e-10\n",
            "For feature vector [x0, x1, x2, x3, x4, x5, x6]=[4, 4, 2, 4, 4, 0, 4]\n",
            "For class 1 likelihood probability :  1.6036946905847067e-10\n",
            "For class 2 likelihood probability :  8.108148102492412e-05\n",
            "For class 3 likelihood probability :  1.7135066315591175e-11\n",
            "For feature vector [x0, x1, x2, x3, x4, x5, x6]=[2, 2, 4, 1, 2, 1, 1]\n",
            "For class 1 likelihood probability :  0.0007816190277630423\n",
            "For class 2 likelihood probability :  2.930240598264689e-07\n",
            "For class 3 likelihood probability :  1.8358999623847692e-08\n",
            "For feature vector [x0, x1, x2, x3, x4, x5, x6]=[4, 4, 3, 4, 4, 1, 4]\n",
            "For class 1 likelihood probability :  2.0491654379693476e-10\n",
            "For class 2 likelihood probability :  0.0004864888861495447\n",
            "For class 3 likelihood probability :  2.2030799548617233e-11\n",
            "For feature vector [x0, x1, x2, x3, x4, x5, x6]=[1, 1, 1, 1, 1, 2, 2]\n",
            "For class 1 likelihood probability :  4.9809153394870384e-05\n",
            "For class 2 likelihood probability :  1.739221627649982e-10\n",
            "For class 3 likelihood probability :  6.916569518288379e-05\n",
            "For feature vector [x0, x1, x2, x3, x4, x5, x6]=[3, 3, 4, 3, 4, 1, 3]\n",
            "For class 1 likelihood probability :  2.3419033576792547e-10\n",
            "For class 2 likelihood probability :  0.004370963931230742\n",
            "For class 3 likelihood probability :  7.343599849539077e-12\n",
            "For feature vector [x0, x1, x2, x3, x4, x5, x6]=[1, 2, 3, 2, 2, 1, 1]\n",
            "For class 1 likelihood probability :  0.0035637036131724903\n",
            "For class 2 likelihood probability :  1.8960380341712694e-07\n",
            "For class 3 likelihood probability :  1.9827719593755508e-08\n"
          ]
        }
      ]
    },
    {
      "cell_type": "markdown",
      "source": [
        "# 5)Plot the count of each unique element for each class. Compare the plot with the plot of distribution."
      ],
      "metadata": {
        "id": "nmLgi47HM8J6"
      }
    },
    {
      "cell_type": "code",
      "source": [
        "def plot_count(feature_name):\n",
        "  class_1=df[df['y']==1]\n",
        "  counter=Counter(class_1[feature_name])\n",
        "  x1=list(counter.keys())\n",
        "  y1=list(counter.values())\n",
        "  plt.scatter(x1,y1,color='blue',label='class 1')\n",
        "  class_2=df[df['y']==2]\n",
        "  counter=Counter(class_2[feature_name])\n",
        "  x2=list(counter.keys())\n",
        "  y2=list(counter.values())\n",
        "  plt.scatter(x2,y2,color='red',label='class 2')\n",
        "  class_3=df[df['y']==3]\n",
        "  counter=Counter(class_3[feature_name])\n",
        "  x3=list(counter.keys())\n",
        "  y3=list(counter.values())\n",
        "  plt.scatter(x3,y3,color='green',label='class 3')\n",
        "  plt.xlabel(feature_name.upper()+'_bins')\n",
        "  plt.ylabel('Count')\n",
        "  plt.title(feature_name.upper())\n",
        "  plt.legend()\n",
        "  plt.show()"
      ],
      "metadata": {
        "id": "fAJ4wHaDMtFw"
      },
      "execution_count": 367,
      "outputs": []
    },
    {
      "cell_type": "code",
      "source": [
        "#for x0:\n",
        "print('New data visualisation : ')\n",
        "plot_count('x0')\n",
        "print('Old data visualisation : ')\n",
        "plot_histogram('X0')"
      ],
      "metadata": {
        "colab": {
          "base_uri": "https://localhost:8080/",
          "height": 579
        },
        "id": "wZrrGmW4OL1f",
        "outputId": "6bcb6696-d416-4f34-e690-e0b5b0fbbc78"
      },
      "execution_count": 368,
      "outputs": [
        {
          "output_type": "stream",
          "name": "stdout",
          "text": [
            "New data visualisation : \n"
          ]
        },
        {
          "output_type": "display_data",
          "data": {
            "text/plain": [
              "<Figure size 432x288 with 1 Axes>"
            ],
            "image/png": "[encoded data removed]"
          },
          "metadata": {
            "needs_background": "light"
          }
        },
        {
          "output_type": "stream",
          "name": "stdout",
          "text": [
            "Old data visualisation : \n"
          ]
        },
        {
          "output_type": "display_data",
          "data": {
            "text/plain": [
              "<Figure size 432x288 with 1 Axes>"
            ],
            "image/png": "[encoded data removed]"
          },
          "metadata": {
            "needs_background": "light"
          }
        }
      ]
    },
    {
      "cell_type": "code",
      "source": [
        "#for x1:\n",
        "print('New data visualisation : ')\n",
        "plot_count('x1')\n",
        "print('Old data visualisation : ')\n",
        "plot_histogram('X1')"
      ],
      "metadata": {
        "colab": {
          "base_uri": "https://localhost:8080/",
          "height": 579
        },
        "id": "KTXmRIdKOu4C",
        "outputId": "178a0355-076b-4be6-8490-d8376f373aeb"
      },
      "execution_count": 369,
      "outputs": [
        {
          "output_type": "stream",
          "name": "stdout",
          "text": [
            "New data visualisation : \n"
          ]
        },
        {
          "output_type": "display_data",
          "data": {
            "text/plain": [
              "<Figure size 432x288 with 1 Axes>"
            ],
            "image/png": "[encoded data removed]"
          },
          "metadata": {
            "needs_background": "light"
          }
        },
        {
          "output_type": "stream",
          "name": "stdout",
          "text": [
            "Old data visualisation : \n"
          ]
        },
        {
          "output_type": "display_data",
          "data": {
            "text/plain": [
              "<Figure size 432x288 with 1 Axes>"
            ],
            "image/png": "[encoded data removed]"
          },
          "metadata": {
            "needs_background": "light"
          }
        }
      ]
    },
    {
      "cell_type": "code",
      "source": [
        "#for x2:\n",
        "print('New data visualisation : ')\n",
        "plot_count('x2')\n",
        "print('Old data visualisation : ')\n",
        "plot_histogram('X2')"
      ],
      "metadata": {
        "colab": {
          "base_uri": "https://localhost:8080/",
          "height": 579
        },
        "id": "J0cc8XzcOwwU",
        "outputId": "296647da-4d7d-4768-9ceb-9c1d19093343"
      },
      "execution_count": 370,
      "outputs": [
        {
          "output_type": "stream",
          "name": "stdout",
          "text": [
            "New data visualisation : \n"
          ]
        },
        {
          "output_type": "display_data",
          "data": {
            "text/plain": [
              "<Figure size 432x288 with 1 Axes>"
            ],
            "image/png": "[encoded data removed]"
          },
          "metadata": {
            "needs_background": "light"
          }
        },
        {
          "output_type": "stream",
          "name": "stdout",
          "text": [
            "Old data visualisation : \n"
          ]
        },
        {
          "output_type": "display_data",
          "data": {
            "text/plain": [
              "<Figure size 432x288 with 1 Axes>"
            ],
            "image/png": "[encoded data removed]"
          },
          "metadata": {
            "needs_background": "light"
          }
        }
      ]
    },
    {
      "cell_type": "code",
      "source": [
        "#for x3:\n",
        "print('New data visualisation : ')\n",
        "plot_count('x3')\n",
        "print('Old data visualisation : ')\n",
        "plot_histogram('X3')"
      ],
      "metadata": {
        "colab": {
          "base_uri": "https://localhost:8080/",
          "height": 579
        },
        "id": "0-wb-FgDOxQF",
        "outputId": "19eb749d-ceed-4a68-d9b3-18ae27d521f8"
      },
      "execution_count": 371,
      "outputs": [
        {
          "output_type": "stream",
          "name": "stdout",
          "text": [
            "New data visualisation : \n"
          ]
        },
        {
          "output_type": "display_data",
          "data": {
            "text/plain": [
              "<Figure size 432x288 with 1 Axes>"
            ],
            "image/png": "[encoded data removed]"
          },
          "metadata": {
            "needs_background": "light"
          }
        },
        {
          "output_type": "stream",
          "name": "stdout",
          "text": [
            "Old data visualisation : \n"
          ]
        },
        {
          "output_type": "display_data",
          "data": {
            "text/plain": [
              "<Figure size 432x288 with 1 Axes>"
            ],
            "image/png": "[encoded data removed]"
          },
          "metadata": {
            "needs_background": "light"
          }
        }
      ]
    },
    {
      "cell_type": "code",
      "source": [
        "#for x4:\n",
        "print('New data visualisation : ')\n",
        "plot_count('x4')\n",
        "print('Old data visualisation : ')\n",
        "plot_histogram('X4')"
      ],
      "metadata": {
        "colab": {
          "base_uri": "https://localhost:8080/",
          "height": 579
        },
        "id": "XiwGRAOJOx0A",
        "outputId": "76139214-e4db-4e23-b9ae-67e8ef933b4f"
      },
      "execution_count": 372,
      "outputs": [
        {
          "output_type": "stream",
          "name": "stdout",
          "text": [
            "New data visualisation : \n"
          ]
        },
        {
          "output_type": "display_data",
          "data": {
            "text/plain": [
              "<Figure size 432x288 with 1 Axes>"
            ],
            "image/png": "[encoded data removed]"
          },
          "metadata": {
            "needs_background": "light"
          }
        },
        {
          "output_type": "stream",
          "name": "stdout",
          "text": [
            "Old data visualisation : \n"
          ]
        },
        {
          "output_type": "display_data",
          "data": {
            "text/plain": [
              "<Figure size 432x288 with 1 Axes>"
            ],
            "image/png": "[encoded data removed]"
          },
          "metadata": {
            "needs_background": "light"
          }
        }
      ]
    },
    {
      "cell_type": "code",
      "source": [
        "#for x5:\n",
        "print('New data visualisation : ')\n",
        "plot_count('x5')\n",
        "print('Old data visualisation : ')\n",
        "plot_histogram('X5')"
      ],
      "metadata": {
        "colab": {
          "base_uri": "https://localhost:8080/",
          "height": 579
        },
        "id": "yx1KbghuOyUR",
        "outputId": "409574e2-405c-4920-b5d6-699e2433979a"
      },
      "execution_count": 373,
      "outputs": [
        {
          "output_type": "stream",
          "name": "stdout",
          "text": [
            "New data visualisation : \n"
          ]
        },
        {
          "output_type": "display_data",
          "data": {
            "text/plain": [
              "<Figure size 432x288 with 1 Axes>"
            ],
            "image/png": "[encoded data removed]"
          },
          "metadata": {
            "needs_background": "light"
          }
        },
        {
          "output_type": "stream",
          "name": "stdout",
          "text": [
            "Old data visualisation : \n"
          ]
        },
        {
          "output_type": "display_data",
          "data": {
            "text/plain": [
              "<Figure size 432x288 with 1 Axes>"
            ],
            "image/png": "[encoded data removed]"
          },
          "metadata": {
            "needs_background": "light"
          }
        }
      ]
    },
    {
      "cell_type": "code",
      "source": [
        "#for x6:\n",
        "print('New data visualisation : ')\n",
        "plot_count('x6')\n",
        "print('Old data visualisation : ')\n",
        "plot_histogram('X6')"
      ],
      "metadata": {
        "colab": {
          "base_uri": "https://localhost:8080/",
          "height": 580
        },
        "id": "3NV7o4z2Oyxa",
        "outputId": "7edb5942-1c29-440b-be3a-c3e4ef29cd51"
      },
      "execution_count": 374,
      "outputs": [
        {
          "output_type": "stream",
          "name": "stdout",
          "text": [
            "New data visualisation : \n"
          ]
        },
        {
          "output_type": "display_data",
          "data": {
            "text/plain": [
              "<Figure size 432x288 with 1 Axes>"
            ],
            "image/png": "[encoded data removed]"
          },
          "metadata": {
            "needs_background": "light"
          }
        },
        {
          "output_type": "stream",
          "name": "stdout",
          "text": [
            "Old data visualisation : \n"
          ]
        },
        {
          "output_type": "display_data",
          "data": {
            "text/plain": [
              "<Figure size 432x288 with 1 Axes>"
            ],
            "image/png": "[encoded data removed]"
          },
          "metadata": {
            "needs_background": "light"
          }
        }
      ]
    },
    {
      "cell_type": "code",
      "source": [
        "#simultaneously visualising both plots together we can clearly see the data\n",
        "#distribution class wise over the bins is nearly same ie. initially\n",
        "#if there were many points of class 1 for lower values of feature\n",
        "#then finally also we find more number of points of class 1 in initial bins"
      ],
      "metadata": {
        "id": "KCgIn98HRocS"
      },
      "execution_count": 375,
      "outputs": []
    },
    {
      "cell_type": "markdown",
      "source": [
        "# 6)Calculate the posterior probabilities and plot them in a single graph. Analyze the plot."
      ],
      "metadata": {
        "id": "I9UXJoY5SG8C"
      }
    },
    {
      "cell_type": "code",
      "source": [
        "model=NaiveBayes(train)\n",
        "probability_array=model.predict_proba(x_test)\n",
        "print('Posterior probability for each datapoints : ')\n",
        "print(probability_array)"
      ],
      "metadata": {
        "colab": {
          "base_uri": "https://localhost:8080/"
        },
        "id": "gAGavdOpSKaW",
        "outputId": "86bd9405-ce5a-45e4-929e-d7eb0a0a16cf"
      },
      "execution_count": 376,
      "outputs": [
        {
          "output_type": "stream",
          "name": "stdout",
          "text": [
            "Posterior probability for each datapoints : \n",
            "[[2.45720124e-06 9.99997440e-01 1.02735254e-07]\n",
            " [1.08422687e-07 9.99999829e-01 6.25573042e-08]\n",
            " [9.63789685e-01 3.34219471e-08 3.62102812e-02]\n",
            " [6.01834149e-06 9.99993956e-01 2.58366032e-08]\n",
            " [4.19609299e-01 5.80385301e-01 5.39938477e-06]\n",
            " [9.97881199e-01 2.08978740e-03 2.90134769e-05]\n",
            " [2.54495792e-06 9.99997242e-01 2.12808698e-07]\n",
            " [9.98892853e-01 2.04049900e-06 1.10510685e-03]\n",
            " [1.06513005e-03 1.65968869e-07 9.98934704e-01]\n",
            " [1.17637417e-04 3.73271480e-09 9.99882359e-01]\n",
            " [9.88394449e-01 3.12421353e-07 1.16052383e-02]\n",
            " [8.09286493e-04 9.99190664e-01 4.98100146e-08]\n",
            " [1.17477575e-05 8.10762332e-10 9.99988251e-01]\n",
            " [3.55779006e-07 9.99999564e-01 7.98295555e-08]\n",
            " [1.26991677e-07 9.99999831e-01 4.24760395e-08]\n",
            " [3.56277437e-08 9.99999958e-01 5.99560448e-09]\n",
            " [4.50468098e-07 9.99999546e-01 3.86769861e-09]\n",
            " [6.13049960e-01 1.08421527e-07 3.86949931e-01]\n",
            " [1.43909649e-05 6.49138060e-10 9.99985608e-01]\n",
            " [2.46001087e-08 9.99999959e-01 1.65592886e-08]\n",
            " [9.98383951e-01 2.32657114e-07 1.61581595e-03]\n",
            " [9.20950183e-05 2.31446099e-09 9.99907903e-01]\n",
            " [1.42846704e-06 9.99998522e-01 4.90590123e-08]\n",
            " [2.74110048e-05 1.26116610e-09 9.99972588e-01]\n",
            " [9.04763997e-03 9.90951469e-01 8.90983518e-07]\n",
            " [9.99931515e-01 3.40691367e-05 3.44162841e-05]\n",
            " [9.99897412e-01 6.67068173e-06 9.59176747e-05]\n",
            " [4.60305523e-04 4.15263100e-09 9.99539690e-01]\n",
            " [2.74110048e-05 1.26116610e-09 9.99972588e-01]\n",
            " [3.43036250e-01 6.56962331e-01 1.41880812e-06]\n",
            " [1.96567599e-06 9.99998030e-01 4.21930118e-09]\n",
            " [9.99126160e-01 8.70210467e-04 3.62970179e-06]\n",
            " [9.92858201e-01 7.05143098e-03 9.03676158e-05]\n",
            " [9.11418305e-04 5.16427130e-09 9.99088577e-01]\n",
            " [7.65583229e-01 2.34416298e-01 4.73383124e-07]\n",
            " [9.83571283e-01 1.64270583e-02 1.65865006e-06]\n",
            " [1.97787603e-06 9.99997811e-01 2.11330979e-07]\n",
            " [9.99601777e-01 3.74744422e-04 2.34790710e-05]\n",
            " [4.21215066e-07 9.99999533e-01 4.52852879e-08]\n",
            " [4.18652187e-01 1.46183761e-06 5.81346351e-01]\n",
            " [5.35786446e-08 9.99999945e-01 1.68008695e-09]\n",
            " [9.99941236e-01 5.32010184e-05 5.56346896e-06]]\n"
          ]
        }
      ]
    },
    {
      "cell_type": "code",
      "source": [
        "print('Score of our model is :',model.score(y_predict,y_test)*100,'%')"
      ],
      "metadata": {
        "colab": {
          "base_uri": "https://localhost:8080/"
        },
        "id": "HZHYaAINTkoV",
        "outputId": "f92e0a27-a941-4765-adb4-59ec14b0b2b3"
      },
      "execution_count": 377,
      "outputs": [
        {
          "output_type": "stream",
          "name": "stdout",
          "text": [
            "Score of our model is : 95.23809523809523 %\n"
          ]
        }
      ]
    },
    {
      "cell_type": "code",
      "source": [
        "#so our model performs really well with such high score\n",
        "#Now plotting posterior probability\n",
        "prob_class_1=[]\n",
        "prob_class_2=[]\n",
        "prob_class_3=[]\n",
        "for i in range(len(probability_array)):\n",
        "  prob_class_1.append(probability_array[i][0])\n",
        "  prob_class_2.append(probability_array[i][1])\n",
        "  prob_class_3.append(probability_array[i][2])\n",
        "x=np.arange(1,len(probability_array)+1)\n",
        "plt.scatter(x,prob_class_1,color='blue',label='Posterior Probability class 1')\n",
        "plt.scatter(x,prob_class_2,color='red',label='Posterior Probability class 2')\n",
        "plt.scatter(x,prob_class_3,color='green',label='Posterior Probability class 3')\n",
        "plt.legend()\n",
        "plt.xlabel('Testing Datapoint serial number ->')\n",
        "plt.ylabel('Posterior Probability->')\n",
        "plt.title('Posterior Probability')\n",
        "plt.show()"
      ],
      "metadata": {
        "colab": {
          "base_uri": "https://localhost:8080/",
          "height": 295
        },
        "id": "bHl0CLxuUn2q",
        "outputId": "551e59a0-6fd3-4bf5-8866-e5e70caa7e2e"
      },
      "execution_count": 378,
      "outputs": [
        {
          "output_type": "display_data",
          "data": {
            "text/plain": [
              "<Figure size 432x288 with 1 Axes>"
            ],
            "image/png": "[encoded data removed]"
          },
          "metadata": {
            "needs_background": "light"
          }
        }
      ]
    },
    {
      "cell_type": "code",
      "source": [
        "#So, we can clearly see that the model is very accurate and probability of\n",
        "#correct class prediction is very high ie. the model is confident and accurate\n",
        "#so, we can conclude that the binning and discretisation worked well and we\n",
        "#we able to train a good model."
      ],
      "metadata": {
        "id": "7xNw7mKeVpwG"
      },
      "execution_count": 379,
      "outputs": []
    }
  ]
}