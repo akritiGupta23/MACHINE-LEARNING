{
  "nbformat": 4,
  "nbformat_minor": 0,
  "metadata": {
    "colab": {
      "provenance": [],
      "collapsed_sections": [
        "UBqHoYntHeg_",
        "eRi2IOrwMnQz",
        "aaqDAIwKNOkF"
      ]
    },
    "kernelspec": {
      "name": "python3",
      "display_name": "Python 3"
    },
    "language_info": {
      "name": "python"
    }
  },
  "cells": [
    {
      "cell_type": "markdown",
      "source": [
        "# Question 01: Gaussian Bayes Classifier\n"
      ],
      "metadata": {
        "id": "DMGvaqfGUydp"
      }
    },
    {
      "cell_type": "code",
      "source": [
        "import numpy as np\n",
        "import pandas as pd\n",
        "import matplotlib.pyplot as plt"
      ],
      "metadata": {
        "id": "X-X_DTbFUyIt"
      },
      "execution_count": null,
      "outputs": []
    },
    {
      "cell_type": "code",
      "source": [
        "dataset=pd.read_csv('/content/iris.csv')\n",
        "print(dataset)"
      ],
      "metadata": {
        "colab": {
          "base_uri": "https://localhost:8080/"
        },
        "id": "gg8FIbO9Vs1Y",
        "outputId": "edb4525f-a0b5-45d3-dec9-96d5a3ca1c2b"
      },
      "execution_count": null,
      "outputs": [
        {
          "output_type": "stream",
          "name": "stdout",
          "text": [
            "      Id  SepalLengthCm  SepalWidthCm  PetalLengthCm  PetalWidthCm  \\\n",
            "0      1            5.1           3.5            1.4           0.2   \n",
            "1      2            4.9           3.0            1.4           0.2   \n",
            "2      3            4.7           3.2            1.3           0.2   \n",
            "3      4            4.6           3.1            1.5           0.2   \n",
            "4      5            5.0           3.6            1.4           0.2   \n",
            "..   ...            ...           ...            ...           ...   \n",
            "145  146            6.7           3.0            5.2           2.3   \n",
            "146  147            6.3           2.5            5.0           1.9   \n",
            "147  148            6.5           3.0            5.2           2.0   \n",
            "148  149            6.2           3.4            5.4           2.3   \n",
            "149  150            5.9           3.0            5.1           1.8   \n",
            "\n",
            "            Species  \n",
            "0       Iris-setosa  \n",
            "1       Iris-setosa  \n",
            "2       Iris-setosa  \n",
            "3       Iris-setosa  \n",
            "4       Iris-setosa  \n",
            "..              ...  \n",
            "145  Iris-virginica  \n",
            "146  Iris-virginica  \n",
            "147  Iris-virginica  \n",
            "148  Iris-virginica  \n",
            "149  Iris-virginica  \n",
            "\n",
            "[150 rows x 6 columns]\n"
          ]
        }
      ]
    },
    {
      "cell_type": "code",
      "source": [
        "print(dataset.isnull().sum())\n",
        "del dataset['Id']"
      ],
      "metadata": {
        "colab": {
          "base_uri": "https://localhost:8080/"
        },
        "id": "4YBvyQxyV79m",
        "outputId": "133fa3c3-8a3c-4adf-c2c2-96c3a857fa50"
      },
      "execution_count": null,
      "outputs": [
        {
          "output_type": "stream",
          "name": "stdout",
          "text": [
            "Id               0\n",
            "SepalLengthCm    0\n",
            "SepalWidthCm     0\n",
            "PetalLengthCm    0\n",
            "PetalWidthCm     0\n",
            "Species          0\n",
            "dtype: int64\n"
          ]
        }
      ]
    },
    {
      "cell_type": "code",
      "source": [
        "print(dataset.dtypes)"
      ],
      "metadata": {
        "colab": {
          "base_uri": "https://localhost:8080/"
        },
        "id": "XZC6JNcvXB-q",
        "outputId": "f7fa7fef-e35f-4b4c-a718-429e113338b2"
      },
      "execution_count": null,
      "outputs": [
        {
          "output_type": "stream",
          "name": "stdout",
          "text": [
            "SepalLengthCm    float64\n",
            "SepalWidthCm     float64\n",
            "PetalLengthCm    float64\n",
            "PetalWidthCm     float64\n",
            "Species           object\n",
            "dtype: object\n"
          ]
        }
      ]
    },
    {
      "cell_type": "code",
      "source": [
        "# as the species is of object type, we encode it\n",
        "dataset['Species'].value_counts()"
      ],
      "metadata": {
        "colab": {
          "base_uri": "https://localhost:8080/"
        },
        "id": "8riyVFUbgrcI",
        "outputId": "421aa3a6-6b9c-4364-dd86-b9e7d57633b0"
      },
      "execution_count": null,
      "outputs": [
        {
          "output_type": "execute_result",
          "data": {
            "text/plain": [
              "Iris-setosa        50\n",
              "Iris-versicolor    50\n",
              "Iris-virginica     50\n",
              "Name: Species, dtype: int64"
            ]
          },
          "metadata": {},
          "execution_count": 287
        }
      ]
    },
    {
      "cell_type": "code",
      "source": [
        "encoding = {'Species':{\"Iris-setosa\": 0, \"Iris-versicolor\": 1, \"Iris-virginica\": 2 }}\n",
        "dataset = dataset.replace(encoding)\n",
        "dataset['Species'].value_counts()"
      ],
      "metadata": {
        "colab": {
          "base_uri": "https://localhost:8080/"
        },
        "id": "XAEp1bzShDw1",
        "outputId": "185ef75e-f5d3-47ec-ef46-be29f8f40c2d"
      },
      "execution_count": null,
      "outputs": [
        {
          "output_type": "execute_result",
          "data": {
            "text/plain": [
              "0    50\n",
              "1    50\n",
              "2    50\n",
              "Name: Species, dtype: int64"
            ]
          },
          "metadata": {},
          "execution_count": 288
        }
      ]
    },
    {
      "cell_type": "code",
      "source": [
        "dataset.describe()"
      ],
      "metadata": {
        "colab": {
          "base_uri": "https://localhost:8080/",
          "height": 300
        },
        "id": "BXLFSlsEh7Hv",
        "outputId": "51e95eb4-7998-46b6-8be4-4ad919e8a9ad"
      },
      "execution_count": null,
      "outputs": [
        {
          "output_type": "execute_result",
          "data": {
            "text/plain": [
              "       SepalLengthCm  SepalWidthCm  PetalLengthCm  PetalWidthCm     Species\n",
              "count     150.000000    150.000000     150.000000    150.000000  150.000000\n",
              "mean        5.843333      3.054000       3.758667      1.198667    1.000000\n",
              "std         0.828066      0.433594       1.764420      0.763161    0.819232\n",
              "min         4.300000      2.000000       1.000000      0.100000    0.000000\n",
              "25%         5.100000      2.800000       1.600000      0.300000    0.000000\n",
              "50%         5.800000      3.000000       4.350000      1.300000    1.000000\n",
              "75%         6.400000      3.300000       5.100000      1.800000    2.000000\n",
              "max         7.900000      4.400000       6.900000      2.500000    2.000000"
            ],
            "text/html": [
              "\n",
              "  <div id=\"df-dcc8d74d-5f0b-440c-83fd-5b0c515a66db\">\n",
              "    <div class=\"colab-df-container\">\n",
              "      <div>\n",
              "<style scoped>\n",
              "    .dataframe tbody tr th:only-of-type {\n",
              "        vertical-align: middle;\n",
              "    }\n",
              "\n",
              "    .dataframe tbody tr th {\n",
              "        vertical-align: top;\n",
              "    }\n",
              "\n",
              "    .dataframe thead th {\n",
              "        text-align: right;\n",
              "    }\n",
              "</style>\n",
              "<table border=\"1\" class=\"dataframe\">\n",
              "  <thead>\n",
              "    <tr style=\"text-align: right;\">\n",
              "      <th></th>\n",
              "      <th>SepalLengthCm</th>\n",
              "      <th>SepalWidthCm</th>\n",
              "      <th>PetalLengthCm</th>\n",
              "      <th>PetalWidthCm</th>\n",
              "      <th>Species</th>\n",
              "    </tr>\n",
              "  </thead>\n",
              "  <tbody>\n",
              "    <tr>\n",
              "      <th>count</th>\n",
              "      <td>150.000000</td>\n",
              "      <td>150.000000</td>\n",
              "      <td>150.000000</td>\n",
              "      <td>150.000000</td>\n",
              "      <td>150.000000</td>\n",
              "    </tr>\n",
              "    <tr>\n",
              "      <th>mean</th>\n",
              "      <td>5.843333</td>\n",
              "      <td>3.054000</td>\n",
              "      <td>3.758667</td>\n",
              "      <td>1.198667</td>\n",
              "      <td>1.000000</td>\n",
              "    </tr>\n",
              "    <tr>\n",
              "      <th>std</th>\n",
              "      <td>0.828066</td>\n",
              "      <td>0.433594</td>\n",
              "      <td>1.764420</td>\n",
              "      <td>0.763161</td>\n",
              "      <td>0.819232</td>\n",
              "    </tr>\n",
              "    <tr>\n",
              "      <th>min</th>\n",
              "      <td>4.300000</td>\n",
              "      <td>2.000000</td>\n",
              "      <td>1.000000</td>\n",
              "      <td>0.100000</td>\n",
              "      <td>0.000000</td>\n",
              "    </tr>\n",
              "    <tr>\n",
              "      <th>25%</th>\n",
              "      <td>5.100000</td>\n",
              "      <td>2.800000</td>\n",
              "      <td>1.600000</td>\n",
              "      <td>0.300000</td>\n",
              "      <td>0.000000</td>\n",
              "    </tr>\n",
              "    <tr>\n",
              "      <th>50%</th>\n",
              "      <td>5.800000</td>\n",
              "      <td>3.000000</td>\n",
              "      <td>4.350000</td>\n",
              "      <td>1.300000</td>\n",
              "      <td>1.000000</td>\n",
              "    </tr>\n",
              "    <tr>\n",
              "      <th>75%</th>\n",
              "      <td>6.400000</td>\n",
              "      <td>3.300000</td>\n",
              "      <td>5.100000</td>\n",
              "      <td>1.800000</td>\n",
              "      <td>2.000000</td>\n",
              "    </tr>\n",
              "    <tr>\n",
              "      <th>max</th>\n",
              "      <td>7.900000</td>\n",
              "      <td>4.400000</td>\n",
              "      <td>6.900000</td>\n",
              "      <td>2.500000</td>\n",
              "      <td>2.000000</td>\n",
              "    </tr>\n",
              "  </tbody>\n",
              "</table>\n",
              "</div>\n",
              "      <button class=\"colab-df-convert\" onclick=\"convertToInteractive('df-dcc8d74d-5f0b-440c-83fd-5b0c515a66db')\"\n",
              "              title=\"Convert this dataframe to an interactive table.\"\n",
              "              style=\"display:none;\">\n",
              "        \n",
              "  <svg xmlns=\"http://www.w3.org/2000/svg\" height=\"24px\"viewBox=\"0 0 24 24\"\n",
              "       width=\"24px\">\n",
              "    <path d=\"M0 0h24v24H0V0z\" fill=\"none\"/>\n",
              "    <path d=\"M18.56 5.44l.94 2.06.94-2.06 2.06-.94-2.06-.94-.94-2.06-.94 2.06-2.06.94zm-11 1L8.5 8.5l.94-2.06 2.06-.94-2.06-.94L8.5 2.5l-.94 2.06-2.06.94zm10 10l.94 2.06.94-2.06 2.06-.94-2.06-.94-.94-2.06-.94 2.06-2.06.94z\"/><path d=\"M17.41 7.96l-1.37-1.37c-.4-.4-.92-.59-1.43-.59-.52 0-1.04.2-1.43.59L10.3 9.45l-7.72 7.72c-.78.78-.78 2.05 0 2.83L4 21.41c.39.39.9.59 1.41.59.51 0 1.02-.2 1.41-.59l7.78-7.78 2.81-2.81c.8-.78.8-2.07 0-2.86zM5.41 20L4 18.59l7.72-7.72 1.47 1.35L5.41 20z\"/>\n",
              "  </svg>\n",
              "      </button>\n",
              "      \n",
              "  <style>\n",
              "    .colab-df-container {\n",
              "      display:flex;\n",
              "      flex-wrap:wrap;\n",
              "      gap: 12px;\n",
              "    }\n",
              "\n",
              "    .colab-df-convert {\n",
              "      background-color: #E8F0FE;\n",
              "      border: none;\n",
              "      border-radius: 50%;\n",
              "      cursor: pointer;\n",
              "      display: none;\n",
              "      fill: #1967D2;\n",
              "      height: 32px;\n",
              "      padding: 0 0 0 0;\n",
              "      width: 32px;\n",
              "    }\n",
              "\n",
              "    .colab-df-convert:hover {\n",
              "      background-color: #E2EBFA;\n",
              "      box-shadow: 0px 1px 2px rgba(60, 64, 67, 0.3), 0px 1px 3px 1px rgba(60, 64, 67, 0.15);\n",
              "      fill: #174EA6;\n",
              "    }\n",
              "\n",
              "    [theme=dark] .colab-df-convert {\n",
              "      background-color: #3B4455;\n",
              "      fill: #D2E3FC;\n",
              "    }\n",
              "\n",
              "    [theme=dark] .colab-df-convert:hover {\n",
              "      background-color: #434B5C;\n",
              "      box-shadow: 0px 1px 3px 1px rgba(0, 0, 0, 0.15);\n",
              "      filter: drop-shadow(0px 1px 2px rgba(0, 0, 0, 0.3));\n",
              "      fill: #FFFFFF;\n",
              "    }\n",
              "  </style>\n",
              "\n",
              "      <script>\n",
              "        const buttonEl =\n",
              "          document.querySelector('#df-dcc8d74d-5f0b-440c-83fd-5b0c515a66db button.colab-df-convert');\n",
              "        buttonEl.style.display =\n",
              "          google.colab.kernel.accessAllowed ? 'block' : 'none';\n",
              "\n",
              "        async function convertToInteractive(key) {\n",
              "          const element = document.querySelector('#df-dcc8d74d-5f0b-440c-83fd-5b0c515a66db');\n",
              "          const dataTable =\n",
              "            await google.colab.kernel.invokeFunction('convertToInteractive',\n",
              "                                                     [key], {});\n",
              "          if (!dataTable) return;\n",
              "\n",
              "          const docLinkHtml = 'Like what you see? Visit the ' +\n",
              "            '<a target=\"_blank\" href=https://colab.research.google.com/notebooks/data_table.ipynb>data table notebook</a>'\n",
              "            + ' to learn more about interactive tables.';\n",
              "          element.innerHTML = '';\n",
              "          dataTable['output_type'] = 'display_data';\n",
              "          await google.colab.output.renderOutput(dataTable, element);\n",
              "          const docLink = document.createElement('div');\n",
              "          docLink.innerHTML = docLinkHtml;\n",
              "          element.appendChild(docLink);\n",
              "        }\n",
              "      </script>\n",
              "    </div>\n",
              "  </div>\n",
              "  "
            ]
          },
          "metadata": {},
          "execution_count": 289
        }
      ]
    },
    {
      "cell_type": "markdown",
      "source": [
        "### Exploratory Analysis"
      ],
      "metadata": {
        "id": "hk5KF5YsRKgh"
      }
    },
    {
      "cell_type": "code",
      "source": [
        "\n",
        "from collections import Counter\n",
        "species_d=Counter(dataset['Species'])\n",
        "print(species_d)\n",
        "count = list(species_d.values())\n",
        "print(count)\n",
        "species = list(['Iris-setosa','Iris-versicolor','Iris-virginica'])\n",
        "plt.bar(species, count, color ='orange',\n",
        "        width = 0.4)\n",
        " \n",
        "plt.xlabel(\"species\")\n",
        "plt.ylabel(\"count of each specie\")\n",
        "plt.title(\"countplot for species\")\n",
        "plt.show()"
      ],
      "metadata": {
        "id": "lchOTPmXkHmz",
        "colab": {
          "base_uri": "https://localhost:8080/",
          "height": 330
        },
        "outputId": "2d1a7945-0f74-417a-e2cd-aba7e8903fd1"
      },
      "execution_count": null,
      "outputs": [
        {
          "output_type": "stream",
          "name": "stdout",
          "text": [
            "Counter({0: 50, 1: 50, 2: 50})\n",
            "[50, 50, 50]\n"
          ]
        },
        {
          "output_type": "display_data",
          "data": {
            "text/plain": [
              "<Figure size 432x288 with 1 Axes>"
            ],
            "image/png": "[encoded data removed]"
          },
          "metadata": {
            "needs_background": "light"
          }
        }
      ]
    },
    {
      "cell_type": "code",
      "source": [
        "#we plot scatter plot with each pair of features \n",
        "figure, axes = plt.subplots(3, 2, figsize=(12,12))\n",
        "index = 0\n",
        "for i in range(0,3,1):\n",
        "    for j in range(i+1,4):\n",
        "        x_axis = int(index/2)\n",
        "        y_axis = index % 2\n",
        "        axes[x_axis][y_axis].scatter(dataset[dataset.columns[i]], dataset[dataset.columns[j]], color='pink')\n",
        "        axes[x_axis][y_axis].set_xlabel(dataset.columns[i])\n",
        "        axes[x_axis][y_axis].set_ylabel(dataset.columns[j])\n",
        "        index = index + 1\n",
        "\n"
      ],
      "metadata": {
        "id": "vklF8gwqRO3i",
        "colab": {
          "base_uri": "https://localhost:8080/",
          "height": 717
        },
        "outputId": "e50267b5-2b3e-4d59-92a9-bec74a9c4bc4"
      },
      "execution_count": null,
      "outputs": [
        {
          "output_type": "display_data",
          "data": {
            "text/plain": [
              "<Figure size 864x864 with 6 Axes>"
            ],
            "image/png": "[encoded data removed]"
          },
          "metadata": {
            "needs_background": "light"
          }
        }
      ]
    },
    {
      "cell_type": "code",
      "source": [
        "#dividing dataset based on species\n",
        "class_0th = dataset[dataset['Species']==0]\n",
        "class_1th = dataset[dataset['Species']==1]\n",
        "class_2th = dataset[dataset['Species']==2]"
      ],
      "metadata": {
        "id": "rLclTT7bi3Un"
      },
      "execution_count": null,
      "outputs": []
    },
    {
      "cell_type": "code",
      "source": [
        "#analysis of sepal length for different species using histogram\n",
        "fig, axes = plt.subplots(1, 3)\n",
        "fig.suptitle('Sepal Length')\n",
        "class_0th['SepalLengthCm'].hist(bins=8,ax=axes[0],color='red')\n",
        "axes[0].set_title(\"Iris-setosa \")\n",
        "class_1th['SepalLengthCm'].hist(bins=8,ax=axes[1],color='green')\n",
        "axes[1].set_title(\"Iris-versicolor\")\n",
        "class_2th['SepalLengthCm'].hist(bins=8,ax=axes[2],color='pink')\n",
        "axes[2].set_title(\"Iris-virginica \")"
      ],
      "metadata": {
        "colab": {
          "base_uri": "https://localhost:8080/",
          "height": 311
        },
        "id": "8I80o1S5iQeX",
        "outputId": "4df68198-ccf0-469f-874c-69a143557b21"
      },
      "execution_count": null,
      "outputs": [
        {
          "output_type": "execute_result",
          "data": {
            "text/plain": [
              "Text(0.5, 1.0, 'Iris-virginica ')"
            ]
          },
          "metadata": {},
          "execution_count": 293
        },
        {
          "output_type": "display_data",
          "data": {
            "text/plain": [
              "<Figure size 432x288 with 3 Axes>"
            ],
            "image/png": "[encoded data removed]"
          },
          "metadata": {
            "needs_background": "light"
          }
        }
      ]
    },
    {
      "cell_type": "code",
      "source": [
        "#analysis of sepal width for different species using histogram\n",
        "fig, axes = plt.subplots(1, 3)\n",
        "fig.suptitle('Sepal Width')\n",
        "class_0th['SepalWidthCm'].hist(bins=8,ax=axes[0],color='red')\n",
        "axes[0].set_title(\"Iris-setosa \")\n",
        "class_1th['SepalWidthCm'].hist(bins=8,ax=axes[1],color='green')\n",
        "axes[1].set_title(\"Iris-versicolor\")\n",
        "class_2th['SepalWidthCm'].hist(bins=8,ax=axes[2],color='pink')\n",
        "axes[2].set_title(\"Iris-virginica \")"
      ],
      "metadata": {
        "colab": {
          "base_uri": "https://localhost:8080/",
          "height": 311
        },
        "id": "04HcB-cekmKe",
        "outputId": "55b9ba67-57ac-4a60-8ea5-4e68e5bcf973"
      },
      "execution_count": null,
      "outputs": [
        {
          "output_type": "execute_result",
          "data": {
            "text/plain": [
              "Text(0.5, 1.0, 'Iris-virginica ')"
            ]
          },
          "metadata": {},
          "execution_count": 294
        },
        {
          "output_type": "display_data",
          "data": {
            "text/plain": [
              "<Figure size 432x288 with 3 Axes>"
            ],
            "image/png": "[encoded data removed]"
          },
          "metadata": {
            "needs_background": "light"
          }
        }
      ]
    },
    {
      "cell_type": "code",
      "source": [
        "#analysis of petal length for different species using histogram\n",
        "fig, axes = plt.subplots(1, 3)\n",
        "fig.suptitle('Petal Length')\n",
        "class_0th['PetalLengthCm'].hist(bins=8,ax=axes[0],color='red')\n",
        "axes[0].set_title(\"Iris-setosa \")\n",
        "class_1th['PetalLengthCm'].hist(bins=8,ax=axes[1],color='green')\n",
        "axes[1].set_title(\"Iris-versicolor\")\n",
        "class_2th['PetalLengthCm'].hist(bins=8,ax=axes[2],color='pink')\n",
        "axes[2].set_title(\"Iris-virginica \")"
      ],
      "metadata": {
        "colab": {
          "base_uri": "https://localhost:8080/",
          "height": 311
        },
        "id": "fk58XxgPknHo",
        "outputId": "8f37f9dd-5d36-4eee-8e89-cd85f83d078a"
      },
      "execution_count": null,
      "outputs": [
        {
          "output_type": "execute_result",
          "data": {
            "text/plain": [
              "Text(0.5, 1.0, 'Iris-virginica ')"
            ]
          },
          "metadata": {},
          "execution_count": 295
        },
        {
          "output_type": "display_data",
          "data": {
            "text/plain": [
              "<Figure size 432x288 with 3 Axes>"
            ],
            "image/png": "[encoded data removed]"
          },
          "metadata": {
            "needs_background": "light"
          }
        }
      ]
    },
    {
      "cell_type": "code",
      "source": [
        "#analysis of petal length for different species using histogram\n",
        "fig, axes = plt.subplots(1, 3)\n",
        "fig.suptitle('Petal Width')\n",
        "class_0th['PetalWidthCm'].hist(bins=8,ax=axes[0],color='red')\n",
        "axes[0].set_title(\"Iris-setosa \")\n",
        "class_1th['PetalWidthCm'].hist(bins=8,ax=axes[1],color='green')\n",
        "axes[1].set_title(\"Iris-versicolor\")\n",
        "class_2th['PetalWidthCm'].hist(bins=8,ax=axes[2],color='pink')\n",
        "axes[2].set_title(\"Iris-virginica \")"
      ],
      "metadata": {
        "colab": {
          "base_uri": "https://localhost:8080/",
          "height": 311
        },
        "id": "jG_xGUokkn19",
        "outputId": "fc3a3a7d-854a-4eef-d180-eb4dcd74f61d"
      },
      "execution_count": null,
      "outputs": [
        {
          "output_type": "execute_result",
          "data": {
            "text/plain": [
              "Text(0.5, 1.0, 'Iris-virginica ')"
            ]
          },
          "metadata": {},
          "execution_count": 296
        },
        {
          "output_type": "display_data",
          "data": {
            "text/plain": [
              "<Figure size 432x288 with 3 Axes>"
            ],
            "image/png": "[encoded data removed]"
          },
          "metadata": {
            "needs_background": "light"
          }
        }
      ]
    },
    {
      "cell_type": "code",
      "source": [
        "dataset\n",
        "print(Counter(dataset['Species']))"
      ],
      "metadata": {
        "colab": {
          "base_uri": "https://localhost:8080/"
        },
        "id": "uNJdfzcHbyWU",
        "outputId": "9ffd8eb4-541a-404d-b013-3efe54c056cc"
      },
      "execution_count": null,
      "outputs": [
        {
          "output_type": "stream",
          "name": "stdout",
          "text": [
            "Counter({0: 50, 1: 50, 2: 50})\n"
          ]
        }
      ]
    },
    {
      "cell_type": "markdown",
      "source": [
        "## Splitting the data"
      ],
      "metadata": {
        "id": "-Pn5G8k-nWhu"
      }
    },
    {
      "cell_type": "code",
      "source": [
        "x=dataset.iloc[:,:-1]\n",
        "y=dataset.iloc[:,-1]\n",
        "print(x)\n",
        "print(y)"
      ],
      "metadata": {
        "colab": {
          "base_uri": "https://localhost:8080/"
        },
        "id": "7as_rS4EcIhK",
        "outputId": "457f41c9-c6dc-4f0d-d5a6-0049d074cc5f"
      },
      "execution_count": null,
      "outputs": [
        {
          "output_type": "stream",
          "name": "stdout",
          "text": [
            "     SepalLengthCm  SepalWidthCm  PetalLengthCm  PetalWidthCm\n",
            "0              5.1           3.5            1.4           0.2\n",
            "1              4.9           3.0            1.4           0.2\n",
            "2              4.7           3.2            1.3           0.2\n",
            "3              4.6           3.1            1.5           0.2\n",
            "4              5.0           3.6            1.4           0.2\n",
            "..             ...           ...            ...           ...\n",
            "145            6.7           3.0            5.2           2.3\n",
            "146            6.3           2.5            5.0           1.9\n",
            "147            6.5           3.0            5.2           2.0\n",
            "148            6.2           3.4            5.4           2.3\n",
            "149            5.9           3.0            5.1           1.8\n",
            "\n",
            "[150 rows x 4 columns]\n",
            "0      0\n",
            "1      0\n",
            "2      0\n",
            "3      0\n",
            "4      0\n",
            "      ..\n",
            "145    2\n",
            "146    2\n",
            "147    2\n",
            "148    2\n",
            "149    2\n",
            "Name: Species, Length: 150, dtype: int64\n"
          ]
        }
      ]
    },
    {
      "cell_type": "code",
      "source": [
        "from sklearn.model_selection import train_test_split\n",
        "x_train,x_test,y_train,y_test=train_test_split(x,y,test_size=0.30,random_state=1)"
      ],
      "metadata": {
        "id": "7_-O28o5j7nF"
      },
      "execution_count": null,
      "outputs": []
    },
    {
      "cell_type": "code",
      "source": [
        "\n",
        "print(\"Training size:\",(x_train.shape[0]/(len(dataset)))*100,'%')\n",
        "print(\"Testing size:\",(x_test.shape[0]/len(dataset)*100),'%')"
      ],
      "metadata": {
        "colab": {
          "base_uri": "https://localhost:8080/"
        },
        "id": "SB93fbRakDsW",
        "outputId": "7e7994a2-a7e6-4567-e758-d431e933e035"
      },
      "execution_count": null,
      "outputs": [
        {
          "output_type": "stream",
          "name": "stdout",
          "text": [
            "Training size: 70.0 %\n",
            "Testing size: 30.0 %\n"
          ]
        }
      ]
    },
    {
      "cell_type": "code",
      "source": [
        "print(x_train,y_train)\n"
      ],
      "metadata": {
        "colab": {
          "base_uri": "https://localhost:8080/"
        },
        "id": "20CKIO1WcXYi",
        "outputId": "d25b2ce3-dada-4cd7-d5b8-b3f04499d24d"
      },
      "execution_count": null,
      "outputs": [
        {
          "output_type": "stream",
          "name": "stdout",
          "text": [
            "     SepalLengthCm  SepalWidthCm  PetalLengthCm  PetalWidthCm\n",
            "118            7.7           2.6            6.9           2.3\n",
            "18             5.7           3.8            1.7           0.3\n",
            "4              5.0           3.6            1.4           0.2\n",
            "45             4.8           3.0            1.4           0.3\n",
            "59             5.2           2.7            3.9           1.4\n",
            "..             ...           ...            ...           ...\n",
            "133            6.3           2.8            5.1           1.5\n",
            "137            6.4           3.1            5.5           1.8\n",
            "72             6.3           2.5            4.9           1.5\n",
            "140            6.7           3.1            5.6           2.4\n",
            "37             4.9           3.1            1.5           0.1\n",
            "\n",
            "[105 rows x 4 columns] 118    2\n",
            "18     0\n",
            "4      0\n",
            "45     0\n",
            "59     1\n",
            "      ..\n",
            "133    2\n",
            "137    2\n",
            "72     1\n",
            "140    2\n",
            "37     0\n",
            "Name: Species, Length: 105, dtype: int64\n"
          ]
        }
      ]
    },
    {
      "cell_type": "code",
      "source": [
        "print(x_test,y_test)"
      ],
      "metadata": {
        "colab": {
          "base_uri": "https://localhost:8080/"
        },
        "id": "cEh5Wm1zpXNO",
        "outputId": "c964da08-c67f-40fd-90e3-87378cae5a84"
      },
      "execution_count": null,
      "outputs": [
        {
          "output_type": "stream",
          "name": "stdout",
          "text": [
            "     SepalLengthCm  SepalWidthCm  PetalLengthCm  PetalWidthCm\n",
            "14             5.8           4.0            1.2           0.2\n",
            "98             5.1           2.5            3.0           1.1\n",
            "75             6.6           3.0            4.4           1.4\n",
            "16             5.4           3.9            1.3           0.4\n",
            "131            7.9           3.8            6.4           2.0\n",
            "56             6.3           3.3            4.7           1.6\n",
            "141            6.9           3.1            5.1           2.3\n",
            "44             5.1           3.8            1.9           0.4\n",
            "29             4.7           3.2            1.6           0.2\n",
            "120            6.9           3.2            5.7           2.3\n",
            "94             5.6           2.7            4.2           1.3\n",
            "5              5.4           3.9            1.7           0.4\n",
            "102            7.1           3.0            5.9           2.1\n",
            "51             6.4           3.2            4.5           1.5\n",
            "78             6.0           2.9            4.5           1.5\n",
            "42             4.4           3.2            1.3           0.2\n",
            "92             5.8           2.6            4.0           1.2\n",
            "66             5.6           3.0            4.5           1.5\n",
            "31             5.4           3.4            1.5           0.4\n",
            "35             5.0           3.2            1.2           0.2\n",
            "90             5.5           2.6            4.4           1.2\n",
            "84             5.4           3.0            4.5           1.5\n",
            "77             6.7           3.0            5.0           1.7\n",
            "40             5.0           3.5            1.3           0.3\n",
            "125            7.2           3.2            6.0           1.8\n",
            "99             5.7           2.8            4.1           1.3\n",
            "33             5.5           4.2            1.4           0.2\n",
            "19             5.1           3.8            1.5           0.3\n",
            "73             6.1           2.8            4.7           1.2\n",
            "146            6.3           2.5            5.0           1.9\n",
            "91             6.1           3.0            4.6           1.4\n",
            "135            7.7           3.0            6.1           2.3\n",
            "69             5.6           2.5            3.9           1.1\n",
            "128            6.4           2.8            5.6           2.1\n",
            "114            5.8           2.8            5.1           2.4\n",
            "48             5.3           3.7            1.5           0.2\n",
            "53             5.5           2.3            4.0           1.3\n",
            "28             5.2           3.4            1.4           0.2\n",
            "54             6.5           2.8            4.6           1.5\n",
            "108            6.7           2.5            5.8           1.8\n",
            "112            6.8           3.0            5.5           2.1\n",
            "17             5.1           3.5            1.4           0.3\n",
            "119            6.0           2.2            5.0           1.5\n",
            "103            6.3           2.9            5.6           1.8\n",
            "58             6.6           2.9            4.6           1.3 14     0\n",
            "98     1\n",
            "75     1\n",
            "16     0\n",
            "131    2\n",
            "56     1\n",
            "141    2\n",
            "44     0\n",
            "29     0\n",
            "120    2\n",
            "94     1\n",
            "5      0\n",
            "102    2\n",
            "51     1\n",
            "78     1\n",
            "42     0\n",
            "92     1\n",
            "66     1\n",
            "31     0\n",
            "35     0\n",
            "90     1\n",
            "84     1\n",
            "77     1\n",
            "40     0\n",
            "125    2\n",
            "99     1\n",
            "33     0\n",
            "19     0\n",
            "73     1\n",
            "146    2\n",
            "91     1\n",
            "135    2\n",
            "69     1\n",
            "128    2\n",
            "114    2\n",
            "48     0\n",
            "53     1\n",
            "28     0\n",
            "54     1\n",
            "108    2\n",
            "112    2\n",
            "17     0\n",
            "119    2\n",
            "103    2\n",
            "58     1\n",
            "Name: Species, dtype: int64\n"
          ]
        }
      ]
    },
    {
      "cell_type": "markdown",
      "source": [
        "##Q1. Implement a Gaussian Bayes Classifier class from scratch.(You are not allowed to use the inbuilt scikit function, you are only allowed to use numpy and pandas). The classifier class must have 3 variants defined using its constructor, for each of the cases given below."
      ],
      "metadata": {
        "id": "gYFZcMHoqICX"
      }
    },
    {
      "cell_type": "markdown",
      "source": [
        "# **Part 1,2 and 3**"
      ],
      "metadata": {
        "id": "uHdtXajQ3gmG"
      }
    },
    {
      "cell_type": "code",
      "source": [
        "import math\n",
        "class Gaussian:\n",
        "  def __init__(self,case):\n",
        "    self.case=case\n",
        "    self.df=None\n",
        "  def train(self,x_train,y_train):\n",
        "    self.df=x_train.copy()\n",
        "    self.df['output']=y_train\n",
        "  def g_i_x(self,class_label,feature_vector):\n",
        "    mean=np.array(np.mean(self.df[self.df.iloc[:,-1]==class_label].iloc[:,:-1]))\n",
        "    feature_vector=np.array(feature_vector)\n",
        "    cov_mat=[]\n",
        "    prior_prob=len(self.df[self.df.iloc[:,-1]==class_label])/len(self.df)\n",
        "    if(self.case==1):\n",
        "      cov_mat=self.df.iloc[:,:-1].cov().to_numpy()[0,0]*np.identity(len(feature_vector))\n",
        "    elif(self.case==2):\n",
        "      cov_mat=self.df.iloc[:,:-1].cov().to_numpy()\n",
        "    elif(self.case==3):\n",
        "      cov_mat=self.df[self.df.iloc[:,-1]==class_label].iloc[:,:-1].cov().to_numpy()\n",
        "    cov_inv=np.linalg.inv(cov_mat)\n",
        "    if(prior_prob==0):\n",
        "      prior_prob=1/len(self.df)\n",
        "    return -(0.5)*((feature_vector-mean)@cov_inv@((feature_vector-mean).T))+math.log(prior_prob)-(0.5)*(math.log(abs(np.linalg.det(cov_mat))))\n",
        "  def get_max(self,g_i_x_vector):\n",
        "    max_g=g_i_x_vector[0]\n",
        "    pred=0\n",
        "    for i in range(len(g_i_x_vector)):\n",
        "      if(max_g<g_i_x_vector[i]):\n",
        "        max_g=g_i_x_vector[i]\n",
        "        pred=i\n",
        "    return pred\n",
        "  def predict(self,feature_vector):\n",
        "    g_i_x_vector=[]\n",
        "    num_class=len(set(self.df.iloc[:,-1]))\n",
        "    for i in range(num_class):\n",
        "      g_i_x_vector.append(self.g_i_x(i,feature_vector))\n",
        "    return self.get_max(g_i_x_vector)\n",
        "  def test(self,x_test,y_test):\n",
        "    y_pred=[]\n",
        "    for i in range(len(x_test)):\n",
        "      feature_vector=x_test.iloc[i,:]\n",
        "      y_pred.append(self.predict(feature_vector))\n",
        "    y_test=list(y_test)\n",
        "    count=0\n",
        "    for i in range(len(y_test)):\n",
        "      if(y_test[i]==y_pred[i]):\n",
        "        count+=1\n",
        "    return np.array(y_pred),(count/len(x_test))*100\n",
        "  def plot_helper(self,x_test):\n",
        "    y_pred=[]\n",
        "    for i in range(len(x_test)):\n",
        "      feature_vector=x_test.iloc[i,:]\n",
        "      y_pred.append(self.predict(feature_vector))\n",
        "    return np.array(y_pred)\n",
        "  def grid_maker(self,x1,x2):\n",
        "    x1=np.array(x1)\n",
        "    x2=np.array(x2)\n",
        "    x1_min,x1_max=x1.min()-1,x1.max()+1\n",
        "    x2_min,x2_max=x2.min()-1,x2.max()+1\n",
        "    a=np.arange(x1_min,x1_max,0.05)\n",
        "    b=np.arange(x2_min,x2_max,0.05)\n",
        "    return np.meshgrid(a,b)\n",
        "  def plot_decision_boundary(self,feature_1,feature_2):\n",
        "    x,y=self.grid_maker(self.df[feature_1],self.df[feature_2])\n",
        "    df=pd.DataFrame(np.c_[x.ravel(),y.ravel()],columns=self.df.columns[:-1])\n",
        "    predicted=self.plot_helper(df).reshape(x.shape)\n",
        "    plt.xlabel(feature_1)\n",
        "    plt.ylabel(feature_2)\n",
        "    plt.contourf(x,y,predicted,cmap=plt.cm.coolwarm)\n",
        "    plt.scatter(self.df[feature_1],self.df[feature_2],c=self.df.iloc[:,-1],cmap=plt.cm.coolwarm)\n",
        "    plt.show()"
      ],
      "metadata": {
        "id": "0edjFZr1qTZ0"
      },
      "execution_count": null,
      "outputs": []
    },
    {
      "cell_type": "code",
      "source": [
        "model=Gaussian(1)\n",
        "model.train(x_train,y_train)"
      ],
      "metadata": {
        "id": "ftbsge8NzhMt"
      },
      "execution_count": null,
      "outputs": []
    },
    {
      "cell_type": "code",
      "source": [
        "y_predicted,accuracy=model.test(x_test,y_test)"
      ],
      "metadata": {
        "id": "ZZNcECEVztds"
      },
      "execution_count": null,
      "outputs": []
    },
    {
      "cell_type": "code",
      "source": [
        "print(y_predicted)"
      ],
      "metadata": {
        "colab": {
          "base_uri": "https://localhost:8080/"
        },
        "id": "dkHSbglN2SFt",
        "outputId": "8dbb2043-6e00-48fa-cea9-2b7210f98f02"
      },
      "execution_count": null,
      "outputs": [
        {
          "output_type": "stream",
          "name": "stdout",
          "text": [
            "[0 1 1 0 2 1 2 0 0 2 1 0 2 1 1 0 1 1 0 0 1 1 2 0 2 1 0 0 1 2 1 2 1 2 2 0 1\n",
            " 0 1 2 2 0 1 2 1]\n"
          ]
        }
      ]
    },
    {
      "cell_type": "code",
      "source": [
        "print(accuracy)"
      ],
      "metadata": {
        "colab": {
          "base_uri": "https://localhost:8080/"
        },
        "id": "_wCdxgZD2VsP",
        "outputId": "31522874-e219-42bc-de27-7379568af964"
      },
      "execution_count": null,
      "outputs": [
        {
          "output_type": "stream",
          "name": "stdout",
          "text": [
            "95.55555555555556\n"
          ]
        }
      ]
    },
    {
      "cell_type": "code",
      "source": [
        "model=Gaussian(2)\n",
        "model.train(x_train,y_train)"
      ],
      "metadata": {
        "id": "wgto3yRT2pVI"
      },
      "execution_count": null,
      "outputs": []
    },
    {
      "cell_type": "code",
      "source": [
        "y_predicted,accuracy=model.test(x_test,y_test)"
      ],
      "metadata": {
        "id": "bSS5ElJR2vTD"
      },
      "execution_count": null,
      "outputs": []
    },
    {
      "cell_type": "code",
      "source": [
        "print(y_predicted)"
      ],
      "metadata": {
        "colab": {
          "base_uri": "https://localhost:8080/"
        },
        "id": "WiP6k9Uk20cH",
        "outputId": "c8781306-454d-4831-cb37-101cc01823b1"
      },
      "execution_count": null,
      "outputs": [
        {
          "output_type": "stream",
          "name": "stdout",
          "text": [
            "[0 1 1 0 2 2 2 0 0 2 1 0 2 2 2 0 1 2 0 0 1 2 2 0 2 1 0 0 1 1 1 2 1 2 2 0 1\n",
            " 0 1 1 2 0 1 2 1]\n"
          ]
        }
      ]
    },
    {
      "cell_type": "code",
      "source": [
        "print(accuracy)"
      ],
      "metadata": {
        "colab": {
          "base_uri": "https://localhost:8080/"
        },
        "id": "cKzEDF2Y23MX",
        "outputId": "505c3de7-8eaf-4dde-980e-ece27a3efb83"
      },
      "execution_count": null,
      "outputs": [
        {
          "output_type": "stream",
          "name": "stdout",
          "text": [
            "80.0\n"
          ]
        }
      ]
    },
    {
      "cell_type": "code",
      "source": [
        "model=Gaussian(3)\n",
        "model.train(x_train,y_train)"
      ],
      "metadata": {
        "id": "hSU5fE_825XZ"
      },
      "execution_count": null,
      "outputs": []
    },
    {
      "cell_type": "code",
      "source": [
        "y_predicted,accuracy=model.test(x_test,y_test)"
      ],
      "metadata": {
        "id": "uYrcgT7Q2-Pi"
      },
      "execution_count": null,
      "outputs": []
    },
    {
      "cell_type": "code",
      "source": [
        "print(y_predicted)"
      ],
      "metadata": {
        "colab": {
          "base_uri": "https://localhost:8080/"
        },
        "id": "1lRL7Jor3GXe",
        "outputId": "a38d453f-7ad6-469d-82e6-b02def652c3b"
      },
      "execution_count": null,
      "outputs": [
        {
          "output_type": "stream",
          "name": "stdout",
          "text": [
            "[0 1 1 0 2 1 2 0 0 2 1 0 2 1 1 0 1 1 0 0 1 1 1 0 2 1 0 0 1 2 1 2 1 2 2 0 1\n",
            " 0 1 2 2 0 2 2 1]\n"
          ]
        }
      ]
    },
    {
      "cell_type": "code",
      "source": [
        "print(accuracy)"
      ],
      "metadata": {
        "colab": {
          "base_uri": "https://localhost:8080/"
        },
        "id": "pAOWLd4E3JSq",
        "outputId": "04ca78f0-f319-4909-b105-3ede0591765d"
      },
      "execution_count": null,
      "outputs": [
        {
          "output_type": "stream",
          "name": "stdout",
          "text": [
            "100.0\n"
          ]
        }
      ]
    },
    {
      "cell_type": "code",
      "source": [
        "df=x_train.iloc[:,:2]\n",
        "feature_1=x_train.columns[0]\n",
        "feature_2=x_train.columns[1]\n",
        "model=Gaussian(1)\n",
        "model.train(df,y_train)"
      ],
      "metadata": {
        "id": "vVGn54_dAshp"
      },
      "execution_count": null,
      "outputs": []
    },
    {
      "cell_type": "code",
      "source": [
        "model.plot_decision_boundary(feature_1,feature_2)"
      ],
      "metadata": {
        "colab": {
          "base_uri": "https://localhost:8080/",
          "height": 279
        },
        "id": "Kd4SvuGDBcU8",
        "outputId": "7728cc51-602e-43c5-e66c-8e8bccdda0e1"
      },
      "execution_count": null,
      "outputs": [
        {
          "output_type": "display_data",
          "data": {
            "text/plain": [
              "<Figure size 432x288 with 1 Axes>"
            ],
            "image/png": "[encoded data removed]"
          },
          "metadata": {
            "needs_background": "light"
          }
        }
      ]
    },
    {
      "cell_type": "code",
      "source": [
        "df=x_train.iloc[:,:2]\n",
        "feature_1=x_train.columns[0]\n",
        "feature_2=x_train.columns[1]\n",
        "model=Gaussian(2)\n",
        "model.train(df,y_train)"
      ],
      "metadata": {
        "id": "65vfvAfiKvjV"
      },
      "execution_count": null,
      "outputs": []
    },
    {
      "cell_type": "code",
      "source": [
        "model.plot_decision_boundary(feature_1,feature_2)"
      ],
      "metadata": {
        "colab": {
          "base_uri": "https://localhost:8080/",
          "height": 279
        },
        "id": "BTJ_BFYvK0op",
        "outputId": "7fc3b26a-1c1e-42de-b6d8-04b184135589"
      },
      "execution_count": null,
      "outputs": [
        {
          "output_type": "display_data",
          "data": {
            "text/plain": [
              "<Figure size 432x288 with 1 Axes>"
            ],
            "image/png": "[encoded data removed]"
          },
          "metadata": {
            "needs_background": "light"
          }
        }
      ]
    },
    {
      "cell_type": "code",
      "source": [
        "df=x_train.iloc[:,:2]\n",
        "feature_1=x_train.columns[0]\n",
        "feature_2=x_train.columns[1]\n",
        "model=Gaussian(3)\n",
        "model.train(df,y_train)"
      ],
      "metadata": {
        "id": "ZGiM9T_BK2yL"
      },
      "execution_count": null,
      "outputs": []
    },
    {
      "cell_type": "code",
      "source": [
        "model.plot_decision_boundary(feature_1,feature_2)"
      ],
      "metadata": {
        "colab": {
          "base_uri": "https://localhost:8080/",
          "height": 279
        },
        "id": "x7NctFQ3K4pp",
        "outputId": "c70df2f2-c7a0-4675-c451-46d9e71f446e"
      },
      "execution_count": null,
      "outputs": [
        {
          "output_type": "display_data",
          "data": {
            "text/plain": [
              "<Figure size 432x288 with 1 Axes>"
            ],
            "image/png": "[encoded data removed]"
          },
          "metadata": {
            "needs_background": "light"
          }
        }
      ]
    },
    {
      "cell_type": "markdown",
      "source": [
        "# **Part 4**"
      ],
      "metadata": {
        "id": "hSPma1JV3ct-"
      }
    },
    {
      "cell_type": "code",
      "source": [
        "\n",
        "import random\n",
        "def perform_k_fold(case,training_data):\n",
        "  model=Gaussian(case)\n",
        "  score=[]\n",
        "  li=random.sample(range(len(training_data)),len(training_data))\n",
        "  splits=[li[:len(li)//5]]\n",
        "  splits.append(li[len(li)//5:2*len(li)//5])\n",
        "  splits.append(li[2*len(li)//5:3*len(li)//5])\n",
        "  splits.append(li[3*len(li)//5:4*len(li)//5])\n",
        "  splits.append(li[4*len(li)//5:])\n",
        "  \n",
        "  test_in=[]\n",
        "  train_in=[]\n",
        "  for i in range(5):\n",
        "    for j in range(5):\n",
        "      if(j==i):\n",
        "        test_in=splits[j]\n",
        "      else:\n",
        "        train_in+=splits[j]\n",
        "    train=training_data.iloc[train_in,:]\n",
        "    test=training_data.iloc[test_in,:]\n",
        "    model.train(train.iloc[:,:-1],train.iloc[:,-1])\n",
        "    score.append(model.test(test.iloc[:,:-1],test.iloc[:,-1])[1])\n",
        "  return score\n",
        "training_data=x_train.copy()\n",
        "training_data['output']=y_train\n",
        "print(perform_k_fold(1,training_data))"
      ],
      "metadata": {
        "colab": {
          "base_uri": "https://localhost:8080/"
        },
        "id": "X0OrURHd3K9E",
        "outputId": "4d4275c5-1b86-497a-da34-d79eade43524"
      },
      "execution_count": null,
      "outputs": [
        {
          "output_type": "stream",
          "name": "stdout",
          "text": [
            "[90.47619047619048, 85.71428571428571, 85.71428571428571, 95.23809523809523, 100.0]\n"
          ]
        }
      ]
    },
    {
      "cell_type": "code",
      "source": [
        "print(perform_k_fold(2,training_data))"
      ],
      "metadata": {
        "colab": {
          "base_uri": "https://localhost:8080/"
        },
        "id": "vXGuCUTT8pPe",
        "outputId": "cec0be9f-5acc-4fd4-9cfb-ed5bd1592aea"
      },
      "execution_count": null,
      "outputs": [
        {
          "output_type": "stream",
          "name": "stdout",
          "text": [
            "[66.66666666666666, 100.0, 90.47619047619048, 76.19047619047619, 85.71428571428571]\n"
          ]
        }
      ]
    },
    {
      "cell_type": "code",
      "source": [
        "print(perform_k_fold(3,training_data))"
      ],
      "metadata": {
        "colab": {
          "base_uri": "https://localhost:8080/"
        },
        "id": "ERJf2Vst8vEQ",
        "outputId": "2ece3ea2-dc97-4f02-94a6-5f1747f359f9"
      },
      "execution_count": null,
      "outputs": [
        {
          "output_type": "stream",
          "name": "stdout",
          "text": [
            "[100.0, 95.23809523809523, 95.23809523809523, 100.0, 100.0]\n"
          ]
        }
      ]
    },
    {
      "cell_type": "markdown",
      "source": [
        "# **Part 5**"
      ],
      "metadata": {
        "id": "6zPd8_Bm87JL"
      }
    },
    {
      "cell_type": "code",
      "source": [
        "x1=np.array(random.sample(range(-1000,1000),500))\n",
        "x1=x1/200\n",
        "x2=np.array(random.sample(range(-1000,1000),500))\n",
        "x2=x2/200\n",
        "y=[]\n",
        "for i in range(500):\n",
        "  if(x1[i]**2+x2[i]**2<=9):\n",
        "    y.append(0)\n",
        "  else:\n",
        "    y.append(1)\n",
        "df=pd.DataFrame()\n",
        "df['x']=x1\n",
        "df['y']=x2\n",
        "df['output']=y\n",
        "df"
      ],
      "metadata": {
        "colab": {
          "base_uri": "https://localhost:8080/",
          "height": 423
        },
        "id": "jQ5ioO7G84En",
        "outputId": "8313e89f-f347-48af-ded6-83db9e3a776f"
      },
      "execution_count": null,
      "outputs": [
        {
          "output_type": "execute_result",
          "data": {
            "text/plain": [
              "         x      y  output\n",
              "0   -4.140  0.520       1\n",
              "1    4.735  4.425       1\n",
              "2    1.030 -1.530       0\n",
              "3   -1.000  1.490       0\n",
              "4    4.590  2.180       1\n",
              "..     ...    ...     ...\n",
              "495 -4.530 -1.465       1\n",
              "496  0.875  0.515       0\n",
              "497  0.940  1.895       0\n",
              "498  4.890 -4.790       1\n",
              "499 -3.630  1.345       1\n",
              "\n",
              "[500 rows x 3 columns]"
            ],
            "text/html": [
              "\n",
              "  <div id=\"df-f93a83cb-f5b3-46dd-b47c-a63b44916dab\">\n",
              "    <div class=\"colab-df-container\">\n",
              "      <div>\n",
              "<style scoped>\n",
              "    .dataframe tbody tr th:only-of-type {\n",
              "        vertical-align: middle;\n",
              "    }\n",
              "\n",
              "    .dataframe tbody tr th {\n",
              "        vertical-align: top;\n",
              "    }\n",
              "\n",
              "    .dataframe thead th {\n",
              "        text-align: right;\n",
              "    }\n",
              "</style>\n",
              "<table border=\"1\" class=\"dataframe\">\n",
              "  <thead>\n",
              "    <tr style=\"text-align: right;\">\n",
              "      <th></th>\n",
              "      <th>x</th>\n",
              "      <th>y</th>\n",
              "      <th>output</th>\n",
              "    </tr>\n",
              "  </thead>\n",
              "  <tbody>\n",
              "    <tr>\n",
              "      <th>0</th>\n",
              "      <td>-4.140</td>\n",
              "      <td>0.520</td>\n",
              "      <td>1</td>\n",
              "    </tr>\n",
              "    <tr>\n",
              "      <th>1</th>\n",
              "      <td>4.735</td>\n",
              "      <td>4.425</td>\n",
              "      <td>1</td>\n",
              "    </tr>\n",
              "    <tr>\n",
              "      <th>2</th>\n",
              "      <td>1.030</td>\n",
              "      <td>-1.530</td>\n",
              "      <td>0</td>\n",
              "    </tr>\n",
              "    <tr>\n",
              "      <th>3</th>\n",
              "      <td>-1.000</td>\n",
              "      <td>1.490</td>\n",
              "      <td>0</td>\n",
              "    </tr>\n",
              "    <tr>\n",
              "      <th>4</th>\n",
              "      <td>4.590</td>\n",
              "      <td>2.180</td>\n",
              "      <td>1</td>\n",
              "    </tr>\n",
              "    <tr>\n",
              "      <th>...</th>\n",
              "      <td>...</td>\n",
              "      <td>...</td>\n",
              "      <td>...</td>\n",
              "    </tr>\n",
              "    <tr>\n",
              "      <th>495</th>\n",
              "      <td>-4.530</td>\n",
              "      <td>-1.465</td>\n",
              "      <td>1</td>\n",
              "    </tr>\n",
              "    <tr>\n",
              "      <th>496</th>\n",
              "      <td>0.875</td>\n",
              "      <td>0.515</td>\n",
              "      <td>0</td>\n",
              "    </tr>\n",
              "    <tr>\n",
              "      <th>497</th>\n",
              "      <td>0.940</td>\n",
              "      <td>1.895</td>\n",
              "      <td>0</td>\n",
              "    </tr>\n",
              "    <tr>\n",
              "      <th>498</th>\n",
              "      <td>4.890</td>\n",
              "      <td>-4.790</td>\n",
              "      <td>1</td>\n",
              "    </tr>\n",
              "    <tr>\n",
              "      <th>499</th>\n",
              "      <td>-3.630</td>\n",
              "      <td>1.345</td>\n",
              "      <td>1</td>\n",
              "    </tr>\n",
              "  </tbody>\n",
              "</table>\n",
              "<p>500 rows × 3 columns</p>\n",
              "</div>\n",
              "      <button class=\"colab-df-convert\" onclick=\"convertToInteractive('df-f93a83cb-f5b3-46dd-b47c-a63b44916dab')\"\n",
              "              title=\"Convert this dataframe to an interactive table.\"\n",
              "              style=\"display:none;\">\n",
              "        \n",
              "  <svg xmlns=\"http://www.w3.org/2000/svg\" height=\"24px\"viewBox=\"0 0 24 24\"\n",
              "       width=\"24px\">\n",
              "    <path d=\"M0 0h24v24H0V0z\" fill=\"none\"/>\n",
              "    <path d=\"M18.56 5.44l.94 2.06.94-2.06 2.06-.94-2.06-.94-.94-2.06-.94 2.06-2.06.94zm-11 1L8.5 8.5l.94-2.06 2.06-.94-2.06-.94L8.5 2.5l-.94 2.06-2.06.94zm10 10l.94 2.06.94-2.06 2.06-.94-2.06-.94-.94-2.06-.94 2.06-2.06.94z\"/><path d=\"M17.41 7.96l-1.37-1.37c-.4-.4-.92-.59-1.43-.59-.52 0-1.04.2-1.43.59L10.3 9.45l-7.72 7.72c-.78.78-.78 2.05 0 2.83L4 21.41c.39.39.9.59 1.41.59.51 0 1.02-.2 1.41-.59l7.78-7.78 2.81-2.81c.8-.78.8-2.07 0-2.86zM5.41 20L4 18.59l7.72-7.72 1.47 1.35L5.41 20z\"/>\n",
              "  </svg>\n",
              "      </button>\n",
              "      \n",
              "  <style>\n",
              "    .colab-df-container {\n",
              "      display:flex;\n",
              "      flex-wrap:wrap;\n",
              "      gap: 12px;\n",
              "    }\n",
              "\n",
              "    .colab-df-convert {\n",
              "      background-color: #E8F0FE;\n",
              "      border: none;\n",
              "      border-radius: 50%;\n",
              "      cursor: pointer;\n",
              "      display: none;\n",
              "      fill: #1967D2;\n",
              "      height: 32px;\n",
              "      padding: 0 0 0 0;\n",
              "      width: 32px;\n",
              "    }\n",
              "\n",
              "    .colab-df-convert:hover {\n",
              "      background-color: #E2EBFA;\n",
              "      box-shadow: 0px 1px 2px rgba(60, 64, 67, 0.3), 0px 1px 3px 1px rgba(60, 64, 67, 0.15);\n",
              "      fill: #174EA6;\n",
              "    }\n",
              "\n",
              "    [theme=dark] .colab-df-convert {\n",
              "      background-color: #3B4455;\n",
              "      fill: #D2E3FC;\n",
              "    }\n",
              "\n",
              "    [theme=dark] .colab-df-convert:hover {\n",
              "      background-color: #434B5C;\n",
              "      box-shadow: 0px 1px 3px 1px rgba(0, 0, 0, 0.15);\n",
              "      filter: drop-shadow(0px 1px 2px rgba(0, 0, 0, 0.3));\n",
              "      fill: #FFFFFF;\n",
              "    }\n",
              "  </style>\n",
              "\n",
              "      <script>\n",
              "        const buttonEl =\n",
              "          document.querySelector('#df-f93a83cb-f5b3-46dd-b47c-a63b44916dab button.colab-df-convert');\n",
              "        buttonEl.style.display =\n",
              "          google.colab.kernel.accessAllowed ? 'block' : 'none';\n",
              "\n",
              "        async function convertToInteractive(key) {\n",
              "          const element = document.querySelector('#df-f93a83cb-f5b3-46dd-b47c-a63b44916dab');\n",
              "          const dataTable =\n",
              "            await google.colab.kernel.invokeFunction('convertToInteractive',\n",
              "                                                     [key], {});\n",
              "          if (!dataTable) return;\n",
              "\n",
              "          const docLinkHtml = 'Like what you see? Visit the ' +\n",
              "            '<a target=\"_blank\" href=https://colab.research.google.com/notebooks/data_table.ipynb>data table notebook</a>'\n",
              "            + ' to learn more about interactive tables.';\n",
              "          element.innerHTML = '';\n",
              "          dataTable['output_type'] = 'display_data';\n",
              "          await google.colab.output.renderOutput(dataTable, element);\n",
              "          const docLink = document.createElement('div');\n",
              "          docLink.innerHTML = docLinkHtml;\n",
              "          element.appendChild(docLink);\n",
              "        }\n",
              "      </script>\n",
              "    </div>\n",
              "  </div>\n",
              "  "
            ]
          },
          "metadata": {},
          "execution_count": 334
        }
      ]
    },
    {
      "cell_type": "code",
      "source": [
        "x_train,x_test,y_train,y_test=train_test_split(df.iloc[:,:-1],df.iloc[:,-1],random_state=2,train_size=0.7)"
      ],
      "metadata": {
        "id": "Slkpjofu-H7C"
      },
      "execution_count": null,
      "outputs": []
    },
    {
      "cell_type": "code",
      "source": [
        "model=Gaussian(3)\n",
        "model.train(x_train,y_train)"
      ],
      "metadata": {
        "id": "xeyFU2-b-TRI"
      },
      "execution_count": null,
      "outputs": []
    },
    {
      "cell_type": "code",
      "source": [
        "y_predicted,accuracy=model.test(x_test,y_test)"
      ],
      "metadata": {
        "id": "M8rvRIxx-aAt"
      },
      "execution_count": null,
      "outputs": []
    },
    {
      "cell_type": "code",
      "source": [
        "print(accuracy)"
      ],
      "metadata": {
        "colab": {
          "base_uri": "https://localhost:8080/"
        },
        "id": "BFgyBGZG-93X",
        "outputId": "f75b9d9f-0ca9-4073-eac6-f9c1bc82885b"
      },
      "execution_count": null,
      "outputs": [
        {
          "output_type": "stream",
          "name": "stdout",
          "text": [
            "83.33333333333334\n"
          ]
        }
      ]
    },
    {
      "cell_type": "code",
      "source": [
        "print(y_predicted)"
      ],
      "metadata": {
        "colab": {
          "base_uri": "https://localhost:8080/"
        },
        "id": "Y0eHW8pJ-_sw",
        "outputId": "5a8547b8-ad21-4764-ab7a-5039886fec11"
      },
      "execution_count": null,
      "outputs": [
        {
          "output_type": "stream",
          "name": "stdout",
          "text": [
            "[1 1 0 1 1 1 1 1 1 1 1 1 0 1 1 1 1 1 1 1 1 1 1 1 1 1 1 1 1 1 1 1 1 1 1 1 0\n",
            " 1 1 1 1 1 1 1 1 1 1 0 0 0 1 1 1 1 1 0 1 1 0 0 1 1 1 0 1 1 1 1 1 1 1 1 1 1\n",
            " 1 1 1 1 1 1 1 1 1 1 1 1 1 1 1 1 0 1 1 1 1 1 0 1 1 1 1 1 1 1 1 1 1 1 1 1 1\n",
            " 1 0 1 1 1 1 1 1 1 1 1 1 1 1 1 0 1 1 1 1 1 1 1 1 1 1 1 0 1 1 1 1 1 1 1 1 1\n",
            " 1 1]\n"
          ]
        }
      ]
    },
    {
      "cell_type": "code",
      "source": [
        "feature_1='x'\n",
        "feature_2='y'\n",
        "model.plot_decision_boundary(feature_1,feature_2)"
      ],
      "metadata": {
        "colab": {
          "base_uri": "https://localhost:8080/",
          "height": 279
        },
        "id": "R0JSHI-kLvRS",
        "outputId": "01b31f05-a69b-42b8-d8d9-7fd3a1bfe9cb"
      },
      "execution_count": null,
      "outputs": [
        {
          "output_type": "display_data",
          "data": {
            "text/plain": [
              "<Figure size 432x288 with 1 Axes>"
            ],
            "image/png": "[encoded data removed]"
          },
          "metadata": {
            "needs_background": "light"
          }
        }
      ]
    },
    {
      "cell_type": "markdown",
      "source": [
        "# Question 02: Mahalanobis Distance"
      ],
      "metadata": {
        "id": "mceJEoJwC7Lb"
      }
    },
    {
      "cell_type": "code",
      "source": [
        "import numpy as np\n",
        "import matplotlib.pyplot as plt\n",
        "import seaborn as sns; sns.set()"
      ],
      "metadata": {
        "id": "YCmpE6vRFai0"
      },
      "execution_count": null,
      "outputs": []
    },
    {
      "cell_type": "code",
      "execution_count": null,
      "metadata": {
        "id": "9yHMXWs2CyFQ"
      },
      "outputs": [],
      "source": [
        "cov_mat=np.asmatrix([[1.5,0.5],[0.5,1.5]])\n",
        "mean=[0,0]"
      ]
    },
    {
      "cell_type": "code",
      "source": [
        "X = np.random.multivariate_normal(mean, cov_mat, size=300).T\n",
        "x=X[0]\n",
        "y=X[1]"
      ],
      "metadata": {
        "id": "onhcijS0DUX6"
      },
      "execution_count": null,
      "outputs": []
    },
    {
      "cell_type": "code",
      "source": [
        "print(x)\n",
        "print(y)"
      ],
      "metadata": {
        "colab": {
          "base_uri": "https://localhost:8080/"
        },
        "id": "_0W0uAbLDnjf",
        "outputId": "597138bc-ab3d-4e79-c80f-2734697d4fdc"
      },
      "execution_count": null,
      "outputs": [
        {
          "output_type": "stream",
          "name": "stdout",
          "text": [
            "[ 5.58850022e-01 -1.53386360e+00  8.12870839e-01 -5.75737703e-01\n",
            " -2.54924732e-01  2.90237132e-01  7.51556311e-01  1.33132143e+00\n",
            " -5.47600393e-01  2.36053039e-01 -1.38368578e+00 -9.48240424e-01\n",
            " -1.97138881e-01 -1.87396373e+00 -1.76583067e+00 -6.37090801e-01\n",
            "  1.86863366e+00 -8.33592533e-01 -2.14482643e+00 -1.53638901e+00\n",
            " -1.61379130e-01 -1.92803856e+00  8.97008674e-01 -1.16690109e+00\n",
            "  6.10655929e-01 -3.02021125e-01  1.70969744e+00 -6.71760166e-01\n",
            "  1.22498100e-01 -1.18603690e+00 -2.42218594e-01  8.50670046e-01\n",
            " -6.30711824e-01  1.03312340e+00 -7.09752526e-01 -1.22639176e+00\n",
            "  4.38340578e-01 -1.70086994e+00  1.34219607e+00  5.43730858e-01\n",
            "  3.28947566e+00 -1.91410281e+00 -6.86879923e-02 -1.44960047e+00\n",
            " -1.14774325e+00 -1.03069466e+00 -4.86959885e-01  1.51851482e+00\n",
            "  3.15614282e+00 -2.06029793e-01  8.94934834e-01 -2.38483777e+00\n",
            "  8.41463699e-02 -7.25505030e-01 -5.35306311e-01 -1.54665105e+00\n",
            "  6.54209188e-01  1.69579697e+00 -4.45436496e-01  4.61774973e-01\n",
            " -1.78833514e+00  1.45301438e+00  1.25481998e+00  3.27269175e-01\n",
            "  2.55374158e-01  1.43696990e+00  8.68432859e-01  1.70801894e+00\n",
            "  6.12553637e-01  2.19312998e+00  9.74944273e-01  1.50593486e+00\n",
            "  2.91801967e-01 -6.50847539e-01  9.93016446e-02  6.67259725e-01\n",
            "  2.39178451e+00  4.11897094e-01 -2.11292251e+00 -1.25616129e+00\n",
            "  1.12554823e+00 -2.59869765e-01  5.82701203e-01 -1.63380775e+00\n",
            " -6.03757005e-01 -4.73219014e-01 -4.55902815e-01 -7.13373128e-01\n",
            "  3.15640832e-01  4.94394901e-01 -1.87717367e+00  1.53713439e-01\n",
            " -1.20453633e-01 -2.60050741e-02  1.87244583e+00  5.18929561e-01\n",
            "  1.89488402e-01 -8.96940635e-01 -2.26871996e-01  2.00989952e-01\n",
            "  1.15455826e+00  3.07540228e-01  4.70169851e-01  1.55821441e+00\n",
            " -8.95319698e-01 -1.98347424e+00  4.41637814e-01 -5.54772055e-01\n",
            " -6.80476195e-01 -1.92626496e-01  5.29602936e-01 -1.84161698e+00\n",
            "  7.18564165e-01  1.55663718e+00 -3.22916015e-01  9.03177966e-01\n",
            " -2.11336760e+00 -3.90246561e-01  6.87884990e-01 -1.53578952e-01\n",
            "  2.94345455e-01  1.03383862e+00 -6.90725672e-01 -2.29882654e+00\n",
            "  1.50707843e+00 -4.20015574e-01  2.15263187e+00  5.99346198e-02\n",
            " -1.27171158e+00  4.17395478e-01  3.56418296e-01  4.12902893e-01\n",
            "  1.57074247e+00  2.14426357e+00 -1.51970660e-01 -5.96163239e-01\n",
            " -1.67251391e+00 -1.33436685e+00  7.48690139e-01 -7.36797403e-01\n",
            "  1.18445536e+00 -1.81977329e+00 -1.22755886e+00 -2.42130053e-01\n",
            " -1.22966158e+00 -7.67548442e-01 -6.51108966e-01  4.76576059e-01\n",
            " -6.63639137e-01 -1.81434538e-01 -1.18456904e+00  1.09306854e-01\n",
            "  1.46211354e+00  8.87856657e-01  1.12314220e+00  1.33717549e+00\n",
            "  2.72204545e+00 -2.11663818e-01  2.31975836e+00  2.10451515e-01\n",
            " -1.32137913e+00 -9.03370177e-02  4.91470899e-01  1.80987782e-01\n",
            "  9.28157019e-01 -1.28185164e+00 -6.17504068e-02 -9.83378812e-01\n",
            " -7.40963294e-01 -1.91153158e+00 -1.09103890e+00 -2.23696077e+00\n",
            " -8.55677636e-02 -1.57078177e+00 -2.02006000e+00  5.33095434e-01\n",
            "  1.39413164e+00  1.34251501e-01  2.33530913e-01 -8.43649438e-01\n",
            " -1.02939678e+00  1.90515848e+00  1.03185574e+00 -5.09133930e-01\n",
            "  3.86175212e-01  7.67597717e-01 -7.66812441e-01 -1.90619769e+00\n",
            "  8.02139914e-01 -4.11132007e-01 -1.93763988e-01  6.90956062e-01\n",
            "  4.55482700e-01 -4.30148117e-01 -1.31505666e+00 -1.97198185e-01\n",
            " -3.17198008e-02  5.44537281e-01  2.91479440e+00  1.46575201e+00\n",
            " -9.30152238e-01 -1.78697429e+00 -3.55066084e+00 -1.43624839e+00\n",
            " -7.32859440e-01 -1.90876872e+00  1.42861208e+00  9.22899825e-02\n",
            "  7.53745009e-02 -8.89097228e-01  1.56223107e+00  6.51457607e-01\n",
            "  4.18706037e-01  8.20036702e-01 -9.38756364e-01 -7.68490949e-01\n",
            "  1.87015387e+00  8.19384401e-01  1.14321760e+00 -1.46537804e+00\n",
            " -1.46504446e+00  1.07615080e+00  1.86579444e-01  9.45946476e-01\n",
            " -9.07880272e-01  6.77442747e-01  3.77086185e-04  1.62855119e+00\n",
            " -2.27003841e+00  1.79391089e+00  1.14436990e+00  4.13647641e-01\n",
            "  1.51694736e+00 -2.12800488e+00  3.24408946e-01  4.07054213e-01\n",
            " -1.35658656e-01  2.41912906e-01  3.41951237e-01 -1.01921200e+00\n",
            "  3.93088572e+00  7.92892132e-01  2.12886370e+00 -7.16039127e-02\n",
            "  8.62052391e-03 -3.46276367e-01 -1.55124689e-01  1.70455053e+00\n",
            " -1.21340622e+00 -2.61554196e+00  2.72182525e+00  5.22640998e-01\n",
            "  1.32868674e-01 -8.73118995e-01  7.85693442e-02  1.69836373e+00\n",
            " -1.09958083e+00 -1.06168288e+00 -2.04029664e+00  5.92071117e-02\n",
            " -1.71984429e+00  8.84657614e-01  2.17177482e+00  1.02269196e+00\n",
            "  2.75170116e-01  5.09269033e-01 -1.34647598e+00 -1.51648909e+00\n",
            "  2.02258194e-01 -4.10700291e-01  3.18417229e-01 -1.21407060e+00\n",
            "  7.30994766e-01 -1.19557554e+00 -7.27379305e-01 -5.29702439e-01\n",
            " -1.25163668e-01  1.34778743e+00 -1.04485630e+00 -5.43932685e-01\n",
            "  6.47133571e-02 -1.57073281e+00 -4.21887822e-01  2.04883187e+00\n",
            "  9.82358023e-01 -6.20652990e-01 -1.57733710e+00 -1.06565561e+00\n",
            " -1.38512113e+00 -6.12955154e-01  3.53390528e-01  2.43877276e-01\n",
            "  4.27145753e-02  9.23966696e-01 -8.86318136e-01  2.91720088e-02\n",
            " -1.42928121e+00 -2.08573682e+00 -5.15631617e-01  2.39893727e-02]\n",
            "[ 4.13037877e-01 -2.23522256e+00  2.04451483e+00 -7.57401830e-01\n",
            "  7.76879738e-01 -1.51219548e-01 -1.45513790e-01  8.60812531e-01\n",
            " -1.57029447e-01  1.20386444e+00 -1.37750369e-01 -1.22314500e+00\n",
            " -2.25519704e-02 -4.74271328e-01 -1.31309448e+00 -9.37303332e-01\n",
            " -7.17470671e-02  8.09308383e-01 -3.43710111e+00  1.37645525e-01\n",
            "  7.00075699e-01  2.71854375e-01 -6.40442352e-01  5.87482491e-01\n",
            " -4.21732137e-02  1.03598016e-04 -1.73710830e+00 -8.22763011e-01\n",
            " -2.30690515e+00 -1.58325606e+00  4.42539547e-01  7.28808863e-01\n",
            "  1.40049800e-01 -1.42276962e+00 -1.04118709e+00 -3.07643539e+00\n",
            "  1.27391412e-01  5.96681400e-01 -6.07286029e-01 -7.21830310e-01\n",
            "  2.41976743e+00 -2.65253028e+00 -1.38361104e+00 -3.26081019e-01\n",
            " -1.11423208e+00 -2.17686892e+00 -6.89588601e-01 -2.14044511e+00\n",
            "  1.47692828e+00  6.99879109e-01  1.60476418e+00 -5.50120419e-01\n",
            " -1.76567026e+00  2.05499660e-01  5.16435446e-01 -1.74509476e+00\n",
            "  1.91550629e-01  5.52368697e-01 -2.26017672e+00  8.68174393e-01\n",
            " -3.59654643e+00  9.75649517e-01 -1.09332515e+00 -2.70477909e-01\n",
            "  1.99999188e-01  4.03844876e-01  3.36427752e-01  2.02588595e+00\n",
            "  1.90496156e+00 -1.81440792e-01  1.13993605e+00  1.58958743e+00\n",
            " -9.62433801e-01 -9.46122225e-01  2.60300689e+00  1.01279376e+00\n",
            "  8.25175006e-01  3.04891481e-01  1.72189921e-01 -3.54103011e-02\n",
            "  7.55518409e-01  1.91609257e+00  1.05519326e+00 -1.22122348e+00\n",
            " -7.35464890e-01  1.49480161e+00  3.78056633e-01 -2.54406050e-01\n",
            " -3.26293960e+00 -2.10868445e+00  8.61765979e-01  1.42050066e-01\n",
            " -6.79984040e-01  1.43376616e+00 -6.39727686e-01 -1.39715742e+00\n",
            "  7.34515032e-01 -1.52858093e+00  2.88763362e-01 -1.72385934e+00\n",
            "  1.22478097e+00  7.57794929e-01  4.00988917e-01  3.55970861e-01\n",
            " -1.09948640e-01 -1.60940326e-01  2.68938620e-02 -4.96470091e-01\n",
            "  3.26621777e-01 -6.59797052e-01 -1.42356099e-01 -3.02860125e+00\n",
            "  5.10318357e-01  1.06437355e+00  4.18701610e-01 -1.28324872e+00\n",
            "  4.32040245e-01 -1.98811491e+00 -1.15165820e+00 -2.66108031e-02\n",
            " -8.09522392e-01  2.31794425e-01  2.58125370e-01 -1.80776667e+00\n",
            "  1.97126717e+00  1.12492161e+00 -5.86915087e-01 -5.67482404e-01\n",
            "  1.60408156e+00  1.45926270e+00 -1.24656141e+00  4.78227438e-01\n",
            " -2.99568473e-01  1.46152180e+00  8.51160917e-01  1.54964220e+00\n",
            " -2.78723379e+00  1.80083334e+00  3.32687146e-01  1.43632165e+00\n",
            "  2.62975591e-01 -8.16012825e-01  7.18799439e-01  3.07921580e-01\n",
            " -2.20083146e-01  1.27259243e+00 -1.19924162e+00  5.92279134e-01\n",
            " -8.68007701e-01 -1.25591707e+00  5.89039523e-01  1.77540939e-02\n",
            "  4.86936830e-01 -5.99660254e-03 -1.37404524e+00  2.38198395e+00\n",
            "  1.52880077e+00  1.24576250e+00  1.56606209e+00  6.10711134e-01\n",
            "  2.62696589e-01 -9.26911549e-01  4.76883934e-01  1.20847311e+00\n",
            " -1.08057317e-01  1.55520972e+00  2.54690910e-01 -4.30446269e-01\n",
            " -5.42429033e-02 -1.18060909e+00 -1.47829110e+00 -2.60002282e+00\n",
            " -1.89520941e+00  9.16608302e-01  2.15347679e-01 -6.77874912e-01\n",
            "  2.87649510e-02  1.17753111e+00 -1.92426953e+00 -1.26344563e+00\n",
            "  9.32806184e-01 -5.02017493e-01  4.40684945e-01  1.37715573e-01\n",
            "  1.17422061e+00 -8.74490332e-01 -2.30747554e-01 -1.12611906e+00\n",
            "  2.37482823e+00  2.25180171e+00 -1.73303656e+00  9.50531072e-01\n",
            "  7.10547768e-01 -6.59284626e-01  5.16730528e-01 -2.53791646e+00\n",
            "  5.71737634e-01  3.71521405e-01  1.69569436e+00  1.08918910e+00\n",
            " -4.48602832e-01  1.44706793e+00 -2.82737136e+00 -5.68564817e-01\n",
            " -1.71388501e+00 -1.65768726e+00 -4.66179651e-01 -1.53438356e+00\n",
            "  5.31956843e-01 -1.84525403e-01  2.19860689e-01 -1.49508234e+00\n",
            "  1.90732771e-02  1.41939441e+00  1.16533600e+00  9.24465764e-02\n",
            "  2.13772169e-01 -1.93479484e-01  3.46813037e-01  2.23679842e-01\n",
            "  8.16988712e-01  1.80574330e-01  8.64494604e-01  4.62296442e-02\n",
            " -8.58462972e-01  8.52211969e-01 -5.42946900e-01 -2.18673120e-02\n",
            " -9.82761498e-01 -2.07707372e+00  1.14454998e+00  3.31773480e-01\n",
            "  7.28805344e-01 -2.17811772e-01  8.09533897e-01 -2.45519236e+00\n",
            "  1.21278371e+00  6.09387262e-02  1.86098949e+00 -7.29463427e-01\n",
            " -9.63290611e-01  7.28696450e-01  1.88202839e+00  7.05852740e-01\n",
            " -2.57921368e+00 -1.17356764e+00  9.10933673e-01  1.00312508e+00\n",
            " -1.98141309e+00 -5.69032276e-01  2.81102463e+00  3.89143047e-01\n",
            " -7.58015446e-01  3.29278758e-01 -1.29768108e-01  8.69181082e-01\n",
            " -1.95898930e+00 -1.88610034e+00 -8.53869856e-01 -6.73749936e-01\n",
            " -3.40006345e-01  1.02324706e+00  3.48767991e+00  1.25112367e+00\n",
            " -4.46614211e-01 -8.38994167e-02 -1.13304568e+00 -9.47746580e-01\n",
            "  1.07349176e+00 -3.61946820e-01 -1.93849900e+00 -1.31599339e-01\n",
            "  1.75241651e-01  5.75628550e-01 -9.69102514e-02 -1.75879330e+00\n",
            "  1.32164107e+00 -1.17334130e+00  3.55587141e-01  3.46042129e-01\n",
            "  1.00453927e+00  5.53736196e-01 -1.23791081e+00  2.98223345e+00\n",
            "  1.57236696e+00 -5.99323245e-02  3.56901780e-01 -1.40329106e+00\n",
            " -1.08090457e+00  8.32821918e-01  3.59946318e+00 -1.41782817e-01\n",
            " -1.03585728e+00 -9.13952423e-01 -6.79565016e-01 -6.67101884e-01\n",
            " -2.55471668e+00 -5.28209512e-02 -8.47288386e-01 -3.72324579e-01]\n"
          ]
        }
      ]
    },
    {
      "cell_type": "code",
      "source": [
        "plt.plot(x, y, '+')\n",
        "plt.title('set of datapoints: X',fontsize=20)\n",
        "plt.ylabel('y')\n",
        "plt.xlabel('x')\n",
        "plt.axis('equal')\n",
        "plt.show()"
      ],
      "metadata": {
        "colab": {
          "base_uri": "https://localhost:8080/",
          "height": 306
        },
        "id": "jzm1au-ZDSP7",
        "outputId": "d62f3708-6ebc-46c4-acc2-01e7574d930b"
      },
      "execution_count": null,
      "outputs": [
        {
          "output_type": "display_data",
          "data": {
            "text/plain": [
              "<Figure size 432x288 with 1 Axes>"
            ],
            "image/png": "[encoded data removed]"
          },
          "metadata": {}
        }
      ]
    },
    {
      "cell_type": "code",
      "source": [
        "# Plotting the density function.\n",
        "sns.jointplot(x=x, y=y, kind=\"kde\", space=0);"
      ],
      "metadata": {
        "id": "jUKkwN2cFfnm",
        "colab": {
          "base_uri": "https://localhost:8080/",
          "height": 437
        },
        "outputId": "2b2f1157-eafd-42cb-ada4-c33ca43c4d35"
      },
      "execution_count": null,
      "outputs": [
        {
          "output_type": "display_data",
          "data": {
            "text/plain": [
              "<Figure size 432x432 with 3 Axes>"
            ],
            "image/png": "[encoded data removed]"
          },
          "metadata": {}
        }
      ]
    },
    {
      "cell_type": "markdown",
      "source": [
        "## Q1). Calculate the covariance matrix of the sample X , say Σs . Find the eigenvectors and eigenvalue of Σs and plot it superimposed on the datapoints X."
      ],
      "metadata": {
        "id": "UBqHoYntHeg_"
      }
    },
    {
      "cell_type": "code",
      "source": [
        "def cov(x,y):\n",
        "   sum=((np.array(x)-np.array(x).mean())*(np.array(y)-np.array(y).mean())).sum()\n",
        "   number=len(x)-1\n",
        "   return (sum/number)"
      ],
      "metadata": {
        "id": "UZBxC0qKHaz9"
      },
      "execution_count": null,
      "outputs": []
    },
    {
      "cell_type": "code",
      "source": [
        "cov_matrix_Σs=[[cov(x,x),cov(x,y)],[cov(y,x),cov(y,y)]]\n",
        "cov_matrix_Σs=np.array(cov_matrix_Σs)\n",
        "print(cov_matrix_Σs )"
      ],
      "metadata": {
        "id": "uT8afkfVIqUJ",
        "colab": {
          "base_uri": "https://localhost:8080/"
        },
        "outputId": "d8595f98-8b2c-40c2-c202-ffe569d8c398"
      },
      "execution_count": null,
      "outputs": [
        {
          "output_type": "stream",
          "name": "stdout",
          "text": [
            "[[1.44581137 0.54555525]\n",
            " [0.54555525 1.56025964]]\n"
          ]
        }
      ]
    },
    {
      "cell_type": "code",
      "source": [
        "eigen_values,eigen_vectors= np.linalg.eig((cov_matrix_Σs))"
      ],
      "metadata": {
        "id": "LJxDbhWtJKyU"
      },
      "execution_count": null,
      "outputs": []
    },
    {
      "cell_type": "code",
      "source": [
        "print(eigen_values)"
      ],
      "metadata": {
        "id": "5cSltAteJusT",
        "colab": {
          "base_uri": "https://localhost:8080/"
        },
        "outputId": "fad08e02-443b-4f49-908e-bcf268d3b556"
      },
      "execution_count": null,
      "outputs": [
        {
          "output_type": "stream",
          "name": "stdout",
          "text": [
            "[0.9544873  2.05158371]\n"
          ]
        }
      ]
    },
    {
      "cell_type": "code",
      "source": [
        "print(eigen_vectors)"
      ],
      "metadata": {
        "id": "aMWqt5C4JyoH",
        "colab": {
          "base_uri": "https://localhost:8080/"
        },
        "outputId": "f7e15ec4-2692-42fc-97e9-514893c52981"
      },
      "execution_count": null,
      "outputs": [
        {
          "output_type": "stream",
          "name": "stdout",
          "text": [
            "[[-0.74307444 -0.66920877]\n",
            " [ 0.66920877 -0.74307444]]\n"
          ]
        }
      ]
    },
    {
      "cell_type": "code",
      "source": [
        "plt.plot(x, y,'+',color='gold',label='datapoints')\n",
        "plt.plot(np.array(eigen_vectors)[0][0],np.array(eigen_vectors)[0][1],'o',color='blue')\n",
        "plt.plot(np.array(eigen_vectors)[1][0],np.array(eigen_vectors)[1][1],'o',color='blue',label='eigen vector')\n",
        "plt.ylabel('y')\n",
        "plt.xlabel('x')\n",
        "plt.axis('equal')\n",
        "plt.legend(loc=\"upper left\")\n",
        "plt.show()"
      ],
      "metadata": {
        "id": "YA9YNvS-J2Z2",
        "colab": {
          "base_uri": "https://localhost:8080/"
        },
        "outputId": "57c01678-8c4c-4179-ac51-6e99c468f8ba"
      },
      "execution_count": null,
      "outputs": [
        {
          "output_type": "display_data",
          "data": {
            "text/plain": [
              "<Figure size 432x288 with 1 Axes>"
            ],
            "image/png": "[encoded data removed]"
          },
          "metadata": {}
        }
      ]
    },
    {
      "cell_type": "markdown",
      "source": [
        "## Q2). Perform the transformation 𝑌 = (Σs^(−1/2))𝑋 on the datapoints X. Calculate the covariance matrix of transformed datapoints Y , say Σy . Comment on the obtained covariance matrix and infer what was the purpose of the transformation."
      ],
      "metadata": {
        "id": "eRi2IOrwMnQz"
      }
    },
    {
      "cell_type": "code",
      "source": [
        "from scipy.linalg import fractional_matrix_power\n",
        "power_Σs= fractional_matrix_power(cov_matrix_Σs,(-1/2))\n",
        "print(power_Σs)"
      ],
      "metadata": {
        "id": "eE0VRZuKNgQs",
        "colab": {
          "base_uri": "https://localhost:8080/"
        },
        "outputId": "7df02a9f-b572-4e4e-b992-f5878abbe361"
      },
      "execution_count": null,
      "outputs": [
        {
          "output_type": "stream",
          "name": "stdout",
          "text": [
            "[[ 0.87783515 -0.16181385]\n",
            " [-0.16181385  0.84388934]]\n"
          ]
        }
      ]
    },
    {
      "cell_type": "code",
      "source": [
        "Y=[]\n",
        "for i in range(len(x)):\n",
        "    l=np.transpose(np.asmatrix([x[i],y[i]]))\n",
        "    mat=np.array((power_Σs*l))\n",
        "    #print(mat)\n",
        "    Y.append([mat[0][0],mat[1][0]])\n",
        "print(Y)\n",
        "\n"
      ],
      "metadata": {
        "id": "bRVR4gkROQ_1",
        "colab": {
          "base_uri": "https://localhost:8080/"
        },
        "outputId": "d253f270-a261-4ed4-80b0-07c788c56983"
      },
      "execution_count": null,
      "outputs": [
        {
          "output_type": "stream",
          "name": "stdout",
          "text": [
            "[[0.42374294203160223, 0.25812858640760455], [-0.9847894138301678, -1.6380801072276134], [0.3827357770934967, 1.593810501049925], [-0.38284468431580343, -0.5460009934603874], [-0.34949179057264734, 0.6968508787595952], [0.27924977243266164, -0.1745769518597869], [0.6832886905712194, -0.24440975520974564], [1.0293893558422447, 0.5110042695186411], [-0.4552933316795283, -0.04390614814972936], [0.012413713764255652, 0.9777317146737298], [-1.1923580875805677, 0.10765345473922154], [-0.6344769693516997, -0.8787605904290835], [-0.1694062169318012, 0.012868433848990501], [-1.5682875526618556, -0.09699923116924025], [-1.3376313508678743, -0.8223705736865778], [-0.40759203540443234, -0.6878901721703748], [1.6519619687961162, -0.36291739046074345], [-0.8627141277874619, 0.8178535310319992], [-1.3266334568105842, -2.5534703563215624], [-1.3709692228511832, 0.36476661075122496], [-0.25494621561532377, 0.6168997954821088], [-1.7364898108642668, 0.541398349145457], [0.89105818266847, -0.685610897622187], [-1.1194095887553244, 0.6845909664020176], [0.5428794465869718, -0.13440211197032065], [-0.26514152169017585, 0.048958626102805276], [1.7819206862698342, -1.74257989228307], [-0.4565602335315775, -0.5856208327999102], [0.4808223400584535, -1.9665945422632725], [-0.7849521175236752, -1.1441757121640097], [-0.2842370226722091, 0.4126487277330718], [0.628816696179568, 0.4773838331815965], [-0.5763230028581728, 0.22024444092880202], [1.1371358591368899, -1.3678337881308755], [-0.4545672204618861, -0.7637988966657923], [-0.578759940377561, -2.397723847118289], [0.36417707032549607, 0.036574677427680086], [-1.5896347236303467, 0.7787573829102514], [1.276494173734822, -0.7296681172962476], [0.5941081980509908, -0.6971280848586341], [2.496065464651794, 1.5097332124828196], [-1.2510505818780158, -1.9287136763240387], [0.16359069429283524, -1.1564999305321406], [-1.219745818893537, -0.040610861352313954], [-0.8272311819867173, -0.7545678198084875], [-0.552532457796146, -1.6702558000331444], [-0.3158855155797176, -0.5031396132820929], [1.6793593410765864, -2.0520155354194585], [2.531585638815486, 0.7356564059099224], [-0.2941103260052385, 0.6239589908481626], [0.5259321803055066, 1.2094305319546261], [-2.004477311195948, -0.07834097474657542], [0.3595765424771686, -1.503646350967537], [-0.6701265044600775, 0.2908157333453053], [-0.5534771012461305, 0.5224343406337253], [-1.0753241528744482, -1.2223972963864114], [0.543292273769232, 0.05578742562681148], [1.3992492756833907, 0.19173461686993465], [-0.025291916170710582, -1.8352612360380482], [0.2648796600676053, 0.6579215261407751], [-0.9878924152316574, -2.7457097861296464], [1.1176334878754925, 0.5882223730045755], [1.278440232302307, -1.1256926835811498], [0.33105545522385166, -0.2812101080415125], [0.19181377228651647, 0.12745410678857239], [1.1960749896987886, 0.10827875291733666], [0.7079022159673214, 0.1433833287208851], [1.1715426550037673, 1.4332424253737321], [0.22947194905804408, 1.5084570803243413], [1.954566212266461, -0.507994754668005], [0.6713829079017982, 0.8042203883174974], [1.0647452885765272, 1.0977547648726675], [0.4118891405812745, -0.8594052212119438], [-0.41824116480381757, -0.6931063108676909], [-0.3340320923667137, 2.1805813793884568], [0.42185998170196126, 0.7467139857517634], [1.9660677580861552, 0.30933252983115916], [0.312242081116309, 0.19064401505266332], [-1.8826603558376347, 0.48720936333953224], [-1.0969726519526724, 0.17338191850001983], [0.8657924555445644, 0.4554446361504557], [-0.5381731280595687, 1.6590206166704022], [0.3407707112690871, 0.7961772184889089], [-1.2366029956024627, -0.7662047497688179], [-0.4109907135203676, -0.5229547326418342], [-0.6572878861743976, 1.3380205331073884], [-0.46138231347034175, 0.39280935036960885], [-0.5850575817091078, -0.09925690102263528], [0.8050694329223271, -2.804634988264785], [0.7752115695006823, -1.859496267168062], [-1.7872946915174557, 1.030987817644739], [0.1119493908296822, 0.09500157259947334], [0.004292402747494345, -0.5543402141504885], [-0.254831389093196, 1.2141479512832474], [1.7472155534930758, -0.8428470396810552], [0.6816140279868974, -1.2630162400414806], [0.0474848741548109, 0.5891875552907822], [-0.5400204480925552, -1.144815732644174], [-0.2458821232629571, 0.2803953532530458], [0.45538035921554376, -1.487269468466475], [0.8153252966799822, 0.8467560836487168], [0.14734790647698387, 0.5897307913012185], [0.3478460595496034, 0.26231027749715663], [1.3102543567975327, 0.048259341601473826], [-0.7681518847892399, 0.05209064187668912], [-1.7151210247894781, 0.18513777730005943], [0.3833333951205569, -0.04876767134333064], [-0.406662670792853, -0.3291960140137908], [-0.6501978473944636, 0.3857431076862051], [-0.0623300074731461, -0.5256260616838352], [0.48793925865613796, -0.20582988337359245], [-1.126566479292761, -2.2578051671644777], [0.5482043010323785, 0.3143785858280045], [1.1942404486098095, 0.6463280336678967], [-0.3512187461700715, 0.40559010731741585], [1.000488776778943, -1.2290666138512822], [-1.9250984549055512, 0.7065663034065149], [-0.020867620028435174, -1.6146016742294649], [0.790203867747296, -1.0831813961464287], [-0.130511004924286, 0.0023946284440135093], [0.38937871990800166, -0.7307764854726064], [0.8700323292856893, 0.02831943657164651], [-0.6481115305203754, 0.3295982274128344], [-1.7254690508744577, -1.153573043659934], [1.003988081735451, 1.4196651822344037], [-0.5507323276296155, 1.0172736836781804], [1.9846269046500638, -0.8436170332517188], [0.14443922804131534, -0.48859060063765475], [-1.37591573642909, 1.5594478688805122], [0.13027550451220632, 1.1639158661100235], [0.5145874068034889, -1.1096332954709287], [0.28507684856250276, 0.33675762830124917], [1.427327270880929, -0.5069705248217617], [1.6458154551649593, 0.886391117679604], [-0.27113481113334176, 0.7428765791492904], [-0.7740866134475741, 1.4041939934637329], [-1.0171784632321041, -2.081480958034253], [-1.4627538947001955, 1.7356230887891393], [0.6033931299882884, 0.15960270098326784], [-0.8792033912646691, 1.3313205494435978], [0.9972034518727383, 0.030261014982264356], [-1.4654187711073365, -0.3941600007759416], [-1.193906017554136, 0.8052232066531684], [-0.2623762464237797, 0.2990317340117714], [-1.0438276556016508, 0.013250454345984763], [-0.8797040787267194, 1.1981271517548036], [-0.3775124306789783, -0.9066687705430596], [0.3225162474979683, 0.4227014384971807], [-0.4421100910606929, -0.6251164394922177], [0.04395516237162411, -1.030496403804937], [-1.135171090813159, 0.6887638485592665], [0.09308053957393402, -0.0027048722646011263], [1.2047015280984048, 0.17433057856864015], [0.7803621113686737, -0.14872797246569772], [1.2082732469966375, -1.3412820919433528], [0.788381653154465, 1.7937573388690515], [2.1421260240618754, 0.8496740179210089], [-0.3873875634334438, 1.0855358230454988], [1.7829548817674186, 0.9462140636419787], [0.08592021639959416, 0.48131864389187534], [-1.202460983531044, 0.4355042931809825], [0.07068611688132242, -0.767592991443114], [0.35426400284588083, 0.32291046855342925], [-0.036670249811009414, 0.9905312398399513], [0.8322540227594524, -0.24137707765433003], [-1.3769088957456068, 1.5198462466432268], [-0.09541919383800679, 0.22492301362121828], [-0.7935923151706463, -0.20412470536482508], [-0.641666368632832, 0.07412311535047443], [-1.4869706972832926, -0.6869911393318386], [-0.7185443202984054, -1.0709688881113062], [-1.5429630835267192, -1.8321602991012509], [0.23155673969809396, -1.585500959951837], [-1.5272073656856056, 1.027690217231791], [-1.8081258995988256, 0.5086032943435745], [0.577659456700765, -0.6583136335495322], [1.219163182268498, -0.2013153717380579], [-0.07269015504139958, 0.9719821919282252], [0.516375103875318, -1.6616590755360923], [-0.5361421264281435, -0.9296941325865092], [-1.0545816332058646, 0.9537558473627914], [1.753648458295247, -0.7319282374728673], [0.8344903095305926, 0.20492077588581128], [-0.4692199442356856, 0.1986016243838967], [0.14899301602979445, 0.928423754430801], [0.8153289007646917, -0.8621810073248476], [-0.6357967608428972, -0.07064452715897854], [-1.4911056688758928, -0.6418706795426053], [0.3198665104812663, 1.8742948729993436], [-0.7252788292165988, 1.9667983064360441], [0.11033647895319346, -1.4311373761483963], [0.45273642330032715, 0.6903367753303463], [0.2848622526627913, 0.5259202752706816], [-0.27091775195392076, -0.4867593430014303], [-1.238017108620089, 0.6488577620865266], [0.237562534673177, -2.1098112413581123], [-0.12035982350091906, 0.48761599590901294], [0.4178966543505674, 0.22540927869624752], [2.284322133672489, 0.9593242844027192], [1.1104427470759093, 0.6819760940766225], [-0.7439301743275842, -0.2280596321623399], [-1.8028244677864245, 1.510322385944932], [-2.659387036531543, -1.811442441744941], [-1.168787651808821, -0.24740090569611806], [-0.36599944120743155, -1.3277424800442192], [-1.4073475122579533, -1.0900393841745177], [1.3295202134071418, -0.6245732555844561], [0.32929990093090794, -1.3097837223903668], [-0.019911598520523197, 0.43671606881204117], [-0.7506220291866216, -0.01185077507535437], [1.3358048326875023, -0.06725253204984774], [0.8137974133552283, -1.3670989105669906], [0.3644685546951327, -0.051656700544111145], [0.49017936454903954, 1.0651185115488715], [-1.0126408334972603, 1.1353184048731035], [-0.6895675008489831, 0.20236715879552303], [1.6070954986214099, -0.12221674297532564], [0.7505920854250132, -0.29586301722130093], [0.9474374383953612, 0.10768338255980359], [-1.3225548448169233, 0.42587949605691816], [-1.4182676087963175, 0.926512546452806], [0.9154635627470301, -0.021751351474852965], [0.02389879328840111, 0.6993466395759185], [0.8229044661817735, -0.11405453702124987], [-0.6580580127057116, -0.5775401462427925], [0.45678335311211643, 0.6095529744876396], [0.08818734741567014, -0.45824811645273145], [1.4331379093012975, -0.2819757294189037], [-1.8336950734498707, -0.46201829562913166], [1.91085732216197, -2.0430999883979544], [0.8193640821616085, 0.7806986203989255], [0.3094288934757868, 0.21304618483948495], [1.2136989089424632, 0.3695679662534057], [-1.8327925155276585, 0.16053163040869303], [0.15378377831040319, 0.63066316235794], [0.7546106222450879, -2.137777664119429], [-0.3153311371990437, 1.045406690483753], [0.20249892113188098, 0.012280682628865017], [-0.0009570585671465626, 1.515136736023718], [-0.7766628273846286, -0.4506637902639768], [3.6065433993102034, -1.4489824246341625], [0.5781154025513278, 0.4866382355765418], [1.564253121571741, 1.2437440598109148], [-0.1770731802739854, 0.6072481052427458], [0.4249198935031262, -2.177965842233718], [-0.11407406795205921, -0.9343289047152027], [-0.28357558814434614, 0.793828535715041], [1.333994836497112, 0.5707066722001413], [-0.744550549248782, -1.4757474481123416], [-2.203937351586531, -0.05696935719428314], [1.9344511495370345, 1.9317646862938362], [0.3958239020405516, 0.24382311551553168], [0.2392941888757516, -0.6611811432706045], [-0.8197364037929689, 0.41915757809161824], [0.08996920883837853, -0.12222353043701369], [1.3502378372016466, 0.4586738732360775], [-0.6482591022791195, -1.4752427723854855], [-0.6267853877210894, -1.4198649723933419], [-1.6528761308870257, -0.3904234126596693], [0.1609961543945602, -0.5781509172466565], [-1.454722030011374, -0.008633102988627961], [0.6110079990974611, 0.7203574321933126], [1.3421053508248026, 2.5917926424062934], [0.6953058097037037, 0.89032420005177], [0.313822363896412, -0.42141930609880446], [0.46063034311087103, -0.15320860568647804], [-0.9986414515503804, -0.7382867057883842], [-1.17786890032069, -0.5544042946149742], [0.0038435167267108494, 0.8731800720318055], [-0.30195914169863414, -0.2389860666892229], [0.5931938199932767, -1.6874029495122036], [-1.044459248945351, 0.08539815882727259], [0.6133363711078524, 0.029599483213474623], [-1.1426629040240894, 0.6792274762320718], [-0.6228376978352559, 0.03591851776629072], [-0.18039430334149997, -1.398513719493734], [-0.323732895217392, 1.1355720180210838], [1.37299804590212, -1.208260883144868], [-0.9747505027343123, 0.4691484158927298], [-0.5334776368247832, 0.380037104423989], [-0.10574070659836476, 0.8372484582651665], [-1.4684466485042715, 0.7214583934776346], [-0.17003684383377787, -0.9763924391319143], [1.3159699468379678, 2.185145636020667], [0.6079176468877213, 1.1679445790965133], [-0.5351331281644021, 0.049854000035389937], [-1.442393594686316, 0.556420594896498], [-0.7083980167673652, -1.0117845276966146], [-1.041002679075047, -0.6880320592179043], [-0.6728356974969417, 0.8019941683891], [-0.2722243684441313, 2.9803651146066863], [0.2370264676346673, -0.15911172779942373], [0.20511240996789087, -0.8810607247467618], [0.9589805994363325, -0.9207853113517128], [-0.668078179041449, -0.4300591206249267], [0.13355453851415966, -0.5676806013169858], [-0.8412847374183459, -1.9246206684332416], [-1.8223859278273178, 0.2929260671930759], [-0.31553655980607354, -0.6315812971977585], [0.08130598788466209, -0.3180825543940247]]\n"
          ]
        }
      ]
    },
    {
      "cell_type": "code",
      "source": [
        "x_new=[]\n",
        "y_new=[]\n",
        "for i in range(len(Y)):\n",
        "   x_new.append(Y[i][0])\n",
        "   y_new.append(Y[i][1])"
      ],
      "metadata": {
        "id": "0-BgcR4eOPCO"
      },
      "execution_count": null,
      "outputs": []
    },
    {
      "cell_type": "code",
      "source": [
        "print(x_new)\n",
        "print(y_new)"
      ],
      "metadata": {
        "id": "8jagjK8LPQh3",
        "colab": {
          "base_uri": "https://localhost:8080/"
        },
        "outputId": "cafdaa4d-83d7-4bcf-d887-efa14ffeb79f"
      },
      "execution_count": null,
      "outputs": [
        {
          "output_type": "stream",
          "name": "stdout",
          "text": [
            "[0.42374294203160223, -0.9847894138301678, 0.3827357770934967, -0.38284468431580343, -0.34949179057264734, 0.27924977243266164, 0.6832886905712194, 1.0293893558422447, -0.4552933316795283, 0.012413713764255652, -1.1923580875805677, -0.6344769693516997, -0.1694062169318012, -1.5682875526618556, -1.3376313508678743, -0.40759203540443234, 1.6519619687961162, -0.8627141277874619, -1.3266334568105842, -1.3709692228511832, -0.25494621561532377, -1.7364898108642668, 0.89105818266847, -1.1194095887553244, 0.5428794465869718, -0.26514152169017585, 1.7819206862698342, -0.4565602335315775, 0.4808223400584535, -0.7849521175236752, -0.2842370226722091, 0.628816696179568, -0.5763230028581728, 1.1371358591368899, -0.4545672204618861, -0.578759940377561, 0.36417707032549607, -1.5896347236303467, 1.276494173734822, 0.5941081980509908, 2.496065464651794, -1.2510505818780158, 0.16359069429283524, -1.219745818893537, -0.8272311819867173, -0.552532457796146, -0.3158855155797176, 1.6793593410765864, 2.531585638815486, -0.2941103260052385, 0.5259321803055066, -2.004477311195948, 0.3595765424771686, -0.6701265044600775, -0.5534771012461305, -1.0753241528744482, 0.543292273769232, 1.3992492756833907, -0.025291916170710582, 0.2648796600676053, -0.9878924152316574, 1.1176334878754925, 1.278440232302307, 0.33105545522385166, 0.19181377228651647, 1.1960749896987886, 0.7079022159673214, 1.1715426550037673, 0.22947194905804408, 1.954566212266461, 0.6713829079017982, 1.0647452885765272, 0.4118891405812745, -0.41824116480381757, -0.3340320923667137, 0.42185998170196126, 1.9660677580861552, 0.312242081116309, -1.8826603558376347, -1.0969726519526724, 0.8657924555445644, -0.5381731280595687, 0.3407707112690871, -1.2366029956024627, -0.4109907135203676, -0.6572878861743976, -0.46138231347034175, -0.5850575817091078, 0.8050694329223271, 0.7752115695006823, -1.7872946915174557, 0.1119493908296822, 0.004292402747494345, -0.254831389093196, 1.7472155534930758, 0.6816140279868974, 0.0474848741548109, -0.5400204480925552, -0.2458821232629571, 0.45538035921554376, 0.8153252966799822, 0.14734790647698387, 0.3478460595496034, 1.3102543567975327, -0.7681518847892399, -1.7151210247894781, 0.3833333951205569, -0.406662670792853, -0.6501978473944636, -0.0623300074731461, 0.48793925865613796, -1.126566479292761, 0.5482043010323785, 1.1942404486098095, -0.3512187461700715, 1.000488776778943, -1.9250984549055512, -0.020867620028435174, 0.790203867747296, -0.130511004924286, 0.38937871990800166, 0.8700323292856893, -0.6481115305203754, -1.7254690508744577, 1.003988081735451, -0.5507323276296155, 1.9846269046500638, 0.14443922804131534, -1.37591573642909, 0.13027550451220632, 0.5145874068034889, 0.28507684856250276, 1.427327270880929, 1.6458154551649593, -0.27113481113334176, -0.7740866134475741, -1.0171784632321041, -1.4627538947001955, 0.6033931299882884, -0.8792033912646691, 0.9972034518727383, -1.4654187711073365, -1.193906017554136, -0.2623762464237797, -1.0438276556016508, -0.8797040787267194, -0.3775124306789783, 0.3225162474979683, -0.4421100910606929, 0.04395516237162411, -1.135171090813159, 0.09308053957393402, 1.2047015280984048, 0.7803621113686737, 1.2082732469966375, 0.788381653154465, 2.1421260240618754, -0.3873875634334438, 1.7829548817674186, 0.08592021639959416, -1.202460983531044, 0.07068611688132242, 0.35426400284588083, -0.036670249811009414, 0.8322540227594524, -1.3769088957456068, -0.09541919383800679, -0.7935923151706463, -0.641666368632832, -1.4869706972832926, -0.7185443202984054, -1.5429630835267192, 0.23155673969809396, -1.5272073656856056, -1.8081258995988256, 0.577659456700765, 1.219163182268498, -0.07269015504139958, 0.516375103875318, -0.5361421264281435, -1.0545816332058646, 1.753648458295247, 0.8344903095305926, -0.4692199442356856, 0.14899301602979445, 0.8153289007646917, -0.6357967608428972, -1.4911056688758928, 0.3198665104812663, -0.7252788292165988, 0.11033647895319346, 0.45273642330032715, 0.2848622526627913, -0.27091775195392076, -1.238017108620089, 0.237562534673177, -0.12035982350091906, 0.4178966543505674, 2.284322133672489, 1.1104427470759093, -0.7439301743275842, -1.8028244677864245, -2.659387036531543, -1.168787651808821, -0.36599944120743155, -1.4073475122579533, 1.3295202134071418, 0.32929990093090794, -0.019911598520523197, -0.7506220291866216, 1.3358048326875023, 0.8137974133552283, 0.3644685546951327, 0.49017936454903954, -1.0126408334972603, -0.6895675008489831, 1.6070954986214099, 0.7505920854250132, 0.9474374383953612, -1.3225548448169233, -1.4182676087963175, 0.9154635627470301, 0.02389879328840111, 0.8229044661817735, -0.6580580127057116, 0.45678335311211643, 0.08818734741567014, 1.4331379093012975, -1.8336950734498707, 1.91085732216197, 0.8193640821616085, 0.3094288934757868, 1.2136989089424632, -1.8327925155276585, 0.15378377831040319, 0.7546106222450879, -0.3153311371990437, 0.20249892113188098, -0.0009570585671465626, -0.7766628273846286, 3.6065433993102034, 0.5781154025513278, 1.564253121571741, -0.1770731802739854, 0.4249198935031262, -0.11407406795205921, -0.28357558814434614, 1.333994836497112, -0.744550549248782, -2.203937351586531, 1.9344511495370345, 0.3958239020405516, 0.2392941888757516, -0.8197364037929689, 0.08996920883837853, 1.3502378372016466, -0.6482591022791195, -0.6267853877210894, -1.6528761308870257, 0.1609961543945602, -1.454722030011374, 0.6110079990974611, 1.3421053508248026, 0.6953058097037037, 0.313822363896412, 0.46063034311087103, -0.9986414515503804, -1.17786890032069, 0.0038435167267108494, -0.30195914169863414, 0.5931938199932767, -1.044459248945351, 0.6133363711078524, -1.1426629040240894, -0.6228376978352559, -0.18039430334149997, -0.323732895217392, 1.37299804590212, -0.9747505027343123, -0.5334776368247832, -0.10574070659836476, -1.4684466485042715, -0.17003684383377787, 1.3159699468379678, 0.6079176468877213, -0.5351331281644021, -1.442393594686316, -0.7083980167673652, -1.041002679075047, -0.6728356974969417, -0.2722243684441313, 0.2370264676346673, 0.20511240996789087, 0.9589805994363325, -0.668078179041449, 0.13355453851415966, -0.8412847374183459, -1.8223859278273178, -0.31553655980607354, 0.08130598788466209]\n",
            "[0.25812858640760455, -1.6380801072276134, 1.593810501049925, -0.5460009934603874, 0.6968508787595952, -0.1745769518597869, -0.24440975520974564, 0.5110042695186411, -0.04390614814972936, 0.9777317146737298, 0.10765345473922154, -0.8787605904290835, 0.012868433848990501, -0.09699923116924025, -0.8223705736865778, -0.6878901721703748, -0.36291739046074345, 0.8178535310319992, -2.5534703563215624, 0.36476661075122496, 0.6168997954821088, 0.541398349145457, -0.685610897622187, 0.6845909664020176, -0.13440211197032065, 0.048958626102805276, -1.74257989228307, -0.5856208327999102, -1.9665945422632725, -1.1441757121640097, 0.4126487277330718, 0.4773838331815965, 0.22024444092880202, -1.3678337881308755, -0.7637988966657923, -2.397723847118289, 0.036574677427680086, 0.7787573829102514, -0.7296681172962476, -0.6971280848586341, 1.5097332124828196, -1.9287136763240387, -1.1564999305321406, -0.040610861352313954, -0.7545678198084875, -1.6702558000331444, -0.5031396132820929, -2.0520155354194585, 0.7356564059099224, 0.6239589908481626, 1.2094305319546261, -0.07834097474657542, -1.503646350967537, 0.2908157333453053, 0.5224343406337253, -1.2223972963864114, 0.05578742562681148, 0.19173461686993465, -1.8352612360380482, 0.6579215261407751, -2.7457097861296464, 0.5882223730045755, -1.1256926835811498, -0.2812101080415125, 0.12745410678857239, 0.10827875291733666, 0.1433833287208851, 1.4332424253737321, 1.5084570803243413, -0.507994754668005, 0.8042203883174974, 1.0977547648726675, -0.8594052212119438, -0.6931063108676909, 2.1805813793884568, 0.7467139857517634, 0.30933252983115916, 0.19064401505266332, 0.48720936333953224, 0.17338191850001983, 0.4554446361504557, 1.6590206166704022, 0.7961772184889089, -0.7662047497688179, -0.5229547326418342, 1.3380205331073884, 0.39280935036960885, -0.09925690102263528, -2.804634988264785, -1.859496267168062, 1.030987817644739, 0.09500157259947334, -0.5543402141504885, 1.2141479512832474, -0.8428470396810552, -1.2630162400414806, 0.5891875552907822, -1.144815732644174, 0.2803953532530458, -1.487269468466475, 0.8467560836487168, 0.5897307913012185, 0.26231027749715663, 0.048259341601473826, 0.05209064187668912, 0.18513777730005943, -0.04876767134333064, -0.3291960140137908, 0.3857431076862051, -0.5256260616838352, -0.20582988337359245, -2.2578051671644777, 0.3143785858280045, 0.6463280336678967, 0.40559010731741585, -1.2290666138512822, 0.7065663034065149, -1.6146016742294649, -1.0831813961464287, 0.0023946284440135093, -0.7307764854726064, 0.02831943657164651, 0.3295982274128344, -1.153573043659934, 1.4196651822344037, 1.0172736836781804, -0.8436170332517188, -0.48859060063765475, 1.5594478688805122, 1.1639158661100235, -1.1096332954709287, 0.33675762830124917, -0.5069705248217617, 0.886391117679604, 0.7428765791492904, 1.4041939934637329, -2.081480958034253, 1.7356230887891393, 0.15960270098326784, 1.3313205494435978, 0.030261014982264356, -0.3941600007759416, 0.8052232066531684, 0.2990317340117714, 0.013250454345984763, 1.1981271517548036, -0.9066687705430596, 0.4227014384971807, -0.6251164394922177, -1.030496403804937, 0.6887638485592665, -0.0027048722646011263, 0.17433057856864015, -0.14872797246569772, -1.3412820919433528, 1.7937573388690515, 0.8496740179210089, 1.0855358230454988, 0.9462140636419787, 0.48131864389187534, 0.4355042931809825, -0.767592991443114, 0.32291046855342925, 0.9905312398399513, -0.24137707765433003, 1.5198462466432268, 0.22492301362121828, -0.20412470536482508, 0.07412311535047443, -0.6869911393318386, -1.0709688881113062, -1.8321602991012509, -1.585500959951837, 1.027690217231791, 0.5086032943435745, -0.6583136335495322, -0.2013153717380579, 0.9719821919282252, -1.6616590755360923, -0.9296941325865092, 0.9537558473627914, -0.7319282374728673, 0.20492077588581128, 0.1986016243838967, 0.928423754430801, -0.8621810073248476, -0.07064452715897854, -0.6418706795426053, 1.8742948729993436, 1.9667983064360441, -1.4311373761483963, 0.6903367753303463, 0.5259202752706816, -0.4867593430014303, 0.6488577620865266, -2.1098112413581123, 0.48761599590901294, 0.22540927869624752, 0.9593242844027192, 0.6819760940766225, -0.2280596321623399, 1.510322385944932, -1.811442441744941, -0.24740090569611806, -1.3277424800442192, -1.0900393841745177, -0.6245732555844561, -1.3097837223903668, 0.43671606881204117, -0.01185077507535437, -0.06725253204984774, -1.3670989105669906, -0.051656700544111145, 1.0651185115488715, 1.1353184048731035, 0.20236715879552303, -0.12221674297532564, -0.29586301722130093, 0.10768338255980359, 0.42587949605691816, 0.926512546452806, -0.021751351474852965, 0.6993466395759185, -0.11405453702124987, -0.5775401462427925, 0.6095529744876396, -0.45824811645273145, -0.2819757294189037, -0.46201829562913166, -2.0430999883979544, 0.7806986203989255, 0.21304618483948495, 0.3695679662534057, 0.16053163040869303, 0.63066316235794, -2.137777664119429, 1.045406690483753, 0.012280682628865017, 1.515136736023718, -0.4506637902639768, -1.4489824246341625, 0.4866382355765418, 1.2437440598109148, 0.6072481052427458, -2.177965842233718, -0.9343289047152027, 0.793828535715041, 0.5707066722001413, -1.4757474481123416, -0.05696935719428314, 1.9317646862938362, 0.24382311551553168, -0.6611811432706045, 0.41915757809161824, -0.12222353043701369, 0.4586738732360775, -1.4752427723854855, -1.4198649723933419, -0.3904234126596693, -0.5781509172466565, -0.008633102988627961, 0.7203574321933126, 2.5917926424062934, 0.89032420005177, -0.42141930609880446, -0.15320860568647804, -0.7382867057883842, -0.5544042946149742, 0.8731800720318055, -0.2389860666892229, -1.6874029495122036, 0.08539815882727259, 0.029599483213474623, 0.6792274762320718, 0.03591851776629072, -1.398513719493734, 1.1355720180210838, -1.208260883144868, 0.4691484158927298, 0.380037104423989, 0.8372484582651665, 0.7214583934776346, -0.9763924391319143, 2.185145636020667, 1.1679445790965133, 0.049854000035389937, 0.556420594896498, -1.0117845276966146, -0.6880320592179043, 0.8019941683891, 2.9803651146066863, -0.15911172779942373, -0.8810607247467618, -0.9207853113517128, -0.4300591206249267, -0.5676806013169858, -1.9246206684332416, 0.2929260671930759, -0.6315812971977585, -0.3180825543940247]\n"
          ]
        }
      ]
    },
    {
      "cell_type": "code",
      "source": [
        "cov_mat_Y=np.asmatrix([[cov(x_new,x_new),cov(x_new,y_new)],[cov(y_new,x_new),cov(y_new,y_new)]])\n",
        "print(cov_mat_Y)"
      ],
      "metadata": {
        "id": "0wmqbj5yPc23",
        "colab": {
          "base_uri": "https://localhost:8080/"
        },
        "outputId": "0202ac9e-6876-4c0b-d06c-0ebf0202581f"
      },
      "execution_count": null,
      "outputs": [
        {
          "output_type": "stream",
          "name": "stdout",
          "text": [
            "[[ 1.00000000e+00 -4.75279422e-17]\n",
            " [-4.75279422e-17  1.00000000e+00]]\n"
          ]
        }
      ]
    },
    {
      "cell_type": "markdown",
      "source": [
        "## Q3). Uniformly sample 10 points on the curve 𝑥^2 + y^2 =25 . Let these set of points be called P . Plot 𝑃 along with the datapoints in X . Make sure to give each point a different color [Hint : You can use properties like hue to do this] for better visualization. Report the eucledian distance of each point from µ using barplot. [10 marks]\n"
      ],
      "metadata": {
        "id": "aaqDAIwKNOkF"
      }
    },
    {
      "cell_type": "code",
      "source": [
        "import math"
      ],
      "metadata": {
        "id": "P_emEqeWbQYv"
      },
      "execution_count": null,
      "outputs": []
    },
    {
      "cell_type": "code",
      "source": [
        "def sampling():\n",
        "  pi=math.pi\n",
        "  x=[]\n",
        "  y=[]\n",
        "  i=0\n",
        "  while(i<3):\n",
        "      X=5*(math.cos((i)*(pi/5)))\n",
        "      Y=math.sqrt(25-(X*X))\n",
        "      x.append(X)\n",
        "      y.append(Y)\n",
        "      i+=1\n",
        "  for i in range(3):\n",
        "    X=-x[2-i]\n",
        "    x.append(X)\n",
        "    y.append(math.sqrt(25-(X*X)))\n",
        "  x=x+x[4:0:-1]\n",
        "  for i in range(1,5):\n",
        "    y.append(-y[i])\n",
        "  return x,y\n",
        "P=sampling()\n",
        "print(P)\n",
        "x_P=P[0]\n",
        "y_P=P[1]\n"
      ],
      "metadata": {
        "id": "8XMfhagWbCSD",
        "colab": {
          "base_uri": "https://localhost:8080/"
        },
        "outputId": "b7b7696f-31be-492d-aede-ad47b5ee6f84"
      },
      "execution_count": null,
      "outputs": [
        {
          "output_type": "stream",
          "name": "stdout",
          "text": [
            "([5.0, 4.045084971874737, 1.5450849718747373, -1.5450849718747373, -4.045084971874737, -5.0, -4.045084971874737, -1.5450849718747373, 1.5450849718747373, 4.045084971874737], [0.0, 2.9389262614623655, 4.755282581475767, 4.755282581475767, 2.9389262614623655, 0.0, -2.9389262614623655, -4.755282581475767, -4.755282581475767, -2.9389262614623655])\n"
          ]
        }
      ]
    },
    {
      "cell_type": "code",
      "source": [
        "for i in range(10):\n",
        "  print(math.sqrt((x_P[i]*x_P[i])+(y_P[i]*y_P[i])))"
      ],
      "metadata": {
        "id": "TmA5w7yjtKcZ",
        "colab": {
          "base_uri": "https://localhost:8080/"
        },
        "outputId": "6dbf7521-461f-4b90-ac12-16c03a1b4efe"
      },
      "execution_count": null,
      "outputs": [
        {
          "output_type": "stream",
          "name": "stdout",
          "text": [
            "5.0\n",
            "5.0\n",
            "5.0\n",
            "5.0\n",
            "5.0\n",
            "5.0\n",
            "5.0\n",
            "5.0\n",
            "5.0\n",
            "5.0\n"
          ]
        }
      ]
    },
    {
      "cell_type": "code",
      "source": [
        "import seaborn as sns\n",
        "import matplotlib.pyplot as plt"
      ],
      "metadata": {
        "id": "pzd3drPdpfh7"
      },
      "execution_count": null,
      "outputs": []
    },
    {
      "cell_type": "code",
      "source": [
        "plt.plot(x, y,'+',color='gold',label='datapoints')\n",
        "for j in range(10):\n",
        "    plt.scatter(P[0][j], P[1][j])\n",
        "plt.xlabel('x')\n",
        "plt.axis('square')\n",
        "plt.show()"
      ],
      "metadata": {
        "id": "sJqBiy2Snj_X",
        "colab": {
          "base_uri": "https://localhost:8080/"
        },
        "outputId": "51249eb1-93a8-4e88-e560-7b69eb77a637"
      },
      "execution_count": null,
      "outputs": [
        {
          "output_type": "display_data",
          "data": {
            "text/plain": [
              "<Figure size 432x288 with 1 Axes>"
            ],
            "image/png": "[encoded data removed]"
          },
          "metadata": {}
        }
      ]
    },
    {
      "cell_type": "code",
      "source": [
        "def euclidean_dist(x,y,P2):\n",
        "  l=[]\n",
        "  for i in range(len(x)):\n",
        "    X=(P2[0]-x[i])**2\n",
        "    Y=(P2[1]-y[i])**2\n",
        "    D=math.sqrt(X+Y)\n",
        "    l.append(D)\n",
        "  return l\n",
        "euclidean_distance=euclidean_dist(x_P,y_P,mean)\n",
        "print(euclidean_distance)"
      ],
      "metadata": {
        "id": "bOzN5XZPLuLH",
        "colab": {
          "base_uri": "https://localhost:8080/"
        },
        "outputId": "8ac5b30f-8df2-4ed3-ac63-9de0faa7f9be"
      },
      "execution_count": null,
      "outputs": [
        {
          "output_type": "stream",
          "name": "stdout",
          "text": [
            "[5.0, 5.0, 5.0, 5.0, 5.0, 5.0, 5.0, 5.0, 5.0, 5.0]\n"
          ]
        }
      ]
    },
    {
      "cell_type": "code",
      "source": [
        "P_xy=[]\n",
        "for i in range(10):\n",
        "  P_xy.append([x_P[i],y_P[i]])\n",
        "print(P_xy)"
      ],
      "metadata": {
        "id": "_EKVmTye0-Mx",
        "colab": {
          "base_uri": "https://localhost:8080/"
        },
        "outputId": "b3ed3e2e-4626-4620-c834-97a4ce39733b"
      },
      "execution_count": null,
      "outputs": [
        {
          "output_type": "stream",
          "name": "stdout",
          "text": [
            "[[5.0, 0.0], [4.045084971874737, 2.9389262614623655], [1.5450849718747373, 4.755282581475767], [-1.5450849718747373, 4.755282581475767], [-4.045084971874737, 2.9389262614623655], [-5.0, 0.0], [-4.045084971874737, -2.9389262614623655], [-1.5450849718747373, -4.755282581475767], [1.5450849718747373, -4.755282581475767], [4.045084971874737, -2.9389262614623655]]\n"
          ]
        }
      ]
    },
    {
      "cell_type": "code",
      "source": [
        "keys=['P1','P2','P3','P4','P5','P6','P7','P8','P9','P10']\n",
        "DIC={}\n",
        "for i in range(10):\n",
        "  DIC[keys[i]]=P_xy[i]\n",
        "print(DIC)"
      ],
      "metadata": {
        "id": "zs9CXrWy1Qlx",
        "colab": {
          "base_uri": "https://localhost:8080/"
        },
        "outputId": "a2c87876-80c7-4c56-a9e7-3cbd4052a3b6"
      },
      "execution_count": null,
      "outputs": [
        {
          "output_type": "stream",
          "name": "stdout",
          "text": [
            "{'P1': [5.0, 0.0], 'P2': [4.045084971874737, 2.9389262614623655], 'P3': [1.5450849718747373, 4.755282581475767], 'P4': [-1.5450849718747373, 4.755282581475767], 'P5': [-4.045084971874737, 2.9389262614623655], 'P6': [-5.0, 0.0], 'P7': [-4.045084971874737, -2.9389262614623655], 'P8': [-1.5450849718747373, -4.755282581475767], 'P9': [1.5450849718747373, -4.755282581475767], 'P10': [4.045084971874737, -2.9389262614623655]}\n"
          ]
        }
      ]
    },
    {
      "cell_type": "code",
      "source": [
        "#plotting barplot\n",
        "plt.bar(keys,euclidean_distance , color ='red',\n",
        "        width = 0.3)\n",
        " \n",
        "plt.xlabel(\"Points in P\")\n",
        "plt.ylabel(\"euclidean distance\")\n",
        "plt.title(\"distance of each point from µ using barplot\")\n",
        "plt.show()"
      ],
      "metadata": {
        "id": "pK94Gwrj2HXR",
        "colab": {
          "base_uri": "https://localhost:8080/"
        },
        "outputId": "584301d6-3c96-4427-d4af-7b860816b8ad"
      },
      "execution_count": null,
      "outputs": [
        {
          "output_type": "display_data",
          "data": {
            "text/plain": [
              "<Figure size 432x288 with 1 Axes>"
            ],
            "image/png": "[encoded data removed]"
          },
          "metadata": {}
        }
      ]
    },
    {
      "cell_type": "markdown",
      "source": [
        "## Q4). Perform the transformation 𝑄 = Σs^(-1/2)P on the datapoints P. Calculate the eucledian distance of transformed datapoints Q from µ and report it using barplot . Plot points in Q along with datapoints in Y. Make sure that the color of point before and transformation doesn’t change. Comment on the difference in eucledian distance before and after transformations of the points in P. "
      ],
      "metadata": {
        "id": "r_wgZqT-Ltxx"
      }
    },
    {
      "cell_type": "code",
      "source": [
        "Q=[]\n",
        "for i in range(len(x_P)):\n",
        "    l=np.transpose(np.asmatrix([x_P[i],y_P[i]]))\n",
        "    mat=np.array((power_Σs*l))\n",
        "    #print(mat)\n",
        "    Q.append([mat[0][0],mat[1][0]])\n",
        "print(Q)"
      ],
      "metadata": {
        "id": "2A97ASGjLtUB",
        "colab": {
          "base_uri": "https://localhost:8080/"
        },
        "outputId": "5a52baeb-9de3-41de-db62-3fd3a1508f8b"
      },
      "execution_count": null,
      "outputs": [
        {
          "output_type": "stream",
          "name": "stdout",
          "text": [
            "[[4.389175729050766, -0.8090692477193505], [3.07535878420732, 1.825577761201], [0.5868593113972305, 3.7629161144485073], [-2.1258004717522425, 4.262948408791375], [-4.02647672799292, 3.1346793032632174], [-4.389175729050766, 0.8090692477193505], [-3.07535878420732, -1.825577761201], [-0.5868593113972305, -3.7629161144485073], [2.1258004717522425, -4.262948408791375], [4.02647672799292, -3.1346793032632174]]\n"
          ]
        }
      ]
    },
    {
      "cell_type": "code",
      "source": [
        "x_Q=[]\n",
        "y_Q=[]\n",
        "for i in range(len(Q)):\n",
        "   x_Q.append(Q[i][0])\n",
        "   y_Q.append(Q[i][1])"
      ],
      "metadata": {
        "id": "5aelbwm0xm2l"
      },
      "execution_count": null,
      "outputs": []
    },
    {
      "cell_type": "code",
      "source": [
        "print(x_Q)\n",
        "print(y_Q)"
      ],
      "metadata": {
        "id": "i-VER8B7wZSn",
        "colab": {
          "base_uri": "https://localhost:8080/"
        },
        "outputId": "8529b647-2bea-4831-b082-4c011d007bb5"
      },
      "execution_count": null,
      "outputs": [
        {
          "output_type": "stream",
          "name": "stdout",
          "text": [
            "[4.389175729050766, 3.07535878420732, 0.5868593113972305, -2.1258004717522425, -4.02647672799292, -4.389175729050766, -3.07535878420732, -0.5868593113972305, 2.1258004717522425, 4.02647672799292]\n",
            "[-0.8090692477193505, 1.825577761201, 3.7629161144485073, 4.262948408791375, 3.1346793032632174, 0.8090692477193505, -1.825577761201, -3.7629161144485073, -4.262948408791375, -3.1346793032632174]\n"
          ]
        }
      ]
    },
    {
      "cell_type": "code",
      "source": [
        "print(mean)\n",
        "euclidean_distance_Q=euclidean_dist(x_Q,y_Q,mean)\n",
        "print(euclidean_distance_Q)"
      ],
      "metadata": {
        "id": "sYyTLG17MGcu",
        "colab": {
          "base_uri": "https://localhost:8080/"
        },
        "outputId": "cf99481b-4a89-40d6-b008-7a1372585ff3"
      },
      "execution_count": null,
      "outputs": [
        {
          "output_type": "stream",
          "name": "stdout",
          "text": [
            "[0, 0]\n",
            "[4.463121847775779, 3.576390053362857, 3.8084040667646972, 4.7635865460510916, 5.102815808489989, 4.463121847775779, 3.576390053362857, 3.8084040667646972, 4.7635865460510916, 5.102815808489989]\n"
          ]
        }
      ]
    },
    {
      "cell_type": "code",
      "source": [
        "keys_Q=['Q1','Q2','Q3','Q4','Q5','Q6','Q7','Q8','Q9','Q10']\n",
        "D2={}\n",
        "for i in range(10):\n",
        "  D2[keys_Q[i]]=Q[i]\n",
        "print(D2)"
      ],
      "metadata": {
        "id": "YKgEdeKb3B9p",
        "colab": {
          "base_uri": "https://localhost:8080/"
        },
        "outputId": "674953e8-acad-43c1-cbc9-f36febee52d9"
      },
      "execution_count": null,
      "outputs": [
        {
          "output_type": "stream",
          "name": "stdout",
          "text": [
            "{'Q1': [4.389175729050766, -0.8090692477193505], 'Q2': [3.07535878420732, 1.825577761201], 'Q3': [0.5868593113972305, 3.7629161144485073], 'Q4': [-2.1258004717522425, 4.262948408791375], 'Q5': [-4.02647672799292, 3.1346793032632174], 'Q6': [-4.389175729050766, 0.8090692477193505], 'Q7': [-3.07535878420732, -1.825577761201], 'Q8': [-0.5868593113972305, -3.7629161144485073], 'Q9': [2.1258004717522425, -4.262948408791375], 'Q10': [4.02647672799292, -3.1346793032632174]}\n"
          ]
        }
      ]
    },
    {
      "cell_type": "code",
      "source": [
        "#plotting barplot of Q\n",
        "plt.bar(keys_Q,euclidean_distance_Q , color ='red',\n",
        "        width = 0.3)\n",
        " \n",
        "plt.xlabel(\"Points in Q\")\n",
        "plt.ylabel(\"euclidean distance\")\n",
        "plt.title(\"euclidean distance of transformed points Q from µ using barplot\")\n",
        "plt.show()"
      ],
      "metadata": {
        "colab": {
          "base_uri": "https://localhost:8080/",
          "height": 301
        },
        "id": "To0PB0Y_Tjat",
        "outputId": "315a9fa3-f09c-46c3-b2ee-47cabbc1e132"
      },
      "execution_count": null,
      "outputs": [
        {
          "output_type": "display_data",
          "data": {
            "text/plain": [
              "<Figure size 432x288 with 1 Axes>"
            ],
            "image/png": "[encoded data removed]"
          },
          "metadata": {}
        }
      ]
    },
    {
      "cell_type": "code",
      "source": [
        "plt.plot(x_new, y_new,'+',color='gold',label='datapoints')\n",
        "for j in range(10):\n",
        "    plt.scatter(x_Q[j], y_Q[j])\n",
        "plt.xlabel('x')\n",
        "plt.axis('square')\n",
        "plt.show()"
      ],
      "metadata": {
        "id": "j1H5FhRuyApK",
        "colab": {
          "base_uri": "https://localhost:8080/",
          "height": 285
        },
        "outputId": "c6866e8a-47bf-431b-e308-66b38a463119"
      },
      "execution_count": null,
      "outputs": [
        {
          "output_type": "display_data",
          "data": {
            "text/plain": [
              "<Figure size 432x288 with 1 Axes>"
            ],
            "image/png": "[encoded data removed]"
          },
          "metadata": {}
        }
      ]
    },
    {
      "cell_type": "code",
      "source": [
        "# Initially the distance of the points from the mean is constant i.e 5 for all the points P in the circle (x^2)+(y^2)=25."
      ],
      "metadata": {
        "id": "dnr7YfvIylMi"
      },
      "execution_count": null,
      "outputs": []
    }
  ]
}