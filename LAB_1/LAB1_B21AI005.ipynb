{
  "nbformat": 4,
  "nbformat_minor": 0,
  "metadata": {
    "colab": {
      "provenance": []
    },
    "kernelspec": {
      "name": "python3",
      "display_name": "Python 3"
    },
    "language_info": {
      "name": "python"
    }
  },
  "cells": [
    {
      "cell_type": "markdown",
      "source": [
        "## **PROBLEM 1**"
      ],
      "metadata": {
        "id": "-TppIG-u0EHT"
      }
    },
    {
      "cell_type": "code",
      "source": [
        "import pandas as pd\n",
        "import numpy as np"
      ],
      "metadata": {
        "id": "LSQ04U1J2hF_"
      },
      "execution_count": 2,
      "outputs": []
    },
    {
      "cell_type": "markdown",
      "source": [
        "**Part a**\n",
        "\n",
        ">Convert file data to list\n",
        "\n",
        "\n"
      ],
      "metadata": {
        "id": "5xQcUaUm0Ldm"
      }
    },
    {
      "cell_type": "code",
      "execution_count": 4,
      "metadata": {
        "colab": {
          "base_uri": "https://localhost:8080/"
        },
        "id": "uP_gbffFzxhq",
        "outputId": "191361a4-5ed1-4e12-eaf9-64665a8e733e"
      },
      "outputs": [
        {
          "output_type": "execute_result",
          "data": {
            "text/plain": [
              "[['1',\n",
              "  \"Sector and published industry breakdowns accord with the Organisation for Economic Co-operation and Development's (OECD) recommendations for international comparability. See DataInfo+ section on Published sector and industry breakdowns for more information.\"],\n",
              " ['2',\n",
              "  'In 2019 the R&D Survey was conducted only for the business sector. Every two years, all three sectors of Business,  Government and Higher Education are surveyed.'],\n",
              " ['3',\n",
              "  'Results for this category should be treated with caution due to the small numbers of businesses in this category.'],\n",
              " ['4',\n",
              "  'Includes a wide range of ANZSIC industry codes. See DataInfo+ section on Published sector and industry breakdowns for more information.'],\n",
              " ['5', 'Based on Rolling Mean employment. See Datainfo+ for RME definitions.'],\n",
              " ['6',\n",
              "  'Only collected from the business sector. Not collected from the government or higher education sectors.'],\n",
              " ['7',\n",
              "  'Only collected from the business sector and government sectors. Not collected from the higher education sector.'],\n",
              " ['8',\n",
              "  'Only collected from the business sector and higher education sectors. Not collected from the government sector.'],\n",
              " ['9',\n",
              "  'Only collected from the government and higher education sectors. Not collected from the business sector.'],\n",
              " ['10',\n",
              "  'Only collected from the  higher education sector. Not collected from the business or government sectors.'],\n",
              " ['11',\n",
              "  \"Only collected from the the Crown Research Institutes (CRI's) portion of the government sector, and the higher education sector. Not collected from the business sector, or other entities (eg non-CRI's) in the government sector.\"],\n",
              " ['12', 'Dollar figures exclude GST and are rounded to the nearest million.'],\n",
              " ['13', 'Underlying counts of businesses are random rounded to base 3.'],\n",
              " ['14',\n",
              "  'Underlying counts of employees are rounded using graduated random rounding to base 3.'],\n",
              " ['15',\n",
              "  'Respondents are asked to allocate to each of the relevant sectors, a proportion of their total R&D expenditure. This relates to the sector that that will ultimately benefit from the results, not the nature of the R&D itself.'],\n",
              " ['16', \"Includes 'defence' and 'other' research purposes.\"],\n",
              " ['17',\n",
              "  'Research intended to benefit the sectors of Plant production and plant primary products, Animal production and animal primary products, or Mineral resources (excluding energy). Full defintions available from the survey questionnaires on DataInfo+'],\n",
              " ['18',\n",
              "  'Research intended to benefit the sectors of Energy, Manufacturing, Construction, Transport, Information and communication services, or Commercial services and tourism. Full defintions available from the survey questionnaires on DataInfo+'],\n",
              " ['19',\n",
              "  'Research intended to benefit the sectors of Health, Education and training, Law, politics, community services or Cultural understanding. Full defintions available from the survey questionnaires on DataInfo+'],\n",
              " ['20',\n",
              "  'Research intended to benefit the sectors of Econmic frameworks, Environment, Defence, other or knowledge. Full defintions available from the survey questionnaires on DataInfo+'],\n",
              " ['21', 'Includes New Zealand local government agencies.'],\n",
              " ['22',\n",
              "  'Basic research is carried out to advance knowledge, without seeking long-term economic or social benefits or making any effort to apply the results to sectors responsible for their application.'],\n",
              " ['23',\n",
              "  'Pure basic research is research to pursue new knowledge without any particular application in view. '],\n",
              " ['24',\n",
              "  'Targeted basic research is research to produce a broad base of new knowledge likely to underpin solutions to current or future applications. '],\n",
              " ['25',\n",
              "  'Applied research is investigation undertaken to acquire new knowledge. It is directed primarily towards a specific practical aim or objective.'],\n",
              " ['26',\n",
              "  'Experimental research is systematic work undertaken using existing knowledge for the purpose of creating new or improved materials, products, and/or services.'],\n",
              " ['27',\n",
              "  'Businesses were asked to indicate one main reason for carrying out or funding R&D. However, some businesses indicated more than one reason. Therefore some percentages may sum to more than 100%. Percentages are of total businesses in each industry group carrying out R&D.'],\n",
              " ['28',\n",
              "  'Some categories or groups may not equal the total, as some units can not be imputed or corrected, due to lack of appropriate information.'],\n",
              " ['29', 'Excludes licensing of intellectual property.'],\n",
              " ['30', 'Excludes subsidaries.'],\n",
              " ['31', 'No longer collected after 2014.'],\n",
              " ['32',\n",
              "  \"GDP is based on Stats NZ's GDP current price expenditure measure for the year ended 31 March for New Zealand. Latest GDP figure is provisional.\"],\n",
              " ['33',\n",
              "  'Sourced from Organisation for Economic Co-operation and Development (OECD)  Main Science and Technology Indicators (MSTI). https://stats.oecd.org/Index.aspx?DataSetCode=MSTI_PUB.'],\n",
              " ['34',\n",
              "  'For more information on definitions and reference periods, and caveats, see OECD website, or individual countries websites.'],\n",
              " ['Notes:', nan],\n",
              " ['Due to small changes in population and sample selection criteria, as well as changes in stratification, some years are not directly comparable',\n",
              "  nan],\n",
              " ['Due to rounding, figures may not add to stated totals.', nan],\n",
              " ['Symbols:', nan],\n",
              " ['... Data not collected', nan],\n",
              " ['.. Data not applicable or no data available', nan],\n",
              " ['C Confidential', nan],\n",
              " ['S Supressed for quality reasons', nan],\n",
              " ['R Revised', nan],\n",
              " ['P Provisional', nan]]"
            ]
          },
          "metadata": {},
          "execution_count": 4
        }
      ],
      "source": [
        "file_data=pd.read_csv(\"/content/data_new.csv\")\n",
        "arr_data=np.array(file_data)\n",
        "li=arr_data.tolist()\n",
        "li\n"
      ]
    },
    {
      "cell_type": "markdown",
      "source": [
        "**Part b**\n",
        "\n",
        "> Convert User Input to a Number\n",
        "\n"
      ],
      "metadata": {
        "id": "wemHcZPl3SNF"
      }
    },
    {
      "cell_type": "markdown",
      "source": [
        "Method 1:"
      ],
      "metadata": {
        "id": "Xh79CJAL5CYX"
      }
    },
    {
      "cell_type": "code",
      "source": [
        "user_input=input()\n",
        "number=int(user_input)\n",
        "print(number)\n",
        "print(type(number))"
      ],
      "metadata": {
        "colab": {
          "base_uri": "https://localhost:8080/"
        },
        "id": "L5KbYqMV3WHc",
        "outputId": "f182650f-f640-425b-a5f1-118747bd139b"
      },
      "execution_count": 5,
      "outputs": [
        {
          "output_type": "stream",
          "name": "stdout",
          "text": [
            "23\n",
            "23\n",
            "<class 'int'>\n"
          ]
        }
      ]
    },
    {
      "cell_type": "markdown",
      "source": [
        "Method 2:"
      ],
      "metadata": {
        "id": "UMvpJWoL5ILu"
      }
    },
    {
      "cell_type": "code",
      "source": [
        "user_input=input()\n",
        "number=0\n",
        "for i in user_input:\n",
        "  number=number*10+int(i)\n",
        "number\n",
        "print(type(number))"
      ],
      "metadata": {
        "colab": {
          "base_uri": "https://localhost:8080/"
        },
        "id": "1JHBGhJk5SG6",
        "outputId": "00a5e6e8-6aeb-4e4a-b70b-f27c77b3cc57"
      },
      "execution_count": 6,
      "outputs": [
        {
          "output_type": "stream",
          "name": "stdout",
          "text": [
            "23\n",
            "<class 'int'>\n"
          ]
        }
      ]
    },
    {
      "cell_type": "markdown",
      "source": [
        "**Part c**\n",
        "\n",
        ">  Convert String to Datetime in Python\n",
        "\n"
      ],
      "metadata": {
        "id": "0Omly_vm32CU"
      }
    },
    {
      "cell_type": "code",
      "source": [
        "from datetime import datetime\n",
        "input_datetime=input(\"input date and time in the format:dd/mm/yy hour:minute:second :\")\n",
        "output_datetime=datetime.strptime(input_datetime, '%d/%m/%y %H:%M:%S')\n",
        "print(output_datetime)"
      ],
      "metadata": {
        "colab": {
          "base_uri": "https://localhost:8080/"
        },
        "id": "0E4TSEjj34zS",
        "outputId": "0eda6b5b-4e23-4f94-e328-a2ea56a3a627"
      },
      "execution_count": 7,
      "outputs": [
        {
          "output_type": "stream",
          "name": "stdout",
          "text": [
            "input date and time in the format:dd/mm/yy hour:minute:second :23/03/02 12:50:5\n",
            "2002-03-23 12:50:05\n"
          ]
        }
      ]
    },
    {
      "cell_type": "markdown",
      "source": [
        "**Part d**\n",
        "\n",
        "> How to call external commands in Python?\n"
      ],
      "metadata": {
        "id": "L5DBB96o44jm"
      }
    },
    {
      "cell_type": "code",
      "source": [
        "import os\n",
        "dir_parent=\"E:akriti/files/\"\n",
        "new_dir=\"learn\"\n",
        "path=os.path.join(dir_parent,new_dir)\n",
        "path"
      ],
      "metadata": {
        "colab": {
          "base_uri": "https://localhost:8080/",
          "height": 36
        },
        "id": "iyeyw4K147JT",
        "outputId": "41f64c4f-6cfc-4e3b-c951-dc0b6950babc"
      },
      "execution_count": 8,
      "outputs": [
        {
          "output_type": "execute_result",
          "data": {
            "text/plain": [
              "'E:akriti/files/learn'"
            ],
            "application/vnd.google.colaboratory.intrinsic+json": {
              "type": "string"
            }
          },
          "metadata": {},
          "execution_count": 8
        }
      ]
    },
    {
      "cell_type": "markdown",
      "source": [
        "**Part e**\n",
        "\n",
        ">How to count the occurrences of a list item?\n",
        "\n"
      ],
      "metadata": {
        "id": "EOFR5ceF6KEn"
      }
    },
    {
      "cell_type": "markdown",
      "source": [
        "To get the count of each unique item in the list:"
      ],
      "metadata": {
        "id": "HXdp6kah6uKu"
      }
    },
    {
      "cell_type": "code",
      "source": [
        "from collections import Counter\n",
        "List=[int(i) for i in input().split(\" \")]\n",
        "count_dict=dict(Counter(List))\n",
        "count_dict\n"
      ],
      "metadata": {
        "colab": {
          "base_uri": "https://localhost:8080/"
        },
        "id": "JDh2p7m360jZ",
        "outputId": "e8a6f5bf-a5bf-4b3a-935b-a07ef095a66c"
      },
      "execution_count": 9,
      "outputs": [
        {
          "name": "stdout",
          "output_type": "stream",
          "text": [
            "6 7 8 5 6 7\n"
          ]
        },
        {
          "output_type": "execute_result",
          "data": {
            "text/plain": [
              "{6: 2, 7: 2, 8: 1, 5: 1}"
            ]
          },
          "metadata": {},
          "execution_count": 9
        }
      ]
    },
    {
      "cell_type": "markdown",
      "source": [
        "To get the count of a single list item specified by user:"
      ],
      "metadata": {
        "id": "KaUOXa5o6VZf"
      }
    },
    {
      "cell_type": "code",
      "source": [
        "from collections import Counter\n",
        "List=[int(x) for x in input().split(\" \")]\n",
        "count_dict=dict(Counter(List))\n",
        "user_input=int(input())\n",
        "count=count_dict.get(user_input,0)\n",
        "print(count)\n",
        "\n"
      ],
      "metadata": {
        "colab": {
          "base_uri": "https://localhost:8080/"
        },
        "id": "47V12aBb6NEX",
        "outputId": "21e9fef8-987a-449a-9b6e-5ccd00d6af03"
      },
      "execution_count": 10,
      "outputs": [
        {
          "output_type": "stream",
          "name": "stdout",
          "text": [
            "5 6 7 5 5 6\n",
            "5\n",
            "3\n"
          ]
        }
      ]
    },
    {
      "cell_type": "markdown",
      "source": [
        "**Part f**\n",
        "\n",
        "> How to flatten lists in Python?\n",
        "\n"
      ],
      "metadata": {
        "id": "48XLdDwG8Phf"
      }
    },
    {
      "cell_type": "code",
      "source": [
        "def flatten_list(li):\n",
        "  new_list=[]\n",
        "  for i in li:\n",
        "    if(type(i)==list):\n",
        "      li_2=flatten_list(i)\n",
        "      for j in li_2:\n",
        "        new_list.append(j)\n",
        "    else:\n",
        "      new_list.append(i)\n",
        "  return new_list\n",
        "list_input=[2,4,5,6,[5,7,[8,9,[10,11]],[6,7]],[7,8]]\n",
        "list_output=flatten_list(list_input)\n",
        "list_output"
      ],
      "metadata": {
        "colab": {
          "base_uri": "https://localhost:8080/"
        },
        "id": "Lbb6jAOV8Sif",
        "outputId": "507bc11d-1a6e-4885-fbb5-4887c5240dee"
      },
      "execution_count": 11,
      "outputs": [
        {
          "output_type": "execute_result",
          "data": {
            "text/plain": [
              "[2, 4, 5, 6, 5, 7, 8, 9, 10, 11, 6, 7, 7, 8]"
            ]
          },
          "metadata": {},
          "execution_count": 11
        }
      ]
    },
    {
      "cell_type": "markdown",
      "source": [
        "**Part g**\n",
        "\n",
        "> How to merge dictionaries in Python?\n"
      ],
      "metadata": {
        "id": "DiZIxtrwBbn7"
      }
    },
    {
      "cell_type": "code",
      "source": [
        "def mergeDict(dict_one,dict_two):\n",
        "  return dict_one.update(dict_two)\n",
        "\n",
        "dict_one={\"tiger\":2,\"deer\":5,\"pigeon\":7}\n",
        "dict_two={\"lion\":4,\"cobra\":3}\n",
        "mergeDict(dict_one,dict_two)\n",
        "print(dict_one)"
      ],
      "metadata": {
        "colab": {
          "base_uri": "https://localhost:8080/"
        },
        "id": "WP5nbzAtBlMx",
        "outputId": "5a9128fd-b484-44d2-83cf-fd0d9ab19032"
      },
      "execution_count": 12,
      "outputs": [
        {
          "output_type": "stream",
          "name": "stdout",
          "text": [
            "{'tiger': 2, 'deer': 5, 'pigeon': 7, 'lion': 4, 'cobra': 3}\n"
          ]
        }
      ]
    },
    {
      "cell_type": "markdown",
      "source": [
        "**Part h**\n",
        "\n",
        "> Remove duplicate items from a list in Python? \n",
        "\n"
      ],
      "metadata": {
        "id": "izOokNmrEbIE"
      }
    },
    {
      "cell_type": "code",
      "source": [
        "def remove_duplicates(li):\n",
        "  new_list=[]\n",
        "  for i in li:\n",
        "    if i not in new_list:\n",
        "      new_list.append(i)\n",
        "  return new_list\n",
        "list_input=[2,4,6,4,\"hello\",6,7,7,7,8,\"hi\",\"bye\",\"hi\",\"hello\"]\n",
        "list_output=remove_duplicates(list_input)\n",
        "list_output\n",
        " "
      ],
      "metadata": {
        "colab": {
          "base_uri": "https://localhost:8080/"
        },
        "id": "OuPLcQPMEhv0",
        "outputId": "c73abf09-8541-4cab-fac2-8bc4a2590bb2"
      },
      "execution_count": 13,
      "outputs": [
        {
          "output_type": "execute_result",
          "data": {
            "text/plain": [
              "[2, 4, 6, 'hello', 7, 8, 'hi', 'bye']"
            ]
          },
          "metadata": {},
          "execution_count": 13
        }
      ]
    },
    {
      "cell_type": "markdown",
      "source": [
        "**Part i**\n",
        "\n",
        "> Write a Python script to check whether a given key already exists in a dictionary. \n",
        "\n"
      ],
      "metadata": {
        "id": "1MLf38KZFY20"
      }
    },
    {
      "cell_type": "code",
      "source": [
        "def check_key_exists(dict_,key):\n",
        "  ans=key in dict_\n",
        "  return ans\n",
        "dict_={\"tiger\":3,\"lion\":5,\"leopard\":7,\"python\":8}\n",
        "print(check_key_exists(dict_,\"leopard\"))\n",
        "print(check_key_exists(dict_,\"jaguar\"))"
      ],
      "metadata": {
        "colab": {
          "base_uri": "https://localhost:8080/"
        },
        "id": "9dEix4vvFh9z",
        "outputId": "a2d44b96-16d7-487d-ba61-953f16eec12e"
      },
      "execution_count": 14,
      "outputs": [
        {
          "output_type": "stream",
          "name": "stdout",
          "text": [
            "True\n",
            "False\n"
          ]
        }
      ]
    },
    {
      "cell_type": "markdown",
      "source": [
        "## **PROBLEM 2**"
      ],
      "metadata": {
        "id": "Ht5xPvBvJbjE"
      }
    },
    {
      "cell_type": "code",
      "source": [
        "import numpy as np\n",
        "matrix_one=np.mat([[2,4,7],[5,6,8],[7,8,5]])\n",
        "matrix_two=np.mat([[4,6,9],[6,5,2],[4,3,8]])\n",
        "print(matrix_one)\n",
        "print(matrix_two)"
      ],
      "metadata": {
        "colab": {
          "base_uri": "https://localhost:8080/"
        },
        "id": "r0MWlkYPJjDL",
        "outputId": "9902a48d-782d-4f14-d8c8-41993b6cbc03"
      },
      "execution_count": 15,
      "outputs": [
        {
          "output_type": "stream",
          "name": "stdout",
          "text": [
            "[[2 4 7]\n",
            " [5 6 8]\n",
            " [7 8 5]]\n",
            "[[4 6 9]\n",
            " [6 5 2]\n",
            " [4 3 8]]\n"
          ]
        }
      ]
    },
    {
      "cell_type": "markdown",
      "source": [
        "**Part a**\n",
        "\n",
        "> Display first row of first matrix\n",
        "\n"
      ],
      "metadata": {
        "id": "5YTsyI-RUDUf"
      }
    },
    {
      "cell_type": "code",
      "source": [
        "print(matrix_one[0])"
      ],
      "metadata": {
        "colab": {
          "base_uri": "https://localhost:8080/"
        },
        "id": "Hb9kvGscUKQQ",
        "outputId": "e031a795-e711-4eab-bd19-e8e4287d39e7"
      },
      "execution_count": 16,
      "outputs": [
        {
          "output_type": "stream",
          "name": "stdout",
          "text": [
            "[[2 4 7]]\n"
          ]
        }
      ]
    },
    {
      "cell_type": "markdown",
      "source": [
        "**Part b**\n",
        "\n",
        "> Display second column of second matrix\n",
        "\n"
      ],
      "metadata": {
        "id": "HS0RdHmkVYvq"
      }
    },
    {
      "cell_type": "code",
      "source": [
        "print(matrix_two[:,1])"
      ],
      "metadata": {
        "colab": {
          "base_uri": "https://localhost:8080/"
        },
        "id": "LcKhk6XUVep7",
        "outputId": "566a7792-c2c7-45ae-c05c-a7d12b67c118"
      },
      "execution_count": 17,
      "outputs": [
        {
          "output_type": "stream",
          "name": "stdout",
          "text": [
            "[[6]\n",
            " [5]\n",
            " [3]]\n"
          ]
        }
      ]
    },
    {
      "cell_type": "markdown",
      "source": [
        "**Part c**\n",
        "\n",
        "> Perform matrix multiplication\n",
        "\n"
      ],
      "metadata": {
        "id": "YQQuea7iVxvR"
      }
    },
    {
      "cell_type": "code",
      "source": [
        "matrix_multiplication=matrix_one*matrix_two\n",
        "print(matrix_multiplication)"
      ],
      "metadata": {
        "colab": {
          "base_uri": "https://localhost:8080/"
        },
        "id": "9PWihmaQWGFL",
        "outputId": "d37e4e06-77e5-42b2-9d26-f0ed8c812503"
      },
      "execution_count": 18,
      "outputs": [
        {
          "output_type": "stream",
          "name": "stdout",
          "text": [
            "[[ 60  53  82]\n",
            " [ 88  84 121]\n",
            " [ 96  97 119]]\n"
          ]
        }
      ]
    },
    {
      "cell_type": "markdown",
      "source": [
        "**Part d**\n",
        "\n",
        "> Perform element-wise multiplication\n",
        "\n"
      ],
      "metadata": {
        "id": "lpEG0C96WfNm"
      }
    },
    {
      "cell_type": "code",
      "source": [
        "el_wise_multiply=np.multiply(matrix_one,matrix_two)\n",
        "print(el_wise_multiply)"
      ],
      "metadata": {
        "colab": {
          "base_uri": "https://localhost:8080/"
        },
        "id": "Sn3ASwTTWl-B",
        "outputId": "16963af6-7efa-4350-a00b-c32553a1ca59"
      },
      "execution_count": 19,
      "outputs": [
        {
          "output_type": "stream",
          "name": "stdout",
          "text": [
            "[[ 8 24 63]\n",
            " [30 30 16]\n",
            " [28 24 40]]\n"
          ]
        }
      ]
    },
    {
      "cell_type": "markdown",
      "source": [
        "**Part e**\n",
        "\n",
        "> Perform dot product between each column of first matrix and each column of second matrix\n",
        "\n",
        "\n"
      ],
      "metadata": {
        "id": "6sGweHluYBqu"
      }
    },
    {
      "cell_type": "code",
      "source": [
        "def col_wise_dotpro(mat_one,mat_two):\n",
        "  col_wise_multiply=np.multiply(mat_one,mat_two)\n",
        "  for i in range(len(mat_one[0])):\n",
        "    ans=0\n",
        "    for j in range(len(mat_one)):\n",
        "      ans=ans+(col_wise_multiply[j][i])\n",
        "  return ans\n",
        "output=col_wise_dotpro(matrix_one,matrix_two)\n",
        "print(output)\n",
        "\n"
      ],
      "metadata": {
        "colab": {
          "base_uri": "https://localhost:8080/"
        },
        "id": "Y5PPoMN_YI01",
        "outputId": "c26e0839-92cf-4dd3-9d63-f2851e2c45b8"
      },
      "execution_count": 20,
      "outputs": [
        {
          "output_type": "stream",
          "name": "stdout",
          "text": [
            "[[ 66  78 119]]\n"
          ]
        }
      ]
    },
    {
      "cell_type": "markdown",
      "source": [
        "## **PROBLEM 3**"
      ],
      "metadata": {
        "id": "9Aphpsev46oT"
      }
    },
    {
      "cell_type": "code",
      "source": [
        "cars_data=pd.read_csv(\"/content/Cars93.csv\")\n",
        "cars_data"
      ],
      "metadata": {
        "id": "5tL_NHty4_Fe",
        "colab": {
          "base_uri": "https://localhost:8080/",
          "height": 661
        },
        "outputId": "5deb86b3-c41f-4ed5-edf7-d44d179b3508"
      },
      "execution_count": 37,
      "outputs": [
        {
          "output_type": "execute_result",
          "data": {
            "text/plain": [
              "   Manufacturer    Model     Type  Min.Price  Price  Max.Price  MPG.city  \\\n",
              "0         Acura  Integra    Small       12.9   15.9       18.8        25   \n",
              "1         Acura   Legend  Midsize       29.2   33.9       38.7        18   \n",
              "2          Audi       90  Compact       25.9   29.1       32.3        20   \n",
              "3          Audi      100  Midsize       30.8   37.7       44.6        19   \n",
              "4           BMW     535i  Midsize       23.7   30.0       36.2        22   \n",
              "..          ...      ...      ...        ...    ...        ...       ...   \n",
              "88   Volkswagen  Eurovan      Van       16.6   19.7       22.7        17   \n",
              "89   Volkswagen   Passat  Compact       17.6   20.0       22.4        21   \n",
              "90   Volkswagen  Corrado   Sporty       22.9   23.3       23.7        18   \n",
              "91        Volvo      240  Compact       21.8   22.7       23.5        21   \n",
              "92        Volvo      850  Midsize       24.8   26.7       28.5        20   \n",
              "\n",
              "    MPG.highway             AirBags DriveTrain  ... Fuel.tank.capacity  \\\n",
              "0            31                None      Front  ...               13.2   \n",
              "1            25  Driver & Passenger      Front  ...               18.0   \n",
              "2            26         Driver only      Front  ...               16.9   \n",
              "3            26  Driver & Passenger      Front  ...               21.1   \n",
              "4            30         Driver only       Rear  ...               21.1   \n",
              "..          ...                 ...        ...  ...                ...   \n",
              "88           21                None      Front  ...               21.1   \n",
              "89           30                None      Front  ...               18.5   \n",
              "90           25                None      Front  ...               18.5   \n",
              "91           28         Driver only       Rear  ...               15.8   \n",
              "92           28  Driver & Passenger      Front  ...               19.3   \n",
              "\n",
              "    Passengers  Length  Wheelbase  Width Turn.circle  Rear.seat.room  \\\n",
              "0            5     177        102     68          37            26.5   \n",
              "1            5     195        115     71          38            30.0   \n",
              "2            5     180        102     67          37            28.0   \n",
              "3            6     193        106     70          37            31.0   \n",
              "4            4     186        109     69          39            27.0   \n",
              "..         ...     ...        ...    ...         ...             ...   \n",
              "88           7     187        115     72          38            34.0   \n",
              "89           5     180        103     67          35            31.5   \n",
              "90           4     159         97     66          36            26.0   \n",
              "91           5     190        104     67          37            29.5   \n",
              "92           5     184        105     69          38            30.0   \n",
              "\n",
              "    Luggage.room  Weight   Origin  \n",
              "0           11.0    2705  non-USA  \n",
              "1           15.0    3560  non-USA  \n",
              "2           14.0    3375  non-USA  \n",
              "3           17.0    3405  non-USA  \n",
              "4           13.0    3640  non-USA  \n",
              "..           ...     ...      ...  \n",
              "88           NaN    3960  non-USA  \n",
              "89          14.0    2985  non-USA  \n",
              "90          15.0    2810  non-USA  \n",
              "91          14.0    2985  non-USA  \n",
              "92          15.0    3245  non-USA  \n",
              "\n",
              "[93 rows x 26 columns]"
            ],
            "text/html": [
              "\n",
              "  <div id=\"df-f6f50996-9f11-4757-88b8-94685e3bfea5\">\n",
              "    <div class=\"colab-df-container\">\n",
              "      <div>\n",
              "<style scoped>\n",
              "    .dataframe tbody tr th:only-of-type {\n",
              "        vertical-align: middle;\n",
              "    }\n",
              "\n",
              "    .dataframe tbody tr th {\n",
              "        vertical-align: top;\n",
              "    }\n",
              "\n",
              "    .dataframe thead th {\n",
              "        text-align: right;\n",
              "    }\n",
              "</style>\n",
              "<table border=\"1\" class=\"dataframe\">\n",
              "  <thead>\n",
              "    <tr style=\"text-align: right;\">\n",
              "      <th></th>\n",
              "      <th>Manufacturer</th>\n",
              "      <th>Model</th>\n",
              "      <th>Type</th>\n",
              "      <th>Min.Price</th>\n",
              "      <th>Price</th>\n",
              "      <th>Max.Price</th>\n",
              "      <th>MPG.city</th>\n",
              "      <th>MPG.highway</th>\n",
              "      <th>AirBags</th>\n",
              "      <th>DriveTrain</th>\n",
              "      <th>...</th>\n",
              "      <th>Fuel.tank.capacity</th>\n",
              "      <th>Passengers</th>\n",
              "      <th>Length</th>\n",
              "      <th>Wheelbase</th>\n",
              "      <th>Width</th>\n",
              "      <th>Turn.circle</th>\n",
              "      <th>Rear.seat.room</th>\n",
              "      <th>Luggage.room</th>\n",
              "      <th>Weight</th>\n",
              "      <th>Origin</th>\n",
              "    </tr>\n",
              "  </thead>\n",
              "  <tbody>\n",
              "    <tr>\n",
              "      <th>0</th>\n",
              "      <td>Acura</td>\n",
              "      <td>Integra</td>\n",
              "      <td>Small</td>\n",
              "      <td>12.9</td>\n",
              "      <td>15.9</td>\n",
              "      <td>18.8</td>\n",
              "      <td>25</td>\n",
              "      <td>31</td>\n",
              "      <td>None</td>\n",
              "      <td>Front</td>\n",
              "      <td>...</td>\n",
              "      <td>13.2</td>\n",
              "      <td>5</td>\n",
              "      <td>177</td>\n",
              "      <td>102</td>\n",
              "      <td>68</td>\n",
              "      <td>37</td>\n",
              "      <td>26.5</td>\n",
              "      <td>11.0</td>\n",
              "      <td>2705</td>\n",
              "      <td>non-USA</td>\n",
              "    </tr>\n",
              "    <tr>\n",
              "      <th>1</th>\n",
              "      <td>Acura</td>\n",
              "      <td>Legend</td>\n",
              "      <td>Midsize</td>\n",
              "      <td>29.2</td>\n",
              "      <td>33.9</td>\n",
              "      <td>38.7</td>\n",
              "      <td>18</td>\n",
              "      <td>25</td>\n",
              "      <td>Driver &amp; Passenger</td>\n",
              "      <td>Front</td>\n",
              "      <td>...</td>\n",
              "      <td>18.0</td>\n",
              "      <td>5</td>\n",
              "      <td>195</td>\n",
              "      <td>115</td>\n",
              "      <td>71</td>\n",
              "      <td>38</td>\n",
              "      <td>30.0</td>\n",
              "      <td>15.0</td>\n",
              "      <td>3560</td>\n",
              "      <td>non-USA</td>\n",
              "    </tr>\n",
              "    <tr>\n",
              "      <th>2</th>\n",
              "      <td>Audi</td>\n",
              "      <td>90</td>\n",
              "      <td>Compact</td>\n",
              "      <td>25.9</td>\n",
              "      <td>29.1</td>\n",
              "      <td>32.3</td>\n",
              "      <td>20</td>\n",
              "      <td>26</td>\n",
              "      <td>Driver only</td>\n",
              "      <td>Front</td>\n",
              "      <td>...</td>\n",
              "      <td>16.9</td>\n",
              "      <td>5</td>\n",
              "      <td>180</td>\n",
              "      <td>102</td>\n",
              "      <td>67</td>\n",
              "      <td>37</td>\n",
              "      <td>28.0</td>\n",
              "      <td>14.0</td>\n",
              "      <td>3375</td>\n",
              "      <td>non-USA</td>\n",
              "    </tr>\n",
              "    <tr>\n",
              "      <th>3</th>\n",
              "      <td>Audi</td>\n",
              "      <td>100</td>\n",
              "      <td>Midsize</td>\n",
              "      <td>30.8</td>\n",
              "      <td>37.7</td>\n",
              "      <td>44.6</td>\n",
              "      <td>19</td>\n",
              "      <td>26</td>\n",
              "      <td>Driver &amp; Passenger</td>\n",
              "      <td>Front</td>\n",
              "      <td>...</td>\n",
              "      <td>21.1</td>\n",
              "      <td>6</td>\n",
              "      <td>193</td>\n",
              "      <td>106</td>\n",
              "      <td>70</td>\n",
              "      <td>37</td>\n",
              "      <td>31.0</td>\n",
              "      <td>17.0</td>\n",
              "      <td>3405</td>\n",
              "      <td>non-USA</td>\n",
              "    </tr>\n",
              "    <tr>\n",
              "      <th>4</th>\n",
              "      <td>BMW</td>\n",
              "      <td>535i</td>\n",
              "      <td>Midsize</td>\n",
              "      <td>23.7</td>\n",
              "      <td>30.0</td>\n",
              "      <td>36.2</td>\n",
              "      <td>22</td>\n",
              "      <td>30</td>\n",
              "      <td>Driver only</td>\n",
              "      <td>Rear</td>\n",
              "      <td>...</td>\n",
              "      <td>21.1</td>\n",
              "      <td>4</td>\n",
              "      <td>186</td>\n",
              "      <td>109</td>\n",
              "      <td>69</td>\n",
              "      <td>39</td>\n",
              "      <td>27.0</td>\n",
              "      <td>13.0</td>\n",
              "      <td>3640</td>\n",
              "      <td>non-USA</td>\n",
              "    </tr>\n",
              "    <tr>\n",
              "      <th>...</th>\n",
              "      <td>...</td>\n",
              "      <td>...</td>\n",
              "      <td>...</td>\n",
              "      <td>...</td>\n",
              "      <td>...</td>\n",
              "      <td>...</td>\n",
              "      <td>...</td>\n",
              "      <td>...</td>\n",
              "      <td>...</td>\n",
              "      <td>...</td>\n",
              "      <td>...</td>\n",
              "      <td>...</td>\n",
              "      <td>...</td>\n",
              "      <td>...</td>\n",
              "      <td>...</td>\n",
              "      <td>...</td>\n",
              "      <td>...</td>\n",
              "      <td>...</td>\n",
              "      <td>...</td>\n",
              "      <td>...</td>\n",
              "      <td>...</td>\n",
              "    </tr>\n",
              "    <tr>\n",
              "      <th>88</th>\n",
              "      <td>Volkswagen</td>\n",
              "      <td>Eurovan</td>\n",
              "      <td>Van</td>\n",
              "      <td>16.6</td>\n",
              "      <td>19.7</td>\n",
              "      <td>22.7</td>\n",
              "      <td>17</td>\n",
              "      <td>21</td>\n",
              "      <td>None</td>\n",
              "      <td>Front</td>\n",
              "      <td>...</td>\n",
              "      <td>21.1</td>\n",
              "      <td>7</td>\n",
              "      <td>187</td>\n",
              "      <td>115</td>\n",
              "      <td>72</td>\n",
              "      <td>38</td>\n",
              "      <td>34.0</td>\n",
              "      <td>NaN</td>\n",
              "      <td>3960</td>\n",
              "      <td>non-USA</td>\n",
              "    </tr>\n",
              "    <tr>\n",
              "      <th>89</th>\n",
              "      <td>Volkswagen</td>\n",
              "      <td>Passat</td>\n",
              "      <td>Compact</td>\n",
              "      <td>17.6</td>\n",
              "      <td>20.0</td>\n",
              "      <td>22.4</td>\n",
              "      <td>21</td>\n",
              "      <td>30</td>\n",
              "      <td>None</td>\n",
              "      <td>Front</td>\n",
              "      <td>...</td>\n",
              "      <td>18.5</td>\n",
              "      <td>5</td>\n",
              "      <td>180</td>\n",
              "      <td>103</td>\n",
              "      <td>67</td>\n",
              "      <td>35</td>\n",
              "      <td>31.5</td>\n",
              "      <td>14.0</td>\n",
              "      <td>2985</td>\n",
              "      <td>non-USA</td>\n",
              "    </tr>\n",
              "    <tr>\n",
              "      <th>90</th>\n",
              "      <td>Volkswagen</td>\n",
              "      <td>Corrado</td>\n",
              "      <td>Sporty</td>\n",
              "      <td>22.9</td>\n",
              "      <td>23.3</td>\n",
              "      <td>23.7</td>\n",
              "      <td>18</td>\n",
              "      <td>25</td>\n",
              "      <td>None</td>\n",
              "      <td>Front</td>\n",
              "      <td>...</td>\n",
              "      <td>18.5</td>\n",
              "      <td>4</td>\n",
              "      <td>159</td>\n",
              "      <td>97</td>\n",
              "      <td>66</td>\n",
              "      <td>36</td>\n",
              "      <td>26.0</td>\n",
              "      <td>15.0</td>\n",
              "      <td>2810</td>\n",
              "      <td>non-USA</td>\n",
              "    </tr>\n",
              "    <tr>\n",
              "      <th>91</th>\n",
              "      <td>Volvo</td>\n",
              "      <td>240</td>\n",
              "      <td>Compact</td>\n",
              "      <td>21.8</td>\n",
              "      <td>22.7</td>\n",
              "      <td>23.5</td>\n",
              "      <td>21</td>\n",
              "      <td>28</td>\n",
              "      <td>Driver only</td>\n",
              "      <td>Rear</td>\n",
              "      <td>...</td>\n",
              "      <td>15.8</td>\n",
              "      <td>5</td>\n",
              "      <td>190</td>\n",
              "      <td>104</td>\n",
              "      <td>67</td>\n",
              "      <td>37</td>\n",
              "      <td>29.5</td>\n",
              "      <td>14.0</td>\n",
              "      <td>2985</td>\n",
              "      <td>non-USA</td>\n",
              "    </tr>\n",
              "    <tr>\n",
              "      <th>92</th>\n",
              "      <td>Volvo</td>\n",
              "      <td>850</td>\n",
              "      <td>Midsize</td>\n",
              "      <td>24.8</td>\n",
              "      <td>26.7</td>\n",
              "      <td>28.5</td>\n",
              "      <td>20</td>\n",
              "      <td>28</td>\n",
              "      <td>Driver &amp; Passenger</td>\n",
              "      <td>Front</td>\n",
              "      <td>...</td>\n",
              "      <td>19.3</td>\n",
              "      <td>5</td>\n",
              "      <td>184</td>\n",
              "      <td>105</td>\n",
              "      <td>69</td>\n",
              "      <td>38</td>\n",
              "      <td>30.0</td>\n",
              "      <td>15.0</td>\n",
              "      <td>3245</td>\n",
              "      <td>non-USA</td>\n",
              "    </tr>\n",
              "  </tbody>\n",
              "</table>\n",
              "<p>93 rows × 26 columns</p>\n",
              "</div>\n",
              "      <button class=\"colab-df-convert\" onclick=\"convertToInteractive('df-f6f50996-9f11-4757-88b8-94685e3bfea5')\"\n",
              "              title=\"Convert this dataframe to an interactive table.\"\n",
              "              style=\"display:none;\">\n",
              "        \n",
              "  <svg xmlns=\"http://www.w3.org/2000/svg\" height=\"24px\"viewBox=\"0 0 24 24\"\n",
              "       width=\"24px\">\n",
              "    <path d=\"M0 0h24v24H0V0z\" fill=\"none\"/>\n",
              "    <path d=\"M18.56 5.44l.94 2.06.94-2.06 2.06-.94-2.06-.94-.94-2.06-.94 2.06-2.06.94zm-11 1L8.5 8.5l.94-2.06 2.06-.94-2.06-.94L8.5 2.5l-.94 2.06-2.06.94zm10 10l.94 2.06.94-2.06 2.06-.94-2.06-.94-.94-2.06-.94 2.06-2.06.94z\"/><path d=\"M17.41 7.96l-1.37-1.37c-.4-.4-.92-.59-1.43-.59-.52 0-1.04.2-1.43.59L10.3 9.45l-7.72 7.72c-.78.78-.78 2.05 0 2.83L4 21.41c.39.39.9.59 1.41.59.51 0 1.02-.2 1.41-.59l7.78-7.78 2.81-2.81c.8-.78.8-2.07 0-2.86zM5.41 20L4 18.59l7.72-7.72 1.47 1.35L5.41 20z\"/>\n",
              "  </svg>\n",
              "      </button>\n",
              "      \n",
              "  <style>\n",
              "    .colab-df-container {\n",
              "      display:flex;\n",
              "      flex-wrap:wrap;\n",
              "      gap: 12px;\n",
              "    }\n",
              "\n",
              "    .colab-df-convert {\n",
              "      background-color: #E8F0FE;\n",
              "      border: none;\n",
              "      border-radius: 50%;\n",
              "      cursor: pointer;\n",
              "      display: none;\n",
              "      fill: #1967D2;\n",
              "      height: 32px;\n",
              "      padding: 0 0 0 0;\n",
              "      width: 32px;\n",
              "    }\n",
              "\n",
              "    .colab-df-convert:hover {\n",
              "      background-color: #E2EBFA;\n",
              "      box-shadow: 0px 1px 2px rgba(60, 64, 67, 0.3), 0px 1px 3px 1px rgba(60, 64, 67, 0.15);\n",
              "      fill: #174EA6;\n",
              "    }\n",
              "\n",
              "    [theme=dark] .colab-df-convert {\n",
              "      background-color: #3B4455;\n",
              "      fill: #D2E3FC;\n",
              "    }\n",
              "\n",
              "    [theme=dark] .colab-df-convert:hover {\n",
              "      background-color: #434B5C;\n",
              "      box-shadow: 0px 1px 3px 1px rgba(0, 0, 0, 0.15);\n",
              "      filter: drop-shadow(0px 1px 2px rgba(0, 0, 0, 0.3));\n",
              "      fill: #FFFFFF;\n",
              "    }\n",
              "  </style>\n",
              "\n",
              "      <script>\n",
              "        const buttonEl =\n",
              "          document.querySelector('#df-f6f50996-9f11-4757-88b8-94685e3bfea5 button.colab-df-convert');\n",
              "        buttonEl.style.display =\n",
              "          google.colab.kernel.accessAllowed ? 'block' : 'none';\n",
              "\n",
              "        async function convertToInteractive(key) {\n",
              "          const element = document.querySelector('#df-f6f50996-9f11-4757-88b8-94685e3bfea5');\n",
              "          const dataTable =\n",
              "            await google.colab.kernel.invokeFunction('convertToInteractive',\n",
              "                                                     [key], {});\n",
              "          if (!dataTable) return;\n",
              "\n",
              "          const docLinkHtml = 'Like what you see? Visit the ' +\n",
              "            '<a target=\"_blank\" href=https://colab.research.google.com/notebooks/data_table.ipynb>data table notebook</a>'\n",
              "            + ' to learn more about interactive tables.';\n",
              "          element.innerHTML = '';\n",
              "          dataTable['output_type'] = 'display_data';\n",
              "          await google.colab.output.renderOutput(dataTable, element);\n",
              "          const docLink = document.createElement('div');\n",
              "          docLink.innerHTML = docLinkHtml;\n",
              "          element.appendChild(docLink);\n",
              "        }\n",
              "      </script>\n",
              "    </div>\n",
              "  </div>\n",
              "  "
            ]
          },
          "metadata": {},
          "execution_count": 37
        }
      ]
    },
    {
      "cell_type": "markdown",
      "source": [
        "\n",
        "\n",
        "> i) Assign a type to each of the following features (a) Model, (b)Type, (c) Max. Price and\n",
        "(d)Airbags from the following: ordinal/nominal/ratio/interval scale.\n",
        "\n"
      ],
      "metadata": {
        "id": "JPINPIlB6YM2"
      }
    },
    {
      "cell_type": "markdown",
      "source": [
        "(a) Model=Nominal as there is no meaning associated with datas. We can make groups based on model but cannot order the groups.\n",
        "\n",
        "(b)Type=Ordinal as we can rank them but don’t know the relative degrees of difference between them.\n",
        "\n",
        "(c)Max. Price=Ratio as absolute 0 exists(max price can be 0) and price 10 is doublee that of price 5 so intervals are meaningful.hence, ratio is defined.\n",
        "\n",
        "(d)Airbags=interval scale as absolute 0 does not exist but the intervals are meaningful."
      ],
      "metadata": {
        "id": "Or8PoGOG6pnA"
      }
    },
    {
      "cell_type": "markdown",
      "source": [
        "\n",
        "> (ii) Write a function to handle the missing values in the dataset (e.g., any NA, NaN values).\n",
        "\n",
        "\n"
      ],
      "metadata": {
        "id": "E23Vh3Up7tmV"
      }
    },
    {
      "cell_type": "code",
      "source": [
        "#firstly we see number of nan values in each columns\n",
        "print(cars_data.isnull().sum())"
      ],
      "metadata": {
        "colab": {
          "base_uri": "https://localhost:8080/"
        },
        "id": "VT2dFqkK7wpl",
        "outputId": "00237c93-1474-4cc2-b100-a8ee26a05ec3"
      },
      "execution_count": 38,
      "outputs": [
        {
          "output_type": "stream",
          "name": "stdout",
          "text": [
            "Manufacturer           0\n",
            "Model                  0\n",
            "Type                   0\n",
            "Min.Price              0\n",
            "Price                  0\n",
            "Max.Price              0\n",
            "MPG.city               0\n",
            "MPG.highway            0\n",
            "AirBags                0\n",
            "DriveTrain             0\n",
            "Cylinders              0\n",
            "EngineSize             0\n",
            "Horsepower             0\n",
            "RPM                    0\n",
            "Rev.per.mile           0\n",
            "Man.trans.avail        0\n",
            "Fuel.tank.capacity     0\n",
            "Passengers             0\n",
            "Length                 0\n",
            "Wheelbase              0\n",
            "Width                  0\n",
            "Turn.circle            0\n",
            "Rear.seat.room         2\n",
            "Luggage.room          11\n",
            "Weight                 0\n",
            "Origin                 0\n",
            "dtype: int64\n"
          ]
        }
      ]
    },
    {
      "cell_type": "code",
      "source": [
        "#as there is low number of nan values in Rear.seat.room so we drop them\n",
        "List=[]\n",
        "for i in range(len(cars_data)):\n",
        "  if(np.isnan(cars_data['Rear.seat.room'][i])==True):\n",
        "    List.append(i)\n",
        "cars_data.drop(cars_data.index[List],inplace=True)\n",
        "cars_data.isnull().sum()"
      ],
      "metadata": {
        "colab": {
          "base_uri": "https://localhost:8080/"
        },
        "id": "N2cyNUze8WJV",
        "outputId": "58941383-55be-485b-a81d-5e77696cff26"
      },
      "execution_count": 39,
      "outputs": [
        {
          "output_type": "execute_result",
          "data": {
            "text/plain": [
              "Manufacturer          0\n",
              "Model                 0\n",
              "Type                  0\n",
              "Min.Price             0\n",
              "Price                 0\n",
              "Max.Price             0\n",
              "MPG.city              0\n",
              "MPG.highway           0\n",
              "AirBags               0\n",
              "DriveTrain            0\n",
              "Cylinders             0\n",
              "EngineSize            0\n",
              "Horsepower            0\n",
              "RPM                   0\n",
              "Rev.per.mile          0\n",
              "Man.trans.avail       0\n",
              "Fuel.tank.capacity    0\n",
              "Passengers            0\n",
              "Length                0\n",
              "Wheelbase             0\n",
              "Width                 0\n",
              "Turn.circle           0\n",
              "Rear.seat.room        0\n",
              "Luggage.room          9\n",
              "Weight                0\n",
              "Origin                0\n",
              "dtype: int64"
            ]
          },
          "metadata": {},
          "execution_count": 39
        }
      ]
    },
    {
      "cell_type": "code",
      "source": [
        "#now we fill up the nan values with mean in column Luggage.room as there is significant number of nan values\n",
        "cars_data['Luggage.room'].fillna(cars_data['Luggage.room'].mean(),inplace=True)\n",
        "print(cars_data.isnull().sum())"
      ],
      "metadata": {
        "colab": {
          "base_uri": "https://localhost:8080/"
        },
        "id": "Tzi8zAF8-_tC",
        "outputId": "947896fc-bd2b-431d-da17-07d7b2fa8a88"
      },
      "execution_count": 40,
      "outputs": [
        {
          "output_type": "stream",
          "name": "stdout",
          "text": [
            "Manufacturer          0\n",
            "Model                 0\n",
            "Type                  0\n",
            "Min.Price             0\n",
            "Price                 0\n",
            "Max.Price             0\n",
            "MPG.city              0\n",
            "MPG.highway           0\n",
            "AirBags               0\n",
            "DriveTrain            0\n",
            "Cylinders             0\n",
            "EngineSize            0\n",
            "Horsepower            0\n",
            "RPM                   0\n",
            "Rev.per.mile          0\n",
            "Man.trans.avail       0\n",
            "Fuel.tank.capacity    0\n",
            "Passengers            0\n",
            "Length                0\n",
            "Wheelbase             0\n",
            "Width                 0\n",
            "Turn.circle           0\n",
            "Rear.seat.room        0\n",
            "Luggage.room          0\n",
            "Weight                0\n",
            "Origin                0\n",
            "dtype: int64\n"
          ]
        }
      ]
    },
    {
      "cell_type": "code",
      "source": [
        "cars_data.reset_index(drop=True,inplace=True)\n",
        "print(cars_data)"
      ],
      "metadata": {
        "colab": {
          "base_uri": "https://localhost:8080/"
        },
        "id": "hmANfhNvRI63",
        "outputId": "f881a796-b77b-47b1-a229-10319836f5bc"
      },
      "execution_count": 41,
      "outputs": [
        {
          "output_type": "stream",
          "name": "stdout",
          "text": [
            "   Manufacturer    Model     Type  Min.Price  Price  Max.Price  MPG.city  \\\n",
            "0         Acura  Integra    Small       12.9   15.9       18.8        25   \n",
            "1         Acura   Legend  Midsize       29.2   33.9       38.7        18   \n",
            "2          Audi       90  Compact       25.9   29.1       32.3        20   \n",
            "3          Audi      100  Midsize       30.8   37.7       44.6        19   \n",
            "4           BMW     535i  Midsize       23.7   30.0       36.2        22   \n",
            "..          ...      ...      ...        ...    ...        ...       ...   \n",
            "86   Volkswagen  Eurovan      Van       16.6   19.7       22.7        17   \n",
            "87   Volkswagen   Passat  Compact       17.6   20.0       22.4        21   \n",
            "88   Volkswagen  Corrado   Sporty       22.9   23.3       23.7        18   \n",
            "89        Volvo      240  Compact       21.8   22.7       23.5        21   \n",
            "90        Volvo      850  Midsize       24.8   26.7       28.5        20   \n",
            "\n",
            "    MPG.highway             AirBags DriveTrain  ... Fuel.tank.capacity  \\\n",
            "0            31                None      Front  ...               13.2   \n",
            "1            25  Driver & Passenger      Front  ...               18.0   \n",
            "2            26         Driver only      Front  ...               16.9   \n",
            "3            26  Driver & Passenger      Front  ...               21.1   \n",
            "4            30         Driver only       Rear  ...               21.1   \n",
            "..          ...                 ...        ...  ...                ...   \n",
            "86           21                None      Front  ...               21.1   \n",
            "87           30                None      Front  ...               18.5   \n",
            "88           25                None      Front  ...               18.5   \n",
            "89           28         Driver only       Rear  ...               15.8   \n",
            "90           28  Driver & Passenger      Front  ...               19.3   \n",
            "\n",
            "    Passengers  Length  Wheelbase  Width Turn.circle  Rear.seat.room  \\\n",
            "0            5     177        102     68          37            26.5   \n",
            "1            5     195        115     71          38            30.0   \n",
            "2            5     180        102     67          37            28.0   \n",
            "3            6     193        106     70          37            31.0   \n",
            "4            4     186        109     69          39            27.0   \n",
            "..         ...     ...        ...    ...         ...             ...   \n",
            "86           7     187        115     72          38            34.0   \n",
            "87           5     180        103     67          35            31.5   \n",
            "88           4     159         97     66          36            26.0   \n",
            "89           5     190        104     67          37            29.5   \n",
            "90           5     184        105     69          38            30.0   \n",
            "\n",
            "    Luggage.room  Weight   Origin  \n",
            "0      11.000000    2705  non-USA  \n",
            "1      15.000000    3560  non-USA  \n",
            "2      14.000000    3375  non-USA  \n",
            "3      17.000000    3405  non-USA  \n",
            "4      13.000000    3640  non-USA  \n",
            "..           ...     ...      ...  \n",
            "86     13.890244    3960  non-USA  \n",
            "87     14.000000    2985  non-USA  \n",
            "88     15.000000    2810  non-USA  \n",
            "89     14.000000    2985  non-USA  \n",
            "90     15.000000    3245  non-USA  \n",
            "\n",
            "[91 rows x 26 columns]\n"
          ]
        }
      ]
    },
    {
      "cell_type": "markdown",
      "source": [
        "(iii)Write a function to reduce noise (any error in the feature) in individual attributes"
      ],
      "metadata": {
        "id": "68B9bnFyDdbv"
      }
    },
    {
      "cell_type": "code",
      "source": [
        "def is_object():\n",
        "  l=[]\n",
        "  for i in cars_data.columns:\n",
        "    if(cars_data[i].dtypes==object):\n",
        "      l.append(i)\n",
        "  return l\n",
        "print(is_object())"
      ],
      "metadata": {
        "colab": {
          "base_uri": "https://localhost:8080/"
        },
        "id": "xeZD2u5ODi0w",
        "outputId": "28636c56-e599-443f-f07e-277b19a6c148"
      },
      "execution_count": 42,
      "outputs": [
        {
          "output_type": "stream",
          "name": "stdout",
          "text": [
            "['Manufacturer', 'Model', 'Type', 'AirBags', 'DriveTrain', 'Cylinders', 'Man.trans.avail', 'Origin']\n"
          ]
        }
      ]
    },
    {
      "cell_type": "code",
      "source": [
        "def is_number(string):\n",
        "  for i in range(len(string)):\n",
        "    if(ord(string[i])<48 or ord(string[i])>57):\n",
        "      return False\n",
        "  return True\n",
        "print(is_number('989'))\n",
        "print(is_number('ty9'))"
      ],
      "metadata": {
        "colab": {
          "base_uri": "https://localhost:8080/"
        },
        "id": "1c7ewuHEPALr",
        "outputId": "1138f0d7-d9c7-4e3a-8073-6a30673f7ea5"
      },
      "execution_count": 43,
      "outputs": [
        {
          "output_type": "stream",
          "name": "stdout",
          "text": [
            "True\n",
            "False\n"
          ]
        }
      ]
    },
    {
      "cell_type": "code",
      "source": [
        "l=[]\n",
        "def noise(column):\n",
        "  if(is_number(column[0])==True):\n",
        "    for i in range(len(column)):\n",
        "      if(is_number(column[i])==False):\n",
        "        l.append(i)\n",
        "  else:\n",
        "    for i in range(len(column)):\n",
        "      if(is_number(column[i])==True):\n",
        "        l.append(i)\n",
        "for i in is_object():\n",
        "  noise(cars_data[i])\n",
        "print(l)  "
      ],
      "metadata": {
        "colab": {
          "base_uri": "https://localhost:8080/"
        },
        "id": "1VDsvakDPAIR",
        "outputId": "969cb92f-1f5a-4807-972b-d04c99ea3e9b"
      },
      "execution_count": 44,
      "outputs": [
        {
          "output_type": "stream",
          "name": "stdout",
          "text": [
            "[2, 3, 51, 53, 75, 89, 90]\n"
          ]
        }
      ]
    },
    {
      "cell_type": "code",
      "source": [
        "cars_data.drop(cars_data.index[l],inplace=True)\n",
        "print(cars_data.head(91))"
      ],
      "metadata": {
        "colab": {
          "base_uri": "https://localhost:8080/"
        },
        "id": "RGslEmb7RbA-",
        "outputId": "4a8156d4-2abe-4207-c538-dda3056608b4"
      },
      "execution_count": 45,
      "outputs": [
        {
          "output_type": "stream",
          "name": "stdout",
          "text": [
            "   Manufacturer    Model     Type  Min.Price  Price  Max.Price  MPG.city  \\\n",
            "0         Acura  Integra    Small       12.9   15.9       18.8        25   \n",
            "1         Acura   Legend  Midsize       29.2   33.9       38.7        18   \n",
            "4           BMW     535i  Midsize       23.7   30.0       36.2        22   \n",
            "5         Buick  Century  Midsize       14.2   15.7       17.3        22   \n",
            "6         Buick  LeSabre    Large       19.9   20.8       21.7        19   \n",
            "..          ...      ...      ...        ...    ...        ...       ...   \n",
            "84       Toyota   Previa      Van       18.9   22.7       26.6        18   \n",
            "85   Volkswagen      Fox    Small        8.7    9.1        9.5        25   \n",
            "86   Volkswagen  Eurovan      Van       16.6   19.7       22.7        17   \n",
            "87   Volkswagen   Passat  Compact       17.6   20.0       22.4        21   \n",
            "88   Volkswagen  Corrado   Sporty       22.9   23.3       23.7        18   \n",
            "\n",
            "    MPG.highway             AirBags DriveTrain  ... Fuel.tank.capacity  \\\n",
            "0            31                None      Front  ...               13.2   \n",
            "1            25  Driver & Passenger      Front  ...               18.0   \n",
            "4            30         Driver only       Rear  ...               21.1   \n",
            "5            31         Driver only      Front  ...               16.4   \n",
            "6            28         Driver only      Front  ...               18.0   \n",
            "..          ...                 ...        ...  ...                ...   \n",
            "84           22         Driver only        4WD  ...               19.8   \n",
            "85           33                None      Front  ...               12.4   \n",
            "86           21                None      Front  ...               21.1   \n",
            "87           30                None      Front  ...               18.5   \n",
            "88           25                None      Front  ...               18.5   \n",
            "\n",
            "    Passengers  Length  Wheelbase  Width Turn.circle  Rear.seat.room  \\\n",
            "0            5     177        102     68          37            26.5   \n",
            "1            5     195        115     71          38            30.0   \n",
            "4            4     186        109     69          39            27.0   \n",
            "5            6     189        105     69          41            28.0   \n",
            "6            6     200        111     74          42            30.5   \n",
            "..         ...     ...        ...    ...         ...             ...   \n",
            "84           7     187        113     71          41            35.0   \n",
            "85           4     163         93     63          34            26.0   \n",
            "86           7     187        115     72          38            34.0   \n",
            "87           5     180        103     67          35            31.5   \n",
            "88           4     159         97     66          36            26.0   \n",
            "\n",
            "    Luggage.room  Weight   Origin  \n",
            "0      11.000000    2705  non-USA  \n",
            "1      15.000000    3560  non-USA  \n",
            "4      13.000000    3640  non-USA  \n",
            "5      16.000000    2880      USA  \n",
            "6      17.000000    3470      USA  \n",
            "..           ...     ...      ...  \n",
            "84     13.890244    3785  non-USA  \n",
            "85     10.000000    2240  non-USA  \n",
            "86     13.890244    3960  non-USA  \n",
            "87     14.000000    2985  non-USA  \n",
            "88     15.000000    2810  non-USA  \n",
            "\n",
            "[84 rows x 26 columns]\n"
          ]
        }
      ]
    },
    {
      "cell_type": "code",
      "source": [
        "cars_data.reset_index(drop=True,inplace=True)"
      ],
      "metadata": {
        "id": "u2TnWfGYW8nY"
      },
      "execution_count": 46,
      "outputs": []
    },
    {
      "cell_type": "markdown",
      "source": [
        "\n",
        "\n",
        "> (iv)Write a function to encode all the categorical features in the dataset according to the type of variable jointly.\n",
        "\n",
        "\n"
      ],
      "metadata": {
        "id": "yMGt2qBUEALV"
      }
    },
    {
      "cell_type": "code",
      "source": [
        "from collections import Counter\n",
        "for i in is_object():\n",
        "  print(Counter(cars_data[i]))"
      ],
      "metadata": {
        "colab": {
          "base_uri": "https://localhost:8080/"
        },
        "id": "HyKDNfUnEEGk",
        "outputId": "4130014d-7121-445b-d7e3-0bdd39a55737"
      },
      "execution_count": 47,
      "outputs": [
        {
          "output_type": "stream",
          "name": "stdout",
          "text": [
            "Counter({'Ford': 8, 'Chevrolet': 7, 'Dodge': 6, 'Pontiac': 5, 'Buick': 4, 'Hyundai': 4, 'Nissan': 4, 'Oldsmobile': 4, 'Toyota': 4, 'Volkswagen': 4, 'Honda': 3, 'Subaru': 3, 'Acura': 2, 'Cadillac': 2, 'Chrysler': 2, 'Eagle': 2, 'Geo': 2, 'Lexus': 2, 'Lincoln': 2, 'Mazda': 2, 'Mercedes-Benz': 2, 'Mercury': 2, 'Mitsubishi': 2, 'BMW': 1, 'Chrylser': 1, 'Infiniti': 1, 'Plymouth': 1, 'Saturn': 1, 'Suzuki': 1})\n",
            "Counter({'Integra': 1, 'Legend': 1, '535i': 1, 'Century': 1, 'LeSabre': 1, 'Roadmaster': 1, 'Riviera': 1, 'DeVille': 1, 'Seville': 1, 'Cavalier': 1, 'Corsica': 1, 'Camaro': 1, 'Lumina': 1, 'Lumina_APV': 1, 'Astro': 1, 'Caprice': 1, 'Concorde': 1, 'LeBaron': 1, 'Imperial': 1, 'Colt': 1, 'Shadow': 1, 'Spirit': 1, 'Caravan': 1, 'Dynasty': 1, 'Stealth': 1, 'Summit': 1, 'Vision': 1, 'Festiva': 1, 'Escort': 1, 'Tempo': 1, 'Mustang': 1, 'Probe': 1, 'Aerostar': 1, 'Taurus': 1, 'Crown_Victoria': 1, 'Metro': 1, 'Storm': 1, 'Prelude': 1, 'Civic': 1, 'Accord': 1, 'Excel': 1, 'Elantra': 1, 'Scoupe': 1, 'Sonata': 1, 'Q45': 1, 'ES300': 1, 'SC300': 1, 'Continental': 1, 'Town_Car': 1, 'Protege': 1, 'MPV': 1, '190E': 1, '300E': 1, 'Capri': 1, 'Cougar': 1, 'Mirage': 1, 'Diamante': 1, 'Sentra': 1, 'Altima': 1, 'Quest': 1, 'Maxima': 1, 'Achieva': 1, 'Cutlass_Ciera': 1, 'Silhouette': 1, 'Eighty-Eight': 1, 'Laser': 1, 'LeMans': 1, 'Sunbird': 1, 'Firebird': 1, 'Grand_Prix': 1, 'Bonneville': 1, 'SL': 1, 'Justy': 1, 'Loyale': 1, 'Legacy': 1, 'Swift': 1, 'Tercel': 1, 'Celica': 1, 'Camry': 1, 'Previa': 1, 'Fox': 1, 'Eurovan': 1, 'Passat': 1, 'Corrado': 1})\n",
            "Counter({'Small': 20, 'Midsize': 20, 'Compact': 12, 'Sporty': 12, 'Large': 11, 'Van': 9})\n",
            "Counter({'Driver only': 37, 'None': 33, 'Driver & Passenger': 14})\n",
            "Counter({'Front': 61, 'Rear': 13, '4WD': 10})\n",
            "Counter({'4': 45, '6': 29, '8': 6, '3': 3, '5': 1})\n",
            "Counter({'Yes': 52, 'No': 32})\n",
            "Counter({'USA': 47, 'non-USA': 37})\n"
          ]
        }
      ]
    },
    {
      "cell_type": "code",
      "source": [
        "#so the categorical features are Type(ordinal),Airbags(ordinal),DriveTrain(nominal),Man.trans.avail(nominal),Origin(nominal)\n",
        "#for ordinal type of data we use ordinal encoding and for nominal data we use one hot encoding\n",
        "def encoding_columns():\n",
        "  nominal=['DriveTrain','Man.trans.avail','Origin']\n",
        "  #now for ordinal data we use ordinal encoding\n",
        "  map_scale_Type={'Small':0,'Compact':1,'Midsize':2,'Sporty':3,'Van':4,'Large':5} #we are assuming small<compact<midsize<sporty<van<large\n",
        "  cars_data['newType']=cars_data['Type'].replace(map_scale_Type)\n",
        "  map_scale_Airbags={'None':0,'Driver only':1,'Driver & Passenger':2}\n",
        "  cars_data['newAirbags']=cars_data['AirBags'].replace(map_scale_Airbags)\n",
        "  del cars_data['AirBags']\n",
        "  cars_data['AirBags']=cars_data['newAirbags']\n",
        "  del cars_data['newAirbags']\n",
        "  del cars_data['Type']\n",
        "  cars_data['Type']=cars_data['newType']\n",
        "  del cars_data['newType']\n",
        "  data=pd.get_dummies(cars_data,columns=nominal)\n",
        "  return data\n",
        "cars_data=encoding_columns()\n",
        "cars_data"
      ],
      "metadata": {
        "colab": {
          "base_uri": "https://localhost:8080/",
          "height": 505
        },
        "id": "225IuyI4SzQx",
        "outputId": "621faeb4-8c10-421d-c330-53d3352eefa0"
      },
      "execution_count": 48,
      "outputs": [
        {
          "output_type": "execute_result",
          "data": {
            "text/plain": [
              "   Manufacturer    Model  Min.Price  Price  Max.Price  MPG.city  MPG.highway  \\\n",
              "0         Acura  Integra       12.9   15.9       18.8        25           31   \n",
              "1         Acura   Legend       29.2   33.9       38.7        18           25   \n",
              "2           BMW     535i       23.7   30.0       36.2        22           30   \n",
              "3         Buick  Century       14.2   15.7       17.3        22           31   \n",
              "4         Buick  LeSabre       19.9   20.8       21.7        19           28   \n",
              "..          ...      ...        ...    ...        ...       ...          ...   \n",
              "79       Toyota   Previa       18.9   22.7       26.6        18           22   \n",
              "80   Volkswagen      Fox        8.7    9.1        9.5        25           33   \n",
              "81   Volkswagen  Eurovan       16.6   19.7       22.7        17           21   \n",
              "82   Volkswagen   Passat       17.6   20.0       22.4        21           30   \n",
              "83   Volkswagen  Corrado       22.9   23.3       23.7        18           25   \n",
              "\n",
              "   Cylinders  EngineSize  Horsepower  ...  Weight  AirBags  Type  \\\n",
              "0          4         1.8         140  ...    2705        0     0   \n",
              "1          6         3.2         200  ...    3560        2     2   \n",
              "2          4         3.5         208  ...    3640        1     2   \n",
              "3          4         2.2         110  ...    2880        1     2   \n",
              "4          6         3.8         170  ...    3470        1     5   \n",
              "..       ...         ...         ...  ...     ...      ...   ...   \n",
              "79         4         2.4         138  ...    3785        1     4   \n",
              "80         4         1.8          81  ...    2240        0     0   \n",
              "81         5         2.5         109  ...    3960        0     4   \n",
              "82         4         2.0         134  ...    2985        0     1   \n",
              "83         6         2.8         178  ...    2810        0     3   \n",
              "\n",
              "    DriveTrain_4WD  DriveTrain_Front  DriveTrain_Rear  Man.trans.avail_No  \\\n",
              "0                0                 1                0                   0   \n",
              "1                0                 1                0                   0   \n",
              "2                0                 0                1                   0   \n",
              "3                0                 1                0                   1   \n",
              "4                0                 1                0                   1   \n",
              "..             ...               ...              ...                 ...   \n",
              "79               1                 0                0                   0   \n",
              "80               0                 1                0                   0   \n",
              "81               0                 1                0                   0   \n",
              "82               0                 1                0                   0   \n",
              "83               0                 1                0                   0   \n",
              "\n",
              "    Man.trans.avail_Yes  Origin_USA  Origin_non-USA  \n",
              "0                     1           0               1  \n",
              "1                     1           0               1  \n",
              "2                     1           0               1  \n",
              "3                     0           1               0  \n",
              "4                     0           1               0  \n",
              "..                  ...         ...             ...  \n",
              "79                    1           0               1  \n",
              "80                    1           0               1  \n",
              "81                    1           0               1  \n",
              "82                    1           0               1  \n",
              "83                    1           0               1  \n",
              "\n",
              "[84 rows x 30 columns]"
            ],
            "text/html": [
              "\n",
              "  <div id=\"df-fd70cb4f-3882-467d-8958-68d5fae655ea\">\n",
              "    <div class=\"colab-df-container\">\n",
              "      <div>\n",
              "<style scoped>\n",
              "    .dataframe tbody tr th:only-of-type {\n",
              "        vertical-align: middle;\n",
              "    }\n",
              "\n",
              "    .dataframe tbody tr th {\n",
              "        vertical-align: top;\n",
              "    }\n",
              "\n",
              "    .dataframe thead th {\n",
              "        text-align: right;\n",
              "    }\n",
              "</style>\n",
              "<table border=\"1\" class=\"dataframe\">\n",
              "  <thead>\n",
              "    <tr style=\"text-align: right;\">\n",
              "      <th></th>\n",
              "      <th>Manufacturer</th>\n",
              "      <th>Model</th>\n",
              "      <th>Min.Price</th>\n",
              "      <th>Price</th>\n",
              "      <th>Max.Price</th>\n",
              "      <th>MPG.city</th>\n",
              "      <th>MPG.highway</th>\n",
              "      <th>Cylinders</th>\n",
              "      <th>EngineSize</th>\n",
              "      <th>Horsepower</th>\n",
              "      <th>...</th>\n",
              "      <th>Weight</th>\n",
              "      <th>AirBags</th>\n",
              "      <th>Type</th>\n",
              "      <th>DriveTrain_4WD</th>\n",
              "      <th>DriveTrain_Front</th>\n",
              "      <th>DriveTrain_Rear</th>\n",
              "      <th>Man.trans.avail_No</th>\n",
              "      <th>Man.trans.avail_Yes</th>\n",
              "      <th>Origin_USA</th>\n",
              "      <th>Origin_non-USA</th>\n",
              "    </tr>\n",
              "  </thead>\n",
              "  <tbody>\n",
              "    <tr>\n",
              "      <th>0</th>\n",
              "      <td>Acura</td>\n",
              "      <td>Integra</td>\n",
              "      <td>12.9</td>\n",
              "      <td>15.9</td>\n",
              "      <td>18.8</td>\n",
              "      <td>25</td>\n",
              "      <td>31</td>\n",
              "      <td>4</td>\n",
              "      <td>1.8</td>\n",
              "      <td>140</td>\n",
              "      <td>...</td>\n",
              "      <td>2705</td>\n",
              "      <td>0</td>\n",
              "      <td>0</td>\n",
              "      <td>0</td>\n",
              "      <td>1</td>\n",
              "      <td>0</td>\n",
              "      <td>0</td>\n",
              "      <td>1</td>\n",
              "      <td>0</td>\n",
              "      <td>1</td>\n",
              "    </tr>\n",
              "    <tr>\n",
              "      <th>1</th>\n",
              "      <td>Acura</td>\n",
              "      <td>Legend</td>\n",
              "      <td>29.2</td>\n",
              "      <td>33.9</td>\n",
              "      <td>38.7</td>\n",
              "      <td>18</td>\n",
              "      <td>25</td>\n",
              "      <td>6</td>\n",
              "      <td>3.2</td>\n",
              "      <td>200</td>\n",
              "      <td>...</td>\n",
              "      <td>3560</td>\n",
              "      <td>2</td>\n",
              "      <td>2</td>\n",
              "      <td>0</td>\n",
              "      <td>1</td>\n",
              "      <td>0</td>\n",
              "      <td>0</td>\n",
              "      <td>1</td>\n",
              "      <td>0</td>\n",
              "      <td>1</td>\n",
              "    </tr>\n",
              "    <tr>\n",
              "      <th>2</th>\n",
              "      <td>BMW</td>\n",
              "      <td>535i</td>\n",
              "      <td>23.7</td>\n",
              "      <td>30.0</td>\n",
              "      <td>36.2</td>\n",
              "      <td>22</td>\n",
              "      <td>30</td>\n",
              "      <td>4</td>\n",
              "      <td>3.5</td>\n",
              "      <td>208</td>\n",
              "      <td>...</td>\n",
              "      <td>3640</td>\n",
              "      <td>1</td>\n",
              "      <td>2</td>\n",
              "      <td>0</td>\n",
              "      <td>0</td>\n",
              "      <td>1</td>\n",
              "      <td>0</td>\n",
              "      <td>1</td>\n",
              "      <td>0</td>\n",
              "      <td>1</td>\n",
              "    </tr>\n",
              "    <tr>\n",
              "      <th>3</th>\n",
              "      <td>Buick</td>\n",
              "      <td>Century</td>\n",
              "      <td>14.2</td>\n",
              "      <td>15.7</td>\n",
              "      <td>17.3</td>\n",
              "      <td>22</td>\n",
              "      <td>31</td>\n",
              "      <td>4</td>\n",
              "      <td>2.2</td>\n",
              "      <td>110</td>\n",
              "      <td>...</td>\n",
              "      <td>2880</td>\n",
              "      <td>1</td>\n",
              "      <td>2</td>\n",
              "      <td>0</td>\n",
              "      <td>1</td>\n",
              "      <td>0</td>\n",
              "      <td>1</td>\n",
              "      <td>0</td>\n",
              "      <td>1</td>\n",
              "      <td>0</td>\n",
              "    </tr>\n",
              "    <tr>\n",
              "      <th>4</th>\n",
              "      <td>Buick</td>\n",
              "      <td>LeSabre</td>\n",
              "      <td>19.9</td>\n",
              "      <td>20.8</td>\n",
              "      <td>21.7</td>\n",
              "      <td>19</td>\n",
              "      <td>28</td>\n",
              "      <td>6</td>\n",
              "      <td>3.8</td>\n",
              "      <td>170</td>\n",
              "      <td>...</td>\n",
              "      <td>3470</td>\n",
              "      <td>1</td>\n",
              "      <td>5</td>\n",
              "      <td>0</td>\n",
              "      <td>1</td>\n",
              "      <td>0</td>\n",
              "      <td>1</td>\n",
              "      <td>0</td>\n",
              "      <td>1</td>\n",
              "      <td>0</td>\n",
              "    </tr>\n",
              "    <tr>\n",
              "      <th>...</th>\n",
              "      <td>...</td>\n",
              "      <td>...</td>\n",
              "      <td>...</td>\n",
              "      <td>...</td>\n",
              "      <td>...</td>\n",
              "      <td>...</td>\n",
              "      <td>...</td>\n",
              "      <td>...</td>\n",
              "      <td>...</td>\n",
              "      <td>...</td>\n",
              "      <td>...</td>\n",
              "      <td>...</td>\n",
              "      <td>...</td>\n",
              "      <td>...</td>\n",
              "      <td>...</td>\n",
              "      <td>...</td>\n",
              "      <td>...</td>\n",
              "      <td>...</td>\n",
              "      <td>...</td>\n",
              "      <td>...</td>\n",
              "      <td>...</td>\n",
              "    </tr>\n",
              "    <tr>\n",
              "      <th>79</th>\n",
              "      <td>Toyota</td>\n",
              "      <td>Previa</td>\n",
              "      <td>18.9</td>\n",
              "      <td>22.7</td>\n",
              "      <td>26.6</td>\n",
              "      <td>18</td>\n",
              "      <td>22</td>\n",
              "      <td>4</td>\n",
              "      <td>2.4</td>\n",
              "      <td>138</td>\n",
              "      <td>...</td>\n",
              "      <td>3785</td>\n",
              "      <td>1</td>\n",
              "      <td>4</td>\n",
              "      <td>1</td>\n",
              "      <td>0</td>\n",
              "      <td>0</td>\n",
              "      <td>0</td>\n",
              "      <td>1</td>\n",
              "      <td>0</td>\n",
              "      <td>1</td>\n",
              "    </tr>\n",
              "    <tr>\n",
              "      <th>80</th>\n",
              "      <td>Volkswagen</td>\n",
              "      <td>Fox</td>\n",
              "      <td>8.7</td>\n",
              "      <td>9.1</td>\n",
              "      <td>9.5</td>\n",
              "      <td>25</td>\n",
              "      <td>33</td>\n",
              "      <td>4</td>\n",
              "      <td>1.8</td>\n",
              "      <td>81</td>\n",
              "      <td>...</td>\n",
              "      <td>2240</td>\n",
              "      <td>0</td>\n",
              "      <td>0</td>\n",
              "      <td>0</td>\n",
              "      <td>1</td>\n",
              "      <td>0</td>\n",
              "      <td>0</td>\n",
              "      <td>1</td>\n",
              "      <td>0</td>\n",
              "      <td>1</td>\n",
              "    </tr>\n",
              "    <tr>\n",
              "      <th>81</th>\n",
              "      <td>Volkswagen</td>\n",
              "      <td>Eurovan</td>\n",
              "      <td>16.6</td>\n",
              "      <td>19.7</td>\n",
              "      <td>22.7</td>\n",
              "      <td>17</td>\n",
              "      <td>21</td>\n",
              "      <td>5</td>\n",
              "      <td>2.5</td>\n",
              "      <td>109</td>\n",
              "      <td>...</td>\n",
              "      <td>3960</td>\n",
              "      <td>0</td>\n",
              "      <td>4</td>\n",
              "      <td>0</td>\n",
              "      <td>1</td>\n",
              "      <td>0</td>\n",
              "      <td>0</td>\n",
              "      <td>1</td>\n",
              "      <td>0</td>\n",
              "      <td>1</td>\n",
              "    </tr>\n",
              "    <tr>\n",
              "      <th>82</th>\n",
              "      <td>Volkswagen</td>\n",
              "      <td>Passat</td>\n",
              "      <td>17.6</td>\n",
              "      <td>20.0</td>\n",
              "      <td>22.4</td>\n",
              "      <td>21</td>\n",
              "      <td>30</td>\n",
              "      <td>4</td>\n",
              "      <td>2.0</td>\n",
              "      <td>134</td>\n",
              "      <td>...</td>\n",
              "      <td>2985</td>\n",
              "      <td>0</td>\n",
              "      <td>1</td>\n",
              "      <td>0</td>\n",
              "      <td>1</td>\n",
              "      <td>0</td>\n",
              "      <td>0</td>\n",
              "      <td>1</td>\n",
              "      <td>0</td>\n",
              "      <td>1</td>\n",
              "    </tr>\n",
              "    <tr>\n",
              "      <th>83</th>\n",
              "      <td>Volkswagen</td>\n",
              "      <td>Corrado</td>\n",
              "      <td>22.9</td>\n",
              "      <td>23.3</td>\n",
              "      <td>23.7</td>\n",
              "      <td>18</td>\n",
              "      <td>25</td>\n",
              "      <td>6</td>\n",
              "      <td>2.8</td>\n",
              "      <td>178</td>\n",
              "      <td>...</td>\n",
              "      <td>2810</td>\n",
              "      <td>0</td>\n",
              "      <td>3</td>\n",
              "      <td>0</td>\n",
              "      <td>1</td>\n",
              "      <td>0</td>\n",
              "      <td>0</td>\n",
              "      <td>1</td>\n",
              "      <td>0</td>\n",
              "      <td>1</td>\n",
              "    </tr>\n",
              "  </tbody>\n",
              "</table>\n",
              "<p>84 rows × 30 columns</p>\n",
              "</div>\n",
              "      <button class=\"colab-df-convert\" onclick=\"convertToInteractive('df-fd70cb4f-3882-467d-8958-68d5fae655ea')\"\n",
              "              title=\"Convert this dataframe to an interactive table.\"\n",
              "              style=\"display:none;\">\n",
              "        \n",
              "  <svg xmlns=\"http://www.w3.org/2000/svg\" height=\"24px\"viewBox=\"0 0 24 24\"\n",
              "       width=\"24px\">\n",
              "    <path d=\"M0 0h24v24H0V0z\" fill=\"none\"/>\n",
              "    <path d=\"M18.56 5.44l.94 2.06.94-2.06 2.06-.94-2.06-.94-.94-2.06-.94 2.06-2.06.94zm-11 1L8.5 8.5l.94-2.06 2.06-.94-2.06-.94L8.5 2.5l-.94 2.06-2.06.94zm10 10l.94 2.06.94-2.06 2.06-.94-2.06-.94-.94-2.06-.94 2.06-2.06.94z\"/><path d=\"M17.41 7.96l-1.37-1.37c-.4-.4-.92-.59-1.43-.59-.52 0-1.04.2-1.43.59L10.3 9.45l-7.72 7.72c-.78.78-.78 2.05 0 2.83L4 21.41c.39.39.9.59 1.41.59.51 0 1.02-.2 1.41-.59l7.78-7.78 2.81-2.81c.8-.78.8-2.07 0-2.86zM5.41 20L4 18.59l7.72-7.72 1.47 1.35L5.41 20z\"/>\n",
              "  </svg>\n",
              "      </button>\n",
              "      \n",
              "  <style>\n",
              "    .colab-df-container {\n",
              "      display:flex;\n",
              "      flex-wrap:wrap;\n",
              "      gap: 12px;\n",
              "    }\n",
              "\n",
              "    .colab-df-convert {\n",
              "      background-color: #E8F0FE;\n",
              "      border: none;\n",
              "      border-radius: 50%;\n",
              "      cursor: pointer;\n",
              "      display: none;\n",
              "      fill: #1967D2;\n",
              "      height: 32px;\n",
              "      padding: 0 0 0 0;\n",
              "      width: 32px;\n",
              "    }\n",
              "\n",
              "    .colab-df-convert:hover {\n",
              "      background-color: #E2EBFA;\n",
              "      box-shadow: 0px 1px 2px rgba(60, 64, 67, 0.3), 0px 1px 3px 1px rgba(60, 64, 67, 0.15);\n",
              "      fill: #174EA6;\n",
              "    }\n",
              "\n",
              "    [theme=dark] .colab-df-convert {\n",
              "      background-color: #3B4455;\n",
              "      fill: #D2E3FC;\n",
              "    }\n",
              "\n",
              "    [theme=dark] .colab-df-convert:hover {\n",
              "      background-color: #434B5C;\n",
              "      box-shadow: 0px 1px 3px 1px rgba(0, 0, 0, 0.15);\n",
              "      filter: drop-shadow(0px 1px 2px rgba(0, 0, 0, 0.3));\n",
              "      fill: #FFFFFF;\n",
              "    }\n",
              "  </style>\n",
              "\n",
              "      <script>\n",
              "        const buttonEl =\n",
              "          document.querySelector('#df-fd70cb4f-3882-467d-8958-68d5fae655ea button.colab-df-convert');\n",
              "        buttonEl.style.display =\n",
              "          google.colab.kernel.accessAllowed ? 'block' : 'none';\n",
              "\n",
              "        async function convertToInteractive(key) {\n",
              "          const element = document.querySelector('#df-fd70cb4f-3882-467d-8958-68d5fae655ea');\n",
              "          const dataTable =\n",
              "            await google.colab.kernel.invokeFunction('convertToInteractive',\n",
              "                                                     [key], {});\n",
              "          if (!dataTable) return;\n",
              "\n",
              "          const docLinkHtml = 'Like what you see? Visit the ' +\n",
              "            '<a target=\"_blank\" href=https://colab.research.google.com/notebooks/data_table.ipynb>data table notebook</a>'\n",
              "            + ' to learn more about interactive tables.';\n",
              "          element.innerHTML = '';\n",
              "          dataTable['output_type'] = 'display_data';\n",
              "          await google.colab.output.renderOutput(dataTable, element);\n",
              "          const docLink = document.createElement('div');\n",
              "          docLink.innerHTML = docLinkHtml;\n",
              "          element.appendChild(docLink);\n",
              "        }\n",
              "      </script>\n",
              "    </div>\n",
              "  </div>\n",
              "  "
            ]
          },
          "metadata": {},
          "execution_count": 48
        }
      ]
    },
    {
      "cell_type": "code",
      "source": [
        "from collections import Counter\n",
        "for i in is_object():\n",
        "  print(Counter(cars_data[i]))"
      ],
      "metadata": {
        "outputId": "98afbbe0-6bc6-4394-a685-c6c78eff468c",
        "colab": {
          "base_uri": "https://localhost:8080/"
        },
        "id": "JiGx1gRWVkST"
      },
      "execution_count": 49,
      "outputs": [
        {
          "output_type": "stream",
          "name": "stdout",
          "text": [
            "Counter({'Ford': 8, 'Chevrolet': 7, 'Dodge': 6, 'Pontiac': 5, 'Buick': 4, 'Hyundai': 4, 'Nissan': 4, 'Oldsmobile': 4, 'Toyota': 4, 'Volkswagen': 4, 'Honda': 3, 'Subaru': 3, 'Acura': 2, 'Cadillac': 2, 'Chrysler': 2, 'Eagle': 2, 'Geo': 2, 'Lexus': 2, 'Lincoln': 2, 'Mazda': 2, 'Mercedes-Benz': 2, 'Mercury': 2, 'Mitsubishi': 2, 'BMW': 1, 'Chrylser': 1, 'Infiniti': 1, 'Plymouth': 1, 'Saturn': 1, 'Suzuki': 1})\n",
            "Counter({'Integra': 1, 'Legend': 1, '535i': 1, 'Century': 1, 'LeSabre': 1, 'Roadmaster': 1, 'Riviera': 1, 'DeVille': 1, 'Seville': 1, 'Cavalier': 1, 'Corsica': 1, 'Camaro': 1, 'Lumina': 1, 'Lumina_APV': 1, 'Astro': 1, 'Caprice': 1, 'Concorde': 1, 'LeBaron': 1, 'Imperial': 1, 'Colt': 1, 'Shadow': 1, 'Spirit': 1, 'Caravan': 1, 'Dynasty': 1, 'Stealth': 1, 'Summit': 1, 'Vision': 1, 'Festiva': 1, 'Escort': 1, 'Tempo': 1, 'Mustang': 1, 'Probe': 1, 'Aerostar': 1, 'Taurus': 1, 'Crown_Victoria': 1, 'Metro': 1, 'Storm': 1, 'Prelude': 1, 'Civic': 1, 'Accord': 1, 'Excel': 1, 'Elantra': 1, 'Scoupe': 1, 'Sonata': 1, 'Q45': 1, 'ES300': 1, 'SC300': 1, 'Continental': 1, 'Town_Car': 1, 'Protege': 1, 'MPV': 1, '190E': 1, '300E': 1, 'Capri': 1, 'Cougar': 1, 'Mirage': 1, 'Diamante': 1, 'Sentra': 1, 'Altima': 1, 'Quest': 1, 'Maxima': 1, 'Achieva': 1, 'Cutlass_Ciera': 1, 'Silhouette': 1, 'Eighty-Eight': 1, 'Laser': 1, 'LeMans': 1, 'Sunbird': 1, 'Firebird': 1, 'Grand_Prix': 1, 'Bonneville': 1, 'SL': 1, 'Justy': 1, 'Loyale': 1, 'Legacy': 1, 'Swift': 1, 'Tercel': 1, 'Celica': 1, 'Camry': 1, 'Previa': 1, 'Fox': 1, 'Eurovan': 1, 'Passat': 1, 'Corrado': 1})\n",
            "Counter({'4': 45, '6': 29, '8': 6, '3': 3, '5': 1})\n"
          ]
        }
      ]
    },
    {
      "cell_type": "markdown",
      "source": [
        "(v)Write a function to normalize / scale the features either individually or jointly."
      ],
      "metadata": {
        "id": "4C_yWBv0EE2v"
      }
    },
    {
      "cell_type": "code",
      "source": [
        "def list_number():\n",
        "  l=[]\n",
        "  for i in cars_data.columns:\n",
        "    if(cars_data[i].dtypes!=object):\n",
        "      l.append(i)\n",
        "  return l"
      ],
      "metadata": {
        "id": "eAbQeHDqFqdq"
      },
      "execution_count": 50,
      "outputs": []
    },
    {
      "cell_type": "code",
      "source": [
        "#scaling features from 0 to 1\n",
        "def feature_scaling(column):\n",
        "  a=np.array(column)\n",
        "  b=(a-a.min())/(a.max()-a.min())\n",
        "  return b\n",
        "for i in list_number():\n",
        "  new_col=feature_scaling(cars_data[i])\n",
        "  cars_data[i+'1']=new_col\n",
        "  del cars_data[i]\n",
        "  cars_data[i]=cars_data[i+'1']\n",
        "  del cars_data[i+'1']\n",
        "print(cars_data)"
      ],
      "metadata": {
        "colab": {
          "base_uri": "https://localhost:8080/"
        },
        "id": "R5_0amMcEJRC",
        "outputId": "54d41ad4-0424-46e6-cf06-5a41ec5f56ac"
      },
      "execution_count": 51,
      "outputs": [
        {
          "output_type": "stream",
          "name": "stdout",
          "text": [
            "   Manufacturer    Model Cylinders  Min.Price     Price  Max.Price  MPG.city  \\\n",
            "0         Acura  Integra         4   0.160207  0.155963   0.151179  0.322581   \n",
            "1         Acura   Legend         6   0.581395  0.486239   0.427184  0.096774   \n",
            "2           BMW     535i         4   0.439276  0.414679   0.392510  0.225806   \n",
            "3         Buick  Century         4   0.193798  0.152294   0.130374  0.225806   \n",
            "4         Buick  LeSabre         6   0.341085  0.245872   0.191401  0.129032   \n",
            "..          ...      ...       ...        ...       ...        ...       ...   \n",
            "79       Toyota   Previa         4   0.315245  0.280734   0.259362  0.096774   \n",
            "80   Volkswagen      Fox         4   0.051680  0.031193   0.022191  0.322581   \n",
            "81   Volkswagen  Eurovan         5   0.255814  0.225688   0.205270  0.064516   \n",
            "82   Volkswagen   Passat         4   0.281654  0.231193   0.201110  0.193548   \n",
            "83   Volkswagen  Corrado         6   0.418605  0.291743   0.219140  0.096774   \n",
            "\n",
            "    MPG.highway  EngineSize  Horsepower  ...    Weight  AirBags  Type  \\\n",
            "0      0.366667    0.170213    0.346939  ...  0.419087      0.0   0.0   \n",
            "1      0.166667    0.468085    0.591837  ...  0.773859      1.0   0.4   \n",
            "2      0.333333    0.531915    0.624490  ...  0.807054      0.5   0.4   \n",
            "3      0.366667    0.255319    0.224490  ...  0.491701      0.5   0.4   \n",
            "4      0.266667    0.595745    0.469388  ...  0.736515      0.5   1.0   \n",
            "..          ...         ...         ...  ...       ...      ...   ...   \n",
            "79     0.066667    0.297872    0.338776  ...  0.867220      0.5   0.8   \n",
            "80     0.433333    0.170213    0.106122  ...  0.226141      0.0   0.0   \n",
            "81     0.033333    0.319149    0.220408  ...  0.939834      0.0   0.8   \n",
            "82     0.333333    0.212766    0.322449  ...  0.535270      0.0   0.2   \n",
            "83     0.166667    0.382979    0.502041  ...  0.462656      0.0   0.6   \n",
            "\n",
            "    DriveTrain_4WD  DriveTrain_Front  DriveTrain_Rear  Man.trans.avail_No  \\\n",
            "0              0.0               1.0              0.0                 0.0   \n",
            "1              0.0               1.0              0.0                 0.0   \n",
            "2              0.0               0.0              1.0                 0.0   \n",
            "3              0.0               1.0              0.0                 1.0   \n",
            "4              0.0               1.0              0.0                 1.0   \n",
            "..             ...               ...              ...                 ...   \n",
            "79             1.0               0.0              0.0                 0.0   \n",
            "80             0.0               1.0              0.0                 0.0   \n",
            "81             0.0               1.0              0.0                 0.0   \n",
            "82             0.0               1.0              0.0                 0.0   \n",
            "83             0.0               1.0              0.0                 0.0   \n",
            "\n",
            "    Man.trans.avail_Yes  Origin_USA  Origin_non-USA  \n",
            "0                   1.0         0.0             1.0  \n",
            "1                   1.0         0.0             1.0  \n",
            "2                   1.0         0.0             1.0  \n",
            "3                   0.0         1.0             0.0  \n",
            "4                   0.0         1.0             0.0  \n",
            "..                  ...         ...             ...  \n",
            "79                  1.0         0.0             1.0  \n",
            "80                  1.0         0.0             1.0  \n",
            "81                  1.0         0.0             1.0  \n",
            "82                  1.0         0.0             1.0  \n",
            "83                  1.0         0.0             1.0  \n",
            "\n",
            "[84 rows x 30 columns]\n"
          ]
        }
      ]
    },
    {
      "cell_type": "markdown",
      "source": [
        "\n",
        "\n",
        "> (vi) Write a function to create a random split of the data into train, validation and test sets in the ratio of [70:20:10]."
      ],
      "metadata": {
        "id": "8dwwzxkLHEms"
      }
    },
    {
      "cell_type": "code",
      "source": [
        "from sklearn.model_selection import train_test_split\n",
        "input_data=np.array(cars_data.iloc[:,:26])\n",
        "output_data=np.array(cars_data.iloc[:,26])\n",
        "x_train,x_test,y_train,y_test=train_test_split(input_data,output_data,train_size=0.9)\n",
        "X=np.array(x_train)\n",
        "Y=np.array(y_train)\n",
        "x_training,x_validation,y_training,y_validation=train_test_split(X,Y,train_size=0.777)"
      ],
      "metadata": {
        "id": "vjbuB6EWHCnL"
      },
      "execution_count": 57,
      "outputs": []
    },
    {
      "cell_type": "code",
      "source": [
        "print(x_training.shape[0]/len(cars_data)*100, \"So 70% data\")\n",
        "print(x_validation.shape[0]/len(cars_data)*100,\"So 20% data\")\n",
        "print(x_test.shape[0]/len(cars_data)*100,\"So 10% data\")\n",
        "#so training will be our training data, validation is validation data and test is testing data"
      ],
      "metadata": {
        "colab": {
          "base_uri": "https://localhost:8080/"
        },
        "id": "WErKPHq6IIRy",
        "outputId": "69478820-a462-4439-cbe3-51919491e9f7"
      },
      "execution_count": 58,
      "outputs": [
        {
          "output_type": "stream",
          "name": "stdout",
          "text": [
            "69.04761904761905 So 70% data\n",
            "20.238095238095237 So 20% data\n",
            "10.714285714285714 So 10% data\n"
          ]
        }
      ]
    },
    {
      "cell_type": "markdown",
      "source": [
        "## **PROBLEM 4**"
      ],
      "metadata": {
        "id": "ecqIhxSaG6vZ"
      }
    },
    {
      "cell_type": "code",
      "source": [
        "import matplotlib.pyplot as plt\n",
        "import numpy as np"
      ],
      "metadata": {
        "id": "gM4Jk4J_H04g"
      },
      "execution_count": 59,
      "outputs": []
    },
    {
      "cell_type": "markdown",
      "source": [
        "**Part a**\n",
        "\n",
        "> y = 5x + 4 where x ranges from [-10, 10].\n",
        "\n"
      ],
      "metadata": {
        "id": "xMxpAE_SHdEm"
      }
    },
    {
      "cell_type": "code",
      "source": [
        "m=5\n",
        "c=4\n",
        "x=np.arange(-10,10.1,0.1)\n",
        "y=(m*x)+c\n",
        "plt.plot(x,y,color=\"red\",linestyle=\"--\",linewidth=3)\n",
        "plt.ylabel(\"y\",fontsize=15)\n",
        "plt.xlabel(\"x\",fontsize=15)\n",
        "plt.grid()\n",
        "plt.title(\"y=5x+4\",fontsize=20)\n",
        "plt.show()"
      ],
      "metadata": {
        "colab": {
          "base_uri": "https://localhost:8080/",
          "height": 305
        },
        "id": "Xrw3FemTHs2P",
        "outputId": "cb8f005f-12f9-4aa5-f69e-a89c8e7ed260"
      },
      "execution_count": 60,
      "outputs": [
        {
          "output_type": "display_data",
          "data": {
            "text/plain": [
              "<Figure size 432x288 with 1 Axes>"
            ],
            "image/png": "[encoded data removed]"
          },
          "metadata": {
            "needs_background": "light"
          }
        }
      ]
    },
    {
      "cell_type": "markdown",
      "source": [
        "**Part b**\n",
        "\n",
        ">y = ln(x) where x > 10 and x < 100.\n",
        "\n",
        "\n"
      ],
      "metadata": {
        "id": "WOtJz6cQIRYQ"
      }
    },
    {
      "cell_type": "code",
      "source": [
        "import math\n",
        "x=np.arange(10.1,100,0.1)\n",
        "y=[math.log(num) for num in x]\n",
        "plt.plot(x,y,color=\"orange\",linestyle=\"-.\",linewidth=3)\n",
        "plt.ylabel(\"y\",fontsize=15)\n",
        "plt.xlabel(\"x\",fontsize=15)\n",
        "plt.grid()\n",
        "plt.title(\"y=ln(x)\",fontsize=20)\n",
        "plt.show()"
      ],
      "metadata": {
        "colab": {
          "base_uri": "https://localhost:8080/",
          "height": 305
        },
        "id": "STpLy5FMIX6Q",
        "outputId": "6232e4f8-c5f8-4cf7-9e19-01a6ae005e2d"
      },
      "execution_count": 61,
      "outputs": [
        {
          "output_type": "display_data",
          "data": {
            "text/plain": [
              "<Figure size 432x288 with 1 Axes>"
            ],
            "image/png": "[encoded data removed]"
          },
          "metadata": {
            "needs_background": "light"
          }
        }
      ]
    },
    {
      "cell_type": "markdown",
      "source": [
        "**Part c**\n",
        "\n",
        "> y = x^2 where x ranges from [-10, 10].\n",
        "\n",
        "\n"
      ],
      "metadata": {
        "id": "fg4HnkcLI41h"
      }
    },
    {
      "cell_type": "code",
      "source": [
        "x=np.arange(-10,10.1,0.1)\n",
        "y=x**2;\n",
        "plt.plot(x,y,color=\"blue\",linewidth=4)\n",
        "plt.ylabel(\"y\",fontsize=15)\n",
        "plt.xlabel(\"x\",fontsize=15)\n",
        "plt.grid()\n",
        "plt.title(\"y=x^2\",fontsize=20)\n",
        "plt.show()"
      ],
      "metadata": {
        "colab": {
          "base_uri": "https://localhost:8080/",
          "height": 305
        },
        "id": "DdSPzfiiI_bT",
        "outputId": "875f897e-fd80-4c88-c0ef-e1969ec26734"
      },
      "execution_count": 62,
      "outputs": [
        {
          "output_type": "display_data",
          "data": {
            "text/plain": [
              "<Figure size 432x288 with 1 Axes>"
            ],
            "image/png": "[encoded data removed]"
          },
          "metadata": {
            "needs_background": "light"
          }
        }
      ]
    },
    {
      "cell_type": "markdown",
      "source": [
        "## **PROBLEM 5**"
      ],
      "metadata": {
        "id": "vxK1nGw3d2Z9"
      }
    },
    {
      "cell_type": "markdown",
      "source": [
        "\n",
        "\n",
        "> Import the Necessary Python Libraries and Components\n",
        "\n"
      ],
      "metadata": {
        "id": "xxZo6Tx6d8J9"
      }
    },
    {
      "cell_type": "code",
      "source": [
        "import pandas as pd\n",
        "import numpy as np\n",
        "from sklearn.model_selection import train_test_split as tts\n",
        "from sklearn.linear_model import LogisticRegression as LR\n",
        "from sklearn.tree import DecisionTreeClassifier as DTC\n",
        "from sklearn.metrics import confusion_matrix as cm\n",
        "from sklearn.metrics import precision_score as ps\n",
        "from sklearn.metrics import recall_score as rs\n",
        "from sklearn.metrics import f1_score as f1s\n",
        "from sklearn.metrics import accuracy_score as acc"
      ],
      "metadata": {
        "id": "EALQzE13h3x_"
      },
      "execution_count": 63,
      "outputs": []
    },
    {
      "cell_type": "markdown",
      "source": [
        "\n",
        "\n",
        "> To Disable Convergence Warnings (For Custom Training)\n",
        "\n"
      ],
      "metadata": {
        "id": "BWWNT4iFh-g_"
      }
    },
    {
      "cell_type": "code",
      "source": [
        "from warnings import simplefilter\n",
        "from sklearn.exceptions import ConvergenceWarning\n",
        "simplefilter(\"ignore\", category=ConvergenceWarning)"
      ],
      "metadata": {
        "id": "ldKm-yXriGsK"
      },
      "execution_count": 64,
      "outputs": []
    },
    {
      "cell_type": "markdown",
      "source": [
        "\n",
        "\n",
        "> 1) Input the Dataset\n",
        "\n"
      ],
      "metadata": {
        "id": "Ise2_L4-iMYR"
      }
    },
    {
      "cell_type": "code",
      "source": [
        "# Dataset Reference :- https://www.kaggle.com/uciml/breast-cancer-wisconsin-data\n",
        "\n",
        "data = pd.read_csv(\"/content/data.csv\")\n",
        "data"
      ],
      "metadata": {
        "colab": {
          "base_uri": "https://localhost:8080/",
          "height": 505
        },
        "id": "B6xRZBf6ibME",
        "outputId": "7e4e9da1-54f5-4b5e-9134-68412a57843d"
      },
      "execution_count": 65,
      "outputs": [
        {
          "output_type": "execute_result",
          "data": {
            "text/plain": [
              "           id diagnosis  radius_mean  texture_mean  perimeter_mean  area_mean  \\\n",
              "0      842302         M        17.99         10.38          122.80     1001.0   \n",
              "1      842517         M        20.57         17.77          132.90     1326.0   \n",
              "2    84300903         M        19.69         21.25          130.00     1203.0   \n",
              "3    84348301         M        11.42         20.38           77.58      386.1   \n",
              "4    84358402         M        20.29         14.34          135.10     1297.0   \n",
              "..        ...       ...          ...           ...             ...        ...   \n",
              "564    926424         M        21.56         22.39          142.00     1479.0   \n",
              "565    926682         M        20.13         28.25          131.20     1261.0   \n",
              "566    926954         M        16.60         28.08          108.30      858.1   \n",
              "567    927241         M        20.60         29.33          140.10     1265.0   \n",
              "568     92751         B         7.76         24.54           47.92      181.0   \n",
              "\n",
              "     smoothness_mean  compactness_mean  concavity_mean  concave points_mean  \\\n",
              "0            0.11840           0.27760         0.30010              0.14710   \n",
              "1            0.08474           0.07864         0.08690              0.07017   \n",
              "2            0.10960           0.15990         0.19740              0.12790   \n",
              "3            0.14250           0.28390         0.24140              0.10520   \n",
              "4            0.10030           0.13280         0.19800              0.10430   \n",
              "..               ...               ...             ...                  ...   \n",
              "564          0.11100           0.11590         0.24390              0.13890   \n",
              "565          0.09780           0.10340         0.14400              0.09791   \n",
              "566          0.08455           0.10230         0.09251              0.05302   \n",
              "567          0.11780           0.27700         0.35140              0.15200   \n",
              "568          0.05263           0.04362         0.00000              0.00000   \n",
              "\n",
              "     ...  texture_worst  perimeter_worst  area_worst  smoothness_worst  \\\n",
              "0    ...          17.33           184.60      2019.0           0.16220   \n",
              "1    ...          23.41           158.80      1956.0           0.12380   \n",
              "2    ...          25.53           152.50      1709.0           0.14440   \n",
              "3    ...          26.50            98.87       567.7           0.20980   \n",
              "4    ...          16.67           152.20      1575.0           0.13740   \n",
              "..   ...            ...              ...         ...               ...   \n",
              "564  ...          26.40           166.10      2027.0           0.14100   \n",
              "565  ...          38.25           155.00      1731.0           0.11660   \n",
              "566  ...          34.12           126.70      1124.0           0.11390   \n",
              "567  ...          39.42           184.60      1821.0           0.16500   \n",
              "568  ...          30.37            59.16       268.6           0.08996   \n",
              "\n",
              "     compactness_worst  concavity_worst  concave points_worst  symmetry_worst  \\\n",
              "0              0.66560           0.7119                0.2654          0.4601   \n",
              "1              0.18660           0.2416                0.1860          0.2750   \n",
              "2              0.42450           0.4504                0.2430          0.3613   \n",
              "3              0.86630           0.6869                0.2575          0.6638   \n",
              "4              0.20500           0.4000                0.1625          0.2364   \n",
              "..                 ...              ...                   ...             ...   \n",
              "564            0.21130           0.4107                0.2216          0.2060   \n",
              "565            0.19220           0.3215                0.1628          0.2572   \n",
              "566            0.30940           0.3403                0.1418          0.2218   \n",
              "567            0.86810           0.9387                0.2650          0.4087   \n",
              "568            0.06444           0.0000                0.0000          0.2871   \n",
              "\n",
              "     fractal_dimension_worst  Unnamed: 32  \n",
              "0                    0.11890          NaN  \n",
              "1                    0.08902          NaN  \n",
              "2                    0.08758          NaN  \n",
              "3                    0.17300          NaN  \n",
              "4                    0.07678          NaN  \n",
              "..                       ...          ...  \n",
              "564                  0.07115          NaN  \n",
              "565                  0.06637          NaN  \n",
              "566                  0.07820          NaN  \n",
              "567                  0.12400          NaN  \n",
              "568                  0.07039          NaN  \n",
              "\n",
              "[569 rows x 33 columns]"
            ],
            "text/html": [
              "\n",
              "  <div id=\"df-595c9cf0-23db-4b76-bf1c-26f525d154bd\">\n",
              "    <div class=\"colab-df-container\">\n",
              "      <div>\n",
              "<style scoped>\n",
              "    .dataframe tbody tr th:only-of-type {\n",
              "        vertical-align: middle;\n",
              "    }\n",
              "\n",
              "    .dataframe tbody tr th {\n",
              "        vertical-align: top;\n",
              "    }\n",
              "\n",
              "    .dataframe thead th {\n",
              "        text-align: right;\n",
              "    }\n",
              "</style>\n",
              "<table border=\"1\" class=\"dataframe\">\n",
              "  <thead>\n",
              "    <tr style=\"text-align: right;\">\n",
              "      <th></th>\n",
              "      <th>id</th>\n",
              "      <th>diagnosis</th>\n",
              "      <th>radius_mean</th>\n",
              "      <th>texture_mean</th>\n",
              "      <th>perimeter_mean</th>\n",
              "      <th>area_mean</th>\n",
              "      <th>smoothness_mean</th>\n",
              "      <th>compactness_mean</th>\n",
              "      <th>concavity_mean</th>\n",
              "      <th>concave points_mean</th>\n",
              "      <th>...</th>\n",
              "      <th>texture_worst</th>\n",
              "      <th>perimeter_worst</th>\n",
              "      <th>area_worst</th>\n",
              "      <th>smoothness_worst</th>\n",
              "      <th>compactness_worst</th>\n",
              "      <th>concavity_worst</th>\n",
              "      <th>concave points_worst</th>\n",
              "      <th>symmetry_worst</th>\n",
              "      <th>fractal_dimension_worst</th>\n",
              "      <th>Unnamed: 32</th>\n",
              "    </tr>\n",
              "  </thead>\n",
              "  <tbody>\n",
              "    <tr>\n",
              "      <th>0</th>\n",
              "      <td>842302</td>\n",
              "      <td>M</td>\n",
              "      <td>17.99</td>\n",
              "      <td>10.38</td>\n",
              "      <td>122.80</td>\n",
              "      <td>1001.0</td>\n",
              "      <td>0.11840</td>\n",
              "      <td>0.27760</td>\n",
              "      <td>0.30010</td>\n",
              "      <td>0.14710</td>\n",
              "      <td>...</td>\n",
              "      <td>17.33</td>\n",
              "      <td>184.60</td>\n",
              "      <td>2019.0</td>\n",
              "      <td>0.16220</td>\n",
              "      <td>0.66560</td>\n",
              "      <td>0.7119</td>\n",
              "      <td>0.2654</td>\n",
              "      <td>0.4601</td>\n",
              "      <td>0.11890</td>\n",
              "      <td>NaN</td>\n",
              "    </tr>\n",
              "    <tr>\n",
              "      <th>1</th>\n",
              "      <td>842517</td>\n",
              "      <td>M</td>\n",
              "      <td>20.57</td>\n",
              "      <td>17.77</td>\n",
              "      <td>132.90</td>\n",
              "      <td>1326.0</td>\n",
              "      <td>0.08474</td>\n",
              "      <td>0.07864</td>\n",
              "      <td>0.08690</td>\n",
              "      <td>0.07017</td>\n",
              "      <td>...</td>\n",
              "      <td>23.41</td>\n",
              "      <td>158.80</td>\n",
              "      <td>1956.0</td>\n",
              "      <td>0.12380</td>\n",
              "      <td>0.18660</td>\n",
              "      <td>0.2416</td>\n",
              "      <td>0.1860</td>\n",
              "      <td>0.2750</td>\n",
              "      <td>0.08902</td>\n",
              "      <td>NaN</td>\n",
              "    </tr>\n",
              "    <tr>\n",
              "      <th>2</th>\n",
              "      <td>84300903</td>\n",
              "      <td>M</td>\n",
              "      <td>19.69</td>\n",
              "      <td>21.25</td>\n",
              "      <td>130.00</td>\n",
              "      <td>1203.0</td>\n",
              "      <td>0.10960</td>\n",
              "      <td>0.15990</td>\n",
              "      <td>0.19740</td>\n",
              "      <td>0.12790</td>\n",
              "      <td>...</td>\n",
              "      <td>25.53</td>\n",
              "      <td>152.50</td>\n",
              "      <td>1709.0</td>\n",
              "      <td>0.14440</td>\n",
              "      <td>0.42450</td>\n",
              "      <td>0.4504</td>\n",
              "      <td>0.2430</td>\n",
              "      <td>0.3613</td>\n",
              "      <td>0.08758</td>\n",
              "      <td>NaN</td>\n",
              "    </tr>\n",
              "    <tr>\n",
              "      <th>3</th>\n",
              "      <td>84348301</td>\n",
              "      <td>M</td>\n",
              "      <td>11.42</td>\n",
              "      <td>20.38</td>\n",
              "      <td>77.58</td>\n",
              "      <td>386.1</td>\n",
              "      <td>0.14250</td>\n",
              "      <td>0.28390</td>\n",
              "      <td>0.24140</td>\n",
              "      <td>0.10520</td>\n",
              "      <td>...</td>\n",
              "      <td>26.50</td>\n",
              "      <td>98.87</td>\n",
              "      <td>567.7</td>\n",
              "      <td>0.20980</td>\n",
              "      <td>0.86630</td>\n",
              "      <td>0.6869</td>\n",
              "      <td>0.2575</td>\n",
              "      <td>0.6638</td>\n",
              "      <td>0.17300</td>\n",
              "      <td>NaN</td>\n",
              "    </tr>\n",
              "    <tr>\n",
              "      <th>4</th>\n",
              "      <td>84358402</td>\n",
              "      <td>M</td>\n",
              "      <td>20.29</td>\n",
              "      <td>14.34</td>\n",
              "      <td>135.10</td>\n",
              "      <td>1297.0</td>\n",
              "      <td>0.10030</td>\n",
              "      <td>0.13280</td>\n",
              "      <td>0.19800</td>\n",
              "      <td>0.10430</td>\n",
              "      <td>...</td>\n",
              "      <td>16.67</td>\n",
              "      <td>152.20</td>\n",
              "      <td>1575.0</td>\n",
              "      <td>0.13740</td>\n",
              "      <td>0.20500</td>\n",
              "      <td>0.4000</td>\n",
              "      <td>0.1625</td>\n",
              "      <td>0.2364</td>\n",
              "      <td>0.07678</td>\n",
              "      <td>NaN</td>\n",
              "    </tr>\n",
              "    <tr>\n",
              "      <th>...</th>\n",
              "      <td>...</td>\n",
              "      <td>...</td>\n",
              "      <td>...</td>\n",
              "      <td>...</td>\n",
              "      <td>...</td>\n",
              "      <td>...</td>\n",
              "      <td>...</td>\n",
              "      <td>...</td>\n",
              "      <td>...</td>\n",
              "      <td>...</td>\n",
              "      <td>...</td>\n",
              "      <td>...</td>\n",
              "      <td>...</td>\n",
              "      <td>...</td>\n",
              "      <td>...</td>\n",
              "      <td>...</td>\n",
              "      <td>...</td>\n",
              "      <td>...</td>\n",
              "      <td>...</td>\n",
              "      <td>...</td>\n",
              "      <td>...</td>\n",
              "    </tr>\n",
              "    <tr>\n",
              "      <th>564</th>\n",
              "      <td>926424</td>\n",
              "      <td>M</td>\n",
              "      <td>21.56</td>\n",
              "      <td>22.39</td>\n",
              "      <td>142.00</td>\n",
              "      <td>1479.0</td>\n",
              "      <td>0.11100</td>\n",
              "      <td>0.11590</td>\n",
              "      <td>0.24390</td>\n",
              "      <td>0.13890</td>\n",
              "      <td>...</td>\n",
              "      <td>26.40</td>\n",
              "      <td>166.10</td>\n",
              "      <td>2027.0</td>\n",
              "      <td>0.14100</td>\n",
              "      <td>0.21130</td>\n",
              "      <td>0.4107</td>\n",
              "      <td>0.2216</td>\n",
              "      <td>0.2060</td>\n",
              "      <td>0.07115</td>\n",
              "      <td>NaN</td>\n",
              "    </tr>\n",
              "    <tr>\n",
              "      <th>565</th>\n",
              "      <td>926682</td>\n",
              "      <td>M</td>\n",
              "      <td>20.13</td>\n",
              "      <td>28.25</td>\n",
              "      <td>131.20</td>\n",
              "      <td>1261.0</td>\n",
              "      <td>0.09780</td>\n",
              "      <td>0.10340</td>\n",
              "      <td>0.14400</td>\n",
              "      <td>0.09791</td>\n",
              "      <td>...</td>\n",
              "      <td>38.25</td>\n",
              "      <td>155.00</td>\n",
              "      <td>1731.0</td>\n",
              "      <td>0.11660</td>\n",
              "      <td>0.19220</td>\n",
              "      <td>0.3215</td>\n",
              "      <td>0.1628</td>\n",
              "      <td>0.2572</td>\n",
              "      <td>0.06637</td>\n",
              "      <td>NaN</td>\n",
              "    </tr>\n",
              "    <tr>\n",
              "      <th>566</th>\n",
              "      <td>926954</td>\n",
              "      <td>M</td>\n",
              "      <td>16.60</td>\n",
              "      <td>28.08</td>\n",
              "      <td>108.30</td>\n",
              "      <td>858.1</td>\n",
              "      <td>0.08455</td>\n",
              "      <td>0.10230</td>\n",
              "      <td>0.09251</td>\n",
              "      <td>0.05302</td>\n",
              "      <td>...</td>\n",
              "      <td>34.12</td>\n",
              "      <td>126.70</td>\n",
              "      <td>1124.0</td>\n",
              "      <td>0.11390</td>\n",
              "      <td>0.30940</td>\n",
              "      <td>0.3403</td>\n",
              "      <td>0.1418</td>\n",
              "      <td>0.2218</td>\n",
              "      <td>0.07820</td>\n",
              "      <td>NaN</td>\n",
              "    </tr>\n",
              "    <tr>\n",
              "      <th>567</th>\n",
              "      <td>927241</td>\n",
              "      <td>M</td>\n",
              "      <td>20.60</td>\n",
              "      <td>29.33</td>\n",
              "      <td>140.10</td>\n",
              "      <td>1265.0</td>\n",
              "      <td>0.11780</td>\n",
              "      <td>0.27700</td>\n",
              "      <td>0.35140</td>\n",
              "      <td>0.15200</td>\n",
              "      <td>...</td>\n",
              "      <td>39.42</td>\n",
              "      <td>184.60</td>\n",
              "      <td>1821.0</td>\n",
              "      <td>0.16500</td>\n",
              "      <td>0.86810</td>\n",
              "      <td>0.9387</td>\n",
              "      <td>0.2650</td>\n",
              "      <td>0.4087</td>\n",
              "      <td>0.12400</td>\n",
              "      <td>NaN</td>\n",
              "    </tr>\n",
              "    <tr>\n",
              "      <th>568</th>\n",
              "      <td>92751</td>\n",
              "      <td>B</td>\n",
              "      <td>7.76</td>\n",
              "      <td>24.54</td>\n",
              "      <td>47.92</td>\n",
              "      <td>181.0</td>\n",
              "      <td>0.05263</td>\n",
              "      <td>0.04362</td>\n",
              "      <td>0.00000</td>\n",
              "      <td>0.00000</td>\n",
              "      <td>...</td>\n",
              "      <td>30.37</td>\n",
              "      <td>59.16</td>\n",
              "      <td>268.6</td>\n",
              "      <td>0.08996</td>\n",
              "      <td>0.06444</td>\n",
              "      <td>0.0000</td>\n",
              "      <td>0.0000</td>\n",
              "      <td>0.2871</td>\n",
              "      <td>0.07039</td>\n",
              "      <td>NaN</td>\n",
              "    </tr>\n",
              "  </tbody>\n",
              "</table>\n",
              "<p>569 rows × 33 columns</p>\n",
              "</div>\n",
              "      <button class=\"colab-df-convert\" onclick=\"convertToInteractive('df-595c9cf0-23db-4b76-bf1c-26f525d154bd')\"\n",
              "              title=\"Convert this dataframe to an interactive table.\"\n",
              "              style=\"display:none;\">\n",
              "        \n",
              "  <svg xmlns=\"http://www.w3.org/2000/svg\" height=\"24px\"viewBox=\"0 0 24 24\"\n",
              "       width=\"24px\">\n",
              "    <path d=\"M0 0h24v24H0V0z\" fill=\"none\"/>\n",
              "    <path d=\"M18.56 5.44l.94 2.06.94-2.06 2.06-.94-2.06-.94-.94-2.06-.94 2.06-2.06.94zm-11 1L8.5 8.5l.94-2.06 2.06-.94-2.06-.94L8.5 2.5l-.94 2.06-2.06.94zm10 10l.94 2.06.94-2.06 2.06-.94-2.06-.94-.94-2.06-.94 2.06-2.06.94z\"/><path d=\"M17.41 7.96l-1.37-1.37c-.4-.4-.92-.59-1.43-.59-.52 0-1.04.2-1.43.59L10.3 9.45l-7.72 7.72c-.78.78-.78 2.05 0 2.83L4 21.41c.39.39.9.59 1.41.59.51 0 1.02-.2 1.41-.59l7.78-7.78 2.81-2.81c.8-.78.8-2.07 0-2.86zM5.41 20L4 18.59l7.72-7.72 1.47 1.35L5.41 20z\"/>\n",
              "  </svg>\n",
              "      </button>\n",
              "      \n",
              "  <style>\n",
              "    .colab-df-container {\n",
              "      display:flex;\n",
              "      flex-wrap:wrap;\n",
              "      gap: 12px;\n",
              "    }\n",
              "\n",
              "    .colab-df-convert {\n",
              "      background-color: #E8F0FE;\n",
              "      border: none;\n",
              "      border-radius: 50%;\n",
              "      cursor: pointer;\n",
              "      display: none;\n",
              "      fill: #1967D2;\n",
              "      height: 32px;\n",
              "      padding: 0 0 0 0;\n",
              "      width: 32px;\n",
              "    }\n",
              "\n",
              "    .colab-df-convert:hover {\n",
              "      background-color: #E2EBFA;\n",
              "      box-shadow: 0px 1px 2px rgba(60, 64, 67, 0.3), 0px 1px 3px 1px rgba(60, 64, 67, 0.15);\n",
              "      fill: #174EA6;\n",
              "    }\n",
              "\n",
              "    [theme=dark] .colab-df-convert {\n",
              "      background-color: #3B4455;\n",
              "      fill: #D2E3FC;\n",
              "    }\n",
              "\n",
              "    [theme=dark] .colab-df-convert:hover {\n",
              "      background-color: #434B5C;\n",
              "      box-shadow: 0px 1px 3px 1px rgba(0, 0, 0, 0.15);\n",
              "      filter: drop-shadow(0px 1px 2px rgba(0, 0, 0, 0.3));\n",
              "      fill: #FFFFFF;\n",
              "    }\n",
              "  </style>\n",
              "\n",
              "      <script>\n",
              "        const buttonEl =\n",
              "          document.querySelector('#df-595c9cf0-23db-4b76-bf1c-26f525d154bd button.colab-df-convert');\n",
              "        buttonEl.style.display =\n",
              "          google.colab.kernel.accessAllowed ? 'block' : 'none';\n",
              "\n",
              "        async function convertToInteractive(key) {\n",
              "          const element = document.querySelector('#df-595c9cf0-23db-4b76-bf1c-26f525d154bd');\n",
              "          const dataTable =\n",
              "            await google.colab.kernel.invokeFunction('convertToInteractive',\n",
              "                                                     [key], {});\n",
              "          if (!dataTable) return;\n",
              "\n",
              "          const docLinkHtml = 'Like what you see? Visit the ' +\n",
              "            '<a target=\"_blank\" href=https://colab.research.google.com/notebooks/data_table.ipynb>data table notebook</a>'\n",
              "            + ' to learn more about interactive tables.';\n",
              "          element.innerHTML = '';\n",
              "          dataTable['output_type'] = 'display_data';\n",
              "          await google.colab.output.renderOutput(dataTable, element);\n",
              "          const docLink = document.createElement('div');\n",
              "          docLink.innerHTML = docLinkHtml;\n",
              "          element.appendChild(docLink);\n",
              "        }\n",
              "      </script>\n",
              "    </div>\n",
              "  </div>\n",
              "  "
            ]
          },
          "metadata": {},
          "execution_count": 65
        }
      ]
    },
    {
      "cell_type": "markdown",
      "source": [
        "\n",
        "\n",
        "> 2) Convert the String Labels into easily-interpretable Numerics\n"
      ],
      "metadata": {
        "id": "UYh-2C47ixLm"
      }
    },
    {
      "cell_type": "code",
      "source": [
        "\n",
        "condition_M = data.diagnosis == \"M\"\n",
        "condition_B = data.diagnosis == \"B\"\n",
        "\n",
        "data.loc[condition_M,\"diagnosis\"]=0\n",
        "data.loc[condition_B,\"diagnosis\"]=1\n",
        "\n",
        "data"
      ],
      "metadata": {
        "colab": {
          "base_uri": "https://localhost:8080/",
          "height": 505
        },
        "id": "sXvOjxkGjBTg",
        "outputId": "e867c715-bf70-4ad7-b2a6-746b2fc1ad70"
      },
      "execution_count": 66,
      "outputs": [
        {
          "output_type": "execute_result",
          "data": {
            "text/plain": [
              "           id diagnosis  radius_mean  texture_mean  perimeter_mean  area_mean  \\\n",
              "0      842302         0        17.99         10.38          122.80     1001.0   \n",
              "1      842517         0        20.57         17.77          132.90     1326.0   \n",
              "2    84300903         0        19.69         21.25          130.00     1203.0   \n",
              "3    84348301         0        11.42         20.38           77.58      386.1   \n",
              "4    84358402         0        20.29         14.34          135.10     1297.0   \n",
              "..        ...       ...          ...           ...             ...        ...   \n",
              "564    926424         0        21.56         22.39          142.00     1479.0   \n",
              "565    926682         0        20.13         28.25          131.20     1261.0   \n",
              "566    926954         0        16.60         28.08          108.30      858.1   \n",
              "567    927241         0        20.60         29.33          140.10     1265.0   \n",
              "568     92751         1         7.76         24.54           47.92      181.0   \n",
              "\n",
              "     smoothness_mean  compactness_mean  concavity_mean  concave points_mean  \\\n",
              "0            0.11840           0.27760         0.30010              0.14710   \n",
              "1            0.08474           0.07864         0.08690              0.07017   \n",
              "2            0.10960           0.15990         0.19740              0.12790   \n",
              "3            0.14250           0.28390         0.24140              0.10520   \n",
              "4            0.10030           0.13280         0.19800              0.10430   \n",
              "..               ...               ...             ...                  ...   \n",
              "564          0.11100           0.11590         0.24390              0.13890   \n",
              "565          0.09780           0.10340         0.14400              0.09791   \n",
              "566          0.08455           0.10230         0.09251              0.05302   \n",
              "567          0.11780           0.27700         0.35140              0.15200   \n",
              "568          0.05263           0.04362         0.00000              0.00000   \n",
              "\n",
              "     ...  texture_worst  perimeter_worst  area_worst  smoothness_worst  \\\n",
              "0    ...          17.33           184.60      2019.0           0.16220   \n",
              "1    ...          23.41           158.80      1956.0           0.12380   \n",
              "2    ...          25.53           152.50      1709.0           0.14440   \n",
              "3    ...          26.50            98.87       567.7           0.20980   \n",
              "4    ...          16.67           152.20      1575.0           0.13740   \n",
              "..   ...            ...              ...         ...               ...   \n",
              "564  ...          26.40           166.10      2027.0           0.14100   \n",
              "565  ...          38.25           155.00      1731.0           0.11660   \n",
              "566  ...          34.12           126.70      1124.0           0.11390   \n",
              "567  ...          39.42           184.60      1821.0           0.16500   \n",
              "568  ...          30.37            59.16       268.6           0.08996   \n",
              "\n",
              "     compactness_worst  concavity_worst  concave points_worst  symmetry_worst  \\\n",
              "0              0.66560           0.7119                0.2654          0.4601   \n",
              "1              0.18660           0.2416                0.1860          0.2750   \n",
              "2              0.42450           0.4504                0.2430          0.3613   \n",
              "3              0.86630           0.6869                0.2575          0.6638   \n",
              "4              0.20500           0.4000                0.1625          0.2364   \n",
              "..                 ...              ...                   ...             ...   \n",
              "564            0.21130           0.4107                0.2216          0.2060   \n",
              "565            0.19220           0.3215                0.1628          0.2572   \n",
              "566            0.30940           0.3403                0.1418          0.2218   \n",
              "567            0.86810           0.9387                0.2650          0.4087   \n",
              "568            0.06444           0.0000                0.0000          0.2871   \n",
              "\n",
              "     fractal_dimension_worst  Unnamed: 32  \n",
              "0                    0.11890          NaN  \n",
              "1                    0.08902          NaN  \n",
              "2                    0.08758          NaN  \n",
              "3                    0.17300          NaN  \n",
              "4                    0.07678          NaN  \n",
              "..                       ...          ...  \n",
              "564                  0.07115          NaN  \n",
              "565                  0.06637          NaN  \n",
              "566                  0.07820          NaN  \n",
              "567                  0.12400          NaN  \n",
              "568                  0.07039          NaN  \n",
              "\n",
              "[569 rows x 33 columns]"
            ],
            "text/html": [
              "\n",
              "  <div id=\"df-7c822fc1-496a-4459-81a8-62354b19f1b8\">\n",
              "    <div class=\"colab-df-container\">\n",
              "      <div>\n",
              "<style scoped>\n",
              "    .dataframe tbody tr th:only-of-type {\n",
              "        vertical-align: middle;\n",
              "    }\n",
              "\n",
              "    .dataframe tbody tr th {\n",
              "        vertical-align: top;\n",
              "    }\n",
              "\n",
              "    .dataframe thead th {\n",
              "        text-align: right;\n",
              "    }\n",
              "</style>\n",
              "<table border=\"1\" class=\"dataframe\">\n",
              "  <thead>\n",
              "    <tr style=\"text-align: right;\">\n",
              "      <th></th>\n",
              "      <th>id</th>\n",
              "      <th>diagnosis</th>\n",
              "      <th>radius_mean</th>\n",
              "      <th>texture_mean</th>\n",
              "      <th>perimeter_mean</th>\n",
              "      <th>area_mean</th>\n",
              "      <th>smoothness_mean</th>\n",
              "      <th>compactness_mean</th>\n",
              "      <th>concavity_mean</th>\n",
              "      <th>concave points_mean</th>\n",
              "      <th>...</th>\n",
              "      <th>texture_worst</th>\n",
              "      <th>perimeter_worst</th>\n",
              "      <th>area_worst</th>\n",
              "      <th>smoothness_worst</th>\n",
              "      <th>compactness_worst</th>\n",
              "      <th>concavity_worst</th>\n",
              "      <th>concave points_worst</th>\n",
              "      <th>symmetry_worst</th>\n",
              "      <th>fractal_dimension_worst</th>\n",
              "      <th>Unnamed: 32</th>\n",
              "    </tr>\n",
              "  </thead>\n",
              "  <tbody>\n",
              "    <tr>\n",
              "      <th>0</th>\n",
              "      <td>842302</td>\n",
              "      <td>0</td>\n",
              "      <td>17.99</td>\n",
              "      <td>10.38</td>\n",
              "      <td>122.80</td>\n",
              "      <td>1001.0</td>\n",
              "      <td>0.11840</td>\n",
              "      <td>0.27760</td>\n",
              "      <td>0.30010</td>\n",
              "      <td>0.14710</td>\n",
              "      <td>...</td>\n",
              "      <td>17.33</td>\n",
              "      <td>184.60</td>\n",
              "      <td>2019.0</td>\n",
              "      <td>0.16220</td>\n",
              "      <td>0.66560</td>\n",
              "      <td>0.7119</td>\n",
              "      <td>0.2654</td>\n",
              "      <td>0.4601</td>\n",
              "      <td>0.11890</td>\n",
              "      <td>NaN</td>\n",
              "    </tr>\n",
              "    <tr>\n",
              "      <th>1</th>\n",
              "      <td>842517</td>\n",
              "      <td>0</td>\n",
              "      <td>20.57</td>\n",
              "      <td>17.77</td>\n",
              "      <td>132.90</td>\n",
              "      <td>1326.0</td>\n",
              "      <td>0.08474</td>\n",
              "      <td>0.07864</td>\n",
              "      <td>0.08690</td>\n",
              "      <td>0.07017</td>\n",
              "      <td>...</td>\n",
              "      <td>23.41</td>\n",
              "      <td>158.80</td>\n",
              "      <td>1956.0</td>\n",
              "      <td>0.12380</td>\n",
              "      <td>0.18660</td>\n",
              "      <td>0.2416</td>\n",
              "      <td>0.1860</td>\n",
              "      <td>0.2750</td>\n",
              "      <td>0.08902</td>\n",
              "      <td>NaN</td>\n",
              "    </tr>\n",
              "    <tr>\n",
              "      <th>2</th>\n",
              "      <td>84300903</td>\n",
              "      <td>0</td>\n",
              "      <td>19.69</td>\n",
              "      <td>21.25</td>\n",
              "      <td>130.00</td>\n",
              "      <td>1203.0</td>\n",
              "      <td>0.10960</td>\n",
              "      <td>0.15990</td>\n",
              "      <td>0.19740</td>\n",
              "      <td>0.12790</td>\n",
              "      <td>...</td>\n",
              "      <td>25.53</td>\n",
              "      <td>152.50</td>\n",
              "      <td>1709.0</td>\n",
              "      <td>0.14440</td>\n",
              "      <td>0.42450</td>\n",
              "      <td>0.4504</td>\n",
              "      <td>0.2430</td>\n",
              "      <td>0.3613</td>\n",
              "      <td>0.08758</td>\n",
              "      <td>NaN</td>\n",
              "    </tr>\n",
              "    <tr>\n",
              "      <th>3</th>\n",
              "      <td>84348301</td>\n",
              "      <td>0</td>\n",
              "      <td>11.42</td>\n",
              "      <td>20.38</td>\n",
              "      <td>77.58</td>\n",
              "      <td>386.1</td>\n",
              "      <td>0.14250</td>\n",
              "      <td>0.28390</td>\n",
              "      <td>0.24140</td>\n",
              "      <td>0.10520</td>\n",
              "      <td>...</td>\n",
              "      <td>26.50</td>\n",
              "      <td>98.87</td>\n",
              "      <td>567.7</td>\n",
              "      <td>0.20980</td>\n",
              "      <td>0.86630</td>\n",
              "      <td>0.6869</td>\n",
              "      <td>0.2575</td>\n",
              "      <td>0.6638</td>\n",
              "      <td>0.17300</td>\n",
              "      <td>NaN</td>\n",
              "    </tr>\n",
              "    <tr>\n",
              "      <th>4</th>\n",
              "      <td>84358402</td>\n",
              "      <td>0</td>\n",
              "      <td>20.29</td>\n",
              "      <td>14.34</td>\n",
              "      <td>135.10</td>\n",
              "      <td>1297.0</td>\n",
              "      <td>0.10030</td>\n",
              "      <td>0.13280</td>\n",
              "      <td>0.19800</td>\n",
              "      <td>0.10430</td>\n",
              "      <td>...</td>\n",
              "      <td>16.67</td>\n",
              "      <td>152.20</td>\n",
              "      <td>1575.0</td>\n",
              "      <td>0.13740</td>\n",
              "      <td>0.20500</td>\n",
              "      <td>0.4000</td>\n",
              "      <td>0.1625</td>\n",
              "      <td>0.2364</td>\n",
              "      <td>0.07678</td>\n",
              "      <td>NaN</td>\n",
              "    </tr>\n",
              "    <tr>\n",
              "      <th>...</th>\n",
              "      <td>...</td>\n",
              "      <td>...</td>\n",
              "      <td>...</td>\n",
              "      <td>...</td>\n",
              "      <td>...</td>\n",
              "      <td>...</td>\n",
              "      <td>...</td>\n",
              "      <td>...</td>\n",
              "      <td>...</td>\n",
              "      <td>...</td>\n",
              "      <td>...</td>\n",
              "      <td>...</td>\n",
              "      <td>...</td>\n",
              "      <td>...</td>\n",
              "      <td>...</td>\n",
              "      <td>...</td>\n",
              "      <td>...</td>\n",
              "      <td>...</td>\n",
              "      <td>...</td>\n",
              "      <td>...</td>\n",
              "      <td>...</td>\n",
              "    </tr>\n",
              "    <tr>\n",
              "      <th>564</th>\n",
              "      <td>926424</td>\n",
              "      <td>0</td>\n",
              "      <td>21.56</td>\n",
              "      <td>22.39</td>\n",
              "      <td>142.00</td>\n",
              "      <td>1479.0</td>\n",
              "      <td>0.11100</td>\n",
              "      <td>0.11590</td>\n",
              "      <td>0.24390</td>\n",
              "      <td>0.13890</td>\n",
              "      <td>...</td>\n",
              "      <td>26.40</td>\n",
              "      <td>166.10</td>\n",
              "      <td>2027.0</td>\n",
              "      <td>0.14100</td>\n",
              "      <td>0.21130</td>\n",
              "      <td>0.4107</td>\n",
              "      <td>0.2216</td>\n",
              "      <td>0.2060</td>\n",
              "      <td>0.07115</td>\n",
              "      <td>NaN</td>\n",
              "    </tr>\n",
              "    <tr>\n",
              "      <th>565</th>\n",
              "      <td>926682</td>\n",
              "      <td>0</td>\n",
              "      <td>20.13</td>\n",
              "      <td>28.25</td>\n",
              "      <td>131.20</td>\n",
              "      <td>1261.0</td>\n",
              "      <td>0.09780</td>\n",
              "      <td>0.10340</td>\n",
              "      <td>0.14400</td>\n",
              "      <td>0.09791</td>\n",
              "      <td>...</td>\n",
              "      <td>38.25</td>\n",
              "      <td>155.00</td>\n",
              "      <td>1731.0</td>\n",
              "      <td>0.11660</td>\n",
              "      <td>0.19220</td>\n",
              "      <td>0.3215</td>\n",
              "      <td>0.1628</td>\n",
              "      <td>0.2572</td>\n",
              "      <td>0.06637</td>\n",
              "      <td>NaN</td>\n",
              "    </tr>\n",
              "    <tr>\n",
              "      <th>566</th>\n",
              "      <td>926954</td>\n",
              "      <td>0</td>\n",
              "      <td>16.60</td>\n",
              "      <td>28.08</td>\n",
              "      <td>108.30</td>\n",
              "      <td>858.1</td>\n",
              "      <td>0.08455</td>\n",
              "      <td>0.10230</td>\n",
              "      <td>0.09251</td>\n",
              "      <td>0.05302</td>\n",
              "      <td>...</td>\n",
              "      <td>34.12</td>\n",
              "      <td>126.70</td>\n",
              "      <td>1124.0</td>\n",
              "      <td>0.11390</td>\n",
              "      <td>0.30940</td>\n",
              "      <td>0.3403</td>\n",
              "      <td>0.1418</td>\n",
              "      <td>0.2218</td>\n",
              "      <td>0.07820</td>\n",
              "      <td>NaN</td>\n",
              "    </tr>\n",
              "    <tr>\n",
              "      <th>567</th>\n",
              "      <td>927241</td>\n",
              "      <td>0</td>\n",
              "      <td>20.60</td>\n",
              "      <td>29.33</td>\n",
              "      <td>140.10</td>\n",
              "      <td>1265.0</td>\n",
              "      <td>0.11780</td>\n",
              "      <td>0.27700</td>\n",
              "      <td>0.35140</td>\n",
              "      <td>0.15200</td>\n",
              "      <td>...</td>\n",
              "      <td>39.42</td>\n",
              "      <td>184.60</td>\n",
              "      <td>1821.0</td>\n",
              "      <td>0.16500</td>\n",
              "      <td>0.86810</td>\n",
              "      <td>0.9387</td>\n",
              "      <td>0.2650</td>\n",
              "      <td>0.4087</td>\n",
              "      <td>0.12400</td>\n",
              "      <td>NaN</td>\n",
              "    </tr>\n",
              "    <tr>\n",
              "      <th>568</th>\n",
              "      <td>92751</td>\n",
              "      <td>1</td>\n",
              "      <td>7.76</td>\n",
              "      <td>24.54</td>\n",
              "      <td>47.92</td>\n",
              "      <td>181.0</td>\n",
              "      <td>0.05263</td>\n",
              "      <td>0.04362</td>\n",
              "      <td>0.00000</td>\n",
              "      <td>0.00000</td>\n",
              "      <td>...</td>\n",
              "      <td>30.37</td>\n",
              "      <td>59.16</td>\n",
              "      <td>268.6</td>\n",
              "      <td>0.08996</td>\n",
              "      <td>0.06444</td>\n",
              "      <td>0.0000</td>\n",
              "      <td>0.0000</td>\n",
              "      <td>0.2871</td>\n",
              "      <td>0.07039</td>\n",
              "      <td>NaN</td>\n",
              "    </tr>\n",
              "  </tbody>\n",
              "</table>\n",
              "<p>569 rows × 33 columns</p>\n",
              "</div>\n",
              "      <button class=\"colab-df-convert\" onclick=\"convertToInteractive('df-7c822fc1-496a-4459-81a8-62354b19f1b8')\"\n",
              "              title=\"Convert this dataframe to an interactive table.\"\n",
              "              style=\"display:none;\">\n",
              "        \n",
              "  <svg xmlns=\"http://www.w3.org/2000/svg\" height=\"24px\"viewBox=\"0 0 24 24\"\n",
              "       width=\"24px\">\n",
              "    <path d=\"M0 0h24v24H0V0z\" fill=\"none\"/>\n",
              "    <path d=\"M18.56 5.44l.94 2.06.94-2.06 2.06-.94-2.06-.94-.94-2.06-.94 2.06-2.06.94zm-11 1L8.5 8.5l.94-2.06 2.06-.94-2.06-.94L8.5 2.5l-.94 2.06-2.06.94zm10 10l.94 2.06.94-2.06 2.06-.94-2.06-.94-.94-2.06-.94 2.06-2.06.94z\"/><path d=\"M17.41 7.96l-1.37-1.37c-.4-.4-.92-.59-1.43-.59-.52 0-1.04.2-1.43.59L10.3 9.45l-7.72 7.72c-.78.78-.78 2.05 0 2.83L4 21.41c.39.39.9.59 1.41.59.51 0 1.02-.2 1.41-.59l7.78-7.78 2.81-2.81c.8-.78.8-2.07 0-2.86zM5.41 20L4 18.59l7.72-7.72 1.47 1.35L5.41 20z\"/>\n",
              "  </svg>\n",
              "      </button>\n",
              "      \n",
              "  <style>\n",
              "    .colab-df-container {\n",
              "      display:flex;\n",
              "      flex-wrap:wrap;\n",
              "      gap: 12px;\n",
              "    }\n",
              "\n",
              "    .colab-df-convert {\n",
              "      background-color: #E8F0FE;\n",
              "      border: none;\n",
              "      border-radius: 50%;\n",
              "      cursor: pointer;\n",
              "      display: none;\n",
              "      fill: #1967D2;\n",
              "      height: 32px;\n",
              "      padding: 0 0 0 0;\n",
              "      width: 32px;\n",
              "    }\n",
              "\n",
              "    .colab-df-convert:hover {\n",
              "      background-color: #E2EBFA;\n",
              "      box-shadow: 0px 1px 2px rgba(60, 64, 67, 0.3), 0px 1px 3px 1px rgba(60, 64, 67, 0.15);\n",
              "      fill: #174EA6;\n",
              "    }\n",
              "\n",
              "    [theme=dark] .colab-df-convert {\n",
              "      background-color: #3B4455;\n",
              "      fill: #D2E3FC;\n",
              "    }\n",
              "\n",
              "    [theme=dark] .colab-df-convert:hover {\n",
              "      background-color: #434B5C;\n",
              "      box-shadow: 0px 1px 3px 1px rgba(0, 0, 0, 0.15);\n",
              "      filter: drop-shadow(0px 1px 2px rgba(0, 0, 0, 0.3));\n",
              "      fill: #FFFFFF;\n",
              "    }\n",
              "  </style>\n",
              "\n",
              "      <script>\n",
              "        const buttonEl =\n",
              "          document.querySelector('#df-7c822fc1-496a-4459-81a8-62354b19f1b8 button.colab-df-convert');\n",
              "        buttonEl.style.display =\n",
              "          google.colab.kernel.accessAllowed ? 'block' : 'none';\n",
              "\n",
              "        async function convertToInteractive(key) {\n",
              "          const element = document.querySelector('#df-7c822fc1-496a-4459-81a8-62354b19f1b8');\n",
              "          const dataTable =\n",
              "            await google.colab.kernel.invokeFunction('convertToInteractive',\n",
              "                                                     [key], {});\n",
              "          if (!dataTable) return;\n",
              "\n",
              "          const docLinkHtml = 'Like what you see? Visit the ' +\n",
              "            '<a target=\"_blank\" href=https://colab.research.google.com/notebooks/data_table.ipynb>data table notebook</a>'\n",
              "            + ' to learn more about interactive tables.';\n",
              "          element.innerHTML = '';\n",
              "          dataTable['output_type'] = 'display_data';\n",
              "          await google.colab.output.renderOutput(dataTable, element);\n",
              "          const docLink = document.createElement('div');\n",
              "          docLink.innerHTML = docLinkHtml;\n",
              "          element.appendChild(docLink);\n",
              "        }\n",
              "      </script>\n",
              "    </div>\n",
              "  </div>\n",
              "  "
            ]
          },
          "metadata": {},
          "execution_count": 66
        }
      ]
    },
    {
      "cell_type": "markdown",
      "source": [
        "\n",
        "\n",
        ">3) Converting Dataframe into Numpy Arrays (Features and Labels)\n"
      ],
      "metadata": {
        "id": "gU1v-5uAjPk-"
      }
    },
    {
      "cell_type": "code",
      "source": [
        "Y = data.diagnosis.to_numpy().astype('int')                                     # Labels\n",
        "\n",
        "X_data = data.drop(columns=[\"id\",\"diagnosis\",\"Unnamed: 32\"])\n",
        "X = X_data.to_numpy()                                                           # Input Features"
      ],
      "metadata": {
        "id": "AICHF3DjjZ2A"
      },
      "execution_count": 67,
      "outputs": []
    },
    {
      "cell_type": "markdown",
      "source": [
        "\n",
        "\n",
        "> 4) Splitting the Dataset into Train and Test Portions\n",
        "\n"
      ],
      "metadata": {
        "id": "Q7iRtUEFjtVR"
      }
    },
    {
      "cell_type": "code",
      "source": [
        "user_prompt = 0.3\n",
        "user_enable = False\n",
        "\n",
        "x_train,x_test,y_train,y_test = tts(X,Y,test_size=user_prompt,shuffle=user_enable)"
      ],
      "metadata": {
        "id": "XdfZQW3Gjxkk"
      },
      "execution_count": 68,
      "outputs": []
    },
    {
      "cell_type": "markdown",
      "source": [
        "\n",
        "\n",
        ">5) Model Training and Predicting\n",
        "\n"
      ],
      "metadata": {
        "id": "C-G-3aLDj49D"
      }
    },
    {
      "cell_type": "code",
      "source": [
        "logistic_model = LR()\n",
        "logistic_model.fit(x_train,y_train)\n",
        "logistic_pred = logistic_model.predict(x_test)\n",
        "\n",
        "decision_model = DTC()\n",
        "decision_model.fit(x_train,y_train)\n",
        "decision_pred = decision_model.predict(x_test)"
      ],
      "metadata": {
        "id": "xgWSDz52kEcM"
      },
      "execution_count": 69,
      "outputs": []
    },
    {
      "cell_type": "markdown",
      "source": [
        "\n",
        "\n",
        "> 6) Evaluation Metrics (Inbulit v/s Scaratch)\n",
        "\n"
      ],
      "metadata": {
        "id": "n2CgDdIAkPr4"
      }
    },
    {
      "cell_type": "markdown",
      "source": [
        "\n",
        "\n",
        ">### **Confusion Matrix**\n",
        "\n"
      ],
      "metadata": {
        "id": "fL-Y0N_YklzM"
      }
    },
    {
      "cell_type": "code",
      "source": [
        "inbuilt_matrix_logistic = cm(y_test,logistic_pred)\n",
        "inbuilt_matrix_decision = cm(y_test,decision_pred)\n",
        "\n",
        "print(\"Confusion Matrix for Logistic Regression-based Predictions =>\")\n",
        "print(inbuilt_matrix_logistic)\n",
        "print(\"Confusion Matrix for Decision Tree-based Predictions =>\")\n",
        "print(inbuilt_matrix_decision)\n",
        "\n",
        "#print(y_test)\n",
        "#print(logistic_pred)\n",
        "def confusion_matrix(y_test,y_predicted):\n",
        "  confusion_mat=np.array([[0,0],[0,0]])\n",
        "  for i in range(len(y_test)):\n",
        "    if(y_test[i]==1):\n",
        "      if(y_predicted[i]==1):\n",
        "        confusion_mat[1][1]+=1\n",
        "      else:\n",
        "        confusion_mat[1][0]+=1\n",
        "    else:\n",
        "      if(y_predicted[i]==1):\n",
        "        confusion_mat[0][1]+=1\n",
        "      else:\n",
        "        confusion_mat[0][0]+=1\n",
        "    # Understand the Concept, write the code from scratch and remove \"pass\"\n",
        "  return np.asmatrix(confusion_mat)\n",
        "print(\"Confusion Matrix from scratch for Logistic Regression-based Predictions =>\")\n",
        "print(confusion_matrix(y_test,logistic_pred))\n",
        "print(\"Confusion Matrix from scratch for Decision Tree-based Predictions =>\")\n",
        "print(confusion_matrix(y_test,decision_pred))"
      ],
      "metadata": {
        "colab": {
          "base_uri": "https://localhost:8080/"
        },
        "id": "LOdGkjI7kWaZ",
        "outputId": "940ef000-8c91-4ae3-8126-7438c7212280"
      },
      "execution_count": 70,
      "outputs": [
        {
          "output_type": "stream",
          "name": "stdout",
          "text": [
            "Confusion Matrix for Logistic Regression-based Predictions =>\n",
            "[[ 38   1]\n",
            " [ 11 121]]\n",
            "Confusion Matrix for Decision Tree-based Predictions =>\n",
            "[[ 38   1]\n",
            " [ 21 111]]\n",
            "Confusion Matrix from scratch for Logistic Regression-based Predictions =>\n",
            "[[ 38   1]\n",
            " [ 11 121]]\n",
            "Confusion Matrix from scratch for Decision Tree-based Predictions =>\n",
            "[[ 38   1]\n",
            " [ 21 111]]\n"
          ]
        }
      ]
    },
    {
      "cell_type": "markdown",
      "source": [
        "\n",
        "\n",
        "> ### **Average Accuracy**\n",
        "\n"
      ],
      "metadata": {
        "id": "FodGDoBbpjEu"
      }
    },
    {
      "cell_type": "code",
      "source": [
        "inbuilt_acc_logistic = acc(y_test,logistic_pred)\n",
        "inbuilt_acc_decision = acc(y_test,decision_pred)\n",
        "\n",
        "print(\"Accuracy for Logistic Regression-based Predictions =>\",str(inbuilt_acc_logistic*100)+\"%\")\n",
        "print(\"Accuracy for Decision Tree-based Predictions =>\",str(inbuilt_acc_decision*100)+\"%\")\n",
        "\n",
        "def avg_accuracy(y_test,y_predicted):\n",
        "  truePositive=0\n",
        "  trueNegative=0\n",
        "  falsePositive=0\n",
        "  falseNegative=0\n",
        "  for i in range(len(y_test)):\n",
        "    if(y_test[i]==1):\n",
        "      if(y_predicted[i]==1):\n",
        "        truePositive+=1\n",
        "      else:\n",
        "        falseNegative+=1\n",
        "    else:\n",
        "      if(y_predicted[i]==1):\n",
        "        falsePositive+=1\n",
        "      else:\n",
        "        trueNegative+=1\n",
        "\n",
        "  ans=(truePositive+trueNegative)/(truePositive+falsePositive+trueNegative+falseNegative)\n",
        "  return ans\n",
        "\n",
        "print(\"From scratch, Accuracy for Logistic Regression-based Predictions =>\",str((avg_accuracy(y_test,logistic_pred))*100)+\"%\")\n",
        "print(\"From scratch, Accuracy for Decision Tree-based Predictions =>\",str((avg_accuracy(y_test,decision_pred))*100)+\"%\")\n"
      ],
      "metadata": {
        "colab": {
          "base_uri": "https://localhost:8080/"
        },
        "id": "eiX4hRj0prtQ",
        "outputId": "92f144c2-4bc6-45a4-da69-21172f15cdd5"
      },
      "execution_count": 71,
      "outputs": [
        {
          "output_type": "stream",
          "name": "stdout",
          "text": [
            "Accuracy for Logistic Regression-based Predictions => 92.98245614035088%\n",
            "Accuracy for Decision Tree-based Predictions => 87.13450292397661%\n",
            "From scratch, Accuracy for Logistic Regression-based Predictions => 92.98245614035088%\n",
            "From scratch, Accuracy for Decision Tree-based Predictions => 87.13450292397661%\n"
          ]
        }
      ]
    },
    {
      "cell_type": "markdown",
      "source": [
        "\n",
        "\n",
        "> ### **Precision**\n",
        "\n"
      ],
      "metadata": {
        "id": "mxwtfobNr0XX"
      }
    },
    {
      "cell_type": "code",
      "source": [
        "inbuilt_ps_logistic = ps(y_test,logistic_pred)\n",
        "inbuilt_ps_decision = ps(y_test,decision_pred)\n",
        "\n",
        "print(\"Precision for Logistic Regression-based Predictions =>\",str(inbuilt_ps_logistic*100)+\"%\")\n",
        "print(\"Precision for Decision Tree-based Predictions =>\",str(inbuilt_ps_decision*100)+\"%\")\n",
        "\n",
        "def precision(y_test,y_predicted):\n",
        "  truePositive=0\n",
        "  falsePositive=0\n",
        "  for i in range(len(y_test)):\n",
        "    if(y_test[i]==1):\n",
        "      if(y_predicted[i]==1):\n",
        "        truePositive+=1\n",
        "    else:\n",
        "      if(y_predicted[i]==1):\n",
        "        falsePositive+=1\n",
        "  return (truePositive)/(truePositive+falsePositive)\n",
        "\n",
        "print(\"From scratch, Precision for Logistic Regression-based Predictions =>\",str(precision(y_test,logistic_pred)*100)+\"%\")\n",
        "print(\"From scratch, Precision for Decision Tree-based Predictions =>\",str(precision(y_test,decision_pred)*100)+\"%\")\n"
      ],
      "metadata": {
        "colab": {
          "base_uri": "https://localhost:8080/"
        },
        "id": "5lsSrFkWr7LF",
        "outputId": "e12974b9-25ab-40d4-e5de-37817891f804"
      },
      "execution_count": 72,
      "outputs": [
        {
          "output_type": "stream",
          "name": "stdout",
          "text": [
            "Precision for Logistic Regression-based Predictions => 99.18032786885246%\n",
            "Precision for Decision Tree-based Predictions => 99.10714285714286%\n",
            "From scratch, Precision for Logistic Regression-based Predictions => 99.18032786885246%\n",
            "From scratch, Precision for Decision Tree-based Predictions => 99.10714285714286%\n"
          ]
        }
      ]
    },
    {
      "cell_type": "markdown",
      "source": [
        "\n",
        "\n",
        "> ### **Recall**\n",
        "\n"
      ],
      "metadata": {
        "id": "oEjDzuegssEu"
      }
    },
    {
      "cell_type": "code",
      "source": [
        "inbuilt_rs_logistic = rs(y_test,logistic_pred)\n",
        "inbuilt_rs_decision = rs(y_test,decision_pred)\n",
        "\n",
        "print(\"Recall for Logistic Regression-based Predictions =>\",str(inbuilt_rs_logistic*100)+\"%\")\n",
        "print(\"Recall for Decision Tree-based Predictions =>\",str(inbuilt_rs_decision*100)+\"%\")\n",
        "\n",
        "def recall(y_test,y_predicted):\n",
        "  truePositive=0\n",
        "  falseNegative=0\n",
        "  for i in range(len(y_test)):\n",
        "    if(y_test[i]==1):\n",
        "      if(y_predicted[i]==1):\n",
        "        truePositive+=1\n",
        "      else:\n",
        "        falseNegative+=1\n",
        "  return (truePositive)/(truePositive+falseNegative)\n",
        "\n",
        "print(\"From scratch, Recall for Logistic Regression-based Predictions =>\",str(recall(y_test,logistic_pred)*100)+\"%\")\n",
        "print(\"From scratch, Recall for Decision Tree-based Predictions =>\",str(recall(y_test,decision_pred)*100)+\"%\")\n",
        "  "
      ],
      "metadata": {
        "colab": {
          "base_uri": "https://localhost:8080/"
        },
        "id": "YzOWBUQgsySQ",
        "outputId": "09cc1375-f4b0-4b03-936b-9f327442edac"
      },
      "execution_count": 73,
      "outputs": [
        {
          "output_type": "stream",
          "name": "stdout",
          "text": [
            "Recall for Logistic Regression-based Predictions => 91.66666666666666%\n",
            "Recall for Decision Tree-based Predictions => 84.0909090909091%\n",
            "From scratch, Recall for Logistic Regression-based Predictions => 91.66666666666666%\n",
            "From scratch, Recall for Decision Tree-based Predictions => 84.0909090909091%\n"
          ]
        }
      ]
    },
    {
      "cell_type": "markdown",
      "source": [
        "\n",
        "\n",
        "> ### **F-1 Score**\n",
        "\n"
      ],
      "metadata": {
        "id": "iA1mCSi9tkv8"
      }
    },
    {
      "cell_type": "code",
      "source": [
        "inbuilt_f1s_logistic = f1s(y_test,logistic_pred)\n",
        "inbuilt_f1s_decision = f1s(y_test,decision_pred)\n",
        "\n",
        "print(\"F1-Score for Logistic Regression-based Predictions =>\",str(inbuilt_f1s_logistic*100)+\"%\")\n",
        "print(\"F1-Score for Decision Tree-based Predictions =>\",str(inbuilt_f1s_decision*100)+\"%\")\n",
        "\n",
        "def f1_score(y_test,y_predicted):\n",
        "  truePositive=0\n",
        "  falsePositive=0\n",
        "  falseNegative=0\n",
        "  for i in range(len(y_test)):\n",
        "    if(y_test[i]==1):\n",
        "      if(y_predicted[i]==1):\n",
        "        truePositive+=1\n",
        "      else:\n",
        "        falseNegative+=1\n",
        "    else:\n",
        "      if(y_predicted[i]==1):\n",
        "        falsePositive+=1\n",
        "  precision=(truePositive)/(truePositive+falsePositive)\n",
        "  recall=(truePositive)/(truePositive+falseNegative)\n",
        "  return 2/((1/precision)+(1/recall))\n",
        "\n",
        "print(\"From scratch, F1-Score for Logistic Regression-based Predictions =>\",str(f1_score(y_test,logistic_pred)*100)+\"%\")\n",
        "print(\"From scratch, F1-Score for Decision Tree-based Predictions =>\",str(f1_score(y_test,decision_pred)*100)+\"%\")\n"
      ],
      "metadata": {
        "colab": {
          "base_uri": "https://localhost:8080/"
        },
        "id": "4vSrUnL0tv3H",
        "outputId": "b4e4aca3-68ee-4547-e11d-49ef9395671e"
      },
      "execution_count": 74,
      "outputs": [
        {
          "output_type": "stream",
          "name": "stdout",
          "text": [
            "F1-Score for Logistic Regression-based Predictions => 95.2755905511811%\n",
            "F1-Score for Decision Tree-based Predictions => 90.98360655737704%\n",
            "From scratch, F1-Score for Logistic Regression-based Predictions => 95.2755905511811%\n",
            "From scratch, F1-Score for Decision Tree-based Predictions => 90.98360655737706%\n"
          ]
        }
      ]
    },
    {
      "cell_type": "markdown",
      "source": [
        "\n",
        "\n",
        "> ### **Class-Wise Accuracy**\n",
        "\n"
      ],
      "metadata": {
        "id": "acf_l_UUvE21"
      }
    },
    {
      "cell_type": "code",
      "source": [
        "def class_accuracy(y_test,y_predicted):\n",
        "  truePositive=0\n",
        "  trueNegative=0\n",
        "  falsePositive=0\n",
        "  falseNegative=0\n",
        "  for i in range(len(y_test)):\n",
        "    if(y_test[i]==1):\n",
        "      if(y_predicted[i]==1):\n",
        "        truePositive+=1\n",
        "      else:\n",
        "        falseNegative+=1\n",
        "    else:\n",
        "      if(y_predicted[i]==1):\n",
        "        falsePositive+=1\n",
        "      else:\n",
        "        trueNegative+=1\n",
        "  class_one=truePositive/(truePositive+falseNegative)\n",
        "  class_two=trueNegative/(trueNegative+falsePositive)\n",
        "  return (class_one+class_two)/2\n",
        "\n",
        "print(\"From scratch, Class-Wise Accuracy for Logistic Regression-based Predictions =>\",str(class_accuracy(y_test,logistic_pred)*100)+\"%\")\n",
        "print(\"From scratch, Class-Wise Accuracy for Decision Tree-based Predictions =>\",str(class_accuracy(y_test,decision_pred)*100)+\"%\")\n",
        "\n",
        "  "
      ],
      "metadata": {
        "colab": {
          "base_uri": "https://localhost:8080/"
        },
        "id": "ttz9VsKUvXHt",
        "outputId": "468d2b41-b31c-430c-c4d2-af4e5109daae"
      },
      "execution_count": 75,
      "outputs": [
        {
          "output_type": "stream",
          "name": "stdout",
          "text": [
            "From scratch, Class-Wise Accuracy for Logistic Regression-based Predictions => 94.55128205128204%\n",
            "From scratch, Class-Wise Accuracy for Decision Tree-based Predictions => 90.76340326340326%\n"
          ]
        }
      ]
    },
    {
      "cell_type": "markdown",
      "source": [
        "\n",
        "\n",
        "> ### **Sensitivity**\n",
        "\n"
      ],
      "metadata": {
        "id": "Yq-6_oLy0Hlp"
      }
    },
    {
      "cell_type": "code",
      "source": [
        "def sensitivity(y_test,y_predicted):\n",
        "  truePositive=0\n",
        "  falseNegative=0\n",
        "  for i in range(len(y_test)):\n",
        "    if(y_test[i]==1):\n",
        "      if(y_predicted[i]==1):\n",
        "        truePositive+=1\n",
        "      else:\n",
        "        falseNegative+=1\n",
        "  return (truePositive)/(truePositive+falseNegative)\n",
        "\n",
        "print(\"From scratch, sensitivity for Logistic Regression-based Predictions =>\",str(sensitivity(y_test,logistic_pred)*100)+\"%\")\n",
        "print(\"From scratch, sensitivity for Decision Tree-based Predictions =>\",str(sensitivity(y_test,decision_pred)*100)+\"%\")\n",
        "\n",
        "  "
      ],
      "metadata": {
        "colab": {
          "base_uri": "https://localhost:8080/"
        },
        "id": "Yp_2mWJT0Qe5",
        "outputId": "8bef4c70-a439-4a63-e664-e1ef69329c56"
      },
      "execution_count": 76,
      "outputs": [
        {
          "output_type": "stream",
          "name": "stdout",
          "text": [
            "From scratch, sensitivity for Logistic Regression-based Predictions => 91.66666666666666%\n",
            "From scratch, sensitivity for Decision Tree-based Predictions => 84.0909090909091%\n"
          ]
        }
      ]
    },
    {
      "cell_type": "markdown",
      "source": [
        "\n",
        "\n",
        "> ### **Specificity**\n",
        "\n"
      ],
      "metadata": {
        "id": "Im1TzPqi1I2R"
      }
    },
    {
      "cell_type": "code",
      "source": [
        "def specificity(y_test,y_predicted):\n",
        "  trueNegative=0\n",
        "  falsePositive=0\n",
        "  for i in range(len(y_test)):\n",
        "    if(y_test[i]==0):\n",
        "      if(y_predicted[i]==1):\n",
        "        falsePositive+=1\n",
        "      else:\n",
        "        trueNegative+=1\n",
        "  return trueNegative/(trueNegative+falsePositive)\n",
        "\n",
        "print(\"From scratch, specificity for Logistic Regression-based Predictions =>\",str(specificity(y_test,logistic_pred)*100)+\"%\")\n",
        "print(\"From scratch, specificity for Decision Tree-based Predictions =>\",str(specificity(y_test,decision_pred)*100)+\"%\")\n",
        "  "
      ],
      "metadata": {
        "colab": {
          "base_uri": "https://localhost:8080/"
        },
        "id": "aNTVbeWu1Hs0",
        "outputId": "6d50b288-d19f-4019-a9a8-e8da98faa000"
      },
      "execution_count": 78,
      "outputs": [
        {
          "output_type": "stream",
          "name": "stdout",
          "text": [
            "From scratch, specificity for Logistic Regression-based Predictions => 97.43589743589743%\n",
            "From scratch, specificity for Decision Tree-based Predictions => 97.43589743589743%\n"
          ]
        }
      ]
    }
  ]
}
